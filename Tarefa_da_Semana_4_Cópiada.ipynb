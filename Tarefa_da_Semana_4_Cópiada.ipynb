{
  "nbformat": 4,
  "nbformat_minor": 0,
  "metadata": {
    "colab": {
      "name": "Cópia de ECD - Introdução à Visualização de Dados - Tarefa da Semana 4 ",
      "provenance": [],
      "collapsed_sections": [],
      "include_colab_link": true
    },
    "kernelspec": {
      "name": "python3",
      "display_name": "Python 3"
    }
  },
  "cells": [
    {
      "cell_type": "markdown",
      "metadata": {
        "id": "view-in-github",
        "colab_type": "text"
      },
      "source": [
        "<a href=\"https://colab.research.google.com/github/pcpiscator/Ciencia-de-dados/blob/master/Tarefa_da_Semana_4_C%C3%B3piada.ipynb\" target=\"_parent\"><img src=\"https://colab.research.google.com/assets/colab-badge.svg\" alt=\"Open In Colab\"/></a>"
      ]
    },
    {
      "cell_type": "markdown",
      "metadata": {
        "id": "DmMj9v8p9s6P"
      },
      "source": [
        "# ECD - Introdução à Visualização de Dados - Semana 4\n",
        "## Exercícios \n",
        "### Estatística Descritiva, Matriz de Correlação e Exploração de Dados usando Gráficos\n",
        "##### Prof. Dr. Alessandro de Lima Bicho"
      ]
    },
    {
      "cell_type": "markdown",
      "metadata": {
        "id": "YeHHhBBCoRWT"
      },
      "source": [
        "## Olá, pessoal!\n",
        "\n",
        "Em 15 de abril de 1912, o maior navio de passageiros já construído colidiu com um iceberg durante sua viagem inaugural. Quando o Titanic afundou, ele matou 1502 dos 2224 passageiros e tripulantes. Esta tragédia chocou a comunidade internacional, e levou a melhores regulamentos de segurança para os navios. Uma das razões pelas quais o naufrágio resultou em tal perda de vidas foi que não havia botes salva-vidas suficientes para os passageiros e tripulantes. Embora houvesse algum elemento de sorte envolvido em sobreviver ao naufrágio, alguns grupos de pessoas tinham maior probabilidade de sobreviver do que outros.\n",
        "\n",
        "O dataset titanic.csv contém dados de 887 passageiros reais do Titanic. Cada linha representa uma pessoa. As colunas descrevem diferentes atributos sobre a pessoa, incluindo:\n",
        "- Survived (sobreviveu): se sobreviveu ao naufrágio estará com 1, e 0 (zero) se não sobreviveu;\n",
        "- Pclass: tipo de classe de passagem (Do 1 ao 3), sendo 1 a melhor classe e 3 a pior classe;\n",
        "- Name: nome do passageiro(a);\n",
        "- Sex: gênero do passageiro, sendo masculino e feminino;\n",
        "- Age: idade do passageiro na data da ocorrência do naufrágio;\n",
        "- Siblings/Spouses Aboard: número de irmãos/cônjuges a bordo;\n",
        "- Parents/Children Aboard: número de pais/filhos a bordo;\n",
        "- Fare: valor da passagem.\t\n",
        "\n",
        "Nesta tarefa, temos duas questões que procurarão fundamentar estatiscamente suas conclusões sobre os sobreviventes deste naufrágio.\n",
        "\n",
        "Bons estudos! \n",
        "\n",
        "Abraço, Alessandro."
      ]
    },
    {
      "cell_type": "markdown",
      "metadata": {
        "id": "1b4DwPHAr1CH"
      },
      "source": [
        "Aqui nós importamos o dataset, que está disponível no meu Google Drive. Caso queiram, podem fazer o download do dataset através do link informado na função `read_csv()` (para análise no Microsoft Excel, por exemplo). "
      ]
    },
    {
      "cell_type": "code",
      "metadata": {
        "id": "AAYX0I8Nf041"
      },
      "source": [
        "#importar a biblioteca pandas\n",
        "import pandas as pd\n",
        "#pd.options.display.max_columns = None\n",
        "#pd.options.display.max_rows = None\n",
        "pd.options.display.float_format = '{:.2f}'.format\n",
        "import matplotlib.pyplot as plt\n",
        "%matplotlib inline\n",
        "import seaborn as sns\n",
        "\n",
        "df = pd.read_csv(\"https://drive.google.com/uc?export=view&id=1Ad2NNAqsCDGwl125D7z-nSbPLVpCFlYu\", error_bad_lines=False, encoding = \"ISO-8859-1\", sep = \",\")\n",
        "df"
      ],
      "execution_count": null,
      "outputs": []
    },
    {
      "cell_type": "markdown",
      "metadata": {
        "id": "BTFOwPWVsDjy"
      },
      "source": [
        "1) Ao rever os dados de 887 passageiros do naufrágio do Titanic, você, cientista de dados, percebe que pode haver uma **correlação** que explique os sobreviventes deste naufrágio! Demonstre, através dos ensinamentos das Semanas 3 e 4, como estatísticamente podemos fundamentar nossa resposta. Explore os possíveis métodos."
      ]
    },
    {
      "cell_type": "code",
      "metadata": {
        "colab": {
          "base_uri": "https://localhost:8080/",
          "height": 187
        },
        "id": "jm9_JNw7uzGQ",
        "outputId": "92c22137-3e61-48fb-d267-283e2d7d4a87"
      },
      "source": [
        "# Responda aqui a questão 1\n",
        "#Inicialemente tentaremos encontrar correlações entre as colunas.\n",
        "#Vamos criar uma coluna Sex_int para inclui-la na tabela abaixo\n",
        "df['Sex_int']=df['Sex'].apply(lambda x:0 if x=='female' else 1)\n",
        "df.corr().style.background_gradient(cmap='coolwarm')"
      ],
      "execution_count": 3,
      "outputs": [
        {
          "output_type": "execute_result",
          "data": {
            "text/html": [
              "<style  type=\"text/css\" >\n",
              "#T_878b5796_2e89_11eb_8a78_0242ac1c0002row0_col0,#T_878b5796_2e89_11eb_8a78_0242ac1c0002row1_col1,#T_878b5796_2e89_11eb_8a78_0242ac1c0002row2_col2,#T_878b5796_2e89_11eb_8a78_0242ac1c0002row3_col3,#T_878b5796_2e89_11eb_8a78_0242ac1c0002row4_col4,#T_878b5796_2e89_11eb_8a78_0242ac1c0002row5_col5,#T_878b5796_2e89_11eb_8a78_0242ac1c0002row6_col6{\n",
              "            background-color:  #b40426;\n",
              "            color:  #f1f1f1;\n",
              "        }#T_878b5796_2e89_11eb_8a78_0242ac1c0002row0_col1{\n",
              "            background-color:  #6687ed;\n",
              "            color:  #000000;\n",
              "        }#T_878b5796_2e89_11eb_8a78_0242ac1c0002row0_col2{\n",
              "            background-color:  #89acfd;\n",
              "            color:  #000000;\n",
              "        }#T_878b5796_2e89_11eb_8a78_0242ac1c0002row0_col3{\n",
              "            background-color:  #7b9ff9;\n",
              "            color:  #000000;\n",
              "        }#T_878b5796_2e89_11eb_8a78_0242ac1c0002row0_col4{\n",
              "            background-color:  #90b2fe;\n",
              "            color:  #000000;\n",
              "        }#T_878b5796_2e89_11eb_8a78_0242ac1c0002row0_col5{\n",
              "            background-color:  #e2dad5;\n",
              "            color:  #000000;\n",
              "        }#T_878b5796_2e89_11eb_8a78_0242ac1c0002row0_col6,#T_878b5796_2e89_11eb_8a78_0242ac1c0002row1_col2,#T_878b5796_2e89_11eb_8a78_0242ac1c0002row1_col5,#T_878b5796_2e89_11eb_8a78_0242ac1c0002row2_col3,#T_878b5796_2e89_11eb_8a78_0242ac1c0002row5_col1,#T_878b5796_2e89_11eb_8a78_0242ac1c0002row6_col0,#T_878b5796_2e89_11eb_8a78_0242ac1c0002row6_col4{\n",
              "            background-color:  #3b4cc0;\n",
              "            color:  #f1f1f1;\n",
              "        }#T_878b5796_2e89_11eb_8a78_0242ac1c0002row1_col0{\n",
              "            background-color:  #6485ec;\n",
              "            color:  #000000;\n",
              "        }#T_878b5796_2e89_11eb_8a78_0242ac1c0002row1_col3{\n",
              "            background-color:  #9dbdff;\n",
              "            color:  #000000;\n",
              "        }#T_878b5796_2e89_11eb_8a78_0242ac1c0002row1_col4{\n",
              "            background-color:  #80a3fa;\n",
              "            color:  #000000;\n",
              "        }#T_878b5796_2e89_11eb_8a78_0242ac1c0002row1_col6{\n",
              "            background-color:  #cbd8ee;\n",
              "            color:  #000000;\n",
              "        }#T_878b5796_2e89_11eb_8a78_0242ac1c0002row2_col0{\n",
              "            background-color:  #a3c2fe;\n",
              "            color:  #000000;\n",
              "        }#T_878b5796_2e89_11eb_8a78_0242ac1c0002row2_col1{\n",
              "            background-color:  #5a78e4;\n",
              "            color:  #000000;\n",
              "        }#T_878b5796_2e89_11eb_8a78_0242ac1c0002row2_col4{\n",
              "            background-color:  #465ecf;\n",
              "            color:  #f1f1f1;\n",
              "        }#T_878b5796_2e89_11eb_8a78_0242ac1c0002row2_col5{\n",
              "            background-color:  #c9d7f0;\n",
              "            color:  #000000;\n",
              "        }#T_878b5796_2e89_11eb_8a78_0242ac1c0002row2_col6{\n",
              "            background-color:  #c4d5f3;\n",
              "            color:  #000000;\n",
              "        }#T_878b5796_2e89_11eb_8a78_0242ac1c0002row3_col0{\n",
              "            background-color:  #a7c5fe;\n",
              "            color:  #000000;\n",
              "        }#T_878b5796_2e89_11eb_8a78_0242ac1c0002row3_col1{\n",
              "            background-color:  #c3d5f4;\n",
              "            color:  #000000;\n",
              "        }#T_878b5796_2e89_11eb_8a78_0242ac1c0002row3_col2{\n",
              "            background-color:  #4f69d9;\n",
              "            color:  #000000;\n",
              "        }#T_878b5796_2e89_11eb_8a78_0242ac1c0002row3_col4{\n",
              "            background-color:  #e4d9d2;\n",
              "            color:  #000000;\n",
              "        }#T_878b5796_2e89_11eb_8a78_0242ac1c0002row3_col5{\n",
              "            background-color:  #d1dae9;\n",
              "            color:  #000000;\n",
              "        }#T_878b5796_2e89_11eb_8a78_0242ac1c0002row3_col6{\n",
              "            background-color:  #97b8ff;\n",
              "            color:  #000000;\n",
              "        }#T_878b5796_2e89_11eb_8a78_0242ac1c0002row4_col0{\n",
              "            background-color:  #c1d4f4;\n",
              "            color:  #000000;\n",
              "        }#T_878b5796_2e89_11eb_8a78_0242ac1c0002row4_col1,#T_878b5796_2e89_11eb_8a78_0242ac1c0002row5_col4{\n",
              "            background-color:  #b6cefa;\n",
              "            color:  #000000;\n",
              "        }#T_878b5796_2e89_11eb_8a78_0242ac1c0002row4_col2,#T_878b5796_2e89_11eb_8a78_0242ac1c0002row6_col3{\n",
              "            background-color:  #6788ee;\n",
              "            color:  #000000;\n",
              "        }#T_878b5796_2e89_11eb_8a78_0242ac1c0002row4_col3{\n",
              "            background-color:  #e9d5cb;\n",
              "            color:  #000000;\n",
              "        }#T_878b5796_2e89_11eb_8a78_0242ac1c0002row4_col5{\n",
              "            background-color:  #dbdcde;\n",
              "            color:  #000000;\n",
              "        }#T_878b5796_2e89_11eb_8a78_0242ac1c0002row4_col6{\n",
              "            background-color:  #799cf8;\n",
              "            color:  #000000;\n",
              "        }#T_878b5796_2e89_11eb_8a78_0242ac1c0002row5_col0{\n",
              "            background-color:  #e1dad6;\n",
              "            color:  #000000;\n",
              "        }#T_878b5796_2e89_11eb_8a78_0242ac1c0002row5_col2{\n",
              "            background-color:  #b3cdfb;\n",
              "            color:  #000000;\n",
              "        }#T_878b5796_2e89_11eb_8a78_0242ac1c0002row5_col3{\n",
              "            background-color:  #b1cbfc;\n",
              "            color:  #000000;\n",
              "        }#T_878b5796_2e89_11eb_8a78_0242ac1c0002row5_col6{\n",
              "            background-color:  #86a9fc;\n",
              "            color:  #000000;\n",
              "        }#T_878b5796_2e89_11eb_8a78_0242ac1c0002row6_col1{\n",
              "            background-color:  #ccd9ed;\n",
              "            color:  #000000;\n",
              "        }#T_878b5796_2e89_11eb_8a78_0242ac1c0002row6_col2{\n",
              "            background-color:  #aec9fc;\n",
              "            color:  #000000;\n",
              "        }#T_878b5796_2e89_11eb_8a78_0242ac1c0002row6_col5{\n",
              "            background-color:  #88abfd;\n",
              "            color:  #000000;\n",
              "        }</style><table id=\"T_878b5796_2e89_11eb_8a78_0242ac1c0002\" ><thead>    <tr>        <th class=\"blank level0\" ></th>        <th class=\"col_heading level0 col0\" >Survived</th>        <th class=\"col_heading level0 col1\" >Pclass</th>        <th class=\"col_heading level0 col2\" >Age</th>        <th class=\"col_heading level0 col3\" >Siblings_Spouses_Aboard</th>        <th class=\"col_heading level0 col4\" >Parents_Children_Aboard</th>        <th class=\"col_heading level0 col5\" >Fare</th>        <th class=\"col_heading level0 col6\" >Sex_int</th>    </tr></thead><tbody>\n",
              "                <tr>\n",
              "                        <th id=\"T_878b5796_2e89_11eb_8a78_0242ac1c0002level0_row0\" class=\"row_heading level0 row0\" >Survived</th>\n",
              "                        <td id=\"T_878b5796_2e89_11eb_8a78_0242ac1c0002row0_col0\" class=\"data row0 col0\" >1.000000</td>\n",
              "                        <td id=\"T_878b5796_2e89_11eb_8a78_0242ac1c0002row0_col1\" class=\"data row0 col1\" >-0.336528</td>\n",
              "                        <td id=\"T_878b5796_2e89_11eb_8a78_0242ac1c0002row0_col2\" class=\"data row0 col2\" >-0.059665</td>\n",
              "                        <td id=\"T_878b5796_2e89_11eb_8a78_0242ac1c0002row0_col3\" class=\"data row0 col3\" >-0.037082</td>\n",
              "                        <td id=\"T_878b5796_2e89_11eb_8a78_0242ac1c0002row0_col4\" class=\"data row0 col4\" >0.080097</td>\n",
              "                        <td id=\"T_878b5796_2e89_11eb_8a78_0242ac1c0002row0_col5\" class=\"data row0 col5\" >0.256179</td>\n",
              "                        <td id=\"T_878b5796_2e89_11eb_8a78_0242ac1c0002row0_col6\" class=\"data row0 col6\" >-0.542152</td>\n",
              "            </tr>\n",
              "            <tr>\n",
              "                        <th id=\"T_878b5796_2e89_11eb_8a78_0242ac1c0002level0_row1\" class=\"row_heading level0 row1\" >Pclass</th>\n",
              "                        <td id=\"T_878b5796_2e89_11eb_8a78_0242ac1c0002row1_col0\" class=\"data row1 col0\" >-0.336528</td>\n",
              "                        <td id=\"T_878b5796_2e89_11eb_8a78_0242ac1c0002row1_col1\" class=\"data row1 col1\" >1.000000</td>\n",
              "                        <td id=\"T_878b5796_2e89_11eb_8a78_0242ac1c0002row1_col2\" class=\"data row1 col2\" >-0.391492</td>\n",
              "                        <td id=\"T_878b5796_2e89_11eb_8a78_0242ac1c0002row1_col3\" class=\"data row1 col3\" >0.085026</td>\n",
              "                        <td id=\"T_878b5796_2e89_11eb_8a78_0242ac1c0002row1_col4\" class=\"data row1 col4\" >0.020252</td>\n",
              "                        <td id=\"T_878b5796_2e89_11eb_8a78_0242ac1c0002row1_col5\" class=\"data row1 col5\" >-0.548919</td>\n",
              "                        <td id=\"T_878b5796_2e89_11eb_8a78_0242ac1c0002row1_col6\" class=\"data row1 col6\" >0.129507</td>\n",
              "            </tr>\n",
              "            <tr>\n",
              "                        <th id=\"T_878b5796_2e89_11eb_8a78_0242ac1c0002level0_row2\" class=\"row_heading level0 row2\" >Age</th>\n",
              "                        <td id=\"T_878b5796_2e89_11eb_8a78_0242ac1c0002row2_col0\" class=\"data row2 col0\" >-0.059665</td>\n",
              "                        <td id=\"T_878b5796_2e89_11eb_8a78_0242ac1c0002row2_col1\" class=\"data row2 col1\" >-0.391492</td>\n",
              "                        <td id=\"T_878b5796_2e89_11eb_8a78_0242ac1c0002row2_col2\" class=\"data row2 col2\" >1.000000</td>\n",
              "                        <td id=\"T_878b5796_2e89_11eb_8a78_0242ac1c0002row2_col3\" class=\"data row2 col3\" >-0.297669</td>\n",
              "                        <td id=\"T_878b5796_2e89_11eb_8a78_0242ac1c0002row2_col4\" class=\"data row2 col4\" >-0.193741</td>\n",
              "                        <td id=\"T_878b5796_2e89_11eb_8a78_0242ac1c0002row2_col5\" class=\"data row2 col5\" >0.112329</td>\n",
              "                        <td id=\"T_878b5796_2e89_11eb_8a78_0242ac1c0002row2_col6\" class=\"data row2 col6\" >0.091875</td>\n",
              "            </tr>\n",
              "            <tr>\n",
              "                        <th id=\"T_878b5796_2e89_11eb_8a78_0242ac1c0002level0_row3\" class=\"row_heading level0 row3\" >Siblings_Spouses_Aboard</th>\n",
              "                        <td id=\"T_878b5796_2e89_11eb_8a78_0242ac1c0002row3_col0\" class=\"data row3 col0\" >-0.037082</td>\n",
              "                        <td id=\"T_878b5796_2e89_11eb_8a78_0242ac1c0002row3_col1\" class=\"data row3 col1\" >0.085026</td>\n",
              "                        <td id=\"T_878b5796_2e89_11eb_8a78_0242ac1c0002row3_col2\" class=\"data row3 col2\" >-0.297669</td>\n",
              "                        <td id=\"T_878b5796_2e89_11eb_8a78_0242ac1c0002row3_col3\" class=\"data row3 col3\" >1.000000</td>\n",
              "                        <td id=\"T_878b5796_2e89_11eb_8a78_0242ac1c0002row3_col4\" class=\"data row3 col4\" >0.414244</td>\n",
              "                        <td id=\"T_878b5796_2e89_11eb_8a78_0242ac1c0002row3_col5\" class=\"data row3 col5\" >0.158839</td>\n",
              "                        <td id=\"T_878b5796_2e89_11eb_8a78_0242ac1c0002row3_col6\" class=\"data row3 col6\" >-0.113249</td>\n",
              "            </tr>\n",
              "            <tr>\n",
              "                        <th id=\"T_878b5796_2e89_11eb_8a78_0242ac1c0002level0_row4\" class=\"row_heading level0 row4\" >Parents_Children_Aboard</th>\n",
              "                        <td id=\"T_878b5796_2e89_11eb_8a78_0242ac1c0002row4_col0\" class=\"data row4 col0\" >0.080097</td>\n",
              "                        <td id=\"T_878b5796_2e89_11eb_8a78_0242ac1c0002row4_col1\" class=\"data row4 col1\" >0.020252</td>\n",
              "                        <td id=\"T_878b5796_2e89_11eb_8a78_0242ac1c0002row4_col2\" class=\"data row4 col2\" >-0.193741</td>\n",
              "                        <td id=\"T_878b5796_2e89_11eb_8a78_0242ac1c0002row4_col3\" class=\"data row4 col3\" >0.414244</td>\n",
              "                        <td id=\"T_878b5796_2e89_11eb_8a78_0242ac1c0002row4_col4\" class=\"data row4 col4\" >1.000000</td>\n",
              "                        <td id=\"T_878b5796_2e89_11eb_8a78_0242ac1c0002row4_col5\" class=\"data row4 col5\" >0.215470</td>\n",
              "                        <td id=\"T_878b5796_2e89_11eb_8a78_0242ac1c0002row4_col6\" class=\"data row4 col6\" >-0.244337</td>\n",
              "            </tr>\n",
              "            <tr>\n",
              "                        <th id=\"T_878b5796_2e89_11eb_8a78_0242ac1c0002level0_row5\" class=\"row_heading level0 row5\" >Fare</th>\n",
              "                        <td id=\"T_878b5796_2e89_11eb_8a78_0242ac1c0002row5_col0\" class=\"data row5 col0\" >0.256179</td>\n",
              "                        <td id=\"T_878b5796_2e89_11eb_8a78_0242ac1c0002row5_col1\" class=\"data row5 col1\" >-0.548919</td>\n",
              "                        <td id=\"T_878b5796_2e89_11eb_8a78_0242ac1c0002row5_col2\" class=\"data row5 col2\" >0.112329</td>\n",
              "                        <td id=\"T_878b5796_2e89_11eb_8a78_0242ac1c0002row5_col3\" class=\"data row5 col3\" >0.158839</td>\n",
              "                        <td id=\"T_878b5796_2e89_11eb_8a78_0242ac1c0002row5_col4\" class=\"data row5 col4\" >0.215470</td>\n",
              "                        <td id=\"T_878b5796_2e89_11eb_8a78_0242ac1c0002row5_col5\" class=\"data row5 col5\" >1.000000</td>\n",
              "                        <td id=\"T_878b5796_2e89_11eb_8a78_0242ac1c0002row5_col6\" class=\"data row5 col6\" >-0.181137</td>\n",
              "            </tr>\n",
              "            <tr>\n",
              "                        <th id=\"T_878b5796_2e89_11eb_8a78_0242ac1c0002level0_row6\" class=\"row_heading level0 row6\" >Sex_int</th>\n",
              "                        <td id=\"T_878b5796_2e89_11eb_8a78_0242ac1c0002row6_col0\" class=\"data row6 col0\" >-0.542152</td>\n",
              "                        <td id=\"T_878b5796_2e89_11eb_8a78_0242ac1c0002row6_col1\" class=\"data row6 col1\" >0.129507</td>\n",
              "                        <td id=\"T_878b5796_2e89_11eb_8a78_0242ac1c0002row6_col2\" class=\"data row6 col2\" >0.091875</td>\n",
              "                        <td id=\"T_878b5796_2e89_11eb_8a78_0242ac1c0002row6_col3\" class=\"data row6 col3\" >-0.113249</td>\n",
              "                        <td id=\"T_878b5796_2e89_11eb_8a78_0242ac1c0002row6_col4\" class=\"data row6 col4\" >-0.244337</td>\n",
              "                        <td id=\"T_878b5796_2e89_11eb_8a78_0242ac1c0002row6_col5\" class=\"data row6 col5\" >-0.181137</td>\n",
              "                        <td id=\"T_878b5796_2e89_11eb_8a78_0242ac1c0002row6_col6\" class=\"data row6 col6\" >1.000000</td>\n",
              "            </tr>\n",
              "    </tbody></table>"
            ],
            "text/plain": [
              "<pandas.io.formats.style.Styler at 0x7fa48dc47908>"
            ]
          },
          "metadata": {
            "tags": []
          },
          "execution_count": 3
        }
      ]
    },
    {
      "cell_type": "markdown",
      "metadata": {
        "id": "Q7PT4NmVUSXW"
      },
      "source": [
        "Daqui tiramos algumas correlações interessantes a serem investigadas: Survived x Sex_int (-0.54), Survived x Pclass (-0,34) e Pclass x Fare (-0.55) (essa é bastante óbvia).  "
      ]
    },
    {
      "cell_type": "code",
      "metadata": {
        "colab": {
          "base_uri": "https://localhost:8080/",
          "height": 580
        },
        "id": "PVoivbLtYpq7",
        "outputId": "d6240ec0-2d4d-4430-85cd-3ede7f8ac8ba"
      },
      "source": [
        "#Visualizando de outra forma\n",
        "plt.subplots(figsize=(15,8))\n",
        "sns.heatmap(df.corr(),annot=True,cmap='PiYG')"
      ],
      "execution_count": null,
      "outputs": [
        {
          "output_type": "execute_result",
          "data": {
            "text/plain": [
              "<matplotlib.axes._subplots.AxesSubplot at 0x7f268b1bcd68>"
            ]
          },
          "metadata": {
            "tags": []
          },
          "execution_count": 3
        },
        {
          "output_type": "display_data",
          "data": {
            "image/png": "[encoded data removed]",
            "text/plain": [
              "<Figure size 1080x576 with 2 Axes>"
            ]
          },
          "metadata": {
            "tags": [],
            "needs_background": "light"
          }
        }
      ]
    },
    {
      "cell_type": "code",
      "metadata": {
        "colab": {
          "base_uri": "https://localhost:8080/",
          "height": 297
        },
        "id": "-qhHWSBzKl5X",
        "outputId": "8a6be09b-34c0-42ac-c36a-594e6454e329"
      },
      "source": [
        "df.describe()"
      ],
      "execution_count": null,
      "outputs": [
        {
          "output_type": "execute_result",
          "data": {
            "text/html": [
              "<div>\n",
              "<style scoped>\n",
              "    .dataframe tbody tr th:only-of-type {\n",
              "        vertical-align: middle;\n",
              "    }\n",
              "\n",
              "    .dataframe tbody tr th {\n",
              "        vertical-align: top;\n",
              "    }\n",
              "\n",
              "    .dataframe thead th {\n",
              "        text-align: right;\n",
              "    }\n",
              "</style>\n",
              "<table border=\"1\" class=\"dataframe\">\n",
              "  <thead>\n",
              "    <tr style=\"text-align: right;\">\n",
              "      <th></th>\n",
              "      <th>Survived</th>\n",
              "      <th>Pclass</th>\n",
              "      <th>Age</th>\n",
              "      <th>Siblings_Spouses_Aboard</th>\n",
              "      <th>Parents_Children_Aboard</th>\n",
              "      <th>Fare</th>\n",
              "      <th>Sex_int</th>\n",
              "    </tr>\n",
              "  </thead>\n",
              "  <tbody>\n",
              "    <tr>\n",
              "      <th>count</th>\n",
              "      <td>887.00</td>\n",
              "      <td>887.00</td>\n",
              "      <td>887.00</td>\n",
              "      <td>887.00</td>\n",
              "      <td>887.00</td>\n",
              "      <td>887.00</td>\n",
              "      <td>887.00</td>\n",
              "    </tr>\n",
              "    <tr>\n",
              "      <th>mean</th>\n",
              "      <td>0.39</td>\n",
              "      <td>2.31</td>\n",
              "      <td>29.47</td>\n",
              "      <td>0.53</td>\n",
              "      <td>0.38</td>\n",
              "      <td>32.31</td>\n",
              "      <td>0.65</td>\n",
              "    </tr>\n",
              "    <tr>\n",
              "      <th>std</th>\n",
              "      <td>0.49</td>\n",
              "      <td>0.84</td>\n",
              "      <td>14.12</td>\n",
              "      <td>1.10</td>\n",
              "      <td>0.81</td>\n",
              "      <td>49.78</td>\n",
              "      <td>0.48</td>\n",
              "    </tr>\n",
              "    <tr>\n",
              "      <th>min</th>\n",
              "      <td>0.00</td>\n",
              "      <td>1.00</td>\n",
              "      <td>0.42</td>\n",
              "      <td>0.00</td>\n",
              "      <td>0.00</td>\n",
              "      <td>0.00</td>\n",
              "      <td>0.00</td>\n",
              "    </tr>\n",
              "    <tr>\n",
              "      <th>25%</th>\n",
              "      <td>0.00</td>\n",
              "      <td>2.00</td>\n",
              "      <td>20.25</td>\n",
              "      <td>0.00</td>\n",
              "      <td>0.00</td>\n",
              "      <td>7.92</td>\n",
              "      <td>0.00</td>\n",
              "    </tr>\n",
              "    <tr>\n",
              "      <th>50%</th>\n",
              "      <td>0.00</td>\n",
              "      <td>3.00</td>\n",
              "      <td>28.00</td>\n",
              "      <td>0.00</td>\n",
              "      <td>0.00</td>\n",
              "      <td>14.45</td>\n",
              "      <td>1.00</td>\n",
              "    </tr>\n",
              "    <tr>\n",
              "      <th>75%</th>\n",
              "      <td>1.00</td>\n",
              "      <td>3.00</td>\n",
              "      <td>38.00</td>\n",
              "      <td>1.00</td>\n",
              "      <td>0.00</td>\n",
              "      <td>31.14</td>\n",
              "      <td>1.00</td>\n",
              "    </tr>\n",
              "    <tr>\n",
              "      <th>max</th>\n",
              "      <td>1.00</td>\n",
              "      <td>3.00</td>\n",
              "      <td>80.00</td>\n",
              "      <td>8.00</td>\n",
              "      <td>6.00</td>\n",
              "      <td>512.33</td>\n",
              "      <td>1.00</td>\n",
              "    </tr>\n",
              "  </tbody>\n",
              "</table>\n",
              "</div>"
            ],
            "text/plain": [
              "       Survived  Pclass    Age  ...  Parents_Children_Aboard   Fare  Sex_int\n",
              "count    887.00  887.00 887.00  ...                   887.00 887.00   887.00\n",
              "mean       0.39    2.31  29.47  ...                     0.38  32.31     0.65\n",
              "std        0.49    0.84  14.12  ...                     0.81  49.78     0.48\n",
              "min        0.00    1.00   0.42  ...                     0.00   0.00     0.00\n",
              "25%        0.00    2.00  20.25  ...                     0.00   7.92     0.00\n",
              "50%        0.00    3.00  28.00  ...                     0.00  14.45     1.00\n",
              "75%        1.00    3.00  38.00  ...                     0.00  31.14     1.00\n",
              "max        1.00    3.00  80.00  ...                     6.00 512.33     1.00\n",
              "\n",
              "[8 rows x 7 columns]"
            ]
          },
          "metadata": {
            "tags": []
          },
          "execution_count": 4
        }
      ]
    },
    {
      "cell_type": "markdown",
      "metadata": {
        "id": "gqlLkU1OKvFW"
      },
      "source": [
        "Daqui tiramos algumas conclusões. Há 887 pessoas no Dataset. Apenas 39% das pessoas sobreviveram. A maioria viajava na 2a ou 3a  Classes (a média de Pclass está entre 2 e 3). A média de idade era de 29.47 anos o mais novo tinha 0,42 anos (pouco mais de 5 meses) e o mais velho 80 anos."
      ]
    },
    {
      "cell_type": "code",
      "metadata": {
        "colab": {
          "base_uri": "https://localhost:8080/",
          "height": 142
        },
        "id": "2ki4iHk9-mZU",
        "outputId": "75b017f5-4039-4a45-ad16-5b4c73617c95"
      },
      "source": [
        "df.groupby('Sex').mean()\n"
      ],
      "execution_count": null,
      "outputs": [
        {
          "output_type": "execute_result",
          "data": {
            "text/html": [
              "<div>\n",
              "<style scoped>\n",
              "    .dataframe tbody tr th:only-of-type {\n",
              "        vertical-align: middle;\n",
              "    }\n",
              "\n",
              "    .dataframe tbody tr th {\n",
              "        vertical-align: top;\n",
              "    }\n",
              "\n",
              "    .dataframe thead th {\n",
              "        text-align: right;\n",
              "    }\n",
              "</style>\n",
              "<table border=\"1\" class=\"dataframe\">\n",
              "  <thead>\n",
              "    <tr style=\"text-align: right;\">\n",
              "      <th></th>\n",
              "      <th>Survived</th>\n",
              "      <th>Pclass</th>\n",
              "      <th>Age</th>\n",
              "      <th>Siblings_Spouses_Aboard</th>\n",
              "      <th>Parents_Children_Aboard</th>\n",
              "      <th>Fare</th>\n",
              "      <th>Sex_int</th>\n",
              "    </tr>\n",
              "    <tr>\n",
              "      <th>Sex</th>\n",
              "      <th></th>\n",
              "      <th></th>\n",
              "      <th></th>\n",
              "      <th></th>\n",
              "      <th></th>\n",
              "      <th></th>\n",
              "      <th></th>\n",
              "    </tr>\n",
              "  </thead>\n",
              "  <tbody>\n",
              "    <tr>\n",
              "      <th>female</th>\n",
              "      <td>0.74</td>\n",
              "      <td>2.16</td>\n",
              "      <td>27.72</td>\n",
              "      <td>0.69</td>\n",
              "      <td>0.65</td>\n",
              "      <td>44.48</td>\n",
              "      <td>0.00</td>\n",
              "    </tr>\n",
              "    <tr>\n",
              "      <th>male</th>\n",
              "      <td>0.19</td>\n",
              "      <td>2.39</td>\n",
              "      <td>30.43</td>\n",
              "      <td>0.43</td>\n",
              "      <td>0.24</td>\n",
              "      <td>25.63</td>\n",
              "      <td>1.00</td>\n",
              "    </tr>\n",
              "  </tbody>\n",
              "</table>\n",
              "</div>"
            ],
            "text/plain": [
              "        Survived  Pclass   Age  ...  Parents_Children_Aboard  Fare  Sex_int\n",
              "Sex                             ...                                        \n",
              "female      0.74    2.16 27.72  ...                     0.65 44.48     0.00\n",
              "male        0.19    2.39 30.43  ...                     0.24 25.63     1.00\n",
              "\n",
              "[2 rows x 7 columns]"
            ]
          },
          "metadata": {
            "tags": []
          },
          "execution_count": 5
        }
      ]
    },
    {
      "cell_type": "markdown",
      "metadata": {
        "id": "jkfckR6DK6ch"
      },
      "source": [
        "74% das mulheres sobreviveram e apenas 19% dos homens sobreviveram."
      ]
    },
    {
      "cell_type": "code",
      "metadata": {
        "colab": {
          "base_uri": "https://localhost:8080/",
          "height": 173
        },
        "id": "8-HpIBM6LDV1",
        "outputId": "a74e5b65-598c-4906-ff94-a85638c2ba22"
      },
      "source": [
        "df.groupby('Pclass').mean()"
      ],
      "execution_count": null,
      "outputs": [
        {
          "output_type": "execute_result",
          "data": {
            "text/html": [
              "<div>\n",
              "<style scoped>\n",
              "    .dataframe tbody tr th:only-of-type {\n",
              "        vertical-align: middle;\n",
              "    }\n",
              "\n",
              "    .dataframe tbody tr th {\n",
              "        vertical-align: top;\n",
              "    }\n",
              "\n",
              "    .dataframe thead th {\n",
              "        text-align: right;\n",
              "    }\n",
              "</style>\n",
              "<table border=\"1\" class=\"dataframe\">\n",
              "  <thead>\n",
              "    <tr style=\"text-align: right;\">\n",
              "      <th></th>\n",
              "      <th>Survived</th>\n",
              "      <th>Age</th>\n",
              "      <th>Siblings_Spouses_Aboard</th>\n",
              "      <th>Parents_Children_Aboard</th>\n",
              "      <th>Fare</th>\n",
              "      <th>Sex_int</th>\n",
              "    </tr>\n",
              "    <tr>\n",
              "      <th>Pclass</th>\n",
              "      <th></th>\n",
              "      <th></th>\n",
              "      <th></th>\n",
              "      <th></th>\n",
              "      <th></th>\n",
              "      <th></th>\n",
              "    </tr>\n",
              "  </thead>\n",
              "  <tbody>\n",
              "    <tr>\n",
              "      <th>1</th>\n",
              "      <td>0.63</td>\n",
              "      <td>38.79</td>\n",
              "      <td>0.42</td>\n",
              "      <td>0.36</td>\n",
              "      <td>84.15</td>\n",
              "      <td>0.56</td>\n",
              "    </tr>\n",
              "    <tr>\n",
              "      <th>2</th>\n",
              "      <td>0.47</td>\n",
              "      <td>29.87</td>\n",
              "      <td>0.40</td>\n",
              "      <td>0.38</td>\n",
              "      <td>20.66</td>\n",
              "      <td>0.59</td>\n",
              "    </tr>\n",
              "    <tr>\n",
              "      <th>3</th>\n",
              "      <td>0.24</td>\n",
              "      <td>25.19</td>\n",
              "      <td>0.62</td>\n",
              "      <td>0.40</td>\n",
              "      <td>13.71</td>\n",
              "      <td>0.70</td>\n",
              "    </tr>\n",
              "  </tbody>\n",
              "</table>\n",
              "</div>"
            ],
            "text/plain": [
              "        Survived   Age  ...  Fare  Sex_int\n",
              "Pclass                  ...               \n",
              "1           0.63 38.79  ... 84.15     0.56\n",
              "2           0.47 29.87  ... 20.66     0.59\n",
              "3           0.24 25.19  ... 13.71     0.70\n",
              "\n",
              "[3 rows x 6 columns]"
            ]
          },
          "metadata": {
            "tags": []
          },
          "execution_count": 6
        }
      ]
    },
    {
      "cell_type": "markdown",
      "metadata": {
        "id": "biueMQWiLPZf"
      },
      "source": [
        "63 % das pessoas que sobreviveram eram da 1a Classe. 47% pertenciam à 2a Classe e apenas 24% era da 3a Classe.\n",
        "Vamos verificar por sexo e classe a seguir."
      ]
    },
    {
      "cell_type": "code",
      "metadata": {
        "colab": {
          "base_uri": "https://localhost:8080/",
          "height": 266
        },
        "id": "0hlsZc6NLffA",
        "outputId": "132d8cfd-c547-425c-c51e-9aee941998d6"
      },
      "source": [
        "df.groupby(['Sex','Pclass']).mean()"
      ],
      "execution_count": null,
      "outputs": [
        {
          "output_type": "execute_result",
          "data": {
            "text/html": [
              "<div>\n",
              "<style scoped>\n",
              "    .dataframe tbody tr th:only-of-type {\n",
              "        vertical-align: middle;\n",
              "    }\n",
              "\n",
              "    .dataframe tbody tr th {\n",
              "        vertical-align: top;\n",
              "    }\n",
              "\n",
              "    .dataframe thead th {\n",
              "        text-align: right;\n",
              "    }\n",
              "</style>\n",
              "<table border=\"1\" class=\"dataframe\">\n",
              "  <thead>\n",
              "    <tr style=\"text-align: right;\">\n",
              "      <th></th>\n",
              "      <th></th>\n",
              "      <th>Survived</th>\n",
              "      <th>Age</th>\n",
              "      <th>Siblings_Spouses_Aboard</th>\n",
              "      <th>Parents_Children_Aboard</th>\n",
              "      <th>Fare</th>\n",
              "      <th>Sex_int</th>\n",
              "    </tr>\n",
              "    <tr>\n",
              "      <th>Sex</th>\n",
              "      <th>Pclass</th>\n",
              "      <th></th>\n",
              "      <th></th>\n",
              "      <th></th>\n",
              "      <th></th>\n",
              "      <th></th>\n",
              "      <th></th>\n",
              "    </tr>\n",
              "  </thead>\n",
              "  <tbody>\n",
              "    <tr>\n",
              "      <th rowspan=\"3\" valign=\"top\">female</th>\n",
              "      <th>1</th>\n",
              "      <td>0.97</td>\n",
              "      <td>35.26</td>\n",
              "      <td>0.55</td>\n",
              "      <td>0.46</td>\n",
              "      <td>106.13</td>\n",
              "      <td>0.00</td>\n",
              "    </tr>\n",
              "    <tr>\n",
              "      <th>2</th>\n",
              "      <td>0.92</td>\n",
              "      <td>28.98</td>\n",
              "      <td>0.49</td>\n",
              "      <td>0.61</td>\n",
              "      <td>21.97</td>\n",
              "      <td>0.00</td>\n",
              "    </tr>\n",
              "    <tr>\n",
              "      <th>3</th>\n",
              "      <td>0.50</td>\n",
              "      <td>22.14</td>\n",
              "      <td>0.90</td>\n",
              "      <td>0.80</td>\n",
              "      <td>16.12</td>\n",
              "      <td>0.00</td>\n",
              "    </tr>\n",
              "    <tr>\n",
              "      <th rowspan=\"3\" valign=\"top\">male</th>\n",
              "      <th>1</th>\n",
              "      <td>0.37</td>\n",
              "      <td>41.51</td>\n",
              "      <td>0.31</td>\n",
              "      <td>0.28</td>\n",
              "      <td>67.23</td>\n",
              "      <td>1.00</td>\n",
              "    </tr>\n",
              "    <tr>\n",
              "      <th>2</th>\n",
              "      <td>0.16</td>\n",
              "      <td>30.49</td>\n",
              "      <td>0.34</td>\n",
              "      <td>0.22</td>\n",
              "      <td>19.74</td>\n",
              "      <td>1.00</td>\n",
              "    </tr>\n",
              "    <tr>\n",
              "      <th>3</th>\n",
              "      <td>0.14</td>\n",
              "      <td>26.47</td>\n",
              "      <td>0.50</td>\n",
              "      <td>0.23</td>\n",
              "      <td>12.70</td>\n",
              "      <td>1.00</td>\n",
              "    </tr>\n",
              "  </tbody>\n",
              "</table>\n",
              "</div>"
            ],
            "text/plain": [
              "               Survived   Age  ...   Fare  Sex_int\n",
              "Sex    Pclass                  ...                \n",
              "female 1           0.97 35.26  ... 106.13     0.00\n",
              "       2           0.92 28.98  ...  21.97     0.00\n",
              "       3           0.50 22.14  ...  16.12     0.00\n",
              "male   1           0.37 41.51  ...  67.23     1.00\n",
              "       2           0.16 30.49  ...  19.74     1.00\n",
              "       3           0.14 26.47  ...  12.70     1.00\n",
              "\n",
              "[6 rows x 6 columns]"
            ]
          },
          "metadata": {
            "tags": []
          },
          "execution_count": 7
        }
      ]
    },
    {
      "cell_type": "markdown",
      "metadata": {
        "id": "zSr53d-fLy2B"
      },
      "source": [
        "Quase todas as mulheres da 1a Classe (97%) sobreviveram, 92% das mulheres da 2a Classe e 50% da 3a Classe sobreviveram. Já os homens, 37% da 1a Classe sobreviveu, 16% da 2a Classe e apenas 14% da 3a Classe."
      ]
    },
    {
      "cell_type": "code",
      "metadata": {
        "colab": {
          "base_uri": "https://localhost:8080/"
        },
        "id": "_sWKc-WDShjO",
        "outputId": "0cfb975c-30a1-45ba-925f-3e1307d9d66c"
      },
      "source": [
        "#E as crianças?\n",
        "df[df['Age']<=12].mean()"
      ],
      "execution_count": null,
      "outputs": [
        {
          "output_type": "execute_result",
          "data": {
            "text/plain": [
              "Survived                   0.54\n",
              "Pclass                     2.68\n",
              "Age                        4.94\n",
              "Siblings_Spouses_Aboard    2.04\n",
              "Parents_Children_Aboard    1.39\n",
              "Fare                      31.56\n",
              "Sex_int                    0.52\n",
              "dtype: float64"
            ]
          },
          "metadata": {
            "tags": []
          },
          "execution_count": 8
        }
      ]
    },
    {
      "cell_type": "code",
      "metadata": {
        "colab": {
          "base_uri": "https://localhost:8080/"
        },
        "id": "t-IxIaudzfBx",
        "outputId": "00d5263f-aa65-4775-95f3-fbf73f905538"
      },
      "source": [
        "df[df['Age']>12].mean()"
      ],
      "execution_count": null,
      "outputs": [
        {
          "output_type": "execute_result",
          "data": {
            "text/plain": [
              "Survived                   0.37\n",
              "Pclass                     2.27\n",
              "Age                       31.87\n",
              "Siblings_Spouses_Aboard    0.38\n",
              "Parents_Children_Aboard    0.28\n",
              "Fare                      32.38\n",
              "Sex_int                    0.66\n",
              "dtype: float64"
            ]
          },
          "metadata": {
            "tags": []
          },
          "execution_count": 9
        }
      ]
    },
    {
      "cell_type": "markdown",
      "metadata": {
        "id": "ArQT69f0zlt6"
      },
      "source": [
        "Como se nota, as crianças tiveram uma maior chance de sobreviver (54% contra 37% dos que tinham mais de 12 anos)"
      ]
    },
    {
      "cell_type": "markdown",
      "metadata": {
        "id": "lq9mb5Rr0qoB"
      },
      "source": [
        "Após as verificações acima, é possível inferir que as mulheres e crianças tiveram maior chance de sobreviver. Também é possível destacar que as pessoas em classe mais elevada tiveram maior chance de sobrevivência."
      ]
    },
    {
      "cell_type": "markdown",
      "metadata": {
        "id": "y3ahl2Mjw5Yj"
      },
      "source": [
        "2) Apresente um gráfico de livre escolha que auxilie nas conclusões que expliquem os sobreviventes do naufrágio."
      ]
    },
    {
      "cell_type": "code",
      "metadata": {
        "id": "O6BqqCLxnDpG",
        "colab": {
          "base_uri": "https://localhost:8080/",
          "height": 337
        },
        "outputId": "123db1b9-bb4b-4895-886e-568789d4657b"
      },
      "source": [
        "# Responda aqui a questão 2\n",
        "plt.title('Percentual de sobreviventes por sexo no Titanic')\n",
        "plt.ylabel('Chance de sobreviver')\n",
        "df.groupby('Sex')['Survived'].mean().plot(kind='bar')"
      ],
      "execution_count": null,
      "outputs": [
        {
          "output_type": "execute_result",
          "data": {
            "text/plain": [
              "<matplotlib.axes._subplots.AxesSubplot at 0x7f268810b7f0>"
            ]
          },
          "metadata": {
            "tags": []
          },
          "execution_count": 10
        },
        {
          "output_type": "display_data",
          "data": {
            "image/png": "[encoded data removed]",
            "text/plain": [
              "<Figure size 432x288 with 1 Axes>"
            ]
          },
          "metadata": {
            "tags": [],
            "needs_background": "light"
          }
        }
      ]
    },
    {
      "cell_type": "code",
      "metadata": {
        "colab": {
          "base_uri": "https://localhost:8080/",
          "height": 309
        },
        "id": "Uox3_kz42ecT",
        "outputId": "56ed1f60-bffd-454d-acc9-496cbc4f05dc"
      },
      "source": [
        "plt.title('Percentual de sobreviventes por classe no Titanic')\n",
        "plt.ylabel('Chance de sobreviver')\n",
        "df.groupby('Pclass')['Survived'].mean().plot(kind='bar')"
      ],
      "execution_count": null,
      "outputs": [
        {
          "output_type": "execute_result",
          "data": {
            "text/plain": [
              "<matplotlib.axes._subplots.AxesSubplot at 0x7f26878450b8>"
            ]
          },
          "metadata": {
            "tags": []
          },
          "execution_count": 11
        },
        {
          "output_type": "display_data",
          "data": {
            "image/png": "[encoded data removed]",
            "text/plain": [
              "<Figure size 432x288 with 1 Axes>"
            ]
          },
          "metadata": {
            "tags": [],
            "needs_background": "light"
          }
        }
      ]
    },
    {
      "cell_type": "code",
      "metadata": {
        "colab": {
          "base_uri": "https://localhost:8080/",
          "height": 364
        },
        "id": "P7up4W7I5bGc",
        "outputId": "d7057d47-e413-47a5-acba-51a60cc84719"
      },
      "source": [
        "#Vamos criar uma nova coluna baseado nas idades dos passageiros para analisarmos a chance de sobrevivencia por faixa etária\n",
        "def Classifica (idade):\n",
        "  if idade <= 12:\n",
        "    return 'Criança'\n",
        "  elif idade<=18:\n",
        "    return 'Adolescente'\n",
        "  elif idade<=65:\n",
        "    return 'Adulto'\n",
        "  else:\n",
        "    return 'Idoso'\n",
        "Fase=[]\n",
        "for i in df['Age']:\n",
        "  Fase.append(Classifica(i))\n",
        "df2=df\n",
        "df2['Faixa Etária']=Fase\n",
        "#Agora, plotamos o gráfico de sobrevivente por faixa etária\n",
        "plt.title('Percentual de sobreviventes por faixa etária no Titanic')\n",
        "plt.ylabel('Chance de sobreviver')\n",
        "df2.groupby('Faixa Etária')['Survived'].mean().sort_values(ascending=False).plot(kind='bar')\n",
        "\n"
      ],
      "execution_count": null,
      "outputs": [
        {
          "output_type": "execute_result",
          "data": {
            "text/plain": [
              "<matplotlib.axes._subplots.AxesSubplot at 0x7f268783a2e8>"
            ]
          },
          "metadata": {
            "tags": []
          },
          "execution_count": 12
        },
        {
          "output_type": "display_data",
          "data": {
            "image/png": "[encoded data removed]",
            "text/plain": [
              "<Figure size 432x288 with 1 Axes>"
            ]
          },
          "metadata": {
            "tags": [],
            "needs_background": "light"
          }
        }
      ]
    },
    {
      "cell_type": "code",
      "metadata": {
        "colab": {
          "base_uri": "https://localhost:8080/",
          "height": 364
        },
        "id": "aXJkxsHeODBw",
        "outputId": "57a09b44-c571-4991-dfbb-9ed79274a29f"
      },
      "source": [
        "#vamos combinar os três gráficos em um único\n",
        "plt.subplot(3,3,1)\n",
        "plt.title('Sobreviventes por sexo')\n",
        "plt.ylabel('% sobrev.')\n",
        "df.groupby('Sex')['Survived'].mean().plot(kind='bar')\n",
        "plt.subplot(3,3,3)\n",
        "plt.title('Sobreviventes por classe')\n",
        "plt.ylabel('% sobrev.')\n",
        "df.groupby('Pclass')['Survived'].mean().plot(kind='bar')\n",
        "plt.subplot(3,3,7)\n",
        "plt.title('Sobreviventes por faixa')\n",
        "plt.ylabel('% sobrev.')\n",
        "df2.groupby('Faixa Etária')['Survived'].mean().sort_values(ascending=False).plot(kind='bar')\n"
      ],
      "execution_count": null,
      "outputs": [
        {
          "output_type": "execute_result",
          "data": {
            "text/plain": [
              "<matplotlib.axes._subplots.AxesSubplot at 0x7f268775f4e0>"
            ]
          },
          "metadata": {
            "tags": []
          },
          "execution_count": 13
        },
        {
          "output_type": "display_data",
          "data": {
            "image/png": "[encoded data removed]",
            "text/plain": [
              "<Figure size 432x288 with 3 Axes>"
            ]
          },
          "metadata": {
            "tags": [],
            "needs_background": "light"
          }
        }
      ]
    },
    {
      "cell_type": "code",
      "metadata": {
        "id": "vGS5WJtXVvFJ"
      },
      "source": [
        ""
      ],
      "execution_count": null,
      "outputs": []
    }
  ]
}