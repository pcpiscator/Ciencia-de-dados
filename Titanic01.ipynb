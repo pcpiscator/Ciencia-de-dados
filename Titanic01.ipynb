{
  "nbformat": 4,
  "nbformat_minor": 0,
  "metadata": {
    "colab": {
      "name": "Titanic01.ipynb",
      "provenance": [],
      "authorship_tag": "ABX9TyOHBk/s4f8y5eW+EX5D2Ugo",
      "include_colab_link": true
    },
    "kernelspec": {
      "name": "python3",
      "display_name": "Python 3"
    }
  },
  "cells": [
    {
      "cell_type": "markdown",
      "metadata": {
        "id": "view-in-github",
        "colab_type": "text"
      },
      "source": [
        "<a href=\"https://colab.research.google.com/github/pcpiscator/Ciencia-de-dados/blob/master/Titanic01.ipynb\" target=\"_parent\"><img src=\"https://colab.research.google.com/assets/colab-badge.svg\" alt=\"Open In Colab\"/></a>"
      ]
    },
    {
      "cell_type": "markdown",
      "metadata": {
        "id": "fdlG50rNYrFg"
      },
      "source": [
        ""
      ]
    },
    {
      "cell_type": "markdown",
      "metadata": {
        "id": "OzKQxu0LEKPU"
      },
      "source": [
        "# Desafio \"Kaggle\": Titanic\n",
        "\n",
        "Este desafio foi preparado e disponibilizado pelo [Kaggle](https://www.kaggle.com/c/titanic), um website adquirido pelo Google para promover competições na área de ciência de dados e aprendizado de máquina. \n",
        "\n",
        "O **Titanic** é um dos eventos mais tristes da história de naugrágios. \n",
        "\n",
        "Em 15 de abril de 1912, durante sua viagem inaugural, o então considerado navio de passageiros com zero chance de naufrágio RMS Titanic afundou após colidir com um *iceberg*. Infelizmente, o RMS Titanic não contava com a quantidade suficiente de botes salva-vidas para todos a bordo, resultando com isto, na morte de 1502 passageiros de um total de uma tripulação de 2224 pessoas. \n",
        "\n",
        "Apesar de existir um elemento de sorte envolvida na sobrevivência neste desastre, parece que alguns grupos de pessoas tiveram mais chances de sobrevivências que outros. \n",
        "\n",
        "***Neste desafio, pede-se a você que construa um modelo preditivo que traga uma resposta para a pergunta: \"quais grupos de pessoas tiveram mais chances de sobreviver neste desastre\"? Para tanto, você deve explorar os dados de passageiros (ex. nome, idade, gênero, classe sócio-econômica, e outros).*** \n",
        "\n",
        "Este notebook apresenta um passo-a-passo na análise exploratória dos dados de passageiros, iniciando com um entendimento, logo após tratamento e por último, chegando na modelagem para responder a pergunta acima. \n",
        "\n",
        "\n",
        "\n",
        "<img src=\"https://19emhilsa.weebly.com/uploads/4/5/1/4/45147515/451019_orig.jpg\"> </img>\n",
        "\n",
        "\n",
        "\n"
      ]
    },
    {
      "cell_type": "markdown",
      "metadata": {
        "id": "tSKFkIr7Y3Bk"
      },
      "source": [
        ""
      ]
    },
    {
      "cell_type": "markdown",
      "metadata": {
        "_uuid": "dd7eb0082ace007f5c0c63c924769b271976e511",
        "_cell_guid": "730aa0c8-dff2-4f89-8fef-349350d33935",
        "id": "_xGJ7yQgCBAY"
      },
      "source": [
        "# Previsão de Sobreviventes no Naufrágio do Titanic\n",
        "\n",
        "### Conteúdo Abordado:\n",
        "1. Importar Bibliotecas Necessárias\n",
        "2. Carregar e Explorar os Dados\n",
        "3. Análise Exploratória\n",
        "4. Visualização dos Dados\n",
        "5. Limpeza dos Dados\n",
        "6. Escolha do Melhor Modelo\n"
      ]
    },
    {
      "cell_type": "markdown",
      "metadata": {
        "id": "NV3BnX8bZAFQ"
      },
      "source": [
        ""
      ]
    },
    {
      "cell_type": "markdown",
      "metadata": {
        "_uuid": "16f8521e8886e34460820e853d5de539451a82f7",
        "_cell_guid": "f20a268f-e8ab-4c51-a1e5-00a5fef70824",
        "id": "0LkR8rWjCBAY"
      },
      "source": [
        "## 1) Importar Bibliotecas Necessárias\n",
        "Primeiramente, como sempre, importaremos bibliotecas Python como pandas, numpy, matplotlib e seaborn. Esta última biblioteca permite plotar uns gráficos diferentes, e mais bonitos se compararmos com a biblioteca matplotlib."
      ]
    },
    {
      "cell_type": "code",
      "metadata": {
        "_uuid": "1ec634790f3cfdd372c20f8ba3d66c7b410e993f",
        "_cell_guid": "8b547494-0ee2-4596-bd96-fe0c1654c626",
        "trusted": true,
        "id": "23yLBM9aCBAY"
      },
      "source": [
        "# bibliotecas para análise de dados\n",
        "import numpy as np\n",
        "import pandas as pd\n",
        "\n",
        "# bibliotecas para gráficos \n",
        "import plotly.graph_objs as go\n",
        "import matplotlib.pyplot as plt\n",
        "import plotly.offline as py\n",
        "pd.options.display.max_columns = None\n",
        "pd.options.display.max_rows = None\n",
        "pd.options.display.float_format = '{:.2f}'.format\n",
        "# bibliotecas para visualização\n",
        "import matplotlib.pyplot as plt\n",
        "import seaborn as sns\n",
        "%matplotlib inline\n",
        "\n",
        "# configuração para ignorar mensagens de advertência (warning). \n",
        "# Muitas vezes estas mensagens atrapalham, pois pode trazer a informação de \n",
        "# algo está muito errado com nosso código quando na verdade temos apenas uma situação de advertência. \n",
        "import warnings\n",
        "warnings.filterwarnings('ignore')"
      ],
      "execution_count": 35,
      "outputs": []
    },
    {
      "cell_type": "markdown",
      "metadata": {
        "id": "7kv3ufF6ZW7w"
      },
      "source": [
        ""
      ]
    },
    {
      "cell_type": "markdown",
      "metadata": {
        "_uuid": "dc2d74e13fbcabaa244ca108a1669e2812e98075",
        "_cell_guid": "2c18255f-e77f-4edf-817a-b76d2330ca70",
        "id": "Rl19s8_1CBAY"
      },
      "source": [
        "## 2) Carregar e Explorar os Dados\n",
        "Cabe lembrar que a pergunta que devemos responder para este desafio é a seguinte: **Quais grupos de pessoas tiveram mais chances de sobreviver neste desastre? Para tanto, você deve explorar os dados de passageiros (ex. nome, idade, gênero, classe sócio-econômica, e outros).** \n",
        "\n",
        "O *dataset* de passageiros foi particionado em outros dois *datasets*: dados de treinamento e dados de teste. \n",
        "O *dataset* de treinamento contém os dados que serão utilizados para criar o nosso modelo preditivo, ou seja, os dados utilizados para **treinar o nosso modelo**. Por outro lado, o *dataset* de teste contém os dados que serão utilizados para testar e validar o desempenho do modelo com análise de sua acurácia e outras métricas. \n",
        "\n",
        "Neste passo você carregará os dois conjuntos de dados: treinamento e teste. Carregar neste contexto significa \"importar\" os dados dentro do nosso *notebook* utilizando o método `pd.read_csv`. Uma primeira olhada nos dados pode ser feita usando o método `describe()`."
      ]
    },
    {
      "cell_type": "code",
      "metadata": {
        "_uuid": "31e1c08d3f6633be24186295ceb5ef7305205c87",
        "_cell_guid": "b8200d17-9f26-4507-9161-2e3dd1ef154d",
        "trusted": true,
        "id": "d7RL2QLoauJA"
      },
      "source": [
        "# importar arquivos CSV: treinamento e teste. Note que os arquivos estão no Google Drive, e com isto, temos que acessá-los \n",
        "# através de um endereço web (URL) com caracteres 'estranhos' (chamados de 'hash'). Se os arquivos estivessem em seu computador,\n",
        "# o acesso seria utilizando os nomes dos arquivos CSV treinamento.csv e teste.csv\n",
        "url_arquivo_treinamento_csv='https://drive.google.com/uc?export=view&id=1dJWrDlgp43l9qcZtSJ8ArZSWvxKWaQCx'\n",
        "url_arquivo_teste_csv='https://drive.google.com/uc?export=view&id=1wrYVj6EThqc1qX3QO_RWONGEQOf7tnJF'\n",
        "\n",
        "dados= pd.read_csv(url_arquivo_treinamento_csv)\n",
        "teste = pd.read_csv(url_arquivo_teste_csv)\n",
        "\n",
        "# Dê uma olhada nos dados com o método describe. Passamos como parâmetro include=all para que todas as colunas do dataframe treinamento sejam apresentadas. \n",
        "dados.describe(include='all')"
      ],
      "execution_count": null,
      "outputs": []
    },
    {
      "cell_type": "code",
      "metadata": {
        "id": "bLGK3mGiio_M"
      },
      "source": [
        "dados"
      ],
      "execution_count": null,
      "outputs": []
    },
    {
      "cell_type": "code",
      "metadata": {
        "id": "plHiydQfbnEw"
      },
      "source": [
        "dados.head()"
      ],
      "execution_count": null,
      "outputs": []
    },
    {
      "cell_type": "markdown",
      "metadata": {
        "id": "DiyccVyRbPS4"
      },
      "source": [
        ""
      ]
    },
    {
      "cell_type": "markdown",
      "metadata": {
        "_uuid": "76d0ea2d3a1259aa2b8ccf33dbe794c432d20f70",
        "_cell_guid": "01f965ef-bd23-48c0-b6fc-44b7766c2ad8",
        "id": "c1EsE8n8CBAY"
      },
      "source": [
        "## 3) Análise Exploratória\n",
        "Agora, vamos analisar as variáveis (colunas) do *dataset* para verificar o tipo de dado, se dado faltante, se tem algum outro tipo de problema. Aqui resgatamos alguns dos conceitos de preparação de dados explorados nas semanas anteriores.\n",
        "**Importante:** as variáveis (ou colunas) que utilizamos na criação da nossa solução, na forma de um modelo preditivo capaz de responder à nossa pergunta, recebem um nome especial em inglês, chamado de **features**. Uma feature é então uma variável que será utilizada como entrada na criação de um modelo preditivo.  "
      ]
    },
    {
      "cell_type": "code",
      "metadata": {
        "id": "ap_qLRutbQ24"
      },
      "source": [
        "print(dados.columns)"
      ],
      "execution_count": null,
      "outputs": []
    },
    {
      "cell_type": "code",
      "metadata": {
        "id": "R-zf1Bptc8Wk"
      },
      "source": [
        "dados.columns.values"
      ],
      "execution_count": null,
      "outputs": []
    },
    {
      "cell_type": "code",
      "metadata": {
        "_uuid": "0b4b77818ea8e573f25b44841c5235ee8d2a2af3",
        "_cell_guid": "31308e14-a2cf-41fd-b60d-a2a764431e7f",
        "trusted": true,
        "id": "k-R22fSdCBAY"
      },
      "source": [
        "# mostramos uma amostra do dataframe para termos uma idéia das variáveis. \n",
        "# o método 'sample' nos permite pegar neste caso uma amostra com 5 linhas\n",
        "dados.sample(5)"
      ],
      "execution_count": null,
      "outputs": []
    },
    {
      "cell_type": "markdown",
      "metadata": {
        "id": "8uqIIPegoqoc"
      },
      "source": [
        "Doravante usaremos a abordagem de Carlos Baia. \n"
      ]
    },
    {
      "cell_type": "markdown",
      "metadata": {
        "id": "n5tuQiGUoycc"
      },
      "source": [
        "Criaremos um gráfico mostrando a distribuição do sexo masculino e feminino, podemos usar a função plot do próprio Pandas ou o factorplot do Seaborn."
      ]
    },
    {
      "cell_type": "code",
      "metadata": {
        "id": "SNgmehkQdVmM"
      },
      "source": [
        "# Com Pandas\n",
        "dados.Sex.value_counts().plot(kind='pie', autopct='%.2f%%')\n",
        "plt.axis('equal')  # Para deixar o gráfico redondo\n",
        "# Com Seaborn\n",
        "sns.factorplot('Sex', data=dados, kind='count')"
      ],
      "execution_count": null,
      "outputs": []
    },
    {
      "cell_type": "markdown",
      "metadata": {
        "id": "F2y88D86qr7c"
      },
      "source": [
        "Faremos o mesmo para a classe onde o passageiro se encontra."
      ]
    },
    {
      "cell_type": "code",
      "metadata": {
        "id": "ThGkSJB7quAQ"
      },
      "source": [
        "dados.Pclass.value_counts().plot(kind='pie', autopct='%.2f%%')\n",
        "plt.axis('equal');sns.factorplot('Pclass',data=dados, kind='count')"
      ],
      "execution_count": null,
      "outputs": []
    },
    {
      "cell_type": "markdown",
      "metadata": {
        "id": "6rSQ6SLvkdaY"
      },
      "source": [
        " Extraído da tarefa da semana 6\r\n",
        "\r\n",
        "2) Apresente um gráfico com múltiplas barras utilizando a biblioteca Plotly que permita analisar sobreviventes por classe (1, 2 e 3).↓\r\n"
      ]
    },
    {
      "cell_type": "code",
      "metadata": {
        "id": "IFNYSpUmpDqq"
      },
      "source": [
        "# Responda aqui a questão 2\n",
        "#Realiza-se um filtro para encontrar apenas pessoas da classe 3\n",
        "dadosClass3 = dados[dados['Pclass'] == 3]\n",
        "#Calcula-se pessoas na classe\n",
        "dadosClass3 = dadosClass3.groupby('Survived')['Pclass'].count()\n",
        "#Define-se um objeto gráfico para a classe 3\n",
        "dataClass3 = go.Bar(name = 'Class3',x = list(dadosClass3.index),y = dadosClass3[:]) \n",
        "\n",
        "#Realiza-se um filtro para encontrar apenas pessoas da classe 2\n",
        "dadosClass2 = dados[dados['Pclass'] == 2]\n",
        "#Calcula-se pessoas na classe\n",
        "dadosClass2 = dadosClass2.groupby('Survived')['Pclass'].count()\n",
        "#Define-se um objeto gráfico para a classe 2\n",
        "dataClass2 = go.Bar(name = 'Class2',x = list(dadosClass2.index),y = dadosClass2[:]) \n",
        "\n",
        "#Realiza-se um filtro para encontrar apenas pessoas da classe 1\n",
        "dadosClass1 = dados[dados['Pclass'] == 1]\n",
        "#Calcula-se pessoas na classe\n",
        "dadosClass1 = dadosClass1.groupby('Survived')['Pclass'].count()\n",
        "#Define-se um objeto gráfico para a classe 1\n",
        "dataClass1 = go.Bar(name = 'Class1',x = list(dadosClass1.index),y = dadosClass1[:]) \n",
        "\n",
        "\n",
        "\n",
        "#Neste caso, temos uma lista com três objetos gráficos!\n",
        "data = [dataClass3, dataClass2, dataClass1]\n",
        "\n",
        "\n",
        "# Criando o layout\n",
        "layout = go.Layout(title='Sobreviventes x mortos por classe',\n",
        "yaxis={'title':'Sobreviventes'},\n",
        "xaxis={'title':'Classificação:0-mortos;1-sobreviventes'})\n",
        "\n",
        "# Criando a figura que será exibida, passando informações nas variáveis data e lauyout\n",
        "fig = go.Figure(data=data, layout=layout)\n",
        "\n",
        "\n",
        "#Exibindo o gráfico\n",
        "py.iplot(fig)"
      ],
      "execution_count": null,
      "outputs": []
    },
    {
      "cell_type": "code",
      "metadata": {
        "id": "b5bayazsu9vB"
      },
      "source": [
        "dados.Sex.value_counts().plot(kind='pie', autopct='%.2f%%')\r\n",
        "plt.axis('equal')  # Para deixar o gráfico perfeitamente redondo\r\n",
        "\r\n",
        "sns.factorplot('Sex', data=dados, kind='count')"
      ],
      "execution_count": null,
      "outputs": []
    },
    {
      "cell_type": "markdown",
      "metadata": {
        "id": "NbEYptH7vh0s"
      },
      "source": [
        "Extraído da tarefa da semana 6↓\r\n",
        "\r\n",
        "3) Apresente um gráfico de setores (pizza) utilizando a biblioteca Plotly que permita analisar a quantidade de passageiros por faixa etária:\r\n",
        "\r\n",
        "crianças, indivíduos de 0 a 11 anos;\r\n",
        "adolescentes, indivíduos de 12 anos a 18 anos;\r\n",
        "adultos, indivíduos de 19 anos a 64 anos;\r\n",
        "idosos, indivíduos de 65 anos em diante."
      ]
    },
    {
      "cell_type": "code",
      "metadata": {
        "id": "zbbVbOUrHn-x"
      },
      "source": [
        "# Responda aqui a questão 3\n",
        "bins = [0, 11, 18, 64, 999]\n",
        "labels = ['crianças', 'adolescentes', 'adultos', 'idosos']\n",
        "dados['AgeGroup'] = pd.cut(dados[\"Age\"], bins, labels = labels)\n",
        "dcount = dados['AgeGroup'].value_counts()\n",
        "data=[go.Pie(labels=list(dcount.index), values=dcount.values.tolist())]\n",
        "layout = go.Layout(title='Quantidade de passageiros por faixa etária')\n",
        "fig = go.Figure(data=data, layout=layout)\n",
        "py.iplot(fig)\n"
      ],
      "execution_count": null,
      "outputs": []
    },
    {
      "cell_type": "code",
      "metadata": {
        "id": "b64g5B-9tLPU"
      },
      "source": [
        "# Sem o uso do Plotly:\n",
        "def get_description(row):\n",
        "     if row.Age <= 12:\n",
        "       return 'criança'\n",
        "     elif row.Age >= 65:\n",
        "        return 'idoso'\n",
        "     elif row.Age >=18<65:\n",
        "        return 'adulto'\n",
        "     elif row.Age >12<18:\n",
        "        return 'adolescente'\n",
        "    \n",
        "\n",
        "dados['Description'] = dados.apply(get_description, axis=1)\n",
        "dados.Description.value_counts().plot(kind='pie', autopct='%.2f%%')\n",
        "plt.axis('equal')"
      ],
      "execution_count": null,
      "outputs": []
    },
    {
      "cell_type": "code",
      "metadata": {
        "id": "9rUpWynP3juY"
      },
      "source": [
        "dados.Pclass.value_counts().plot(kind='pie', autopct='%.2f%%')\r\n",
        "plt.axis('equal');\r\n",
        "\r\n",
        "sns.factorplot('Pclass',data=dados, kind='count')"
      ],
      "execution_count": null,
      "outputs": []
    },
    {
      "cell_type": "code",
      "metadata": {
        "id": "4LjAIPSX4vMd"
      },
      "source": [
        "# Para trocar os valores numéricos pelos nomes nos gráficos\r\n",
        "survived_map = {0: 'Mortos', 1: 'Sobreviventes'} \r\n",
        "\r\n",
        "dados.Survived.map(survived_map).value_counts().plot(kind='pie', autopct='%.2f%%')\r\n",
        "plt.axis('equal');\r\n",
        "\r\n",
        "sns.factorplot('Survived',data=dados, kind='count').set_xticklabels(survived_map.values())"
      ],
      "execution_count": null,
      "outputs": []
    },
    {
      "cell_type": "code",
      "metadata": {
        "id": "0e2sfd-b7_UQ"
      },
      "source": [
        "# Distribuição do sexo dividido por classe.\r\n",
        "sns.factorplot('Sex', data=dados, hue='Pclass', kind='count')\r\n",
        "# Distribuição da classe dividida por sexo.\r\n",
        "sns.factorplot('Pclass', data=dados, hue='Sex', kind='count')"
      ],
      "execution_count": null,
      "outputs": []
    }
  ]
}