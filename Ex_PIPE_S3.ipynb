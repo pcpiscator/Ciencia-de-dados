{
  "nbformat": 4,
  "nbformat_minor": 0,
  "metadata": {
    "colab": {
      "name": "Ex.PIPE_S3.ipynb",
      "provenance": [],
      "authorship_tag": "ABX9TyMjYWFcRH9J/8kOiX66xLEu",
      "include_colab_link": true
    },
    "kernelspec": {
      "name": "python3",
      "display_name": "Python 3"
    }
  },
  "cells": [
    {
      "cell_type": "markdown",
      "metadata": {
        "id": "view-in-github",
        "colab_type": "text"
      },
      "source": [
        "<a href=\"https://colab.research.google.com/github/pcpiscator/Ciencia-de-dados/blob/master/Ex_PIPE_S3.ipynb\" target=\"_parent\"><img src=\"https://colab.research.google.com/assets/colab-badge.svg\" alt=\"Open In Colab\"/></a>"
      ]
    },
    {
      "cell_type": "code",
      "metadata": {
        "id": "0PQ70Gj-7U0q"
      },
      "source": [
        "# nosso notebook precisa utilizar algumas bibliotecas do python\n",
        "# para trabalharmos com os dados. Estas bibliotecas tem métodos que nos\n",
        "# permitem fazer vários tipos de análise. \n",
        "\n",
        "import pandas as pd                  \n",
        "import numpy as np\n",
        "PREVIOUS_MAX_ROWS = pd.options.display.max_rows\n",
        "pd.options.display.max_rows = 20\n",
        "np.random.seed(12345)\n",
        "import seaborn as sns\n",
        "import matplotlib.pyplot as plt\n",
        "from datetime import datetime\n",
        "from dateutil.parser import parse \n",
        "\n",
        "%matplotlib inline"
      ],
      "execution_count": 11,
      "outputs": []
    },
    {
      "cell_type": "markdown",
      "metadata": {
        "id": "GYjbgtfxymX0"
      },
      "source": [
        "Tratando dado faltante"
      ]
    },
    {
      "cell_type": "code",
      "metadata": {
        "colab": {
          "base_uri": "https://localhost:8080/"
        },
        "id": "SBNX-zqFytCY",
        "outputId": "842a9c14-94c3-4e2a-e62e-e9367b0b603c"
      },
      "source": [
        "string_dados = pd.Series(['vinagre','azeite','np.nan','tomate'])\n",
        "string_dados"
      ],
      "execution_count": 12,
      "outputs": [
        {
          "output_type": "execute_result",
          "data": {
            "text/plain": [
              "0    vinagre\n",
              "1     azeite\n",
              "2     np.nan\n",
              "3     tomate\n",
              "dtype: object"
            ]
          },
          "metadata": {
            "tags": []
          },
          "execution_count": 12
        }
      ]
    }
  ]
}