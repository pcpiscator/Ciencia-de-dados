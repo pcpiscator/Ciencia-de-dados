{
  "nbformat": 4,
  "nbformat_minor": 0,
  "metadata": {
    "colab": {
      "name": "S4_Tarefa.ipynb",
      "provenance": [],
      "authorship_tag": "ABX9TyPmroHSa0f1RXBsjFULYAIa",
      "include_colab_link": true
    },
    "kernelspec": {
      "name": "python3",
      "display_name": "Python 3"
    }
  },
  "cells": [
    {
      "cell_type": "markdown",
      "metadata": {
        "id": "view-in-github",
        "colab_type": "text"
      },
      "source": [
        "<a href=\"https://colab.research.google.com/github/pcpiscator/Ciencia-de-dados/blob/master/S4_Tarefa.ipynb\" target=\"_parent\"><img src=\"https://colab.research.google.com/assets/colab-badge.svg\" alt=\"Open In Colab\"/></a>"
      ]
    },
    {
      "cell_type": "markdown",
      "metadata": {
        "id": "1n77I6lmkQro"
      },
      "source": [
        ""
      ]
    },
    {
      "cell_type": "markdown",
      "metadata": {
        "id": "DmMj9v8p9s6P"
      },
      "source": [
        "# ECD - Introdução à Visualização de Dados - Semana 4\n",
        "## Exercícios \n",
        "### Estatística Descritiva, Matriz de Correlação e Exploração de Dados usando Gráficos\n",
        "##### Prof. Dr. Alessandro de Lima Bicho"
      ]
    },
    {
      "cell_type": "markdown",
      "metadata": {
        "id": "0jZdvtPDkV6A"
      },
      "source": [
        ""
      ]
    },
    {
      "cell_type": "markdown",
      "metadata": {
        "id": "YeHHhBBCoRWT"
      },
      "source": [
        "## Olá, pessoal!\n",
        "\n",
        "Em 15 de abril de 1912, o maior navio de passageiros já construído colidiu com um iceberg durante sua viagem inaugural. Quando o Titanic afundou, ele matou 1502 dos 2224 passageiros e tripulantes. Esta tragédia chocou a comunidade internacional, e levou a melhores regulamentos de segurança para os navios. Uma das razões pelas quais o naufrágio resultou em tal perda de vidas foi que não havia botes salva-vidas suficientes para os passageiros e tripulantes. Embora houvesse algum elemento de sorte envolvido em sobreviver ao naufrágio, alguns grupos de pessoas tinham maior probabilidade de sobreviver do que outros.\n",
        "\n",
        "O dataset titanic.csv contém dados de 887 passageiros reais do Titanic. Cada linha representa uma pessoa. As colunas descrevem diferentes atributos sobre a pessoa, incluindo:\n",
        "- Survived (sobreviveu): se sobreviveu ao naufrágio estará com 1, e 0 (zero) se não sobreviveu;\n",
        "- Pclass: tipo de classe de passagem (Do 1 ao 3), sendo 1 a melhor classe e 3 a pior classe;\n",
        "- Name: nome do passageiro(a);\n",
        "- Sex: gênero do passageiro, sendo masculino e feminino;\n",
        "- Age: idade do passageiro na data da ocorrência do naufrágio;\n",
        "- Siblings/Spouses Aboard: número de irmãos/cônjuges a bordo;\n",
        "- Parents/Children Aboard: número de pais/filhos a bordo;\n",
        "- Fare: valor da passagem.\t\n",
        "\n",
        "Nesta tarefa, temos duas questões que procurarão fundamentar estatiscamente suas conclusões sobre os sobreviventes deste naufrágio.\n",
        "\n",
        "Bons estudos! \n",
        "\n",
        "Abraço, Alessandro."
      ]
    },
    {
      "cell_type": "markdown",
      "metadata": {
        "id": "E6rJFGwRkd0Q"
      },
      "source": [
        ""
      ]
    },
    {
      "cell_type": "markdown",
      "metadata": {
        "id": "1b4DwPHAr1CH"
      },
      "source": [
        "Aqui nós importamos o dataset, que está disponível no meu Google Drive. Caso queiram, podem fazer o download do dataset através do link informado na função `read_csv()` (para análise no Microsoft Excel, por exemplo). "
      ]
    },
    {
      "cell_type": "code",
      "metadata": {
        "id": "-ChVfncNkjPI"
      },
      "source": [
        ""
      ],
      "execution_count": null,
      "outputs": []
    },
    {
      "cell_type": "code",
      "metadata": {
        "id": "AAYX0I8Nf041"
      },
      "source": [
        "#importar a biblioteca pandas\n",
        "import pandas as pd\n",
        "#pd.options.display.max_columns = None\n",
        "#pd.options.display.max_rows = None\n",
        "pd.options.display.float_format = '{:.2f}'.format\n",
        "import matplotlib.pyplot as plt\n",
        "%matplotlib inline\n",
        "import seaborn as sns\n",
        "\n",
        "df = pd.read_csv(\"https://drive.google.com/uc?export=view&id=1Ad2NNAqsCDGwl125D7z-nSbPLVpCFlYu\", error_bad_lines=False, encoding = \"ISO-8859-1\", sep = \",\")\n",
        "df"
      ],
      "execution_count": null,
      "outputs": []
    },
    {
      "cell_type": "markdown",
      "metadata": {
        "id": "BTFOwPWVsDjy"
      },
      "source": [
        "1) Ao rever os dados de 887 passageiros do naufrágio do Titanic, você, cientista de dados, percebe que pode haver uma **correlação** que explique os sobreviventes deste naufrágio! Demonstre, através dos ensinamentos das Semanas 3 e 4, como estatísticamente podemos fundamentar nossa resposta. Explore os possíveis métodos."
      ]
    },
    {
      "cell_type": "markdown",
      "metadata": {
        "id": "JdPKDsBO9nMQ"
      },
      "source": [
        "Começamos pelas correlações entre os diversos gupos de sobreviventes."
      ]
    },
    {
      "cell_type": "code",
      "metadata": {
        "id": "jm9_JNw7uzGQ"
      },
      "source": [
        "# Responda aqui a questão 1\n",
        "#\n",
        "df.corr()"
      ],
      "execution_count": null,
      "outputs": []
    },
    {
      "cell_type": "code",
      "metadata": {
        "id": "yfAa3aFvc_fM"
      },
      "source": [
        "#Outra visualização\n",
        "plt.subplots(figsize=(15,8))\n",
        "sns.heatmap(df.corr(),annot=True)"
      ],
      "execution_count": null,
      "outputs": []
    },
    {
      "cell_type": "code",
      "metadata": {
        "id": "-qhHWSBzKl5X"
      },
      "source": [
        "df.describe()"
      ],
      "execution_count": null,
      "outputs": []
    },
    {
      "cell_type": "markdown",
      "metadata": {
        "id": "gqlLkU1OKvFW"
      },
      "source": [
        "Como se pode ver, apenas 39% das pessoas sobreviveram. A maioria viajava na 2a ou 3a  Classes (a média de Pclass é 2,31). A média de idade era de 29,47 anos. O mais novo tinha  pouco mais de 5 meses e o mais velho 80 anos."
      ]
    },
    {
      "cell_type": "code",
      "metadata": {
        "id": "lp54RglJTKtk"
      },
      "source": [
        "df.groupby('Sex').mean()"
      ],
      "execution_count": null,
      "outputs": []
    },
    {
      "cell_type": "markdown",
      "metadata": {
        "id": "HZdk-1tf-3GU"
      },
      "source": [
        "Depreende-se do quadro acima, que 74% das mulheres sobreviveram contra apenas 19% dos homens."
      ]
    },
    {
      "cell_type": "code",
      "metadata": {
        "id": "8-HpIBM6LDV1",
        "colab": {
          "base_uri": "https://localhost:8080/",
          "height": 175
        },
        "outputId": "b3284482-a77c-49c6-e875-672706160558"
      },
      "source": [
        "df.groupby('Pclass').mean()"
      ],
      "execution_count": 12,
      "outputs": [
        {
          "output_type": "execute_result",
          "data": {
            "text/html": [
              "<div>\n",
              "<style scoped>\n",
              "    .dataframe tbody tr th:only-of-type {\n",
              "        vertical-align: middle;\n",
              "    }\n",
              "\n",
              "    .dataframe tbody tr th {\n",
              "        vertical-align: top;\n",
              "    }\n",
              "\n",
              "    .dataframe thead th {\n",
              "        text-align: right;\n",
              "    }\n",
              "</style>\n",
              "<table border=\"1\" class=\"dataframe\">\n",
              "  <thead>\n",
              "    <tr style=\"text-align: right;\">\n",
              "      <th></th>\n",
              "      <th>Survived</th>\n",
              "      <th>Age</th>\n",
              "      <th>Siblings_Spouses_Aboard</th>\n",
              "      <th>Parents_Children_Aboard</th>\n",
              "      <th>Fare</th>\n",
              "    </tr>\n",
              "    <tr>\n",
              "      <th>Pclass</th>\n",
              "      <th></th>\n",
              "      <th></th>\n",
              "      <th></th>\n",
              "      <th></th>\n",
              "      <th></th>\n",
              "    </tr>\n",
              "  </thead>\n",
              "  <tbody>\n",
              "    <tr>\n",
              "      <th>1</th>\n",
              "      <td>0.63</td>\n",
              "      <td>38.79</td>\n",
              "      <td>0.42</td>\n",
              "      <td>0.36</td>\n",
              "      <td>84.15</td>\n",
              "    </tr>\n",
              "    <tr>\n",
              "      <th>2</th>\n",
              "      <td>0.47</td>\n",
              "      <td>29.87</td>\n",
              "      <td>0.40</td>\n",
              "      <td>0.38</td>\n",
              "      <td>20.66</td>\n",
              "    </tr>\n",
              "    <tr>\n",
              "      <th>3</th>\n",
              "      <td>0.24</td>\n",
              "      <td>25.19</td>\n",
              "      <td>0.62</td>\n",
              "      <td>0.40</td>\n",
              "      <td>13.71</td>\n",
              "    </tr>\n",
              "  </tbody>\n",
              "</table>\n",
              "</div>"
            ],
            "text/plain": [
              "        Survived   Age  Siblings_Spouses_Aboard  Parents_Children_Aboard  Fare\n",
              "Pclass                                                                        \n",
              "1           0.63 38.79                     0.42                     0.36 84.15\n",
              "2           0.47 29.87                     0.40                     0.38 20.66\n",
              "3           0.24 25.19                     0.62                     0.40 13.71"
            ]
          },
          "metadata": {
            "tags": []
          },
          "execution_count": 12
        }
      ]
    },
    {
      "cell_type": "markdown",
      "metadata": {
        "id": "R28SHjADoh-A"
      },
      "source": [
        "63 % das pessoas que sobreviveram eram da 1a Classe. 47% pertenciam à 2a Classe e apenas 24% eram da 3a Classe."
      ]
    },
    {
      "cell_type": "code",
      "metadata": {
        "id": "fnc33ZcsFEyI",
        "colab": {
          "base_uri": "https://localhost:8080/"
        },
        "outputId": "6f05421b-fce3-4d77-ab1e-7ccdb05506af"
      },
      "source": [
        "df[df['Age']<=12].value_counts().sort_index().sum()"
      ],
      "execution_count": 21,
      "outputs": [
        {
          "output_type": "execute_result",
          "data": {
            "text/plain": [
              "79"
            ]
          },
          "metadata": {
            "tags": []
          },
          "execution_count": 21
        }
      ]
    },
    {
      "cell_type": "code",
      "metadata": {
        "id": "m1BQDOEHzWZo"
      },
      "source": [
        "df[df['Age']<18].value_counts().sort_index().sum()"
      ],
      "execution_count": null,
      "outputs": []
    },
    {
      "cell_type": "code",
      "metadata": {
        "id": "ZNwTmLoy3EN8"
      },
      "source": [
        "df[df['Age']<=12].mean()"
      ],
      "execution_count": null,
      "outputs": []
    },
    {
      "cell_type": "code",
      "metadata": {
        "id": "L_RixAqb3KLM"
      },
      "source": [
        "df[df['Age']>12].mean()"
      ],
      "execution_count": null,
      "outputs": []
    },
    {
      "cell_type": "code",
      "metadata": {
        "id": "E0Ic1dT33hnM"
      },
      "source": [
        "df[df['Age']<18].mean()"
      ],
      "execution_count": null,
      "outputs": []
    },
    {
      "cell_type": "markdown",
      "metadata": {
        "id": "hMqTh14k48XA"
      },
      "source": [
        "Vê-se pelos quadros acima, que as crianças tiveram maior chance de sobreviver (54% contra 37% dos que tinham mais de 12 anos)\n",
        "\n"
      ]
    },
    {
      "cell_type": "markdown",
      "metadata": {
        "id": "67741qIk5bHw"
      },
      "source": [
        "ECA - Artigo 2º\n",
        "Considera-se criança, para os efeitos desta Lei, a pessoa até doze anos de idade incompletos, e adolescente aquela entre doze e dezoito anos de idade."
      ]
    },
    {
      "cell_type": "markdown",
      "metadata": {
        "id": "Zlplqqqm5rL4"
      },
      "source": [
        "Pelo acima descrito, constata-se que mulheres e crianças tiveram maior chance de sobreviver. Destaque-se também, que as pessoas em classe mais elevada tiveram maior chance de sobrevivência."
      ]
    }
  ]
}