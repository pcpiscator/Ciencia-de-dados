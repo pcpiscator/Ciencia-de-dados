{
  "nbformat": 4,
  "nbformat_minor": 0,
  "metadata": {
    "colab": {
      "name": "S4_Tarefa.ipynb",
      "provenance": [],
      "authorship_tag": "ABX9TyNmOwZ1rUcAN6xmidS2817J",
      "include_colab_link": true
    },
    "kernelspec": {
      "name": "python3",
      "display_name": "Python 3"
    }
  },
  "cells": [
    {
      "cell_type": "markdown",
      "metadata": {
        "id": "view-in-github",
        "colab_type": "text"
      },
      "source": [
        "<a href=\"https://colab.research.google.com/github/pcpiscator/Ciencia-de-dados/blob/master/S4_Tarefa.ipynb\" target=\"_parent\"><img src=\"https://colab.research.google.com/assets/colab-badge.svg\" alt=\"Open In Colab\"/></a>"
      ]
    },
    {
      "cell_type": "markdown",
      "metadata": {
        "id": "DmMj9v8p9s6P"
      },
      "source": [
        "# ECD - Introdução à Visualização de Dados - Semana 4\n",
        "## Exercícios \n",
        "### Estatística Descritiva, Matriz de Correlação e Exploração de Dados usando Gráficos\n",
        "##### Prof. Dr. Alessandro de Lima Bicho"
      ]
    },
    {
      "cell_type": "markdown",
      "metadata": {
        "id": "0jZdvtPDkV6A"
      },
      "source": [
        ""
      ]
    },
    {
      "cell_type": "markdown",
      "metadata": {
        "id": "YeHHhBBCoRWT"
      },
      "source": [
        "## Olá, pessoal!\n",
        "\n",
        "Em 15 de abril de 1912, o maior navio de passageiros já construído colidiu com um iceberg durante sua viagem inaugural. Quando o Titanic afundou, ele matou 1502 dos 2224 passageiros e tripulantes. Esta tragédia chocou a comunidade internacional, e levou a melhores regulamentos de segurança para os navios. Uma das razões pelas quais o naufrágio resultou em tal perda de vidas foi que não havia botes salva-vidas suficientes para os passageiros e tripulantes. Embora houvesse algum elemento de sorte envolvido em sobreviver ao naufrágio, alguns grupos de pessoas tinham maior probabilidade de sobreviver do que outros.\n",
        "\n",
        "O dataset titanic.csv contém dados de 887 passageiros reais do Titanic. Cada linha representa uma pessoa. As colunas descrevem diferentes atributos sobre a pessoa, incluindo:\n",
        "- Survived (sobreviveu): se sobreviveu ao naufrágio estará com 1, e 0 (zero) se não sobreviveu;\n",
        "- Pclass: tipo de classe de passagem (Do 1 ao 3), sendo 1 a melhor classe e 3 a pior classe;\n",
        "- Name: nome do passageiro(a);\n",
        "- Sex: gênero do passageiro, sendo masculino e feminino;\n",
        "- Age: idade do passageiro na data da ocorrência do naufrágio;\n",
        "- Siblings/Spouses Aboard: número de irmãos/cônjuges a bordo;\n",
        "- Parents/Children Aboard: número de pais/filhos a bordo;\n",
        "- Fare: valor da passagem.\t\n",
        "\n",
        "Nesta tarefa, temos duas questões que procurarão fundamentar estatiscamente suas conclusões sobre os sobreviventes deste naufrágio.\n",
        "\n",
        "Bons estudos! \n",
        "\n",
        "Abraço, Alessandro."
      ]
    },
    {
      "cell_type": "markdown",
      "metadata": {
        "id": "1b4DwPHAr1CH"
      },
      "source": [
        "Aqui nós importamos o dataset, que está disponível no meu Google Drive. Caso queiram, podem fazer o download do dataset através do link informado na função `read_csv()` (para análise no Microsoft Excel, por exemplo). "
      ]
    },
    {
      "cell_type": "code",
      "metadata": {
        "id": "AAYX0I8Nf041",
        "outputId": "c7578bae-2de5-4d01-91a1-22d4e671a6e5",
        "colab": {
          "base_uri": "https://localhost:8080/",
          "height": 424
        }
      },
      "source": [
        "#importar a biblioteca pandas\n",
        "import pandas as pd\n",
        "#pd.options.display.max_columns = None\n",
        "#pd.options.display.max_rows = None\n",
        "pd.options.display.float_format = '{:.2f}'.format\n",
        "import matplotlib.pyplot as plt\n",
        "%matplotlib inline\n",
        "import seaborn as sns\n",
        "\n",
        "df = pd.read_csv(\"https://drive.google.com/uc?export=view&id=1Ad2NNAqsCDGwl125D7z-nSbPLVpCFlYu\", error_bad_lines=False, encoding = \"ISO-8859-1\", sep = \",\")\n",
        "df"
      ],
      "execution_count": 2,
      "outputs": [
        {
          "output_type": "execute_result",
          "data": {
            "text/html": [
              "<div>\n",
              "<style scoped>\n",
              "    .dataframe tbody tr th:only-of-type {\n",
              "        vertical-align: middle;\n",
              "    }\n",
              "\n",
              "    .dataframe tbody tr th {\n",
              "        vertical-align: top;\n",
              "    }\n",
              "\n",
              "    .dataframe thead th {\n",
              "        text-align: right;\n",
              "    }\n",
              "</style>\n",
              "<table border=\"1\" class=\"dataframe\">\n",
              "  <thead>\n",
              "    <tr style=\"text-align: right;\">\n",
              "      <th></th>\n",
              "      <th>Survived</th>\n",
              "      <th>Pclass</th>\n",
              "      <th>Name</th>\n",
              "      <th>Sex</th>\n",
              "      <th>Age</th>\n",
              "      <th>Siblings_Spouses_Aboard</th>\n",
              "      <th>Parents_Children_Aboard</th>\n",
              "      <th>Fare</th>\n",
              "    </tr>\n",
              "  </thead>\n",
              "  <tbody>\n",
              "    <tr>\n",
              "      <th>0</th>\n",
              "      <td>0</td>\n",
              "      <td>3</td>\n",
              "      <td>Mr. Owen Harris Braund</td>\n",
              "      <td>male</td>\n",
              "      <td>22.00</td>\n",
              "      <td>1</td>\n",
              "      <td>0</td>\n",
              "      <td>7.25</td>\n",
              "    </tr>\n",
              "    <tr>\n",
              "      <th>1</th>\n",
              "      <td>1</td>\n",
              "      <td>1</td>\n",
              "      <td>Mrs. John Bradley (Florence Briggs Thayer) Cum...</td>\n",
              "      <td>female</td>\n",
              "      <td>38.00</td>\n",
              "      <td>1</td>\n",
              "      <td>0</td>\n",
              "      <td>71.28</td>\n",
              "    </tr>\n",
              "    <tr>\n",
              "      <th>2</th>\n",
              "      <td>1</td>\n",
              "      <td>3</td>\n",
              "      <td>Miss. Laina Heikkinen</td>\n",
              "      <td>female</td>\n",
              "      <td>26.00</td>\n",
              "      <td>0</td>\n",
              "      <td>0</td>\n",
              "      <td>7.92</td>\n",
              "    </tr>\n",
              "    <tr>\n",
              "      <th>3</th>\n",
              "      <td>1</td>\n",
              "      <td>1</td>\n",
              "      <td>Mrs. Jacques Heath (Lily May Peel) Futrelle</td>\n",
              "      <td>female</td>\n",
              "      <td>35.00</td>\n",
              "      <td>1</td>\n",
              "      <td>0</td>\n",
              "      <td>53.10</td>\n",
              "    </tr>\n",
              "    <tr>\n",
              "      <th>4</th>\n",
              "      <td>0</td>\n",
              "      <td>3</td>\n",
              "      <td>Mr. William Henry Allen</td>\n",
              "      <td>male</td>\n",
              "      <td>35.00</td>\n",
              "      <td>0</td>\n",
              "      <td>0</td>\n",
              "      <td>8.05</td>\n",
              "    </tr>\n",
              "    <tr>\n",
              "      <th>...</th>\n",
              "      <td>...</td>\n",
              "      <td>...</td>\n",
              "      <td>...</td>\n",
              "      <td>...</td>\n",
              "      <td>...</td>\n",
              "      <td>...</td>\n",
              "      <td>...</td>\n",
              "      <td>...</td>\n",
              "    </tr>\n",
              "    <tr>\n",
              "      <th>882</th>\n",
              "      <td>0</td>\n",
              "      <td>2</td>\n",
              "      <td>Rev. Juozas Montvila</td>\n",
              "      <td>male</td>\n",
              "      <td>27.00</td>\n",
              "      <td>0</td>\n",
              "      <td>0</td>\n",
              "      <td>13.00</td>\n",
              "    </tr>\n",
              "    <tr>\n",
              "      <th>883</th>\n",
              "      <td>1</td>\n",
              "      <td>1</td>\n",
              "      <td>Miss. Margaret Edith Graham</td>\n",
              "      <td>female</td>\n",
              "      <td>19.00</td>\n",
              "      <td>0</td>\n",
              "      <td>0</td>\n",
              "      <td>30.00</td>\n",
              "    </tr>\n",
              "    <tr>\n",
              "      <th>884</th>\n",
              "      <td>0</td>\n",
              "      <td>3</td>\n",
              "      <td>Miss. Catherine Helen Johnston</td>\n",
              "      <td>female</td>\n",
              "      <td>7.00</td>\n",
              "      <td>1</td>\n",
              "      <td>2</td>\n",
              "      <td>23.45</td>\n",
              "    </tr>\n",
              "    <tr>\n",
              "      <th>885</th>\n",
              "      <td>1</td>\n",
              "      <td>1</td>\n",
              "      <td>Mr. Karl Howell Behr</td>\n",
              "      <td>male</td>\n",
              "      <td>26.00</td>\n",
              "      <td>0</td>\n",
              "      <td>0</td>\n",
              "      <td>30.00</td>\n",
              "    </tr>\n",
              "    <tr>\n",
              "      <th>886</th>\n",
              "      <td>0</td>\n",
              "      <td>3</td>\n",
              "      <td>Mr. Patrick Dooley</td>\n",
              "      <td>male</td>\n",
              "      <td>32.00</td>\n",
              "      <td>0</td>\n",
              "      <td>0</td>\n",
              "      <td>7.75</td>\n",
              "    </tr>\n",
              "  </tbody>\n",
              "</table>\n",
              "<p>887 rows × 8 columns</p>\n",
              "</div>"
            ],
            "text/plain": [
              "     Survived  Pclass  ... Parents_Children_Aboard  Fare\n",
              "0           0       3  ...                       0  7.25\n",
              "1           1       1  ...                       0 71.28\n",
              "2           1       3  ...                       0  7.92\n",
              "3           1       1  ...                       0 53.10\n",
              "4           0       3  ...                       0  8.05\n",
              "..        ...     ...  ...                     ...   ...\n",
              "882         0       2  ...                       0 13.00\n",
              "883         1       1  ...                       0 30.00\n",
              "884         0       3  ...                       2 23.45\n",
              "885         1       1  ...                       0 30.00\n",
              "886         0       3  ...                       0  7.75\n",
              "\n",
              "[887 rows x 8 columns]"
            ]
          },
          "metadata": {
            "tags": []
          },
          "execution_count": 2
        }
      ]
    },
    {
      "cell_type": "markdown",
      "metadata": {
        "id": "BTFOwPWVsDjy"
      },
      "source": [
        "1) Ao rever os dados de 887 passageiros do naufrágio do Titanic, você, cientista de dados, percebe que pode haver uma **correlação** que explique os sobreviventes deste naufrágio! Demonstre, através dos ensinamentos das Semanas 3 e 4, como estatísticamente podemos fundamentar nossa resposta. Explore os possíveis métodos."
      ]
    },
    {
      "cell_type": "markdown",
      "metadata": {
        "id": "JdPKDsBO9nMQ"
      },
      "source": [
        "Começamos pelas correlações entre os diversos gupos de sobreviventes."
      ]
    },
    {
      "cell_type": "code",
      "metadata": {
        "id": "jm9_JNw7uzGQ",
        "outputId": "742e9e2e-fcbf-412e-e5b3-b82cd20508d0",
        "colab": {
          "base_uri": "https://localhost:8080/",
          "height": 238
        }
      },
      "source": [
        "# Responda aqui a questão 1\n",
        "#\n",
        "df.corr()"
      ],
      "execution_count": 3,
      "outputs": [
        {
          "output_type": "execute_result",
          "data": {
            "text/html": [
              "<div>\n",
              "<style scoped>\n",
              "    .dataframe tbody tr th:only-of-type {\n",
              "        vertical-align: middle;\n",
              "    }\n",
              "\n",
              "    .dataframe tbody tr th {\n",
              "        vertical-align: top;\n",
              "    }\n",
              "\n",
              "    .dataframe thead th {\n",
              "        text-align: right;\n",
              "    }\n",
              "</style>\n",
              "<table border=\"1\" class=\"dataframe\">\n",
              "  <thead>\n",
              "    <tr style=\"text-align: right;\">\n",
              "      <th></th>\n",
              "      <th>Survived</th>\n",
              "      <th>Pclass</th>\n",
              "      <th>Age</th>\n",
              "      <th>Siblings_Spouses_Aboard</th>\n",
              "      <th>Parents_Children_Aboard</th>\n",
              "      <th>Fare</th>\n",
              "    </tr>\n",
              "  </thead>\n",
              "  <tbody>\n",
              "    <tr>\n",
              "      <th>Survived</th>\n",
              "      <td>1.00</td>\n",
              "      <td>-0.34</td>\n",
              "      <td>-0.06</td>\n",
              "      <td>-0.04</td>\n",
              "      <td>0.08</td>\n",
              "      <td>0.26</td>\n",
              "    </tr>\n",
              "    <tr>\n",
              "      <th>Pclass</th>\n",
              "      <td>-0.34</td>\n",
              "      <td>1.00</td>\n",
              "      <td>-0.39</td>\n",
              "      <td>0.09</td>\n",
              "      <td>0.02</td>\n",
              "      <td>-0.55</td>\n",
              "    </tr>\n",
              "    <tr>\n",
              "      <th>Age</th>\n",
              "      <td>-0.06</td>\n",
              "      <td>-0.39</td>\n",
              "      <td>1.00</td>\n",
              "      <td>-0.30</td>\n",
              "      <td>-0.19</td>\n",
              "      <td>0.11</td>\n",
              "    </tr>\n",
              "    <tr>\n",
              "      <th>Siblings_Spouses_Aboard</th>\n",
              "      <td>-0.04</td>\n",
              "      <td>0.09</td>\n",
              "      <td>-0.30</td>\n",
              "      <td>1.00</td>\n",
              "      <td>0.41</td>\n",
              "      <td>0.16</td>\n",
              "    </tr>\n",
              "    <tr>\n",
              "      <th>Parents_Children_Aboard</th>\n",
              "      <td>0.08</td>\n",
              "      <td>0.02</td>\n",
              "      <td>-0.19</td>\n",
              "      <td>0.41</td>\n",
              "      <td>1.00</td>\n",
              "      <td>0.22</td>\n",
              "    </tr>\n",
              "    <tr>\n",
              "      <th>Fare</th>\n",
              "      <td>0.26</td>\n",
              "      <td>-0.55</td>\n",
              "      <td>0.11</td>\n",
              "      <td>0.16</td>\n",
              "      <td>0.22</td>\n",
              "      <td>1.00</td>\n",
              "    </tr>\n",
              "  </tbody>\n",
              "</table>\n",
              "</div>"
            ],
            "text/plain": [
              "                         Survived  Pclass  ...  Parents_Children_Aboard  Fare\n",
              "Survived                     1.00   -0.34  ...                     0.08  0.26\n",
              "Pclass                      -0.34    1.00  ...                     0.02 -0.55\n",
              "Age                         -0.06   -0.39  ...                    -0.19  0.11\n",
              "Siblings_Spouses_Aboard     -0.04    0.09  ...                     0.41  0.16\n",
              "Parents_Children_Aboard      0.08    0.02  ...                     1.00  0.22\n",
              "Fare                         0.26   -0.55  ...                     0.22  1.00\n",
              "\n",
              "[6 rows x 6 columns]"
            ]
          },
          "metadata": {
            "tags": []
          },
          "execution_count": 3
        }
      ]
    },
    {
      "cell_type": "code",
      "metadata": {
        "id": "yfAa3aFvc_fM",
        "outputId": "dc1b05ab-ad70-4390-cdcb-2f3567c4e241",
        "colab": {
          "base_uri": "https://localhost:8080/",
          "height": 621
        }
      },
      "source": [
        "#Outra visualização\n",
        "plt.subplots(figsize=(15,8))\n",
        "sns.heatmap(df.corr(),annot=True)"
      ],
      "execution_count": 4,
      "outputs": [
        {
          "output_type": "execute_result",
          "data": {
            "text/plain": [
              "<matplotlib.axes._subplots.AxesSubplot at 0x7f7db4ddf7f0>"
            ]
          },
          "metadata": {
            "tags": []
          },
          "execution_count": 4
        },
        {
          "output_type": "display_data",
          "data": {
            "image/png": "[encoded data removed]",
            "text/plain": [
              "<Figure size 1080x576 with 2 Axes>"
            ]
          },
          "metadata": {
            "tags": [],
            "needs_background": "light"
          }
        }
      ]
    },
    {
      "cell_type": "code",
      "metadata": {
        "id": "-qhHWSBzKl5X",
        "outputId": "2680e793-f4fa-4a06-b9af-1b8c95a0f51f",
        "colab": {
          "base_uri": "https://localhost:8080/",
          "height": 300
        }
      },
      "source": [
        "df.describe()"
      ],
      "execution_count": 5,
      "outputs": [
        {
          "output_type": "execute_result",
          "data": {
            "text/html": [
              "<div>\n",
              "<style scoped>\n",
              "    .dataframe tbody tr th:only-of-type {\n",
              "        vertical-align: middle;\n",
              "    }\n",
              "\n",
              "    .dataframe tbody tr th {\n",
              "        vertical-align: top;\n",
              "    }\n",
              "\n",
              "    .dataframe thead th {\n",
              "        text-align: right;\n",
              "    }\n",
              "</style>\n",
              "<table border=\"1\" class=\"dataframe\">\n",
              "  <thead>\n",
              "    <tr style=\"text-align: right;\">\n",
              "      <th></th>\n",
              "      <th>Survived</th>\n",
              "      <th>Pclass</th>\n",
              "      <th>Age</th>\n",
              "      <th>Siblings_Spouses_Aboard</th>\n",
              "      <th>Parents_Children_Aboard</th>\n",
              "      <th>Fare</th>\n",
              "    </tr>\n",
              "  </thead>\n",
              "  <tbody>\n",
              "    <tr>\n",
              "      <th>count</th>\n",
              "      <td>887.00</td>\n",
              "      <td>887.00</td>\n",
              "      <td>887.00</td>\n",
              "      <td>887.00</td>\n",
              "      <td>887.00</td>\n",
              "      <td>887.00</td>\n",
              "    </tr>\n",
              "    <tr>\n",
              "      <th>mean</th>\n",
              "      <td>0.39</td>\n",
              "      <td>2.31</td>\n",
              "      <td>29.47</td>\n",
              "      <td>0.53</td>\n",
              "      <td>0.38</td>\n",
              "      <td>32.31</td>\n",
              "    </tr>\n",
              "    <tr>\n",
              "      <th>std</th>\n",
              "      <td>0.49</td>\n",
              "      <td>0.84</td>\n",
              "      <td>14.12</td>\n",
              "      <td>1.10</td>\n",
              "      <td>0.81</td>\n",
              "      <td>49.78</td>\n",
              "    </tr>\n",
              "    <tr>\n",
              "      <th>min</th>\n",
              "      <td>0.00</td>\n",
              "      <td>1.00</td>\n",
              "      <td>0.42</td>\n",
              "      <td>0.00</td>\n",
              "      <td>0.00</td>\n",
              "      <td>0.00</td>\n",
              "    </tr>\n",
              "    <tr>\n",
              "      <th>25%</th>\n",
              "      <td>0.00</td>\n",
              "      <td>2.00</td>\n",
              "      <td>20.25</td>\n",
              "      <td>0.00</td>\n",
              "      <td>0.00</td>\n",
              "      <td>7.92</td>\n",
              "    </tr>\n",
              "    <tr>\n",
              "      <th>50%</th>\n",
              "      <td>0.00</td>\n",
              "      <td>3.00</td>\n",
              "      <td>28.00</td>\n",
              "      <td>0.00</td>\n",
              "      <td>0.00</td>\n",
              "      <td>14.45</td>\n",
              "    </tr>\n",
              "    <tr>\n",
              "      <th>75%</th>\n",
              "      <td>1.00</td>\n",
              "      <td>3.00</td>\n",
              "      <td>38.00</td>\n",
              "      <td>1.00</td>\n",
              "      <td>0.00</td>\n",
              "      <td>31.14</td>\n",
              "    </tr>\n",
              "    <tr>\n",
              "      <th>max</th>\n",
              "      <td>1.00</td>\n",
              "      <td>3.00</td>\n",
              "      <td>80.00</td>\n",
              "      <td>8.00</td>\n",
              "      <td>6.00</td>\n",
              "      <td>512.33</td>\n",
              "    </tr>\n",
              "  </tbody>\n",
              "</table>\n",
              "</div>"
            ],
            "text/plain": [
              "       Survived  Pclass  ...  Parents_Children_Aboard   Fare\n",
              "count    887.00  887.00  ...                   887.00 887.00\n",
              "mean       0.39    2.31  ...                     0.38  32.31\n",
              "std        0.49    0.84  ...                     0.81  49.78\n",
              "min        0.00    1.00  ...                     0.00   0.00\n",
              "25%        0.00    2.00  ...                     0.00   7.92\n",
              "50%        0.00    3.00  ...                     0.00  14.45\n",
              "75%        1.00    3.00  ...                     0.00  31.14\n",
              "max        1.00    3.00  ...                     6.00 512.33\n",
              "\n",
              "[8 rows x 6 columns]"
            ]
          },
          "metadata": {
            "tags": []
          },
          "execution_count": 5
        }
      ]
    },
    {
      "cell_type": "markdown",
      "metadata": {
        "id": "gqlLkU1OKvFW"
      },
      "source": [
        "Como se pode ver, apenas 39% das pessoas sobreviveram. A maioria viajava na 2a ou 3a  Classes (a média de Pclass é 2,31). A média de idade era de 29,47 anos. O mais novo tinha  pouco mais de 5 meses e o mais velho 80 anos."
      ]
    },
    {
      "cell_type": "code",
      "metadata": {
        "id": "lp54RglJTKtk",
        "outputId": "e80cfa2d-7120-41a7-d046-91f8fec98958",
        "colab": {
          "base_uri": "https://localhost:8080/",
          "height": 143
        }
      },
      "source": [
        "df.groupby('Sex').mean()"
      ],
      "execution_count": 6,
      "outputs": [
        {
          "output_type": "execute_result",
          "data": {
            "text/html": [
              "<div>\n",
              "<style scoped>\n",
              "    .dataframe tbody tr th:only-of-type {\n",
              "        vertical-align: middle;\n",
              "    }\n",
              "\n",
              "    .dataframe tbody tr th {\n",
              "        vertical-align: top;\n",
              "    }\n",
              "\n",
              "    .dataframe thead th {\n",
              "        text-align: right;\n",
              "    }\n",
              "</style>\n",
              "<table border=\"1\" class=\"dataframe\">\n",
              "  <thead>\n",
              "    <tr style=\"text-align: right;\">\n",
              "      <th></th>\n",
              "      <th>Survived</th>\n",
              "      <th>Pclass</th>\n",
              "      <th>Age</th>\n",
              "      <th>Siblings_Spouses_Aboard</th>\n",
              "      <th>Parents_Children_Aboard</th>\n",
              "      <th>Fare</th>\n",
              "    </tr>\n",
              "    <tr>\n",
              "      <th>Sex</th>\n",
              "      <th></th>\n",
              "      <th></th>\n",
              "      <th></th>\n",
              "      <th></th>\n",
              "      <th></th>\n",
              "      <th></th>\n",
              "    </tr>\n",
              "  </thead>\n",
              "  <tbody>\n",
              "    <tr>\n",
              "      <th>female</th>\n",
              "      <td>0.74</td>\n",
              "      <td>2.16</td>\n",
              "      <td>27.72</td>\n",
              "      <td>0.69</td>\n",
              "      <td>0.65</td>\n",
              "      <td>44.48</td>\n",
              "    </tr>\n",
              "    <tr>\n",
              "      <th>male</th>\n",
              "      <td>0.19</td>\n",
              "      <td>2.39</td>\n",
              "      <td>30.43</td>\n",
              "      <td>0.43</td>\n",
              "      <td>0.24</td>\n",
              "      <td>25.63</td>\n",
              "    </tr>\n",
              "  </tbody>\n",
              "</table>\n",
              "</div>"
            ],
            "text/plain": [
              "        Survived  Pclass  ...  Parents_Children_Aboard  Fare\n",
              "Sex                       ...                               \n",
              "female      0.74    2.16  ...                     0.65 44.48\n",
              "male        0.19    2.39  ...                     0.24 25.63\n",
              "\n",
              "[2 rows x 6 columns]"
            ]
          },
          "metadata": {
            "tags": []
          },
          "execution_count": 6
        }
      ]
    },
    {
      "cell_type": "markdown",
      "metadata": {
        "id": "HZdk-1tf-3GU"
      },
      "source": [
        "Depreende-se do quadro acima, que 74% das mulheres sobreviveram contra apenas 19% dos homens."
      ]
    },
    {
      "cell_type": "code",
      "metadata": {
        "id": "8-HpIBM6LDV1",
        "colab": {
          "base_uri": "https://localhost:8080/",
          "height": 175
        },
        "outputId": "3ef4a2ca-53fb-40b9-b68e-c1a9fbe7265a"
      },
      "source": [
        "df.groupby('Pclass').mean()"
      ],
      "execution_count": 7,
      "outputs": [
        {
          "output_type": "execute_result",
          "data": {
            "text/html": [
              "<div>\n",
              "<style scoped>\n",
              "    .dataframe tbody tr th:only-of-type {\n",
              "        vertical-align: middle;\n",
              "    }\n",
              "\n",
              "    .dataframe tbody tr th {\n",
              "        vertical-align: top;\n",
              "    }\n",
              "\n",
              "    .dataframe thead th {\n",
              "        text-align: right;\n",
              "    }\n",
              "</style>\n",
              "<table border=\"1\" class=\"dataframe\">\n",
              "  <thead>\n",
              "    <tr style=\"text-align: right;\">\n",
              "      <th></th>\n",
              "      <th>Survived</th>\n",
              "      <th>Age</th>\n",
              "      <th>Siblings_Spouses_Aboard</th>\n",
              "      <th>Parents_Children_Aboard</th>\n",
              "      <th>Fare</th>\n",
              "    </tr>\n",
              "    <tr>\n",
              "      <th>Pclass</th>\n",
              "      <th></th>\n",
              "      <th></th>\n",
              "      <th></th>\n",
              "      <th></th>\n",
              "      <th></th>\n",
              "    </tr>\n",
              "  </thead>\n",
              "  <tbody>\n",
              "    <tr>\n",
              "      <th>1</th>\n",
              "      <td>0.63</td>\n",
              "      <td>38.79</td>\n",
              "      <td>0.42</td>\n",
              "      <td>0.36</td>\n",
              "      <td>84.15</td>\n",
              "    </tr>\n",
              "    <tr>\n",
              "      <th>2</th>\n",
              "      <td>0.47</td>\n",
              "      <td>29.87</td>\n",
              "      <td>0.40</td>\n",
              "      <td>0.38</td>\n",
              "      <td>20.66</td>\n",
              "    </tr>\n",
              "    <tr>\n",
              "      <th>3</th>\n",
              "      <td>0.24</td>\n",
              "      <td>25.19</td>\n",
              "      <td>0.62</td>\n",
              "      <td>0.40</td>\n",
              "      <td>13.71</td>\n",
              "    </tr>\n",
              "  </tbody>\n",
              "</table>\n",
              "</div>"
            ],
            "text/plain": [
              "        Survived   Age  Siblings_Spouses_Aboard  Parents_Children_Aboard  Fare\n",
              "Pclass                                                                        \n",
              "1           0.63 38.79                     0.42                     0.36 84.15\n",
              "2           0.47 29.87                     0.40                     0.38 20.66\n",
              "3           0.24 25.19                     0.62                     0.40 13.71"
            ]
          },
          "metadata": {
            "tags": []
          },
          "execution_count": 7
        }
      ]
    },
    {
      "cell_type": "markdown",
      "metadata": {
        "id": "R28SHjADoh-A"
      },
      "source": [
        "63 % das pessoas que sobreviveram eram da 1a Classe. 47% pertenciam à 2a Classe e apenas 24% eram da 3a Classe."
      ]
    },
    {
      "cell_type": "code",
      "metadata": {
        "id": "fnc33ZcsFEyI",
        "colab": {
          "base_uri": "https://localhost:8080/"
        },
        "outputId": "6f05421b-fce3-4d77-ab1e-7ccdb05506af"
      },
      "source": [
        "df[df['Age']<=12].value_counts().sort_index().sum()"
      ],
      "execution_count": null,
      "outputs": [
        {
          "output_type": "execute_result",
          "data": {
            "text/plain": [
              "79"
            ]
          },
          "metadata": {
            "tags": []
          },
          "execution_count": 21
        }
      ]
    },
    {
      "cell_type": "code",
      "metadata": {
        "id": "m1BQDOEHzWZo",
        "outputId": "c94a7ac1-0231-4815-89a6-7ddff4461802",
        "colab": {
          "base_uri": "https://localhost:8080/"
        }
      },
      "source": [
        "df[df['Age']<18].value_counts().sort_index().sum()"
      ],
      "execution_count": 8,
      "outputs": [
        {
          "output_type": "execute_result",
          "data": {
            "text/plain": [
              "130"
            ]
          },
          "metadata": {
            "tags": []
          },
          "execution_count": 8
        }
      ]
    },
    {
      "cell_type": "code",
      "metadata": {
        "id": "ZNwTmLoy3EN8",
        "outputId": "0cf4d0b5-a28f-4970-f144-80ef4b443e63",
        "colab": {
          "base_uri": "https://localhost:8080/"
        }
      },
      "source": [
        "df[df['Age']<=12].mean()"
      ],
      "execution_count": 9,
      "outputs": [
        {
          "output_type": "execute_result",
          "data": {
            "text/plain": [
              "Survived                   0.54\n",
              "Pclass                     2.68\n",
              "Age                        4.94\n",
              "Siblings_Spouses_Aboard    2.04\n",
              "Parents_Children_Aboard    1.39\n",
              "Fare                      31.56\n",
              "dtype: float64"
            ]
          },
          "metadata": {
            "tags": []
          },
          "execution_count": 9
        }
      ]
    },
    {
      "cell_type": "code",
      "metadata": {
        "id": "L_RixAqb3KLM",
        "outputId": "3d2f910d-07a2-4d63-c607-41de3e5be65e",
        "colab": {
          "base_uri": "https://localhost:8080/"
        }
      },
      "source": [
        "df[df['Age']>12].mean()"
      ],
      "execution_count": 10,
      "outputs": [
        {
          "output_type": "execute_result",
          "data": {
            "text/plain": [
              "Survived                   0.37\n",
              "Pclass                     2.27\n",
              "Age                       31.87\n",
              "Siblings_Spouses_Aboard    0.38\n",
              "Parents_Children_Aboard    0.28\n",
              "Fare                      32.38\n",
              "dtype: float64"
            ]
          },
          "metadata": {
            "tags": []
          },
          "execution_count": 10
        }
      ]
    },
    {
      "cell_type": "code",
      "metadata": {
        "id": "E0Ic1dT33hnM",
        "outputId": "a2b52b61-62d7-4cef-ee95-72e8fd7c57b8",
        "colab": {
          "base_uri": "https://localhost:8080/"
        }
      },
      "source": [
        "df[df['Age']<18].mean()"
      ],
      "execution_count": 11,
      "outputs": [
        {
          "output_type": "execute_result",
          "data": {
            "text/plain": [
              "Survived                   0.50\n",
              "Pclass                     2.64\n",
              "Age                        9.20\n",
              "Siblings_Spouses_Aboard    1.65\n",
              "Parents_Children_Aboard    1.05\n",
              "Fare                      31.06\n",
              "dtype: float64"
            ]
          },
          "metadata": {
            "tags": []
          },
          "execution_count": 11
        }
      ]
    },
    {
      "cell_type": "markdown",
      "metadata": {
        "id": "hMqTh14k48XA"
      },
      "source": [
        "Vê-se pelos quadros acima, que as crianças tiveram maior chance de sobreviver (54% contra 37% dos que tinham mais de 12 anos)\n",
        "\n"
      ]
    },
    {
      "cell_type": "markdown",
      "metadata": {
        "id": "67741qIk5bHw"
      },
      "source": [
        "ECA - Artigo 2º\n",
        "Considera-se criança, para os efeitos desta Lei, a pessoa até doze anos de idade incompletos, e adolescente aquela entre doze e dezoito anos de idade."
      ]
    },
    {
      "cell_type": "markdown",
      "metadata": {
        "id": "-yKQv2ACjcu8"
      },
      "source": [
        "Por volta de 00:20, 40 minutos após a colisão, o carregamento dos botes salva-vidas estava em andamento. O Segundo Oficial Lightoller recordou posteriormente que ele notou Smith de pé perto da ponte, olhando para o oceano como que em um transe. De acordo com Lightoller, \"Gritei com toda força: 'Não é melhor colocar as mulheres e as crianças dentro dos botes, senhor?' Ele me ouviu e acenou com a resposta.\"[92] Smith então ordenou para Lightoller e Murdoch para \"colocar as mulheres e as crianças dentro e abaixar\".[93] Lightoller tomou conta dos botes no lado estibordo e Murdoch se encarregou dos botes à estibordo. Os dois oficiais interpretaram as ordem de evacuação de \"mulheres e crianças\" de maneiras diferentes; Murdoch interpretou a ordem como sendo **mulheres e crianças primeiro**, enquanto Lightoller entendeu como sendo **apenas mulheres e crianças**.\n",
        "* Retirado de Wikipedia.\n"
      ]
    },
    {
      "cell_type": "markdown",
      "metadata": {
        "id": "Zlplqqqm5rL4"
      },
      "source": [
        "Pelo acima descrito, constata-se que mulheres e crianças tiveram maior chance de sobreviver e restou demonstrado no texto acima o  principal motivo da sua maior sobrevivência.\n",
        ". Destaque-se também, que as pessoas em classe mais elevada tiveram maior chance de sobrevivência."
      ]
    },
    {
      "cell_type": "code",
      "metadata": {
        "id": "zxxoBdNjNCh4",
        "outputId": "5e57cc5e-5ebe-48ec-c3de-c74de6108f51",
        "colab": {
          "base_uri": "https://localhost:8080/",
          "height": 299
        }
      },
      "source": [
        "#Responda aqui a questão 2\n",
        "plt.title('Nº de passageiros por sexo no Titanic')\n",
        "df[\"Sex\"].hist()"
      ],
      "execution_count": 14,
      "outputs": [
        {
          "output_type": "execute_result",
          "data": {
            "text/plain": [
              "<matplotlib.axes._subplots.AxesSubplot at 0x7f7db140c0f0>"
            ]
          },
          "metadata": {
            "tags": []
          },
          "execution_count": 14
        },
        {
          "output_type": "display_data",
          "data": {
            "image/png": "[encoded data removed]",
            "text/plain": [
              "<Figure size 432x288 with 1 Axes>"
            ]
          },
          "metadata": {
            "tags": [],
            "needs_background": "light"
          }
        }
      ]
    },
    {
      "cell_type": "code",
      "metadata": {
        "id": "tx6nMg99PAEQ",
        "outputId": "de979569-96d1-4637-9645-28bad24bd650",
        "colab": {
          "base_uri": "https://localhost:8080/",
          "height": 338
        }
      },
      "source": [
        "plt.title('Percentual de sobreviventes por sexo no Titanic')\n",
        "plt.ylabel('% de sobreviventes')\n",
        "df.groupby('Sex')['Survived'].mean().plot(kind='bar')"
      ],
      "execution_count": 15,
      "outputs": [
        {
          "output_type": "execute_result",
          "data": {
            "text/plain": [
              "<matplotlib.axes._subplots.AxesSubplot at 0x7f7db1378eb8>"
            ]
          },
          "metadata": {
            "tags": []
          },
          "execution_count": 15
        },
        {
          "output_type": "display_data",
          "data": {
            "image/png": "[encoded data removed]",
            "text/plain": [
              "<Figure size 432x288 with 1 Axes>"
            ]
          },
          "metadata": {
            "tags": [],
            "needs_background": "light"
          }
        }
      ]
    },
    {
      "cell_type": "code",
      "metadata": {
        "id": "TRSjc7y0QTAE",
        "outputId": "bded4b4d-aa7d-4751-ade2-d3d68ee75657",
        "colab": {
          "base_uri": "https://localhost:8080/",
          "height": 310
        }
      },
      "source": [
        "plt.title('Percentual de sobreviventes por classe no Titanic')\n",
        "plt.ylabel('% de sobreviventes')\n",
        "df.groupby('Pclass')['Survived'].mean().plot(kind='bar')"
      ],
      "execution_count": 21,
      "outputs": [
        {
          "output_type": "execute_result",
          "data": {
            "text/plain": [
              "<matplotlib.axes._subplots.AxesSubplot at 0x7f7db0f3eb38>"
            ]
          },
          "metadata": {
            "tags": []
          },
          "execution_count": 21
        },
        {
          "output_type": "display_data",
          "data": {
            "image/png": "[encoded data removed]",
            "text/plain": [
              "<Figure size 432x288 with 1 Axes>"
            ]
          },
          "metadata": {
            "tags": [],
            "needs_background": "light"
          }
        }
      ]
    }
  ]
}