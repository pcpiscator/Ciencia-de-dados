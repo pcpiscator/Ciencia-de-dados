{
  "nbformat": 4,
  "nbformat_minor": 0,
  "metadata": {
    "colab": {
      "name": "sisproj_Alura01.ipynb",
      "provenance": [],
      "authorship_tag": "ABX9TyPyPyMlSFWlHw+vnA2NNk3l",
      "include_colab_link": true
    },
    "kernelspec": {
      "name": "python3",
      "display_name": "Python 3"
    }
  },
  "cells": [
    {
      "cell_type": "markdown",
      "metadata": {
        "id": "view-in-github",
        "colab_type": "text"
      },
      "source": [
        "<a href=\"https://colab.research.google.com/github/pcpiscator/Ciencia-de-dados/blob/master/sisproj_Alura01.ipynb\" target=\"_parent\"><img src=\"https://colab.research.google.com/assets/colab-badge.svg\" alt=\"Open In Colab\"/></a>"
      ]
    },
    {
      "cell_type": "code",
      "metadata": {
        "id": "pzgIAcdarXMv"
      },
      "source": [
        ""
      ],
      "execution_count": null,
      "outputs": []
    },
    {
      "cell_type": "code",
      "metadata": {
        "id": "0PQ70Gj-7U0q"
      },
      "source": [
        "# nosso notebook precisa utilizar algumas bibliotecas do python\n",
        "# para trabalharmos com os dados. Estas bibliotecas tem métodos que nos\n",
        "# permitem fazer vários tipos de análise. \n",
        "# POR ENQUANTO, APENAS EXECUTE ESTA CÉLULA. MAIS NA FRENTE VOCÊ APRENDERÁ MAIS\n",
        "# SOBRE AS BIBLIOTECAS.  \n",
        "\n",
        "import pandas as pd                  \n",
        "import numpy as np\n",
        "import seaborn as sns\n",
        "import matplotlib.pyplot as plt\n",
        "from datetime import datetime\n",
        "from dateutil.parser import parse \n",
        "\n",
        "%matplotlib inline"
      ],
      "execution_count": 1,
      "outputs": []
    },
    {
      "cell_type": "code",
      "metadata": {
        "id": "Ej4aNC1VniT4"
      },
      "source": [
        "fonte = \"https://raw.githubusercontent.com/pcpiscator/Ciencia-de-dados/master/sisproj-receitas.csv\"\n",
        "dados = pd.read_csv(fonte)\n",
        "dados.head()"
      ],
      "execution_count": null,
      "outputs": []
    },
    {
      "cell_type": "code",
      "metadata": {
        "id": "xxQ9-0Jeq4tg"
      },
      "source": [
        "dados.shape"
      ],
      "execution_count": null,
      "outputs": []
    }
  ]
}