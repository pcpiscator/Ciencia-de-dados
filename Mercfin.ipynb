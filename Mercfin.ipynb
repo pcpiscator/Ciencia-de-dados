{
  "nbformat": 4,
  "nbformat_minor": 0,
  "metadata": {
    "colab": {
      "name": "Mercfin.ipynb",
      "provenance": [],
      "authorship_tag": "ABX9TyOmrSZ4+hI52riqqH7+UcIz",
      "include_colab_link": true
    },
    "kernelspec": {
      "name": "python3",
      "display_name": "Python 3"
    }
  },
  "cells": [
    {
      "cell_type": "markdown",
      "metadata": {
        "id": "view-in-github",
        "colab_type": "text"
      },
      "source": [
        "<a href=\"https://colab.research.google.com/github/pcpiscator/Ciencia-de-dados/blob/master/Mercfin.ipynb\" target=\"_parent\"><img src=\"https://colab.research.google.com/assets/colab-badge.svg\" alt=\"Open In Colab\"/></a>"
      ]
    },
    {
      "cell_type": "code",
      "metadata": {
        "id": "h0qcFIN-H9S8"
      },
      "source": [
        ""
      ],
      "execution_count": null,
      "outputs": []
    },
    {
      "cell_type": "markdown",
      "metadata": {
        "id": "0-1I8VBwVCeo"
      },
      "source": [
        "As bibliotecas utilizadas para visualizar os dados serão:\n",
        "Matplotlib: é uma biblioteca utilizada para plotar os mais variados tipos de gráficos.\n",
        "Seaborn: utiliza o Matplotlib como base e fornece funções simples de usar para criação de gráficos que seriam complexos apenas com o Matplotlib.\n",
        "\n",
        "Instalação:"
      ]
    },
    {
      "cell_type": "code",
      "metadata": {
        "id": "EoRJ-zOmT1eg"
      },
      "source": [
        "pip install numpy pandas matplotlib seaborn"
      ],
      "execution_count": null,
      "outputs": []
    },
    {
      "cell_type": "markdown",
      "metadata": {
        "id": "_ZFYmYdTUq2I"
      },
      "source": [
        "# **Mercado financeiro**\n",
        "\n",
        "Podemos facilmente plotar gráficos de ações de empresas na bolsa de valores.\n",
        "\n",
        "Vamos utilizar a biblioteca pandas-datareader para pegar informações sobre ações e preencher nosso dataset. Essa biblioteca não pega dados da Bovespa.\n",
        "\n",
        "Vamos instalá-la:"
      ]
    },
    {
      "cell_type": "code",
      "metadata": {
        "id": "wVINpBsaT15E"
      },
      "source": [
        "pip install numpy pandas matplotlib seaborn"
      ],
      "execution_count": null,
      "outputs": []
    },
    {
      "cell_type": "code",
      "metadata": {
        "id": "7WVtZN-WT2O8"
      },
      "source": [
        "pip install pandas-datareader"
      ],
      "execution_count": null,
      "outputs": []
    },
    {
      "cell_type": "code",
      "metadata": {
        "id": "jzcc6HqiT3PA"
      },
      "source": [
        "import numpy as np\n",
        "import pandas as pd\n",
        "import matplotlib.pyplot as plt\n",
        "import seaborn as sns"
      ],
      "execution_count": 2,
      "outputs": []
    }
  ]
}