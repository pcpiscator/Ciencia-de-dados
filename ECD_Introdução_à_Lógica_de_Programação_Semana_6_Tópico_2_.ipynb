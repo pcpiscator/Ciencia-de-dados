{
  "nbformat": 4,
  "nbformat_minor": 0,
  "metadata": {
    "colab": {
      "name": "ECD - Introdução à Lógica de Programação - Semana 6 - Tópico 2 .ipynb",
      "provenance": [],
      "include_colab_link": true
    },
    "kernelspec": {
      "name": "python3",
      "display_name": "Python 3"
    }
  },
  "cells": [
    {
      "cell_type": "markdown",
      "metadata": {
        "id": "view-in-github",
        "colab_type": "text"
      },
      "source": [
        "<a href=\"https://colab.research.google.com/github/pcpiscator/Ciencia-de-dados/blob/master/ECD_Introdu%C3%A7%C3%A3o_%C3%A0_L%C3%B3gica_de_Programa%C3%A7%C3%A3o_Semana_6_T%C3%B3pico_2_.ipynb\" target=\"_parent\"><img src=\"https://colab.research.google.com/assets/colab-badge.svg\" alt=\"Open In Colab\"/></a>"
      ]
    },
    {
      "cell_type": "markdown",
      "metadata": {
        "id": "qnZlOOl5lqam"
      },
      "source": [
        "# ECD - Introdução à Lógica de Programação - Semana 6 - JavaScript\n",
        "## Indentação, estruturas de controle, variáveis compostas e funções\n",
        "##### Prof. Dr. Jônata Tyska Carvalho\n"
      ]
    },
    {
      "cell_type": "markdown",
      "metadata": {
        "id": "ld_zC5T2F3KV"
      },
      "source": [
        "Muito embora este documento traga diversos exemplos de programas e trechos de código, não é possível executar tais códigos diretamemente nos ambiente Google Colab. Para isso recomenda-se o editor online https://js.do Os exemplos de código podem e devem ser executados, copiando-os e colando-os no editor em questão, para que você possa ver os conceitos apresentados funcionando na prática. \n",
        "\n",
        "Sinta-se motivado a executar os exemplos múltiplas vezes, modificá-los adicionando e testando novas funcionalidades. Tente criar e testar hipóteses prevendo qual será o resultado da execução dos códigos com as suas alterações. Caso suas alterações causem erros, tente entender os erros causados e como corrigí-los. Considere este documento não apenas como uma aula, mas também como um guia interativo de experimentação e descoberta. \n",
        "\n",
        "Discuta problemas e ideias com os colegas através do fórum do Moodle, e não deixe de nos contatar caso tenha dúvidas ou dificuldades. Bons estudos!"
      ]
    },
    {
      "cell_type": "markdown",
      "metadata": {
        "id": "0nyxVLyLnR4X"
      },
      "source": [
        "## 1. Indentação e blocos em Javascript"
      ]
    },
    {
      "cell_type": "markdown",
      "metadata": {
        "id": "THjXFarYnfAe"
      },
      "source": [
        "A indentação em JavaScript é altamente recomendável mas, diferente da linguagem Python, não é obrigatória. Não é a indentação que define os blocos de instruções ou aninhamentos como acontece em Python. Em JavaScript, os blocos são delimitados utilizando chaves ( { } ), assim como no pseudocódigo estudado nas primeiras semanas da disciplina. Veja o exemplo abaixo.\n",
        "\n",
        "\n",
        "\n",
        "```\n",
        "//estrutura de seleção composta com dois blocos de duas instruções indentados corretamente - note que os blocos são definidos pelas chaves e não pela indentação\n",
        "var a=5,b\n",
        "if (a>3)\n",
        "{\n",
        "    b=2*a\n",
        "    alert(\"A variável a é maior do que 3 e 2*a = \"+b)\n",
        "}\n",
        "else\n",
        "{\n",
        "    b=3*a\n",
        "    alert(\"A variável a é menor do que 3 e 3*a = \"+b)\n",
        "}\n",
        "```\n",
        "\n",
        "\n",
        "\n",
        "```\n",
        "//estrutura de repetição composta por um bloco de duas instruções e um bloco aninhado - estrutura de seleção if\n",
        "var contador=1\n",
        "while (contador<=5)\n",
        "{\n",
        "    alert(\"Escrevendo \"+contador+\" de 5\")\n",
        "    if (contador>4)\n",
        "    {\n",
        "        alert(\"Esse é o último valor mostrado \"+contador)\n",
        "    }\n",
        "    contador=contador+1\n",
        "\n",
        "}\n",
        "alert(\"Esse alert está fora do bloco anterior.\")\n",
        "```\n",
        "\n",
        "\n",
        "\n",
        "\n"
      ]
    },
    {
      "cell_type": "markdown",
      "metadata": {
        "id": "4k0PfZrbqbfG"
      },
      "source": [
        "Duas diferenças importantes em relação ao Python que podem ser notadas nos exemplos: 1) condições das estruturas de repetição e seleção devem estar entre parênteses; 2) os blocos de instruções são definidos simplesmente por chaves ({}) independente da indentação utilizada. Não se preocupe em entender as estruturas de controle apresentadas nestes exemplos, elas serão estudadas em detalhes na próxima seção. Neste momento, é importante que você tenha entendido como representar blocos de instruções em JavaScript, como eles estão aninhados, e a importância de, mesmo não sendo obrigatório, realizar uma correta indentação do código. "
      ]
    },
    {
      "cell_type": "markdown",
      "metadata": {
        "id": "qsUdtLRilzbz"
      },
      "source": [
        "## 2. Estruturas de Controle"
      ]
    },
    {
      "cell_type": "markdown",
      "metadata": {
        "id": "WbFRQb9olzY_"
      },
      "source": [
        "Conforme estudamos anteriormente, qualquer programa de computador pode ser construído através da composição de três tipos de estruturas de controle: *sequência*, *seleção (ou decisão)* e *repetição*. A seguir estudaremos cada uma delas em JavaScript. Novamente, grande parte das instruções e palavras-chave que utilizamos em Português com o Portugol (pseudocódigo usado nas semanas anteriores) serão simplesmente utilizadas em Inglês em JavaScript como veremos nas próximas seções.\n"
      ]
    },
    {
      "cell_type": "markdown",
      "metadata": {
        "id": "HW_OECY0mVlr"
      },
      "source": [
        "### **Sequência**"
      ]
    },
    {
      "cell_type": "markdown",
      "metadata": {
        "id": "ECNlaHbwmVgp"
      },
      "source": [
        "Trata-se da estrutura de controle mais simples dentre as três, em que cada instrução de um programa é executada em ordem sequêncial. Todas as instruções são executadas sempre, independente de qualquer condição, e essa execução ocorre na ordem em que foram escritas. Veja o exemplo do código abaixo que utiliza-se apenas da estrutura sequencial para escrever um programa que calcula o salário anual de um funcionário, recebendo como entrada o seu salário mensal.\n",
        "\n",
        "\n",
        "\n",
        "```\n",
        "//Programa que calcula o salário anual de um funcionário\n",
        "var salarioMensal=prompt(\"Entre com o salário mensal do funcionário: \")\n",
        "salarioAnual=12*salarioMensal\n",
        "alert('O funcionário que possui um salário mensal de '+salarioMensal+' ganha por ano '+salarioAnual)\n",
        "```\n",
        "\n"
      ]
    },
    {
      "cell_type": "markdown",
      "metadata": {
        "id": "en-Q5AWUmVV7"
      },
      "source": [
        "### **Seleção**"
      ]
    },
    {
      "cell_type": "markdown",
      "metadata": {
        "id": "RukzbCBLmVOX"
      },
      "source": [
        "Estruturas de seleção, decisão ou condicional são os termos (sinônimos) que costumam designar a construção na qual o programador pode condicionar a execução de estruturas a uma condição (expressão ou valor lógico). A seguir, veremos quais são e como utilizar as estruturas de seleção em JavaScript.\n",
        "\n",
        "Assim como em Python, e praticamente todas as linguagens de programação, usa-se a palavra *if* Note que é importante que ela seja escrita em letras minúsculas, caso contrário a palavra não será reconhecida como uma estrutura de seleção. Lembre-se que a linguagem JavaScript é sensível ao caso (case sensitive)."
      ]
    },
    {
      "cell_type": "markdown",
      "metadata": {
        "id": "61HvoCFetv3P"
      },
      "source": [
        "#### Seleção Simples"
      ]
    },
    {
      "cell_type": "markdown",
      "metadata": {
        "id": "EbcKOEOzt2Sh"
      },
      "source": [
        "Recapitulando a seleção simples especifica uma ou mais instruções que devem ser executadas apenas caso uma determinada condição seja verdadeira. Lembrando que uma condição pode ser um valor ou expressão lógica, ou ainda uma expressão relacional. A seleção simples possui a forma abaixo:\n",
        "\n",
        "```\n",
        "if (<condição>)\n",
        "{\n",
        "    <múltiplas instruções>\n",
        "} \n",
        "```\n",
        "\n",
        "Note que para o caso de instruções únicas, não é necessário utilizar as chaves, ficando a estrutura de seleção da seguinte forma:\n",
        "\n",
        "```\n",
        "if (<condição>)\n",
        "    <instrução única>\n",
        "```\n",
        "Veja abaixo alguns exemplos de estrutura de seleção simples.\n",
        "\n",
        "\n",
        "\n",
        "```\n",
        "var estaChovendo=true\n",
        "if (estaChovendo)\n",
        "    alert(\"Pegue o guarda-chuva\")\n",
        "```\n",
        "\n",
        "\n",
        "\n",
        "```\n",
        "var nota1=6\n",
        "var notaNecessaria\n",
        "if (nota1<7)\n",
        "{\n",
        "    alert(\"Você precisa estudar mais\")\n",
        "    notaNecessaria = 14-nota1\n",
        "    alert(\"Sua próxima nota precisa ser maior ou igual a \"+notaNecessaria)\n",
        "}\n",
        "alert(\"Falta apenas uma prova\")\n",
        "```\n",
        "\n",
        "\n",
        "\n"
      ]
    },
    {
      "cell_type": "markdown",
      "metadata": {
        "id": "mschRedvt27b"
      },
      "source": [
        "#### Seleção Composta"
      ]
    },
    {
      "cell_type": "markdown",
      "metadata": {
        "id": "sBm5uQQxt4jP"
      },
      "source": [
        "A estrutura de seleção composta (SE SENÃO) permite que o programador defina um bloco de instruções a ser executado se a condição for verdadeira, e um bloco alternativo caso a condição for falsa. Em JavaScript, para utilizar uma estrutura de seleção composta usamos as palavras if else da seguinte forma:\n",
        "\n",
        "```\n",
        "if (<condição>)\n",
        "{\n",
        "    <instruções quando a condição for verdadeira>\n",
        "}\n",
        "else\n",
        "{\n",
        "    <instruções quando a condição for falsa>\n",
        "}\n",
        "```\n",
        "\n"
      ]
    },
    {
      "cell_type": "markdown",
      "metadata": {
        "id": "FSNSHuA1I0SL"
      },
      "source": [
        "Veja abaixo alguns exemplos de estrutura de seleção composta.\n",
        "\n",
        "```\n",
        "var nota=6\n",
        "if (nota>=7)\n",
        "    alert('Parabéns, você foi aprovado.')\n",
        "else\n",
        "    alert('Infelizmente sua nota não foi suficiente para aprovação.')\n",
        "```\n",
        "Lembre-se que as chaves são opcionais quando existir apenas uma instrução dentro do bloco.\n",
        "\n",
        "\n",
        "\n",
        "```\n",
        "var a=prompt(\"Digite o primeiro valor inteiro: \")\n",
        "var b=prompt(\"Digite o segundo valor inteiro: \")\n",
        "if (a>=b)\n",
        "{\n",
        "    alert(\"O primeiro valor fornecido é maior ou igual ao segundo.\")\n",
        "}\n",
        "else\n",
        "{\n",
        "    alert(\"O segundo valor é maior do que o primeiro.\")\n",
        "}\n",
        "```\n",
        "Mesmo que as chaves sejam opcionais quando os blocos possuem apenas uma instrução, recomendo que neste momento em que você está aprendendo a programar você as utilize sempre. Isso evitará que você cometa erros ao esquecer de usá-las em blocos com múltiplas instruções. Enquanto usar chaves para definir um bloco com apenas uma instrução não produz um erro, esquecer de usá-las em blocos de múltiplas instruções irá ocasionar em erros ou comportamentos indesejados do programa. \n",
        "\n",
        "\n",
        "\n",
        "```\n",
        "var frequencia=60\n",
        "var nota=8\n",
        "if (frequencia>=75 && nota>=7)\n",
        "    alert(\"Aprovado\")\n",
        "else\n",
        "    alert(\"Reprovado\")\n",
        "```\n",
        "\n",
        "\n",
        "\n"
      ]
    },
    {
      "cell_type": "markdown",
      "metadata": {
        "id": "KAqVTXLYKo1G"
      },
      "source": [
        "Perceba que no exemplo acima a aprovação de um determinado estudante é definida com base não apenas em sua nota, mas também em sua frequência. A forma como a estrutura de seleção composta foi utilizada não específica o motivo pelo qual o estudante foi reprovado. Abaixo veja um exemplo em que através de estruturas aninhadas, faz-se tal distinção."
      ]
    },
    {
      "cell_type": "markdown",
      "metadata": {
        "id": "K9OWdqq6t47l"
      },
      "source": [
        "#### Seleção Aninhada\n",
        "\n",
        "```\n",
        "var frequencia=60\n",
        "var nota=8\n",
        "if (frequencia<75)\n",
        "{\n",
        "    alert(\"Reprovado por frequência\")\n",
        "}\n",
        "else\n",
        "{\n",
        "    if (nota<7)\n",
        "    {\n",
        "        alert(\"Reprovado por média\")\n",
        "    }\n",
        "    else\n",
        "    {\n",
        "        alert(\"Aprovado\")\n",
        "    }\n",
        "}\n",
        "```"
      ]
    },
    {
      "cell_type": "markdown",
      "metadata": {
        "id": "oqAtzi-cuDCZ"
      },
      "source": [
        "Como as chaves diferenciam os blocos de instrução, quando chaves são abertas dentro de outro par de chaves, como no else do exemplo acima, isso representa o aninhamento de blocos. No exemplo acima, testa-se primeiro a frequência do aluno, informando que ele foi reprovado por frequência se esta for menor do que 75. Se tal condição for falsa, \"entra-se\" no *else* (no jargão de programação, significa que as instruções do bloco else serão executadas), onde temos uma nova estrutura de seleção aninhada.\n",
        "\n",
        "Em JavaScript, para facilitar o aninhamento de estruturas de seleção, escrevemos simplesmente *else if*, sem a necessidade de construir condicionais dentro de condicionais. Assim, podem-se definir diversas condições que serão testadas de forma sequencial, até que alguma delas seja verdadeira, ou, caso todas sejam falsas, até que as instruções do *else* final (quando presente) sejam executadas.\n",
        "\n",
        "```\n",
        "if (<condição1>)\n",
        "{\n",
        "    bloco de instruções quando condição1 for verdadeira\n",
        "}\n",
        "else if (<condição2>)\n",
        "{\n",
        "    bloco de instruções quando condição2 for verdadeira\n",
        "}\n",
        "else if (<condição3>)\n",
        "{\n",
        "    bloco de instruções quando condição3 for verdadeira\n",
        "}\n",
        "else\n",
        "{\n",
        "    bloco de instruções quando todas as condições anteriores forem falsas\n",
        "}\n",
        "```\n",
        "\n",
        "A estrutura *if else if else* permite que o programador use quantas condições desejar, sendo opcional a definição do *else* final e o seu respectivo bloco de instruções. Tal estrutura aninhada simplifica a construção de estruturas de seleção aninhadas, dispensando a necessidade de criar diversos condicionais compostos aninhados e sua respectiva indentação progressiva. Veja abaixo exemplos desta estrutura de seleção aninhada. \n",
        "\n",
        "```\n",
        "//ifs aninhados sem o uso de if else if else - note o aninhamento dos blocos e a indentação progressiva\n",
        "var nota=8.2\n",
        "if (nota==10)\n",
        "{\n",
        "    alert(\"Parabéns você tirou a nota máxima.\")\n",
        "}\n",
        "else\n",
        "{\n",
        "    if (nota>9)\n",
        "    {\n",
        "        alert(\"Parabéns sua nota está entre as melhores.\")\n",
        "    }\n",
        "    else\n",
        "    {\n",
        "        if (nota>8)\n",
        "        {\n",
        "            alert(\"Você teve um bom desempenho.\")\n",
        "        }\n",
        "        else\n",
        "        {\n",
        "            if (nota>=7)\n",
        "            {\n",
        "                alert(\"Você ficou na média.\")\n",
        "            }\n",
        "            else\n",
        "            {\n",
        "                alert(\"Você ficou abaixo da média\")\n",
        "            }\n",
        "        }\n",
        "    }\n",
        "}\n",
        "```\n",
        "\n",
        "```\n",
        "//ifs aninhados com o uso de if else if else - note como a estrutura torna-se muito mais simples e a funcionalidade é a mesma\n",
        "var nota=8.2\n",
        "if (nota==10)\n",
        "{\n",
        "    alert(\"Parabéns você tirou a nota máxima.\")\n",
        "}\n",
        "else if (nota>9)\n",
        "{\n",
        "    alert(\"Parabéns sua nota está entre as melhores.\")\n",
        "}\n",
        "else if (nota>8)\n",
        "{\n",
        "    alert(\"Você teve um bom desempenho.\")\n",
        "}\n",
        "else if (nota>=7)\n",
        "{\n",
        "    alert(\"Você ficou na média.\")\n",
        "}\n",
        "else\n",
        "{\n",
        "    alert(\"Você ficou abaixo da média\")\n",
        "}\n",
        "```\n",
        "\n",
        "\n",
        "\n"
      ]
    },
    {
      "cell_type": "markdown",
      "metadata": {
        "id": "n9AfBsqVmU7F"
      },
      "source": [
        "### **Repetição**"
      ]
    },
    {
      "cell_type": "markdown",
      "metadata": {
        "id": "2YYdDizYmUwD"
      },
      "source": [
        "Assim como as demais linguagens, JavaScript oferece algumas possibilidades de estruturas de repetição. Como já estudado, por vezes a realização de certas tarefas requerem a execução de uma mesma instrução ou bloco de instruções repetidas vezes. As estruturas de repetição, também chamadas de laços de repetição, permitem a construção de programas deste tipo sem a necessidade que o programador manualmente reescreva as instruções.\n",
        "\n",
        "\n",
        "Em JavaScript, a estrutura de repetição chamada de ENQUANTO em Portugol, pode ser utilizada, assim como em Python, através da palavra *while* (que justamente significa enquanto em Inglês). Veja abaixo a forma desta estrutura de repetição.\n",
        "\n",
        "```\n",
        "while (<condição>)\n",
        "{\n",
        "    bloco de instruções quando condição for verdadeira\n",
        "}\n",
        "```\n",
        "Veja um exemplo a seguir.\n",
        "\n",
        "```\n",
        "//programa que escreve os números de 1 a 5 usando while\n",
        "var contador=1\n",
        "while (contador<=5)\n",
        "{\n",
        "    alert(contador)\n",
        "    contador=contador + 1\n",
        "}\n",
        "```"
      ]
    },
    {
      "cell_type": "markdown",
      "metadata": {
        "id": "Y6-yE2Utb9Ky"
      },
      "source": [
        "#### Laços de repetição com contadores\n"
      ]
    },
    {
      "cell_type": "markdown",
      "metadata": {
        "id": "NL5BqqxUeS0Q"
      },
      "source": [
        "Os laços de repetição, especialmente o *while*, estão usualmente associados a um contador, ou em geral, a uma variável que controla o número de repetições. Espera-se que a condição do laço, testada múltiplas vezes a cada execução do bloco de instruções do *while*, em um determinado momento resulte no fim do laço de repetição, ou em outras palavras, se torne *false*. Caso isso não aconteça, teremos o indesejado *loop infinito*, ocasionando na repetição infinita do bloco de instruções do *while*.\n",
        "\n",
        "Assim, usualmente as estruturas de repetição usam um contador que parte de um valor inicial, sendo incrementado ou decrementado a cada ciclo de repetição (execução do bloco de instruções é chamado ciclo), até que seu valor alcance um limite, superior ou inferior dependendo da lógica do programa. Veja o exemplo do programa abaixo, em que o usuário é solicitado a informar um valor inicial, um valor final e um incremento. Note que o programa verifica se os valores informados pelo usuário são coerentes, isto é, valor inicial menor do que o valor final.\n",
        "\n",
        "\n",
        "\n",
        "```\n",
        "var valorInicial=Number(prompt(\"Informe o valor inicial: \"))\n",
        "var incremento=Number(prompt(\"Informe o valor do incremento: \"))\n",
        "var valorFinal=Number(prompt(\"Informe o valor final: \"))\n",
        "\n",
        "if (valorInicial>valorFinal)\n",
        "    alert(\"O valor inicial informado (\"+valorInicial+\") é maior do que o valor final informado (\"+valorFinal+\").\")\n",
        "else if (incremento<1)\n",
        "    alert(\"O valor do incremento informado (\"+incremento+\") é menor do que 1.\")\n",
        "else\n",
        "{\n",
        "    contador=valorInicial\n",
        "    while (contador<valorFinal)\n",
        "    {\n",
        "        alert(contador)\n",
        "        contador=contador+incremento\n",
        "    }\n",
        "}\n",
        "```\n",
        "\n"
      ]
    },
    {
      "cell_type": "markdown",
      "metadata": {
        "id": "WpeQt10keaJc"
      },
      "source": [
        "#### Interrompendo explicitamente um laço de repetição"
      ]
    },
    {
      "cell_type": "markdown",
      "metadata": {
        "id": "lMY1c1d2gtqb"
      },
      "source": [
        "Em alguns casos é importante que o programador tenha o controle explícito do laço de repetição, interrompendo-o durante a execução de um ciclo. Um exemplo clássico deste tipo de situação é a utilização de um laço de repetição que se interrompe dependendo do dado de entrada fornecido pelo usuário. O comando *break* automaticamente interrompe o laço de repetição. Veja o exemplo abaixo que realiza a soma dos números fornecidos pelo usuário, até que ele informe o valor zero.\n",
        "\n",
        "\n",
        "\n",
        "```\n",
        "var soma=0,valorEntrada\n",
        "while (true)\n",
        "{\n",
        "    valorEntrada=Number(prompt(\"Digite um valor inteiro positivo ou zero para encerrar o programa: \"))\n",
        "    if (valorEntrada==0)\n",
        "        break;\n",
        "    else if (valorEntrada<0)\n",
        "        alert(\"Valor inválido\")\n",
        "    else\n",
        "        soma=soma+valorEntrada\n",
        "}\n",
        "alert(\"A soma dos valores informados pelo usuário é \"+soma)\n",
        "\n",
        "```\n",
        "\n"
      ]
    },
    {
      "cell_type": "markdown",
      "metadata": {
        "id": "t7V9OQm2nSN7"
      },
      "source": [
        "Perceba que no exemplo acima um contador não é utilizado com o laço de repetição, na realidade ele parte com uma condição que levaria a um *loop infinito*, isto é *while (true)* Entretanto, no bloco de instruções do laço de repetição existe uma estrutura condicional, que interrompe o laço de repetição usando *break* caso o dado informado pelo usuário seja igual a 0."
      ]
    },
    {
      "cell_type": "markdown",
      "metadata": {
        "id": "O3H4egjmn2Wv"
      },
      "source": [
        "#### O laço de repetição *for*\n"
      ]
    },
    {
      "cell_type": "markdown",
      "metadata": {
        "id": "esgNFGFsn9VP"
      },
      "source": [
        "\n",
        "Em JavaScript, o laço de repetição PARA tem o mesmo comportamento que a estrutura que utilizamos nas primeiras semanas em Portugol. A palavra-chave *for* é usada para o laço de repetição PARA. A estrutura é composta por valor inicial, condição e incremento.\n",
        "\n",
        "```\n",
        "for (<atribuição inicial>;<condição>;<incremento>)\n",
        "{\n",
        "    bloco de instruções executado a cada valor da lista\n",
        "}\n",
        "```\n",
        "\n",
        "Usualmente a variável atribuida inicialmente é também utilizada na condição e no incremento. Tal variável é também usualmente declarada utilizando a palavra-chave *var* na atribuição inicial. Veja um exemplo de utilização no código abaixo.\n",
        "\n",
        "\n",
        "\n",
        "```\n",
        "for(var valor=1;valor<6;valor=valor+1)\n",
        "{\n",
        "    alert(\"valor = \"+valor)\n",
        "    alert(\"valor*2 =\"+(2*valor))\n",
        "}\n",
        "```\n",
        "\n",
        "\n"
      ]
    },
    {
      "cell_type": "markdown",
      "metadata": {
        "id": "npgpQV7HsPxf"
      },
      "source": [
        "Perceba que fornecendo ao programador a liberdade de definir os três elementos do *for*, atribuição inicial, condição e incremento, permite-se que ele defina de forma flexível como trabalhar com esta estrutura. Veja o exemplo abaixo em que uma contagem regressiva é construída utilizando for.\n",
        "\n",
        "\n",
        "\n",
        "```\n",
        "for(var contador=10;contador>=0;contador=contador-1)\n",
        "    alert(contador)\n",
        "```\n",
        "\n"
      ]
    },
    {
      "cell_type": "markdown",
      "metadata": {
        "id": "m92Vb5YxtxJ_"
      },
      "source": [
        "Perceba que em JavaScript também existem formas alternativas de se usar o *for*, sendo elas o *for in* e o *for of*. Tal forma permite percorrer variáveis compostas, cadeias de caracteres e outros objetos. Enquanto o *for in* percorre a lista de valores atribuindo o índice, do primeiro ao último, à variável informada, o *for of* atribui o valor dos elementos da lista de valores a tal variável. Veja exemplos de utilização abaixo.\n",
        "\n",
        "\n",
        "\n",
        "```\n",
        "var frase=\"A chuva cai\"\n",
        "for (indice in frase)\n",
        "    alert(\"Caracter do índice \"+indice+\"=\"+frase[indice]+\";\")\n",
        "```\n",
        "\n",
        "```\n",
        "var frase=\"A chuva cai\"\n",
        "for (caracter of frase)\n",
        "    alert(caracter)\n",
        "```\n",
        "\n",
        "\n"
      ]
    },
    {
      "cell_type": "markdown",
      "metadata": {
        "id": "hIDx1S6ylzRG"
      },
      "source": [
        "## 3. Variáveis Compostas"
      ]
    },
    {
      "cell_type": "markdown",
      "metadata": {
        "id": "h6sDw0vGlzNA"
      },
      "source": [
        "JavaScript oferece diversos tipos de variáveis compostas. Lembrando que variáveis compostas podem referenciar não apenas um endereço na memória, mas diversos endereços através de um único nome e a utilização de índices.\n",
        "\n",
        "Nesta seção estudaremos duas das principais variáveis compostas disponíveis nativamente em JavaScript: os *arrays* e os objetos."
      ]
    },
    {
      "cell_type": "markdown",
      "metadata": {
        "id": "ZAoNhYPpmKUZ"
      },
      "source": [
        "### **Arrays**"
      ]
    },
    {
      "cell_type": "markdown",
      "metadata": {
        "id": "6N8y71TimJ_8"
      },
      "source": [
        "Arrays em JavaScript são variáveis compostas heterogêneas, ou seja, podem armazenar diversos valores de diferentes tipos de dados. São utilizados através de um identificador único e índices para referenciar cada um de seus valores. O tamanho de um array pode variar dinamicamente, isto é, elementos podem ser adicionados ou excluídos em tempo de execução. Veja abaixo exemplos de códigos com as principais operações envolvendo arrays em JavaScript."
      ]
    },
    {
      "cell_type": "markdown",
      "metadata": {
        "id": "cF1tz6_-y2PB"
      },
      "source": [
        "#### Criação de Arrays"
      ]
    },
    {
      "cell_type": "markdown",
      "metadata": {
        "id": "EBB5rps0s_gP"
      },
      "source": [
        "Arrays são criados no momento da atribuição de valores, assim como em Python, e sintaxe inclusive é a mesma da linguagem Python. É possível declarar um array vazio, sem elementos, ou um array que comece com um certo número de elementos. O símbolo utilizado para representar arrays é o colchete. Veja abaixo alguns exemplos de criação de arrays.\n",
        "\n",
        "\n",
        "\n",
        "```\n",
        "//criando um array vazio\n",
        "var vazio = []\n",
        "alert(vazio)\n",
        "```\n",
        "\n",
        "```\n",
        "//criando um array com números primos\n",
        "var primos= [2,3,5,7,11]\n",
        "alert(primos)\n",
        "```\n",
        "\n",
        "\n",
        "```\n",
        "//declarando uma lista com inteiros, floats e caracteres\n",
        "var diversos=[7.2,\"a\",5,9.7,\"casa\"]\n",
        "alert(diversos)\n",
        "```\n",
        "\n",
        "\n",
        "\n",
        "\n"
      ]
    },
    {
      "cell_type": "markdown",
      "metadata": {
        "id": "JjvW-LMqx7kc"
      },
      "source": [
        "Perceba como no segundo exemplo, apesar de muitos valores terem sido colocados no array, todos eles pertenciam a um mesmo tipo de dado (inteiro). Tal comportamento se assemelha aos vetores, variáveis compostos homogêneas, que estudamos em Portugol.\n",
        "\n",
        "Entretanto o último exemplo mostra como os arrays em JavaScript são mais flexíveis, permitindo o armazenamento de múltiplos tipos dados em uma mesma variável, configurando-se assim como variáveis compostas heterogêneas. \n",
        "\n",
        "Note que os arrays podem armazenar qualquer tipo de dado, incluindo outros arrays. Uma matriz em JavaScript, ou de forma geral variáveis compostas multidimensionais, são representadas desta forma, usando arrays de arrays. Por exemplo, uma matriz bidimensional de 3 linhas por 3 colunas, é representada em JavaScript através de um array que armazena 3 arrays, tendo cada um destes arrays 3 elementos. Cada array armazenado é uma linha da matriz, enquanto cada elemento destes arrays é uma coluna daquela linha. Veja o exemplo abaixo. \n",
        "\n",
        "\n",
        "\n",
        "```\n",
        "//representação de matriz usando arrays - perceba que as quebras de linha foram inseridas apenas para uma maior clareza, elas não são necessárias\n",
        "var matriz=[\n",
        "        [1,2,3],\n",
        "        [4,5,6],\n",
        "        [7,8,9]\n",
        "       ]\n",
        "alert(matriz[0][2])\n",
        "alert(matriz[1][1])\n",
        "```\n",
        "\n"
      ]
    },
    {
      "cell_type": "markdown",
      "metadata": {
        "id": "hhCaLj-ub0hm"
      },
      "source": [
        "#### Acessando elementos de um array\n"
      ]
    },
    {
      "cell_type": "markdown",
      "metadata": {
        "id": "LA_ZlZvdyvgM"
      },
      "source": [
        "\n",
        "Os elementos de um array são acessados pelo nome da variável, seguido de um ou mais índices (no caso de arrays de arrays) entre colchetes. Ver a tabela e o exemplo abaixo.\n",
        "\n",
        "Para o exemplo abaixo temos:\n",
        "\n",
        "```\n",
        "var array=[7.2,\"a\",5,9.7,\"casa\",\"100\"]\n",
        "```\n",
        "\n",
        "Índice:| 0 | 1 | 2 | 3 | 4 | 5 \n",
        "--- | --- | --- | --- | --- | ---| --- | \n",
        "valor:|7.2|\"a\"|5|9.7|\"casa\"|100|"
      ]
    },
    {
      "cell_type": "code",
      "metadata": {
        "id": "_AEdDvog2R5f"
      },
      "source": [
        "var array=[7.2,\"a\",5,9.7,\"casa\",\"100\"]\n",
        "alert(array[2])\n",
        "alert(array[3])\n",
        "alert(array[4])"
      ],
      "execution_count": null,
      "outputs": []
    },
    {
      "cell_type": "markdown",
      "metadata": {
        "id": "8PwE0u0njvwS"
      },
      "source": [
        "Em JavaScript, tentar acessar um índice inexistente de um array não gera um erro, como acontece em Python. Nesse caso o acesso apenas retorna o valor especial *undefined*, ou seja, indefinido. "
      ]
    },
    {
      "cell_type": "code",
      "metadata": {
        "id": "ZXdVetdOkLa_"
      },
      "source": [
        "var array=[10,22,35]\n",
        "alert(\"Primeiro elemento +\"array[0])\n",
        "alert(\"Segundo elemento +\"array[1])\n",
        "alert(\"Terceiro elemento +\"array[2])\n",
        "alert(lista[3]) //!!!! índice inexistente, retornará undefined"
      ],
      "execution_count": null,
      "outputs": []
    },
    {
      "cell_type": "markdown",
      "metadata": {
        "id": "G2j_Hz_1238f"
      },
      "source": [
        "Quando temos arrays dentro de arrays, como no exemplo abaixo, temos diversas possibilidades de acesso. Se utilizarmos apenas o nome da variável, sem índices, acessamos todos os valores simultamente. Ao utilizar apenas um índice, acessamos todos os valores de uma determinada linha. E por fim, ao utilizar dois índices, o primeiro se refere a uma determinada linha, e o segundo a um elemento dela, como mostra o exemplo abaixo.\n",
        "\n",
        "```\n",
        "var matriz=[[1, 2, 3], [4, 5, 6], [7, 8, 9]]\n",
        "```\n",
        "\n",
        "Índice:| 0 | 1 | 2  \n",
        "--- | --- | --- | --- | \n",
        "valor:|[1, 2, 3]|[4, 5, 6]|[7, 8, 9]\n",
        "\n",
        "\n",
        "\n",
        "```\n",
        "var matriz=[\n",
        "        [1,2,3],\n",
        "        [4,5,6],\n",
        "        [7,8,9]\n",
        "       ]\n",
        "//mostrando todos os elementos\n",
        "alert(matriz)\n",
        "//mostrando uma linha por vez\n",
        "alert(\"Linha 1=\"+matriz[0])\n",
        "alert(\"Linha 2=\"+matriz[1])\n",
        "alert(\"Linha 3=\"+matriz[2])\n",
        "//mostrando o segundo elemento terceira linha\n",
        "alert('Este é o segundo elemento da terceira linha: '+matriz[2][1])\n",
        "```\n",
        "\n",
        "\n",
        "\n",
        "```\n",
        "//exemplo que percorre e imprime a matriz com dois whiles\n",
        "var matriz=[\n",
        "        [1,2,3],\n",
        "        [4,5,6],\n",
        "        [7,8,9]\n",
        "       ]\n",
        "var i=0,conteudo=\"\"\n",
        "while (i<3)\n",
        "{\n",
        "    var j=0\n",
        "    while (j<3)\n",
        "    {\n",
        "        conteudo=conteudo+\" \"+matriz[i][j]\n",
        "        j=j+1\n",
        "    }\n",
        "    conteudo=conteudo+\"\\n\" //o caractere especial \\n representa a quebra de linha\n",
        "    i=i+1\n",
        "}\n",
        "alert(conteudo)\n",
        "```\n",
        "\n",
        "\n",
        "\n",
        "```\n",
        "//exemplo que percorre e imprime a matriz utilizando dois laços de repetição for of - perceba como o codigo fica bem mais simples\n",
        "var conteudo=\"\"\n",
        "for (linha of matriz)\n",
        "{\n",
        "    for (elemento of linha)\n",
        "    {\n",
        "        conteudo=conteudo+\" \"+elemento\n",
        "    }\n",
        "    conteudo=conteudo+\"\\n\"\n",
        "}\n",
        "alert(conteudo)\n",
        "```\n",
        "\n",
        "\n",
        "\n"
      ]
    },
    {
      "cell_type": "markdown",
      "metadata": {
        "id": "vrNuVWwicGxf"
      },
      "source": [
        "#### Modificando valores em um array"
      ]
    },
    {
      "cell_type": "markdown",
      "metadata": {
        "id": "pPTMQeZMS2sN"
      },
      "source": [
        "Perceba que acessamos os elementos de um array da mesma forma que acessamos os caracteres de uma string (além da função charAt). Isso mesmo, usamos índices para acessar tanto os elementos de um array, quanto os caracteres de uma string. Com um array porém, diferente das strings que não nos permitem modificar caracteres individualmente, é possível modificar os elementos do array fazendo uma atribuição à posição desejada, conforme mostra o exemplo abaixo."
      ]
    },
    {
      "cell_type": "markdown",
      "metadata": {
        "id": "YR7Z7Yr8TKl9"
      },
      "source": [
        "**Exemplo 1.** Recebe 5 valores informados pelo usuário, e ao final mostra a soma e a média dos valores\n",
        "\n",
        "\n",
        "```\n",
        "var contador=0, soma=0, listaValor=[0,0,0,0,0],valor\n",
        "//inicializamos o array com valores 0\n",
        "while (contador<5)\n",
        "{\n",
        "    valor=Number(prompt(\"Digite um valor numérico (\"+(contador+1)+\" de 5): \"))\n",
        "    listaValor[contador]=valor //modificamos o valor atribuído inicialmente usando o valor informado pelo usuário\n",
        "    soma=soma+valor\n",
        "    contador=contador+1\n",
        "}\n",
        "alert(\"O usuário informou os seguintes valores: \"+listaValor)\n",
        "alert(\"A soma desta valores é \"+soma+\" e a média é \"+(soma/contador))\n",
        "```"
      ]
    },
    {
      "cell_type": "markdown",
      "metadata": {
        "id": "tAxXkt6gYoHO"
      },
      "source": [
        "#### Cópia de arrays"
      ]
    },
    {
      "cell_type": "markdown",
      "metadata": {
        "id": "jY1QXmVIYq8h"
      },
      "source": [
        "É muito importante entender o comportamento da cópia de arrays Javascript, que é semelhante ao da cópia de listas em Python. Ao copiar um array atribuindo uma determinada variável a outra, como mostra o exemplo abaixo, estamos na verdade apontando as duas variáveis para o mesmo endereço de memória. Assim, ao alterarmos o valor de uma variável, estaremos alterando também o valor da outra, pois as duas apontam para o mesmo endereço da memória.\n",
        "\n",
        "\n",
        "\n",
        "```\n",
        "var array1=[1,2,3,4,5]\n",
        "\n",
        "alert(\"A variável array1 começa com estes valores \"+array1)\n",
        "\n",
        "array2=array1 //ao fazer isso estamos apontando as duas variáveis, array1 e array2, para o mesmo endereço de memória\n",
        "\n",
        "array2[0]=100 //desta forma, ao alterarmos o primeiro valor de array2, estaremos alterando também o primeiro valor de array1\n",
        "\n",
        "alert(\"Os valores de lista2 após a alteração são \"+array2)\n",
        "alert(\"Os valores de lista1 agora são \"+array1)\n",
        "```\n",
        "\n",
        "\n"
      ]
    },
    {
      "cell_type": "markdown",
      "metadata": {
        "id": "gVTBGfxoaAGZ"
      },
      "source": [
        "Isso pode parecer confuso, e talvez você não entenda exatamente o porquê deste comportamento. Entretanto é muito importante que você se lembre dele ao escrever os seus programas. Você deve estar se perguntando \"e como eu faço para efetivamente copiar um array?\", não é mesmo? Vamos utilizar o fatiamento (método slice) para realizar tal operação. Quando não passamos parâmetros à função slice estamos nos referindo a todos os valores de uma lista. Assim, ao não o índice inicial e final do fatiamento, estamos acessando todos os valores de um array, que são assim devidamente copiados para outra variável como mostra o exemplo abaixo. \n",
        "\n",
        "\n",
        "\n",
        "```\n",
        "var array1=[1,2,3,4,5]\n",
        " \n",
        "alert(\"A variável array1 começa com estes valores \"+array1)\n",
        " \n",
        "array2=array1.slice() //ao fazer isso estamos acessando todos os valores de array1 e copiando-os diretamente para array2, e não apenas a sua referência \n",
        " \n",
        "array2[0]=100 //desta forma, ao alterarmos o primeiro valor de array2, estaremos alterando também o primeiro valor de array1\n",
        " \n",
        "alert(\"Os valores de lista2 após a alteração são \"+array2)\n",
        "alert(\"Os valores de lista1 agora são \"+array1)\n",
        "```\n",
        "\n"
      ]
    },
    {
      "cell_type": "markdown",
      "metadata": {
        "id": "6unrk0dRg0ny"
      },
      "source": [
        "#### Tamanho de arrays"
      ]
    },
    {
      "cell_type": "markdown",
      "metadata": {
        "id": "sbiyRfA-g3uI"
      },
      "source": [
        "Novamente, assim como propriedade *length* retorna o tamanho de uma string, essa mesma propriedade retorna o tamanho de um array, como mostram os exemplos abaixo.\n",
        "\n",
        "\n",
        "\n",
        "```\n",
        "var lista=[50,40,30,20,10]\n",
        "var tamanhoLista=lista.length\n",
        "alert(\"O tamanho da lista é \"+tamanhoLista)\n",
        "```\n",
        "\n"
      ]
    },
    {
      "cell_type": "markdown",
      "metadata": {
        "id": "d3CDbMgfhcdw"
      },
      "source": [
        "A propriedade *length* é frequentemente utilizada com estruturas de repetição (como *while* e *for*) para percorrer um array do qual não sabemos o tamanho, assim garantimos que não vamos tentar acessar um índice que não existe no array (gerando um valor *undefinied*). Veja o exemplo do código abaixo.\n",
        "\n",
        "\n",
        "\n",
        "```\n",
        "var lista=[33,66,99,132] //note que você pode remover ou adicionar elementos do array e o programa continuará funcionando\n",
        "var pos=0\n",
        "while pos<lista.length:\n",
        "    alert(\"Elemento \"+(pos+1)+\" = \"+lista[pos])\n",
        "    pos=pos+1\n",
        "```\n",
        "\n"
      ]
    },
    {
      "cell_type": "markdown",
      "metadata": {
        "id": "yCit3Kflg4IJ"
      },
      "source": [
        "#### Adição de elementos em um array"
      ]
    },
    {
      "cell_type": "markdown",
      "metadata": {
        "id": "w9IZeZnQg5ro"
      },
      "source": [
        "Em JavaScript para adicionar novos elementos a um array basta atribuir um elemento a um índice inexistente. Simples assim. Veja o exemplo abaixo.\n",
        "\n",
        "\n",
        "\n",
        "```\n",
        "var lista=[1,2,3] //cria uma lista com três elementos\n",
        "lista[3]=4\n",
        "lista[4]=5\n",
        "alert(lista)\n",
        "```\n",
        "\n",
        "\n",
        "\n",
        "```\n",
        "//programa que lê um número de valores indefinidos informados pelo usuário até que ele digite 0, e imprime a soma, a média e o número de valores\n",
        "var listaValores=[] //declara uma lista vazia\n",
        "var soma=0,valor\n",
        "while (true)\n",
        "{\n",
        "    valor=Number(prompt(\"Digite um valor numérico (digite 0 para encerrar): \"))\n",
        "    if (valor==0)\n",
        "        break; //lembre-se que a instrução break interrompe explicitamente um laço de repetição\n",
        "    listaValores[listaValores.length]=valor //adiciona o valor informado à ultima posição do array\n",
        "    soma=soma+valor\n",
        "}\n",
        "numeroValores=listaValores.length //usa a propriedade length para verificar o número de valores no array\n",
        "alert(\"O usuário informou \"+numeroValores+\" valor(es), a soma deste(s) é \"+soma+\" e a média é \"+(soma/numeroValores))\n",
        "alert(\"Os valores informados pelo usuário foram: \"+listaValores)\n",
        "```\n",
        "\n",
        "\n",
        "\n",
        "\n"
      ]
    },
    {
      "cell_type": "markdown",
      "metadata": {
        "id": "pxAgaKGfg6ML"
      },
      "source": [
        "#### Remoção de elementos de um array"
      ]
    },
    {
      "cell_type": "markdown",
      "metadata": {
        "id": "yVS5WEi1qpMf"
      },
      "source": [
        "Existem diversas formas de remover elementos de um array em JavaScript, cada uma com suas particularidades. Estudaremos duas dessas formas usando o operador *delete* e a função *splice*. Com o operador *delete* o valor é apagado mas a posição do *array* continua a existir com o valor especial *undefined* com isso a propriedade *length* do array não é alterada e os demais elementos continuam nas suas respectivas posições. Quando um ou mais elementos do array são *undefined* chama-se o array de esparso. Já a função splice usada para remover elementos recebe como primeiro parâmetro o índice do elemento a ser removido e quantos elementos devem ser removidos a partir dele. Nesse caso a propridade length do array é atualizada e os elementos a direita do elemento removido são deslocados à esquerda. Veja os exemplos a seguir.\n",
        "\n",
        "\n",
        "\n",
        "```\n",
        "var lista=[\"ABC\",4.7,10,22,\"novo\",33,44]\n",
        "var lista2=[\"ABC\",4.7,10,22,\"novo\",33,44]\n",
        "alert(\"Os valores iniciais da lista são \"+lista)\n",
        "alert(\"Os valores iniciais da lista2 são \"+lista2)\n",
        "alert(\"Valor no índice 5 da lista 1 = \"+lista[5])\n",
        "alert(\"Valor no índice 5 da lista 2 = \"+lista2[5])\n",
        "delete lista[4]\n",
        "lista2.splice(4,1)\n",
        "alert(\"Elemento de índice 4 apagado da lista, os valores da lista são \"+lista)\n",
        "alert(\"Elemento de índice 4 apagado da lista2, os valores da lista2 são \"+lista2)\n",
        "alert(\"Valor no índice 5 da lista 1 = \"+lista[5]+ \" Tamanho da lista = \"+lista.length)\n",
        "alert(\"Valor no índice 5 da lista 2 = \"+lista2[5]+ \" Tamanho da lista2 = \"+lista2.length)\n",
        "```\n",
        "\n",
        "\n"
      ]
    },
    {
      "cell_type": "markdown",
      "metadata": {
        "id": "iuaU6loemN0K"
      },
      "source": [
        "### **Objetos**"
      ]
    },
    {
      "cell_type": "markdown",
      "metadata": {
        "id": "wgg3AnWCmNuF"
      },
      "source": [
        "Os objetos em JavaScript podem ser usados como um recurso semelhante aos dicionários em Python. Enquanto para acessar cada elemento de um array usamos um índice numérico, através dos objetos podemos usar nomes ou valores literais.\n",
        "\n",
        "Os objetos JavaScript oferecem múltiplas funcionalidades. No contexto de nossa disciplina, nos focaremos na capacidade de utilizar nomes ou strings para indexar valores, criando assim uma estrutura de chaves-valores como os dicionários em Python. Tal estrutura é muito útil em diversas ocasiões, por um exemplo quando queremos armazenar de forma intuitiva os dados da tabela de preços abaixo.\n",
        "\n",
        "Produto|Preço\n",
        "---|---\n",
        "Banana| 2.50\n",
        "Alface| 1.20\n",
        "Tomate| 3.70\n",
        "\n",
        "Assim como em Python, os dicionários são representados e declarados utilizando chaves ({}), chaves e valores são separados por dois-pontos (:), e cada par chave-valor é separado por vírgulas (,). Veja a sintaxe abaixo para a declaração de um objeto.\n",
        "\n",
        "```\n",
        "<variável>={<chave1>:<valo1>,<chave2>:<valor2>, ... ,<chaveN>:<valorN>}\n",
        "```\n",
        "Veja a seguir um exemplo de código em que a tabela de preços acima é representada utilizando um objeto JavaScript. \n",
        "\n",
        "\n",
        "\n",
        "```\n",
        "var tabela={\"Banana\":2.50 ,\"Alface\":1.20,\"Tomate\":3.70}\n",
        "alert('O preço do tomate é R$ '+tabela[\"Tomate\"].toFixed(2)) \n",
        "```\n",
        "\n",
        "\n"
      ]
    },
    {
      "cell_type": "markdown",
      "metadata": {
        "id": "UJGWsqiLvoPD"
      },
      "source": [
        "*observe como o método toFixed é usado para formatar o valor real.\n",
        "\n",
        "Como vimos no exemplo acima, o acesso aos elementos de um dicionário é feito de maneira semelhante ao acesso aos elementos de um array, com a diferença que utilizamos as chaves como índices, e tais chaves podem ser do tipo string ou mesmo um identificador, isto é, o nome de uma variável. Tais elementos são também chamados de propriedades, e podem ser acessados através do nome do objeto, seguido de ponto (.) e o nome da propriedade. Em um mesmo objeto podemos ter chaves de tipos diferentes como identificadores, strings, inteiros e mesmo floats como mostra o exempo abaixo.\n",
        "\n",
        "\n",
        "\n",
        "```\n",
        "var multiChaves={nome:\"Juca\",7.2:\"chave do tipo float\",\"segundo valor\":\"chave do tipo string\",9:\"chave do tipo inteiro\"}\n",
        "alert(\"Primeiro elemento \"+multiChaves.nome)\n",
        "alert(\"Segundo elemento: \"+multiChaves[7.2])\n",
        "alert(\"Terceiro elemento: \"+multiChaves['segundo valor'])\n",
        "alert(\"Quarto elemento: \"+multiChaves[9])\n",
        "```\n",
        "\n"
      ]
    },
    {
      "cell_type": "markdown",
      "metadata": {
        "id": "0CKtCI4VxX3u"
      },
      "source": [
        "#### Adição de elementos a um objeto"
      ]
    },
    {
      "cell_type": "markdown",
      "metadata": {
        "id": "_Pjrxz6b03W6"
      },
      "source": [
        "Ao atribuir um valor a um índice (chave) existente de um objeto, substituímos o valor armazenado anteriormente. Quando atribuimos um valor a um índice inexistente, estamos na realidade adicionando um novo elemento ao objeto, e o índice antes inexistente, passa a referenciar o valor recém atribuído. Veja o exemplo a seguir.\n",
        "\n",
        "\n",
        "\n",
        "```\n",
        "var tabela={\"Banana\":2.50 ,\"Alface\":1.20,\"Tomate\":3.70}\n",
        "alert(\"Tabela chaves = \"+Object.entries(tabela))\n",
        "tabela[\"Feijão\"]=5.20 //adição de elemento\n",
        "tabela[\"Alface\"]=0.95 //alteração de valor\n",
        "alert('Nova tabela = '+Object.entries(tabela))\n",
        "```\n",
        "\n",
        "Em JavaScript não é possível usar o *alert* para imprimir as chaves e valores de um objeto. Para isso usam-se as funções Object.entries(< identificadorDoObjeto >) (como mostrado no exemplo) para os pares chave-valor, Object.keys(< identificadorDoObjeto >) para as chaves, e Object.values(< identificadorDoObjeto >) para os valores do objeto.\n",
        "\n"
      ]
    },
    {
      "cell_type": "markdown",
      "metadata": {
        "id": "PqADvcqxMCze"
      },
      "source": [
        "O operador *in* permite verificar a existência de uma chave em um objeto. Veja o exemplo abaixo.\n",
        "\n",
        "```\n",
        "var tabela={\"Banana\":2.50 ,\"Alface\":1.20,\"Tomate\":3.70}\n",
        "if(\"Banana\" in tabela)\n",
        "   alert(\"Existe a chave Banana\") //essa mensagem será mostrada\n",
        "if(\"Cenoura\" in tabela)\n",
        "   alert(\"Existe a chave cenoura\") //essa mensagem não será mostrada\n",
        "```"
      ]
    },
    {
      "cell_type": "markdown",
      "metadata": {
        "id": "2k4lABhG2mvV"
      },
      "source": [
        "#### Acessando apenas as chaves de um objeto"
      ]
    },
    {
      "cell_type": "markdown",
      "metadata": {
        "id": "dl9MyemU28k8"
      },
      "source": [
        "A função *Object.keys* retorna as chaves de um determinado dicionário, podendo ser utilizada como mostram os exemplos abaixo.\n",
        "\n",
        "```\n",
        "var tabela={\"Banana\":2.50 ,\"Alface\":1.20,\"Tomate\":3.70}\n",
        "alert(Object.keys(tabela))\n",
        "```\n",
        "\n",
        "\n",
        "```\n",
        "//combinando o retorno da função keys com um laço de repetição for of\n",
        "var tabela={\"Banana\":2.50 ,\"Alface\":1.20,\"Tomate\":3.70}\n",
        "var contador=1\n",
        "for (chave of Object.keys(tabela))\n",
        "{\n",
        "    alert(\"Chave \"+contador+\" = \"+chave)\n",
        "    contador=contador+1\n",
        "}\n",
        "```\n",
        "\n",
        "\n"
      ]
    },
    {
      "cell_type": "markdown",
      "metadata": {
        "id": "ByLWmlwt20X0"
      },
      "source": [
        "#### Acessando apenas os valores de um objeto"
      ]
    },
    {
      "cell_type": "markdown",
      "metadata": {
        "id": "gbIuupDQ8dWg"
      },
      "source": [
        "De forma análoga a função *Object.keys*, a função *Object.values* retorna apenas os valores de um objeto."
      ]
    },
    {
      "cell_type": "code",
      "metadata": {
        "id": "PLk1Mx9L8eAp"
      },
      "source": [
        "//acessando apenas os valores de um dicionário\n",
        "var mapa={202:\"Sala de aula\",101:\"Secretaria\",103:\"Auditório\"}\n",
        "for (valor of Object.values(mapa))\n",
        "    alert(\"Valor = \"+valor)"
      ],
      "execution_count": null,
      "outputs": []
    },
    {
      "cell_type": "markdown",
      "metadata": {
        "id": "Tg0kDUKV9_aK"
      },
      "source": [
        "#### Iterando chaves e valores de um objeto\n",
        "A função *Object.entries* retorna todos os pares de chave-valor contidos em um objeto. Ao combiná-la com um laço de repetição for of, por exemplo, é possível percorrer cada elemento de um objeto, acessando ambos chave e valor de cada elemento. Veja o exemplo abaixo.\n",
        "\n",
        "\n",
        "\n",
        "```\n",
        "var tabela={\"Banana\":2.50 ,\"Alface\":1.20,\"Tomate\":3.70}\n",
        "for ([chave,valor] of Object.entries(tabela))\n",
        "    alert(\"Compre \"+chave+\" por apenas R$ \"+valor)\n",
        "```\n",
        "\n"
      ]
    },
    {
      "cell_type": "markdown",
      "metadata": {
        "id": "AViMdR9526V8"
      },
      "source": [
        "#### Cópia de objetos\n"
      ]
    },
    {
      "cell_type": "markdown",
      "metadata": {
        "id": "pg-rjb388fo6"
      },
      "source": [
        "*Note* que da mesma forma como acontece com os arrays, ao atribuirmos um objeto a uma outra variável, estamos apenas apontando as duas variáveis para o mesmo endereço de memória. Assim para realizar a cópia de um objeto usa-se a função *Object.assign({},< identificadorDoObjeto >*, veja exemplos abaixo.\n",
        "\n",
        "\n",
        "\n",
        "```\n",
        "//atribuição simples faz as variáveis apontarem para o mesmo endereço de memória\n",
        "var obj1={202:\"Sala de aula\",101:\"Secretaria\",103:\"Auditório\"}\n",
        "alert(\"Valores em obj1 antes da mudança \"+Object.entries(obj1))\n",
        "var obj2=obj1\n",
        "obj2[202]=\"Mudança de sala - Direção\"\n",
        "alert(\"Valores em obj2 \"+Object.entries(obj2))\n",
        "alert(\"Valores em obj1 \"+Object.entries(obj1))\n",
        "```\n",
        "\n",
        "\n",
        "\n",
        "```\n",
        "//cópia usando Object.assign cria dois objetos (duas áreas de memória) diferentes\n",
        "var obj1={202:\"Sala de aula\",101:\"Secretaria\",103:\"Auditório\"}\n",
        "alert(\"Valores em obj1 antes da mudança \"+Object.entries(obj1))\n",
        "var obj2=Object.assign({},obj1)\n",
        "obj2[202]=\"Mudança de sala - Direção\"\n",
        "alert(\"Valores em obj2 \"+Object.entries(obj2))\n",
        "alert(\"Valores em obj1 \"+Object.entries(obj1))\n",
        "```\n",
        "\n",
        "\n",
        "\n"
      ]
    },
    {
      "cell_type": "markdown",
      "metadata": {
        "id": "foPI6igaly9c"
      },
      "source": [
        "## 4. Funções"
      ]
    },
    {
      "cell_type": "markdown",
      "metadata": {
        "id": "A0jeXVt8lyhZ"
      },
      "source": [
        "Através da palavra-chave *function* podemos criar nossas próprias funções em JavaScript. Toda função possui um identificador único, uma lista de zero ou mais parâmetros definidos logo após o nome da função e entre parênteses e o corpo da função, definido por um bloco de instruções. Os parâmetros definidos na função comportam-se como variáveis locais no corpo da função, não sobreescrevendo assim eventuais variáveis globais de mesmo nome. Veja a seguir exemplos de declaração de funções.\n",
        "\n",
        "\n",
        "\n",
        "```\n",
        "//Mostra os valores de um array \n",
        "function imprimeArray(a){\n",
        "    alert(\"Função imprimeArray foi chamada - mostrando valores do array\")\n",
        "    for (valor of a)\n",
        "       alert(valor)\n",
        "}\n",
        "var array=[5,2,3,1,12]\n",
        "var novoArray=[\"casa\",\"bola\",\"feijão\"]\n",
        "imprimeArray(array)\n",
        "imprimeArray(novoArray)\n",
        "```\n",
        "\n",
        "\n",
        "\n",
        "```\n",
        "// Calcula a distância entre dois pontos no espaço cartesiano (x1,y1) e (x2,y2).\n",
        "function distancia(x1, y1, x2, y2) {\n",
        "    var dx = x2 - x1\n",
        "    var dy = y2 - y1\n",
        "    return Math.sqrt(dx**2 + dy**2) //Math.sqrt é a função nativa do JavaScript para calcular a raiz quadrada.\n",
        "}\n",
        "alert(distancia(1,3,1,5))\n",
        "alert(distancia(2,2,4,4))\n",
        "```\n",
        "\n",
        "\n",
        "\n"
      ]
    }
  ]
}