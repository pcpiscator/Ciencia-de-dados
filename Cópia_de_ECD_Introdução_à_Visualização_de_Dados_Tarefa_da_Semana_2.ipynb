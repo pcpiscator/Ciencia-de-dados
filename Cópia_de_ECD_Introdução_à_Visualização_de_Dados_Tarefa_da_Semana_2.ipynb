{
  "nbformat": 4,
  "nbformat_minor": 0,
  "metadata": {
    "colab": {
      "name": "Cópia de ECD - Introdução à Visualização de Dados - Tarefa da Semana 2 ",
      "provenance": [],
      "include_colab_link": true
    },
    "kernelspec": {
      "name": "python3",
      "display_name": "Python 3"
    }
  },
  "cells": [
    {
      "cell_type": "markdown",
      "metadata": {
        "id": "view-in-github",
        "colab_type": "text"
      },
      "source": [
        "<a href=\"https://colab.research.google.com/github/pcpiscator/Ciencia-de-dados/blob/master/C%C3%B3pia_de_ECD_Introdu%C3%A7%C3%A3o_%C3%A0_Visualiza%C3%A7%C3%A3o_de_Dados_Tarefa_da_Semana_2.ipynb\" target=\"_parent\"><img src=\"https://colab.research.google.com/assets/colab-badge.svg\" alt=\"Open In Colab\"/></a>"
      ]
    },
    {
      "cell_type": "markdown",
      "metadata": {
        "id": "DmMj9v8p9s6P"
      },
      "source": [
        "# ECD - Introdução à Visualização de Dados - Semana 2\n",
        "## Exercícios \n",
        "### Biblioteca Pandas - Series, Dataframes, Importação, Seleção e Filtragem de Dados\n",
        "##### Prof. Dr. Alessandro de Lima Bicho"
      ]
    },
    {
      "cell_type": "markdown",
      "metadata": {
        "id": "YeHHhBBCoRWT"
      },
      "source": [
        "## Olá, pessoal!\n",
        "\n",
        "Um importante aspecto na gestão pública se refere ao montante orçamentário destinado à temática social. Frequentemente há indagações da eficácia dos programas de governo e dos valores aplicados nesta temática. Sabemos que um fator que dificulta a análise dos investimentos nesta área é a complexidade orçamentária do Governo Central, organizado em uma hierarquia que compõe o gasto público. \n",
        "\n",
        "No site http://dados.gov.br, portal brasileiro de dados abertos, o Ministério da Fazenda disponibilizou um dataset apresentando o dispêndio público organizado em uma série histórica de 2002 até 2015. Neste dataset há sete categorias: assistência social; educação e cultura; organização agrária; previdência social; saneamento básico e habitação; saúde; e trabalho e emprego. Este dataset contendo estas séries advém de mais de 190mil registros contábeis, permitindo uma análise em diversas dimensões e em diferentes métricas orçamentárias.\n",
        "\n",
        "Nos quatros exercícios a seguir, vamos fazer uma pequena análise deste dataset, adotando as funcionalidades estudadas na semana 2 do nosso curso. Para facilitar, eu já fiz a importação do dataset para a nossa lista de exercícios. Para que não houvesse problemas na importação, tive que fazer pequenos ajustes na base: alterar a codifição dos caracteres (\"ISO-8859-1\"), remover o ponto separador nas grandezas númericas, assim como a notação da vírgula na parte fracionada, e substituir os dados faltantes por zero.\n",
        "\n",
        "Bons estudos! \n",
        "\n",
        "Abraço, Alessandro.\n",
        "\n",
        "Fonte: https://dados.gov.br/dataset/gastos-sociais-do-governo-central-dados-anuais"
      ]
    },
    {
      "cell_type": "markdown",
      "metadata": {
        "id": "1b4DwPHAr1CH"
      },
      "source": [
        "Aqui nós importamos o dataset, que está disponível no meu Google Drive. Caso queiram, podem fazer o download do dataset através do link informado na função `read_csv()` (para análise no Microsoft Excel, por exemplo). "
      ]
    },
    {
      "cell_type": "code",
      "metadata": {
        "deletable": true,
        "editable": true,
        "id": "iB5cuO03QLY7"
      },
      "source": [
        "# Parte inicial do nosso código para importar e carregar as bibliotecas (pandas, numpy, matplotlib)\n",
        "# Este código também configura parâmetros para plotar nossos gráficos\n",
        "import numpy as np\n",
        "import pandas as pd\n",
        "PREVIOUS_MAX_ROWS = pd.options.display.max_rows\n",
        "pd.options.display.max_rows = 20\n",
        "np.random.seed(12345)\n",
        "import seaborn as sns\n",
        "import matplotlib.pyplot as plt\n",
        "plt.rc('figure', figsize=(10, 6))\n",
        "np.set_printoptions(precision=4, suppress=True)"
      ],
      "execution_count": 80,
      "outputs": []
    },
    {
      "cell_type": "code",
      "metadata": {
        "id": "AAYX0I8Nf041",
        "outputId": "5e672f25-2308-45a3-ae6f-9afb0fa3ce8a",
        "colab": {
          "base_uri": "https://localhost:8080/",
          "height": 0
        }
      },
      "source": [
        "#importar a biblioteca pandas\n",
        "import pandas as pd\n",
        "\n",
        "df = pd.read_csv(\"https://drive.google.com/uc?export=view&id=1ZMLJsjQHn9SieCk_FUdbM89Uszd0pCLv\", error_bad_lines=False, encoding = \"ISO-8859-1\", sep = \";\")\n",
        "print (df)"
      ],
      "execution_count": 120,
      "outputs": [
        {
          "output_type": "stream",
          "text": [
            "                                  Benefício Tributário  ...        2015\n",
            "0                                    Rede Arrecadadora  ...   123426532\n",
            "1                                                RETID  ...    65095650\n",
            "2        Doações a Entidades Civis Sem Fins Lucrativos  ...   262425987\n",
            "3    Entidades Sem Fins Lucrativos - Associação Civil   ...  2889831614\n",
            "4         Entidades Sem Fins Lucrativos - Filantrópica  ...  1351980677\n",
            "..                                                 ...  ...         ...\n",
            "212  Tecnologia da Informação e Comunicação - TI e TIC  ...           0\n",
            "213                Microempreendedor Individual - MEI   ...           0\n",
            "214  Indústrias Moveleiras, de Confecções e Artefat...  ...           0\n",
            "215                        Indústrias de Transformação  ...           0\n",
            "216                                    Setor Hoteleiro  ...           0\n",
            "\n",
            "[217 rows x 17 columns]\n"
          ],
          "name": "stdout"
        }
      ]
    },
    {
      "cell_type": "code",
      "metadata": {
        "id": "I9shxSNEQ_RE",
        "outputId": "26d7cd94-a1c6-429d-b3ad-2eb7a48a1399",
        "colab": {
          "base_uri": "https://localhost:8080/",
          "height": 0
        }
      },
      "source": [
        "df.columns.values"
      ],
      "execution_count": 121,
      "outputs": [
        {
          "output_type": "execute_result",
          "data": {
            "text/plain": [
              "array(['Benefício Tributário', 'Função Orçamentária', 'Gasto Social',\n",
              "       '2002', '2003', '2004', '2005', '2006', '2007', '2008', '2009',\n",
              "       '2010', '2011', '2012', '2013', '2014', '2015'], dtype=object)"
            ]
          },
          "metadata": {
            "tags": []
          },
          "execution_count": 121
        }
      ]
    },
    {
      "cell_type": "markdown",
      "metadata": {
        "id": "BTFOwPWVsDjy"
      },
      "source": [
        "1) Apresente uma tabela contendo os dispêndios em \"2015\" e os \"Benefícios Tributários\" contemplados. Considerar todos os benefícios tributários, mesmo aqueles que não tiveram gastos em 2015."
      ]
    },
    {
      "cell_type": "code",
      "metadata": {
        "id": "ogCsuAZ0mF9L",
        "outputId": "47442782-f309-41ff-f389-19eb2692102d",
        "colab": {
          "base_uri": "https://localhost:8080/",
          "height": 0
        }
      },
      "source": [
        "# Responda aqui a questão 1\n",
        "df[\"Benefício Tributário\"].values"
      ],
      "execution_count": 122,
      "outputs": [
        {
          "output_type": "execute_result",
          "data": {
            "text/plain": [
              "array(['Rede Arrecadadora', 'RETID',\n",
              "       'Doações a Entidades Civis Sem Fins Lucrativos',\n",
              "       'Entidades Sem Fins Lucrativos - Associação Civil ',\n",
              "       'Entidades Sem Fins Lucrativos - Filantrópica',\n",
              "       'Entidades Filantrópicas', 'Deficiente Físico',\n",
              "       'Automóveis - Pessoas Portadoras de Deficiência',\n",
              "       'Cadeira de Rodas e Aparelhos Assistivos',\n",
              "       'Seguro de Vida e Congêneres',\n",
              "       'Aposentadoria de Declarante com 65 Anos ou Mais',\n",
              "       'Doações de Bens para Entidades Filantrópicas', 'Dona de Casa',\n",
              "       'Despesas Médicas',\n",
              "       'Assistência Médica, Odontológica e Farmacêutica a Empregados',\n",
              "       'Produtos Químicos e Farmacêuticos',\n",
              "       'Entidades Sem Fins Lucrativos - Assistência Social e Saúde',\n",
              "       'Pronon - Programa Nacional de Apoio à Atenção Oncológica ',\n",
              "       'Pronas/PCD - Programa Nacional de Apoio à Atenção da Saúde da Pessoa com Deficiência',\n",
              "       'Medicamentos', 'Água Mineral',\n",
              "       'Programa de Alimentação do Trabalhador',\n",
              "       'Benefícios Previdênciários e FAPI ',\n",
              "       'PAIT - Planos de Poupança e Investimento',\n",
              "       'Previdência Privada Fechada',\n",
              "       'Aposentadoria por Moléstia Grave ou Acidente',\n",
              "       'Seguro ou Pecúlio Pago por Morte ou Invalidez',\n",
              "       'Extensão da Licença Maternidade',\n",
              "       'Incentivo à Formalização do Emprego Doméstico',\n",
              "       'Indenizações por Rescisão de Contrato de Trabalho',\n",
              "       'MEI - Microempreendedor Individual',\n",
              "       'Desoneração da Folha de Salários', 'Vale-Transporte',\n",
              "       'Despesas com Instrução do IRPF', 'Despesas com Educação',\n",
              "       'Entidades Sem Fins Lucrativos - Educação ',\n",
              "       'Livros Técnicos e Científicos', 'Livros',\n",
              "       'Livros, Jornais e Periódicos', 'Transporte Escolar',\n",
              "       'PROUCA - RECOMPE', 'PROUCA - REICOMP', 'PROUNI',\n",
              "       'Doações a instituições de Ensino e Pesquisa',\n",
              "       'Creches e Pré-Escolas',\n",
              "       'Programa Nacional de Apoio à Cultura - PRONAC',\n",
              "       'Evento Esportivo, Cultural e Científico', 'Atividade Audiovisual',\n",
              "       'Indústria Cinematográfica e Radiodifusão - Importações', 'RECINE',\n",
              "       'Programa Cinema Perto de Você',\n",
              "       'Entidades Sem Fins Lucrativos - Cultural', 'Vale-Cultura',\n",
              "       'Objetos de Arte',\n",
              "       'Fundos de Direitos da Criança e do Adolescente',\n",
              "       'Fundos do Idoso', 'Horário Eleitoral Gratuito',\n",
              "       'Finaciamentos Habitacionais',\n",
              "       'Associações de Poupança e Empréstimo',\n",
              "       'Cumulatividade PIS Cofins Construção Civil',\n",
              "       'Minha Casa, Minha Vida', 'Poupança',\n",
              "       'REID \\x96 Regime Especial de Incentivos para o Desenvolvimento de Infra-Estrutura',\n",
              "       'Resíduos Sólidos', 'Máquinas e Equipamentos - CNPq',\n",
              "       'TI e TIC - Tecnologia de Informação e Tecnologia da Informação e da Comunicação',\n",
              "       'Programa de Desenvolvimento Tecnológico Industrial (PDTI) e Programa de Desenvolvimento Tecnológico Agraopecuário (PDTA)',\n",
              "       'Programa de Inclusão Digital',\n",
              "       'Entidades Sem Fins Lucrativos - Científica',\n",
              "       'Evento Esportivo, Cultural e Científico', 'Inovação Tecnológica',\n",
              "       'PADIS \\x96 Programa de Apoio ao Desenvolvimento Tecnológico da Indústria de Semicondutores',\n",
              "       'PATVD \\x96 Programa de Apoio ao Desenvolvimento Tecnológico da Indústria de Equipamentos para a TV digital',\n",
              "       'Bens para pesquisa científica e tecnológica - AFRMM',\n",
              "       'Despesas com Pesquisas Científicas e Tecnológicas',\n",
              "       'Informática e Automação', 'Pesquisas Científicas', 'SUDAM',\n",
              "       'SUDENE', 'Zona Franca de Manaus e Amazônia Ocidental ',\n",
              "       'Amazônia Ocidental', 'Zona Franca de Manaus',\n",
              "       'Zona Franca de Manaus  - Importação de Matéria-Prima',\n",
              "       'Zona Franca de Manaus - Importação de Bens de Capital',\n",
              "       'Zona Franca de Manaus - Matéria-Prima Produzida na ZFM ',\n",
              "       'Zona Franca de Manaus e Área de Livre Comércio - Alíquotas Diferenciadas',\n",
              "       'Zona Franca de Manaus e Área de Livre Comércio - Aquisição de Mercadorias',\n",
              "       'ADA', 'ADENE', 'SUDAM', 'SUDENE', 'SUDAM/SUDENE - Isenção AFRMM',\n",
              "       'FINOR', 'FINAM', 'FUNRES', 'Seguro Rural',\n",
              "       'Agricultura e Agroindústria ',\n",
              "       'Agricultura e Agroindústria - Desoneração Cesta Básica',\n",
              "       'Desenvolvimento Regional - AFRMM', 'Fundos Constitucionais',\n",
              "       'Mercadorias Norte e Nordeste', 'REID', 'REIF',\n",
              "       'Exportação da Produção Rural', 'ITR',\n",
              "       'Zona Franca de Manaus e Amazônia Ocidental', 'Amazônia Ocidental',\n",
              "       'Zona Franca de Manaus',\n",
              "       'Zona Franca de Manaus  - Importação de Matéria-Prima',\n",
              "       'Zona Franca de Manaus - Importação de Bens de Capital',\n",
              "       'Zona Franca de Manaus - Matéria-Prima Produzida na ZFM ',\n",
              "       'Zona Franca de Manaus e Área de Livre Comércio - Alíquotas Diferenciadas',\n",
              "       'Zona Franca de Manaus e Área de Livre Comércio - Aquisição de Mercadorias',\n",
              "       'Máquinas e Equipamentos - Papel Jornal',\n",
              "       'Componentes de Aeronaves e Embarcações', 'Setor Automotivo',\n",
              "       'Inovar-Auto', 'ADA', 'ADENE', 'SUDAM', 'SUDENE',\n",
              "       'SUDAM/SUDENE - Isenção AFRMM', 'Mercadorias Norte e Nordeste',\n",
              "       'FINOR', 'FINAM', 'FUNRES', 'Fundos Constitucionais',\n",
              "       'Microempresas e Empresas de Pequeno Porte', 'Simples Nacional',\n",
              "       'Bens Novos Destinados ao Ativo Imobilizado de PJ Importadora Estabelecida na Zona Franca de Manaus',\n",
              "       'Importação de matérias-primas, produtos intermediários e materiais de embalagem - Zona Franca de Manaus',\n",
              "       'Matérias-primas, produtos intermediários e materiais de embalagem, produzidos na Zona Franca de Manaus',\n",
              "       'Alíquotas Diferenciadas - ZFM e ALC', 'Petroquímica',\n",
              "       'Desenvolvimento Regional - AFRMM', 'Informática',\n",
              "       'Papel Destinado à Impressão', 'Termoeletricidade',\n",
              "       'Zona Franca de Manaus e Amazônia Ocidental ',\n",
              "       'Amazônia Ocidental', 'Zona Franca de Manaus',\n",
              "       'Zona Franca de Manaus - Importação de Matéria-Prima',\n",
              "       'Zona Franca de Manaus - Importação de Bens de Capital',\n",
              "       'Zona Franca de Manaus - Matéria-Prima Produzida na ZFM ',\n",
              "       'Zona Franca de Manaus e Área de Livre Comércio - Alíquotas Diferenciadas',\n",
              "       'Zona Franca de Manaus e Área de Livre Comércio - Aquisição de Mercadorias',\n",
              "       'Mercadorias Norte e Nordeste', 'Áreas de Livre Comércio',\n",
              "       'Lojas Francas', 'Material Promocional',\n",
              "       'Empreedimentos Turísticos',\n",
              "       'Bens Novos Destinados ao Ativo Imobilizado de PJ Importadora Estabelecida na Zona Franca de Manaus',\n",
              "       'Mercadorias - Zona Franca de Manaus e Área de Livre Comércio',\n",
              "       'Importação de matérias-primas, produtos intermediários e materiais de embalagem - Zona Franca de Manaus',\n",
              "       'Matérias-primas, produtos intermediários e materiais de embalagem, produzidos na Zona Franca de Manaus',\n",
              "       'Alíquotas Diferenciadas - ZFM e ALC',\n",
              "       'Promoção de Produtos e Serviços Brasileiros',\n",
              "       'Microempresas e Empresas de Pequeno Porte', 'Simples Nacional',\n",
              "       'Fundos Constitucionais',\n",
              "       'Máquinas e Equipamentos Destinados à Impressão de Jornais e Periódicos',\n",
              "       'Papel - Jornais e Periódicos', 'REPNBL-Redes',\n",
              "       'REID \\x96 Regime Especial de Incentivos para o Desenvolvimento de Infra-Estrutura',\n",
              "       'REPENEC',\n",
              "       'Fundo de Investimento em Participações em Infra-Estrutura',\n",
              "       'Investimentos em Infra-Estrutura', 'GNL - Gás Natural Liquefeito',\n",
              "       'Biodiesel', 'RENUCLEAR', 'Termoeletricidade', 'REIF', 'Álcool',\n",
              "       'Extensão do RECAP aos Estaleiros',\n",
              "       'REID \\x96 Regime Especial de Incentivos para o Desenvolvimento de Infra-Estrutura',\n",
              "       'Fundo de Investimento em Participações em Infra-Estrutura',\n",
              "       'Investimentos em Infra-Estrutura', 'RETAERO',\n",
              "       'Embarcações e Aeronaves', 'Leasing de Aeronaves', 'REPORTO',\n",
              "       'Trem de Alta Velocidade', 'Motocicletas', 'TAXI', 'AFRMM',\n",
              "       'Transporte Coletivo', 'Incentivo ao Desporto',\n",
              "       'Equipamentos Desportivos',\n",
              "       'Evento Esportivo, Cultural e Científico', 'RECOPA',\n",
              "       'Copa do Mundo', 'RECOM',\n",
              "       'Entidades Sem Fins Lucrativos - Recreativa', 'Olimpíada',\n",
              "       'Bagagem', 'Rendimentos Isentos e Não Tributáveis do IRPF',\n",
              "       'Dependentes do IRPF',\n",
              "       'Operações de Crédito - Fundos Constitucionais',\n",
              "       'Zona Franca de Manaus e Amazônia Ocidental ',\n",
              "       'Áreas de Livre Comércio',\n",
              "       'Máquinas e Equipamentos para Televisão e Radiodifusão', 'SUDENE',\n",
              "       'SUDAM', 'Agência de Desenvolvimento do Nordeste - ADENE',\n",
              "       'Agência de Desenvolvimento da Amazônia - ADA', 'FINOR', 'FINAM',\n",
              "       'FUNRES', 'Microempresas e Empresas de Pequeno Porte',\n",
              "       'Simples Nacional', 'Entidades Filantrópicas',\n",
              "       'Exportação da Produção Rural',\n",
              "       'Tecnologia da Informação e Comunicação - TI e TIC',\n",
              "       'Microempreendedor Individual - MEI ',\n",
              "       'Indústrias Moveleiras, de Confecções e Artefatos de Couro',\n",
              "       'Indústrias de Transformação', 'Setor Hoteleiro'], dtype=object)"
            ]
          },
          "metadata": {
            "tags": []
          },
          "execution_count": 122
        }
      ]
    },
    {
      "cell_type": "code",
      "metadata": {
        "id": "QLAdCF4jVed8",
        "outputId": "6b98fe1b-efe9-4968-9639-07e3b11b683c",
        "colab": {
          "base_uri": "https://localhost:8080/",
          "height": 0
        }
      },
      "source": [
        "df[\"2015\"].value_counts"
      ],
      "execution_count": 123,
      "outputs": [
        {
          "output_type": "execute_result",
          "data": {
            "text/plain": [
              "<bound method IndexOpsMixin.value_counts of 0       123426532\n",
              "1        65095650\n",
              "2       262425987\n",
              "3      2889831614\n",
              "4      1351980677\n",
              "          ...    \n",
              "212             0\n",
              "213             0\n",
              "214             0\n",
              "215             0\n",
              "216             0\n",
              "Name: 2015, Length: 217, dtype: int64>"
            ]
          },
          "metadata": {
            "tags": []
          },
          "execution_count": 123
        }
      ]
    },
    {
      "cell_type": "code",
      "metadata": {
        "id": "tPL0GMnJbMjG"
      },
      "source": [
        ""
      ],
      "execution_count": null,
      "outputs": []
    },
    {
      "cell_type": "markdown",
      "metadata": {
        "id": "y3ahl2Mjw5Yj"
      },
      "source": [
        "2) Encontrar o valor total gasto em 2015."
      ]
    },
    {
      "cell_type": "code",
      "metadata": {
        "id": "O6BqqCLxnDpG",
        "outputId": "f26fdcba-8d30-4164-da75-ccb9697c8700",
        "colab": {
          "base_uri": "https://localhost:8080/",
          "height": 0
        }
      },
      "source": [
        "# Responda aqui a questão 2\n",
        "df[\"2015\"].sum()"
      ],
      "execution_count": 124,
      "outputs": [
        {
          "output_type": "execute_result",
          "data": {
            "text/plain": [
              "282437237610"
            ]
          },
          "metadata": {
            "tags": []
          },
          "execution_count": 124
        }
      ]
    },
    {
      "cell_type": "code",
      "metadata": {
        "id": "wK89AlqguX7g",
        "outputId": "6b819963-24d0-439e-b6ff-ff6422b277d5",
        "colab": {
          "base_uri": "https://localhost:8080/",
          "height": 148
        }
      },
      "source": [
        "#importar a biblioteca pandas\n",
        "import pandas as pd\n",
        "\n",
        "dados = pd.read_csv(\"https://raw.githubusercontent.com/pcpiscator/Ciencia-de-dados/master/gasto_saude.csv\", error_bad_lines=False, encoding = \"UTF-8\", sep = \";\")\n",
        "dados"
      ],
      "execution_count": 125,
      "outputs": [
        {
          "output_type": "execute_result",
          "data": {
            "text/html": [
              "<div>\n",
              "<style scoped>\n",
              "    .dataframe tbody tr th:only-of-type {\n",
              "        vertical-align: middle;\n",
              "    }\n",
              "\n",
              "    .dataframe tbody tr th {\n",
              "        vertical-align: top;\n",
              "    }\n",
              "\n",
              "    .dataframe thead th {\n",
              "        text-align: right;\n",
              "    }\n",
              "</style>\n",
              "<table border=\"1\" class=\"dataframe\">\n",
              "  <thead>\n",
              "    <tr style=\"text-align: right;\">\n",
              "      <th></th>\n",
              "      <th>Despesas Médicas</th>\n",
              "      <th>Assistência Médica, Odontológica e Farmacêutica a Empregados</th>\n",
              "      <th>Produtos Químicos e Farmacêuticos</th>\n",
              "      <th>Entidades Sem Fins Lucrativos - Assistência Social e Saúde</th>\n",
              "      <th>Pronon - Programa Nacional de Apoio à Atenção Oncológica</th>\n",
              "      <th>Pronas/PCD - Programa Nacional de Apoio à Atenção da Saúde da Pessoa com Deficiência</th>\n",
              "      <th>Medicamentos</th>\n",
              "      <th>Unnamed: 7</th>\n",
              "    </tr>\n",
              "  </thead>\n",
              "  <tbody>\n",
              "    <tr>\n",
              "      <th>0</th>\n",
              "      <td>11.859.391.307,00</td>\n",
              "      <td>4.280.014.761,00</td>\n",
              "      <td>993.406.134,00</td>\n",
              "      <td>3.448.218.817,00</td>\n",
              "      <td>174.848.132,00</td>\n",
              "      <td>173.567.503,00</td>\n",
              "      <td>4.105.800.301,00</td>\n",
              "      <td>25.035.246.955,00</td>\n",
              "    </tr>\n",
              "  </tbody>\n",
              "</table>\n",
              "</div>"
            ],
            "text/plain": [
              "    Despesas Médicas  ...         Unnamed: 7\n",
              "0  11.859.391.307,00  ...  25.035.246.955,00\n",
              "\n",
              "[1 rows x 8 columns]"
            ]
          },
          "metadata": {
            "tags": []
          },
          "execution_count": 125
        }
      ]
    },
    {
      "cell_type": "code",
      "metadata": {
        "id": "C7TzT4YZf4yl",
        "outputId": "c6b3d0a3-f16a-41f9-9b7e-7018ef98a361",
        "colab": {
          "base_uri": "https://localhost:8080/",
          "height": 0
        }
      },
      "source": [
        "\n",
        "dados[\"Unnamed: 7\"]"
      ],
      "execution_count": 126,
      "outputs": [
        {
          "output_type": "execute_result",
          "data": {
            "text/plain": [
              "0    25.035.246.955,00\n",
              "Name: Unnamed: 7, dtype: object"
            ]
          },
          "metadata": {
            "tags": []
          },
          "execution_count": 126
        }
      ]
    },
    {
      "cell_type": "markdown",
      "metadata": {
        "id": "QKhGbPupxBMm"
      },
      "source": [
        "3) Apresentar uma tabela contendo todas a informações referentes apenas ao \"Gasto Social\" para a \"Saúde\". "
      ]
    },
    {
      "cell_type": "code",
      "metadata": {
        "id": "ZPruJxOwnoXX",
        "outputId": "7ca19f4d-481e-4ec3-fde3-529b05b49ae0",
        "colab": {
          "base_uri": "https://localhost:8080/",
          "height": 0
        }
      },
      "source": [
        "# Responda aqui a questão 3\n",
        "#Apresentar uma tabela contendo todas a informações referentes apenas ao \"Gasto Social\" para a \"Saúde\".\n",
        "dados.columns.values\n"
      ],
      "execution_count": 127,
      "outputs": [
        {
          "output_type": "execute_result",
          "data": {
            "text/plain": [
              "array(['Despesas Médicas',\n",
              "       'Assistência Médica, Odontológica e Farmacêutica a Empregados',\n",
              "       'Produtos Químicos e Farmacêuticos',\n",
              "       'Entidades Sem Fins Lucrativos - Assistência Social e Saúde',\n",
              "       'Pronon - Programa Nacional de Apoio à Atenção Oncológica ',\n",
              "       'Pronas/PCD - Programa Nacional de Apoio à Atenção da Saúde da Pessoa com Deficiência',\n",
              "       'Medicamentos', 'Unnamed: 7'], dtype=object)"
            ]
          },
          "metadata": {
            "tags": []
          },
          "execution_count": 127
        }
      ]
    },
    {
      "cell_type": "code",
      "metadata": {
        "id": "QqCEZKdKxGop",
        "outputId": "9273fd98-0dbd-467f-c2ec-015b2f824bb2",
        "colab": {
          "base_uri": "https://localhost:8080/",
          "height": 0
        }
      },
      "source": [
        "#Total dos gastos com saúde.\n",
        "#Na planilha que eu separei, o total saiu como Unnamed: 7\n",
        "dados[\"Unnamed: 7\"]"
      ],
      "execution_count": 128,
      "outputs": [
        {
          "output_type": "execute_result",
          "data": {
            "text/plain": [
              "0    25.035.246.955,00\n",
              "Name: Unnamed: 7, dtype: object"
            ]
          },
          "metadata": {
            "tags": []
          },
          "execution_count": 128
        }
      ]
    },
    {
      "cell_type": "markdown",
      "metadata": {
        "id": "mERMSzTcxYJL"
      },
      "source": [
        "4) Encontrar o gasto médio por ano de cada grupo contido em \"Função Orçamentária\"."
      ]
    },
    {
      "cell_type": "code",
      "metadata": {
        "id": "ShBCDQ-zrcpM",
        "outputId": "ab657cb0-7ebe-46bf-e627-dd51f3962778",
        "colab": {
          "base_uri": "https://localhost:8080/",
          "height": 555
        }
      },
      "source": [
        "# Responda aqui a questão 4\n",
        "#Encontrar o gasto médio por ano de cada grupo contido em \"Função Orçamentária\".\n",
        "df_GM = df.groupby('Função Orçamentária').mean()\n",
        "df_GM\n",
        "\n"
      ],
      "execution_count": 129,
      "outputs": [
        {
          "output_type": "execute_result",
          "data": {
            "text/html": [
              "<div>\n",
              "<style scoped>\n",
              "    .dataframe tbody tr th:only-of-type {\n",
              "        vertical-align: middle;\n",
              "    }\n",
              "\n",
              "    .dataframe tbody tr th {\n",
              "        vertical-align: top;\n",
              "    }\n",
              "\n",
              "    .dataframe thead th {\n",
              "        text-align: right;\n",
              "    }\n",
              "</style>\n",
              "<table border=\"1\" class=\"dataframe\">\n",
              "  <thead>\n",
              "    <tr style=\"text-align: right;\">\n",
              "      <th></th>\n",
              "      <th>2002</th>\n",
              "      <th>2003</th>\n",
              "      <th>2004</th>\n",
              "      <th>2005</th>\n",
              "      <th>2006</th>\n",
              "      <th>2007</th>\n",
              "      <th>2008</th>\n",
              "      <th>2009</th>\n",
              "      <th>2010</th>\n",
              "      <th>2011</th>\n",
              "      <th>2012</th>\n",
              "      <th>2013</th>\n",
              "      <th>2014</th>\n",
              "      <th>2015</th>\n",
              "    </tr>\n",
              "    <tr>\n",
              "      <th>Função Orçamentária</th>\n",
              "      <th></th>\n",
              "      <th></th>\n",
              "      <th></th>\n",
              "      <th></th>\n",
              "      <th></th>\n",
              "      <th></th>\n",
              "      <th></th>\n",
              "      <th></th>\n",
              "      <th></th>\n",
              "      <th></th>\n",
              "      <th></th>\n",
              "      <th></th>\n",
              "      <th></th>\n",
              "      <th></th>\n",
              "    </tr>\n",
              "  </thead>\n",
              "  <tbody>\n",
              "    <tr>\n",
              "      <th>Administração</th>\n",
              "      <td>0.000000e+00</td>\n",
              "      <td>0.000000e+00</td>\n",
              "      <td>0.000000e+00</td>\n",
              "      <td>0.000000e+00</td>\n",
              "      <td>0.000000e+00</td>\n",
              "      <td>0.000000e+00</td>\n",
              "      <td>0.000000e+00</td>\n",
              "      <td>0.000000e+00</td>\n",
              "      <td>0.000000e+00</td>\n",
              "      <td>0.000000e+00</td>\n",
              "      <td>0.000000e+00</td>\n",
              "      <td>0.000000e+00</td>\n",
              "      <td>2.900000e+08</td>\n",
              "      <td>1.234265e+08</td>\n",
              "    </tr>\n",
              "    <tr>\n",
              "      <th>Agricultura</th>\n",
              "      <td>0.000000e+00</td>\n",
              "      <td>2.738140e+07</td>\n",
              "      <td>2.086722e+07</td>\n",
              "      <td>2.842715e+07</td>\n",
              "      <td>2.179625e+08</td>\n",
              "      <td>2.518456e+08</td>\n",
              "      <td>2.758962e+08</td>\n",
              "      <td>3.366046e+08</td>\n",
              "      <td>3.537105e+08</td>\n",
              "      <td>3.836020e+08</td>\n",
              "      <td>4.888930e+08</td>\n",
              "      <td>5.234914e+08</td>\n",
              "      <td>1.448053e+09</td>\n",
              "      <td>1.118511e+09</td>\n",
              "    </tr>\n",
              "    <tr>\n",
              "      <th>Assistência Social</th>\n",
              "      <td>3.393729e+06</td>\n",
              "      <td>6.863110e+06</td>\n",
              "      <td>9.142088e+07</td>\n",
              "      <td>1.796238e+08</td>\n",
              "      <td>2.347327e+08</td>\n",
              "      <td>3.413523e+08</td>\n",
              "      <td>3.457188e+08</td>\n",
              "      <td>3.650200e+08</td>\n",
              "      <td>4.346519e+08</td>\n",
              "      <td>5.094984e+08</td>\n",
              "      <td>6.210867e+08</td>\n",
              "      <td>7.231068e+08</td>\n",
              "      <td>1.700065e+09</td>\n",
              "      <td>1.932596e+09</td>\n",
              "    </tr>\n",
              "    <tr>\n",
              "      <th>Benefícios Não Classificados</th>\n",
              "      <td>8.321352e+08</td>\n",
              "      <td>5.379659e+08</td>\n",
              "      <td>0.000000e+00</td>\n",
              "      <td>0.000000e+00</td>\n",
              "      <td>0.000000e+00</td>\n",
              "      <td>0.000000e+00</td>\n",
              "      <td>0.000000e+00</td>\n",
              "      <td>0.000000e+00</td>\n",
              "      <td>0.000000e+00</td>\n",
              "      <td>0.000000e+00</td>\n",
              "      <td>0.000000e+00</td>\n",
              "      <td>0.000000e+00</td>\n",
              "      <td>0.000000e+00</td>\n",
              "      <td>0.000000e+00</td>\n",
              "    </tr>\n",
              "    <tr>\n",
              "      <th>Ciência e Tecnologia</th>\n",
              "      <td>1.419997e+07</td>\n",
              "      <td>1.735067e+07</td>\n",
              "      <td>3.678383e+07</td>\n",
              "      <td>4.189915e+07</td>\n",
              "      <td>5.597995e+07</td>\n",
              "      <td>1.215559e+08</td>\n",
              "      <td>1.337903e+08</td>\n",
              "      <td>1.935129e+08</td>\n",
              "      <td>1.978851e+08</td>\n",
              "      <td>3.453310e+08</td>\n",
              "      <td>3.506873e+08</td>\n",
              "      <td>4.123697e+08</td>\n",
              "      <td>8.917840e+08</td>\n",
              "      <td>1.186481e+09</td>\n",
              "    </tr>\n",
              "    <tr>\n",
              "      <th>...</th>\n",
              "      <td>...</td>\n",
              "      <td>...</td>\n",
              "      <td>...</td>\n",
              "      <td>...</td>\n",
              "      <td>...</td>\n",
              "      <td>...</td>\n",
              "      <td>...</td>\n",
              "      <td>...</td>\n",
              "      <td>...</td>\n",
              "      <td>...</td>\n",
              "      <td>...</td>\n",
              "      <td>...</td>\n",
              "      <td>...</td>\n",
              "      <td>...</td>\n",
              "    </tr>\n",
              "    <tr>\n",
              "      <th>Renúncias Previdenciárias</th>\n",
              "      <td>0.000000e+00</td>\n",
              "      <td>0.000000e+00</td>\n",
              "      <td>0.000000e+00</td>\n",
              "      <td>0.000000e+00</td>\n",
              "      <td>0.000000e+00</td>\n",
              "      <td>0.000000e+00</td>\n",
              "      <td>0.000000e+00</td>\n",
              "      <td>2.238186e+09</td>\n",
              "      <td>2.272978e+09</td>\n",
              "      <td>2.644528e+09</td>\n",
              "      <td>3.051540e+09</td>\n",
              "      <td>4.217835e+09</td>\n",
              "      <td>0.000000e+00</td>\n",
              "      <td>0.000000e+00</td>\n",
              "    </tr>\n",
              "    <tr>\n",
              "      <th>Saneamento</th>\n",
              "      <td>0.000000e+00</td>\n",
              "      <td>0.000000e+00</td>\n",
              "      <td>0.000000e+00</td>\n",
              "      <td>0.000000e+00</td>\n",
              "      <td>0.000000e+00</td>\n",
              "      <td>0.000000e+00</td>\n",
              "      <td>2.159012e+08</td>\n",
              "      <td>2.387392e+08</td>\n",
              "      <td>2.608286e+08</td>\n",
              "      <td>8.944224e+06</td>\n",
              "      <td>0.000000e+00</td>\n",
              "      <td>0.000000e+00</td>\n",
              "      <td>0.000000e+00</td>\n",
              "      <td>0.000000e+00</td>\n",
              "    </tr>\n",
              "    <tr>\n",
              "      <th>Saúde</th>\n",
              "      <td>2.923646e+08</td>\n",
              "      <td>2.641829e+08</td>\n",
              "      <td>5.768312e+08</td>\n",
              "      <td>6.264884e+08</td>\n",
              "      <td>7.400527e+08</td>\n",
              "      <td>9.674879e+08</td>\n",
              "      <td>1.112954e+09</td>\n",
              "      <td>1.569950e+09</td>\n",
              "      <td>1.541554e+09</td>\n",
              "      <td>1.687594e+09</td>\n",
              "      <td>2.481451e+09</td>\n",
              "      <td>2.614581e+09</td>\n",
              "      <td>2.965250e+09</td>\n",
              "      <td>3.138198e+09</td>\n",
              "    </tr>\n",
              "    <tr>\n",
              "      <th>Trabalho</th>\n",
              "      <td>1.132407e+07</td>\n",
              "      <td>1.323446e+07</td>\n",
              "      <td>1.613668e+08</td>\n",
              "      <td>2.655899e+08</td>\n",
              "      <td>3.035318e+08</td>\n",
              "      <td>2.389887e+08</td>\n",
              "      <td>7.562094e+08</td>\n",
              "      <td>7.980438e+08</td>\n",
              "      <td>9.791236e+08</td>\n",
              "      <td>1.103440e+09</td>\n",
              "      <td>1.392937e+09</td>\n",
              "      <td>1.501375e+09</td>\n",
              "      <td>3.700133e+09</td>\n",
              "      <td>3.751277e+09</td>\n",
              "    </tr>\n",
              "    <tr>\n",
              "      <th>Transporte</th>\n",
              "      <td>2.126761e+07</td>\n",
              "      <td>1.198513e+07</td>\n",
              "      <td>2.227164e+07</td>\n",
              "      <td>2.009948e+07</td>\n",
              "      <td>3.447151e+06</td>\n",
              "      <td>4.716513e+06</td>\n",
              "      <td>9.426942e+07</td>\n",
              "      <td>1.755708e+08</td>\n",
              "      <td>2.529505e+08</td>\n",
              "      <td>1.781045e+08</td>\n",
              "      <td>1.507522e+08</td>\n",
              "      <td>1.842469e+08</td>\n",
              "      <td>2.966504e+08</td>\n",
              "      <td>3.431226e+08</td>\n",
              "    </tr>\n",
              "  </tbody>\n",
              "</table>\n",
              "<p>22 rows × 14 columns</p>\n",
              "</div>"
            ],
            "text/plain": [
              "                                        2002  ...          2015\n",
              "Função Orçamentária                           ...              \n",
              " Administração                  0.000000e+00  ...  1.234265e+08\n",
              " Agricultura                    0.000000e+00  ...  1.118511e+09\n",
              " Assistência Social             3.393729e+06  ...  1.932596e+09\n",
              " Benefícios Não Classificados   8.321352e+08  ...  0.000000e+00\n",
              " Ciência e Tecnologia           1.419997e+07  ...  1.186481e+09\n",
              "...                                      ...  ...           ...\n",
              " Renúncias Previdenciárias      0.000000e+00  ...  0.000000e+00\n",
              " Saneamento                     0.000000e+00  ...  0.000000e+00\n",
              " Saúde                          2.923646e+08  ...  3.138198e+09\n",
              " Trabalho                       1.132407e+07  ...  3.751277e+09\n",
              " Transporte                     2.126761e+07  ...  3.431226e+08\n",
              "\n",
              "[22 rows x 14 columns]"
            ]
          },
          "metadata": {
            "tags": []
          },
          "execution_count": 129
        }
      ]
    }
  ]
}