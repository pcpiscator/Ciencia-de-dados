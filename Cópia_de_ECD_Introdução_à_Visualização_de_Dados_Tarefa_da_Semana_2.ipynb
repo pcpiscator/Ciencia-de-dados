{
  "nbformat": 4,
  "nbformat_minor": 0,
  "metadata": {
    "colab": {
      "name": "Cópia de ECD - Introdução à Visualização de Dados - Tarefa da Semana 2 ",
      "provenance": [],
      "include_colab_link": true
    },
    "kernelspec": {
      "name": "python3",
      "display_name": "Python 3"
    }
  },
  "cells": [
    {
      "cell_type": "markdown",
      "metadata": {
        "id": "view-in-github",
        "colab_type": "text"
      },
      "source": [
        "<a href=\"https://colab.research.google.com/github/pcpiscator/Ciencia-de-dados/blob/master/C%C3%B3pia_de_ECD_Introdu%C3%A7%C3%A3o_%C3%A0_Visualiza%C3%A7%C3%A3o_de_Dados_Tarefa_da_Semana_2.ipynb\" target=\"_parent\"><img src=\"https://colab.research.google.com/assets/colab-badge.svg\" alt=\"Open In Colab\"/></a>"
      ]
    },
    {
      "cell_type": "markdown",
      "metadata": {
        "id": "DmMj9v8p9s6P"
      },
      "source": [
        "# ECD - Introdução à Visualização de Dados - Semana 2\n",
        "## Exercícios \n",
        "### Biblioteca Pandas - Series, Dataframes, Importação, Seleção e Filtragem de Dados\n",
        "##### Prof. Dr. Alessandro de Lima Bicho"
      ]
    },
    {
      "cell_type": "markdown",
      "metadata": {
        "id": "YeHHhBBCoRWT"
      },
      "source": [
        "## Olá, pessoal!\n",
        "\n",
        "Um importante aspecto na gestão pública se refere ao montante orçamentário destinado à temática social. Frequentemente há indagações da eficácia dos programas de governo e dos valores aplicados nesta temática. Sabemos que um fator que dificulta a análise dos investimentos nesta área é a complexidade orçamentária do Governo Central, organizado em uma hierarquia que compõe o gasto público. \n",
        "\n",
        "No site http://dados.gov.br, portal brasileiro de dados abertos, o Ministério da Fazenda disponibilizou um dataset apresentando o dispêndio público organizado em uma série histórica de 2002 até 2015. Neste dataset há sete categorias: assistência social; educação e cultura; organização agrária; previdência social; saneamento básico e habitação; saúde; e trabalho e emprego. Este dataset contendo estas séries advém de mais de 190mil registros contábeis, permitindo uma análise em diversas dimensões e em diferentes métricas orçamentárias.\n",
        "\n",
        "Nos quatros exercícios a seguir, vamos fazer uma pequena análise deste dataset, adotando as funcionalidades estudadas na semana 2 do nosso curso. Para facilitar, eu já fiz a importação do dataset para a nossa lista de exercícios. Para que não houvesse problemas na importação, tive que fazer pequenos ajustes na base: alterar a codifição dos caracteres (\"ISO-8859-1\"), remover o ponto separador nas grandezas númericas, assim como a notação da vírgula na parte fracionada, e substituir os dados faltantes por zero.\n",
        "\n",
        "Bons estudos! \n",
        "\n",
        "Abraço, Alessandro.\n",
        "\n",
        "Fonte: https://dados.gov.br/dataset/gastos-sociais-do-governo-central-dados-anuais"
      ]
    },
    {
      "cell_type": "markdown",
      "metadata": {
        "id": "1b4DwPHAr1CH"
      },
      "source": [
        "Aqui nós importamos o dataset, que está disponível no meu Google Drive. Caso queiram, podem fazer o download do dataset através do link informado na função `read_csv()` (para análise no Microsoft Excel, por exemplo). "
      ]
    },
    {
      "cell_type": "code",
      "metadata": {
        "deletable": true,
        "editable": true,
        "id": "iB5cuO03QLY7"
      },
      "source": [
        "# Parte inicial do nosso código para importar e carregar as bibliotecas (pandas, numpy, matplotlib)\n",
        "# Este código também configura parâmetros para plotar nossos gráficos\n",
        "import numpy as np\n",
        "import pandas as pd\n",
        "PREVIOUS_MAX_ROWS = pd.options.display.max_rows\n",
        "pd.options.display.max_rows = 20\n",
        "np.random.seed(12345)\n",
        "import seaborn as sns\n",
        "import matplotlib.pyplot as plt\n",
        "plt.rc('figure', figsize=(10, 6))\n",
        "np.set_printoptions(precision=4, suppress=True)"
      ],
      "execution_count": 84,
      "outputs": []
    },
    {
      "cell_type": "code",
      "metadata": {
        "id": "VugnnhscLcZX",
        "outputId": "284e3a16-beb5-4643-e57f-bfb5de6481b5",
        "colab": {
          "base_uri": "https://localhost:8080/",
          "height": 496
        }
      },
      "source": [
        "df.head()"
      ],
      "execution_count": null,
      "outputs": [
        {
          "output_type": "execute_result",
          "data": {
            "text/html": [
              "<div>\n",
              "<style scoped>\n",
              "    .dataframe tbody tr th:only-of-type {\n",
              "        vertical-align: middle;\n",
              "    }\n",
              "\n",
              "    .dataframe tbody tr th {\n",
              "        vertical-align: top;\n",
              "    }\n",
              "\n",
              "    .dataframe thead th {\n",
              "        text-align: right;\n",
              "    }\n",
              "</style>\n",
              "<table border=\"1\" class=\"dataframe\">\n",
              "  <thead>\n",
              "    <tr style=\"text-align: right;\">\n",
              "      <th></th>\n",
              "      <th>Benefício Tributário</th>\n",
              "      <th>Função Orçamentária</th>\n",
              "      <th>Gasto Social</th>\n",
              "      <th>2002</th>\n",
              "      <th>2003</th>\n",
              "      <th>2004</th>\n",
              "      <th>2005</th>\n",
              "      <th>2006</th>\n",
              "      <th>2007</th>\n",
              "      <th>2008</th>\n",
              "      <th>2009</th>\n",
              "      <th>2010</th>\n",
              "      <th>2011</th>\n",
              "      <th>2012</th>\n",
              "      <th>2013</th>\n",
              "      <th>2014</th>\n",
              "      <th>2015</th>\n",
              "    </tr>\n",
              "  </thead>\n",
              "  <tbody>\n",
              "    <tr>\n",
              "      <th>0</th>\n",
              "      <td>Rede Arrecadadora</td>\n",
              "      <td>Administração</td>\n",
              "      <td>Não foi considerado gasto social</td>\n",
              "      <td>0</td>\n",
              "      <td>0</td>\n",
              "      <td>0</td>\n",
              "      <td>0</td>\n",
              "      <td>0</td>\n",
              "      <td>0</td>\n",
              "      <td>0</td>\n",
              "      <td>0</td>\n",
              "      <td>0</td>\n",
              "      <td>0</td>\n",
              "      <td>0</td>\n",
              "      <td>0</td>\n",
              "      <td>290000000</td>\n",
              "      <td>123426532</td>\n",
              "    </tr>\n",
              "    <tr>\n",
              "      <th>1</th>\n",
              "      <td>RETID</td>\n",
              "      <td>Defesa Nacional</td>\n",
              "      <td>Não foi considerado gasto social</td>\n",
              "      <td>0</td>\n",
              "      <td>0</td>\n",
              "      <td>0</td>\n",
              "      <td>0</td>\n",
              "      <td>0</td>\n",
              "      <td>0</td>\n",
              "      <td>0</td>\n",
              "      <td>0</td>\n",
              "      <td>0</td>\n",
              "      <td>0</td>\n",
              "      <td>0</td>\n",
              "      <td>55377423</td>\n",
              "      <td>60619162</td>\n",
              "      <td>65095650</td>\n",
              "    </tr>\n",
              "    <tr>\n",
              "      <th>2</th>\n",
              "      <td>Doações a Entidades Civis Sem Fins Lucrativos</td>\n",
              "      <td>Assistência Social</td>\n",
              "      <td>Assistência Social</td>\n",
              "      <td>37331020</td>\n",
              "      <td>75494211</td>\n",
              "      <td>44562850</td>\n",
              "      <td>89973546</td>\n",
              "      <td>117826000</td>\n",
              "      <td>241741739</td>\n",
              "      <td>126226946</td>\n",
              "      <td>151627540</td>\n",
              "      <td>197460084</td>\n",
              "      <td>205588149</td>\n",
              "      <td>126710123</td>\n",
              "      <td>186986341</td>\n",
              "      <td>296681363</td>\n",
              "      <td>262425987</td>\n",
              "    </tr>\n",
              "    <tr>\n",
              "      <th>3</th>\n",
              "      <td>Entidades Sem Fins Lucrativos - Associação Civil</td>\n",
              "      <td>Assistência Social</td>\n",
              "      <td>Assistência Social</td>\n",
              "      <td>0</td>\n",
              "      <td>0</td>\n",
              "      <td>245037793</td>\n",
              "      <td>740577073</td>\n",
              "      <td>910824983</td>\n",
              "      <td>1212639965</td>\n",
              "      <td>1347196772</td>\n",
              "      <td>1483469805</td>\n",
              "      <td>1854912479</td>\n",
              "      <td>1789029257</td>\n",
              "      <td>1816693771</td>\n",
              "      <td>2148361513</td>\n",
              "      <td>2113978626</td>\n",
              "      <td>2889831614</td>\n",
              "    </tr>\n",
              "    <tr>\n",
              "      <th>4</th>\n",
              "      <td>Entidades Sem Fins Lucrativos - Filantrópica</td>\n",
              "      <td>Assistência Social</td>\n",
              "      <td>Assistência Social</td>\n",
              "      <td>0</td>\n",
              "      <td>0</td>\n",
              "      <td>203242667</td>\n",
              "      <td>512169738</td>\n",
              "      <td>645693437</td>\n",
              "      <td>1085452619</td>\n",
              "      <td>817092780</td>\n",
              "      <td>1015674521</td>\n",
              "      <td>1269986984</td>\n",
              "      <td>1141516252</td>\n",
              "      <td>1240262250</td>\n",
              "      <td>1118875504</td>\n",
              "      <td>1214304803</td>\n",
              "      <td>1351980677</td>\n",
              "    </tr>\n",
              "  </tbody>\n",
              "</table>\n",
              "</div>"
            ],
            "text/plain": [
              "                                Benefício Tributário  ...        2015\n",
              "0                                  Rede Arrecadadora  ...   123426532\n",
              "1                                              RETID  ...    65095650\n",
              "2      Doações a Entidades Civis Sem Fins Lucrativos  ...   262425987\n",
              "3  Entidades Sem Fins Lucrativos - Associação Civil   ...  2889831614\n",
              "4       Entidades Sem Fins Lucrativos - Filantrópica  ...  1351980677\n",
              "\n",
              "[5 rows x 17 columns]"
            ]
          },
          "metadata": {
            "tags": []
          },
          "execution_count": 7
        }
      ]
    },
    {
      "cell_type": "code",
      "metadata": {
        "id": "AAYX0I8Nf041",
        "outputId": "50eb7f4c-3876-45bf-f7e5-1b19cc205f0f",
        "colab": {
          "base_uri": "https://localhost:8080/"
        }
      },
      "source": [
        "#importar a biblioteca pandas\n",
        "import pandas as pd\n",
        "\n",
        "df = pd.read_csv(\"https://drive.google.com/uc?export=view&id=1ZMLJsjQHn9SieCk_FUdbM89Uszd0pCLv\", error_bad_lines=False, encoding = \"ISO-8859-1\", sep = \";\")\n",
        "print (df)"
      ],
      "execution_count": 18,
      "outputs": [
        {
          "output_type": "stream",
          "text": [
            "                                  Benefício Tributário  ...        2015\n",
            "0                                    Rede Arrecadadora  ...   123426532\n",
            "1                                                RETID  ...    65095650\n",
            "2        Doações a Entidades Civis Sem Fins Lucrativos  ...   262425987\n",
            "3    Entidades Sem Fins Lucrativos - Associação Civil   ...  2889831614\n",
            "4         Entidades Sem Fins Lucrativos - Filantrópica  ...  1351980677\n",
            "..                                                 ...  ...         ...\n",
            "212  Tecnologia da Informação e Comunicação - TI e TIC  ...           0\n",
            "213                Microempreendedor Individual - MEI   ...           0\n",
            "214  Indústrias Moveleiras, de Confecções e Artefat...  ...           0\n",
            "215                        Indústrias de Transformação  ...           0\n",
            "216                                    Setor Hoteleiro  ...           0\n",
            "\n",
            "[217 rows x 17 columns]\n"
          ],
          "name": "stdout"
        }
      ]
    },
    {
      "cell_type": "code",
      "metadata": {
        "id": "I9shxSNEQ_RE",
        "outputId": "40237331-bc00-400c-83ec-5be86fd909a1",
        "colab": {
          "base_uri": "https://localhost:8080/"
        }
      },
      "source": [
        "df.columns.values"
      ],
      "execution_count": 2,
      "outputs": [
        {
          "output_type": "execute_result",
          "data": {
            "text/plain": [
              "array(['Benefício Tributário', 'Função Orçamentária', 'Gasto Social',\n",
              "       '2002', '2003', '2004', '2005', '2006', '2007', '2008', '2009',\n",
              "       '2010', '2011', '2012', '2013', '2014', '2015'], dtype=object)"
            ]
          },
          "metadata": {
            "tags": []
          },
          "execution_count": 2
        }
      ]
    },
    {
      "cell_type": "markdown",
      "metadata": {
        "id": "BTFOwPWVsDjy"
      },
      "source": [
        "1) Apresente uma tabela contendo os dispêndios em \"2015\" e os \"Benefícios Tributários\" contemplados. Considerar todos os benefícios tributários, mesmo aqueles que não tiveram gastos em 2015."
      ]
    },
    {
      "cell_type": "code",
      "metadata": {
        "id": "ogCsuAZ0mF9L"
      },
      "source": [
        "# Responda aqui a questão 1\n",
        "df[\"Benefício Tributário\"]"
      ],
      "execution_count": null,
      "outputs": []
    },
    {
      "cell_type": "code",
      "metadata": {
        "id": "QLAdCF4jVed8",
        "outputId": "61891eed-02e5-4648-f4f2-4b43b0142820",
        "colab": {
          "base_uri": "https://localhost:8080/"
        }
      },
      "source": [
        "df[\"2015\"].value_counts"
      ],
      "execution_count": 31,
      "outputs": [
        {
          "output_type": "execute_result",
          "data": {
            "text/plain": [
              "<bound method IndexOpsMixin.value_counts of 0       123426532\n",
              "1        65095650\n",
              "2       262425987\n",
              "3      2889831614\n",
              "4      1351980677\n",
              "          ...    \n",
              "212             0\n",
              "213             0\n",
              "214             0\n",
              "215             0\n",
              "216             0\n",
              "Name: 2015, Length: 217, dtype: int64>"
            ]
          },
          "metadata": {
            "tags": []
          },
          "execution_count": 31
        }
      ]
    },
    {
      "cell_type": "markdown",
      "metadata": {
        "id": "y3ahl2Mjw5Yj"
      },
      "source": [
        "2) Encontrar o valor total gasto em 2015."
      ]
    },
    {
      "cell_type": "code",
      "metadata": {
        "id": "O6BqqCLxnDpG",
        "outputId": "5b962b76-a856-4c11-fa6a-f65c7d106d95",
        "colab": {
          "base_uri": "https://localhost:8080/"
        }
      },
      "source": [
        "# Responda aqui a questão 2\n",
        "df[\"2015\"].sum()"
      ],
      "execution_count": 35,
      "outputs": [
        {
          "output_type": "execute_result",
          "data": {
            "text/plain": [
              "282437237610"
            ]
          },
          "metadata": {
            "tags": []
          },
          "execution_count": 35
        }
      ]
    },
    {
      "cell_type": "code",
      "metadata": {
        "id": "wK89AlqguX7g",
        "outputId": "71dd521c-55ea-482e-e001-169a66d143d0",
        "colab": {
          "base_uri": "https://localhost:8080/",
          "height": 148
        }
      },
      "source": [
        "#importar a biblioteca pandas\n",
        "import pandas as pd\n",
        "\n",
        "dados = pd.read_csv(\"https://raw.githubusercontent.com/pcpiscator/Ciencia-de-dados/master/gasto_saude.csv\", error_bad_lines=False, encoding = \"UTF-8\", sep = \";\")\n",
        "dados"
      ],
      "execution_count": 53,
      "outputs": [
        {
          "output_type": "execute_result",
          "data": {
            "text/html": [
              "<div>\n",
              "<style scoped>\n",
              "    .dataframe tbody tr th:only-of-type {\n",
              "        vertical-align: middle;\n",
              "    }\n",
              "\n",
              "    .dataframe tbody tr th {\n",
              "        vertical-align: top;\n",
              "    }\n",
              "\n",
              "    .dataframe thead th {\n",
              "        text-align: right;\n",
              "    }\n",
              "</style>\n",
              "<table border=\"1\" class=\"dataframe\">\n",
              "  <thead>\n",
              "    <tr style=\"text-align: right;\">\n",
              "      <th></th>\n",
              "      <th>Despesas Médicas</th>\n",
              "      <th>Assistência Médica, Odontológica e Farmacêutica a Empregados</th>\n",
              "      <th>Produtos Químicos e Farmacêuticos</th>\n",
              "      <th>Entidades Sem Fins Lucrativos - Assistência Social e Saúde</th>\n",
              "      <th>Pronon - Programa Nacional de Apoio à Atenção Oncológica</th>\n",
              "      <th>Pronas/PCD - Programa Nacional de Apoio à Atenção da Saúde da Pessoa com Deficiência</th>\n",
              "      <th>Medicamentos</th>\n",
              "      <th>Unnamed: 7</th>\n",
              "    </tr>\n",
              "  </thead>\n",
              "  <tbody>\n",
              "    <tr>\n",
              "      <th>0</th>\n",
              "      <td>11.859.391.307,00</td>\n",
              "      <td>4.280.014.761,00</td>\n",
              "      <td>993.406.134,00</td>\n",
              "      <td>3.448.218.817,00</td>\n",
              "      <td>174.848.132,00</td>\n",
              "      <td>173.567.503,00</td>\n",
              "      <td>4.105.800.301,00</td>\n",
              "      <td>25.035.246.955,00</td>\n",
              "    </tr>\n",
              "  </tbody>\n",
              "</table>\n",
              "</div>"
            ],
            "text/plain": [
              "    Despesas Médicas  ...         Unnamed: 7\n",
              "0  11.859.391.307,00  ...  25.035.246.955,00\n",
              "\n",
              "[1 rows x 8 columns]"
            ]
          },
          "metadata": {
            "tags": []
          },
          "execution_count": 53
        }
      ]
    },
    {
      "cell_type": "code",
      "metadata": {
        "id": "C7TzT4YZf4yl"
      },
      "source": [
        "\n",
        "dados[\"Unnamed: 7\"]"
      ],
      "execution_count": null,
      "outputs": []
    },
    {
      "cell_type": "markdown",
      "metadata": {
        "id": "QKhGbPupxBMm"
      },
      "source": [
        "3) Apresentar uma tabela contendo todas a informações referentes apenas ao \"Gasto Social\" para a \"Saúde\". "
      ]
    },
    {
      "cell_type": "code",
      "metadata": {
        "id": "ZPruJxOwnoXX"
      },
      "source": [
        "# Responda aqui a questão 3\n",
        "dados.columns.values\n"
      ],
      "execution_count": null,
      "outputs": []
    },
    {
      "cell_type": "code",
      "metadata": {
        "id": "QqCEZKdKxGop",
        "outputId": "be119edb-fe01-4e48-cc4a-06f66644d23e",
        "colab": {
          "base_uri": "https://localhost:8080/"
        }
      },
      "source": [
        "#Total dos gastos com saúde.\n",
        "dados[\"Unnamed: 7\"]"
      ],
      "execution_count": 60,
      "outputs": [
        {
          "output_type": "execute_result",
          "data": {
            "text/plain": [
              "0    25.035.246.955,00\n",
              "Name: Unnamed: 7, dtype: object"
            ]
          },
          "metadata": {
            "tags": []
          },
          "execution_count": 60
        }
      ]
    },
    {
      "cell_type": "markdown",
      "metadata": {
        "id": "mERMSzTcxYJL"
      },
      "source": [
        "4) Encontrar o gasto médio por ano de cada grupo contido em \"Função Orçamentária\"."
      ]
    },
    {
      "cell_type": "code",
      "metadata": {
        "id": "UmY_X6CUyEV7",
        "outputId": "fcb130d2-6543-418f-f3b6-435b8755d7bf",
        "colab": {
          "base_uri": "https://localhost:8080/"
        }
      },
      "source": [
        "df[\"Função Orçamentária\"]"
      ],
      "execution_count": 72,
      "outputs": [
        {
          "output_type": "execute_result",
          "data": {
            "text/plain": [
              "0                   Administração \n",
              "1                 Defesa Nacional \n",
              "2              Assistência Social \n",
              "3              Assistência Social \n",
              "4              Assistência Social \n",
              "                  ...             \n",
              "212     Renúncias Previdenciárias \n",
              "213     Renúncias Previdenciárias \n",
              "214     Renúncias Previdenciárias \n",
              "215     Renúncias Previdenciárias \n",
              "216     Renúncias Previdenciárias \n",
              "Name: Função Orçamentária, Length: 217, dtype: object"
            ]
          },
          "metadata": {
            "tags": []
          },
          "execution_count": 72
        }
      ]
    },
    {
      "cell_type": "code",
      "metadata": {
        "id": "cdlhMg-3-WV0"
      },
      "source": [
        ""
      ],
      "execution_count": null,
      "outputs": []
    },
    {
      "cell_type": "code",
      "metadata": {
        "id": "ShBCDQ-zrcpM"
      },
      "source": [
        "# Responda aqui a questão 4"
      ],
      "execution_count": null,
      "outputs": []
    },
    {
      "cell_type": "code",
      "metadata": {
        "id": "HoFhK1UqQs1c"
      },
      "source": [
        ""
      ],
      "execution_count": null,
      "outputs": []
    }
  ]
}