{
  "nbformat": 4,
  "nbformat_minor": 0,
  "metadata": {
    "colab": {
      "name": "Loja Eletrodom.ipynb",
      "provenance": [],
      "authorship_tag": "ABX9TyMOa7vdDATw3Jnkkt7yiaAu",
      "include_colab_link": true
    },
    "kernelspec": {
      "name": "python3",
      "display_name": "Python 3"
    }
  },
  "cells": [
    {
      "cell_type": "markdown",
      "metadata": {
        "id": "view-in-github",
        "colab_type": "text"
      },
      "source": [
        "<a href=\"https://colab.research.google.com/github/pcpiscator/Ciencia-de-dados/blob/master/Loja_Eletrodom.ipynb\" target=\"_parent\"><img src=\"https://colab.research.google.com/assets/colab-badge.svg\" alt=\"Open In Colab\"/></a>"
      ]
    },
    {
      "cell_type": "code",
      "metadata": {
        "id": "KG4rTo9yPQW0"
      },
      "source": [
        "!pip install geopandas"
      ],
      "execution_count": null,
      "outputs": []
    },
    {
      "cell_type": "code",
      "metadata": {
        "_uuid": "1ec634790f3cfdd372c20f8ba3d66c7b410e993f",
        "_cell_guid": "8b547494-0ee2-4596-bd96-fe0c1654c626",
        "trusted": true,
        "id": "23yLBM9aCBAY"
      },
      "source": [
        "# bibliotecas para análise de dados\n",
        "import numpy as np\n",
        "import pandas as pd\n",
        "import  geopandas as gpd\n",
        "\n",
        "# bibliotecas para gráficos \n",
        "import plotly.graph_objs as go\n",
        "import matplotlib.pyplot as plt\n",
        "import plotly.offline as py\n",
        "pd.options.display.max_columns = None\n",
        "pd.options.display.max_rows = None\n",
        "pd.options.display.float_format = '{:.2f}'.format\n",
        "# bibliotecas para visualização\n",
        "import matplotlib.pyplot as plt\n",
        "import seaborn as sns\n",
        "%matplotlib inline\n",
        "\n",
        "# configuração para ignorar mensagens de advertência (warning). \n",
        "# Muitas vezes estas mensagens atrapalham, pois pode trazer a informação de \n",
        "# algo está muito errado com nosso código quando na verdade temos apenas uma situação de advertência. \n",
        "import warnings\n",
        "warnings.filterwarnings('ignore')"
      ],
      "execution_count": 22,
      "outputs": []
    },
    {
      "cell_type": "code",
      "metadata": {
        "id": "ea7P6QgqhV3h",
        "colab": {
          "base_uri": "https://localhost:8080/",
          "height": 204
        },
        "outputId": "abf9f795-7711-42ab-a5ec-35575eceeb35"
      },
      "source": [
        "fonte = 'https://raw.githubusercontent.com/pcpiscator/Ciencia-de-dados/master/dados_pedidos.csv'\r\n",
        "dados = pd.read_csv(fonte)\r\n",
        "dados.head()"
      ],
      "execution_count": 5,
      "outputs": [
        {
          "output_type": "execute_result",
          "data": {
            "text/html": [
              "<div>\n",
              "<style scoped>\n",
              "    .dataframe tbody tr th:only-of-type {\n",
              "        vertical-align: middle;\n",
              "    }\n",
              "\n",
              "    .dataframe tbody tr th {\n",
              "        vertical-align: top;\n",
              "    }\n",
              "\n",
              "    .dataframe thead th {\n",
              "        text-align: right;\n",
              "    }\n",
              "</style>\n",
              "<table border=\"1\" class=\"dataframe\">\n",
              "  <thead>\n",
              "    <tr style=\"text-align: right;\">\n",
              "      <th></th>\n",
              "      <th>DataPedido</th>\n",
              "      <th>Regiao</th>\n",
              "      <th>Estado</th>\n",
              "      <th>Vendedor</th>\n",
              "      <th>Item</th>\n",
              "      <th>Unidades</th>\n",
              "      <th>PrecoUnidade</th>\n",
              "    </tr>\n",
              "  </thead>\n",
              "  <tbody>\n",
              "    <tr>\n",
              "      <th>0</th>\n",
              "      <td>7-Jun-2020</td>\n",
              "      <td>Nordeste</td>\n",
              "      <td>Pernambuco</td>\n",
              "      <td>Tobias</td>\n",
              "      <td>Geladeira</td>\n",
              "      <td>62</td>\n",
              "      <td>400.99</td>\n",
              "    </tr>\n",
              "    <tr>\n",
              "      <th>1</th>\n",
              "      <td>11-Jul-2020</td>\n",
              "      <td>Nordeste</td>\n",
              "      <td>Paraíba</td>\n",
              "      <td>Nadia</td>\n",
              "      <td>Microondas</td>\n",
              "      <td>29</td>\n",
              "      <td>100.99</td>\n",
              "    </tr>\n",
              "    <tr>\n",
              "      <th>2</th>\n",
              "      <td>20-Jul-2020</td>\n",
              "      <td>Sudeste</td>\n",
              "      <td>Minas Gerais</td>\n",
              "      <td>Carlos</td>\n",
              "      <td>Geladeira</td>\n",
              "      <td>55</td>\n",
              "      <td>1200.49</td>\n",
              "    </tr>\n",
              "    <tr>\n",
              "      <th>3</th>\n",
              "      <td>19-Jul-2020</td>\n",
              "      <td>Nordeste</td>\n",
              "      <td>Bahia</td>\n",
              "      <td>Tania</td>\n",
              "      <td>Microondas</td>\n",
              "      <td>81</td>\n",
              "      <td>1900.99</td>\n",
              "    </tr>\n",
              "    <tr>\n",
              "      <th>4</th>\n",
              "      <td>16-Aug-2020</td>\n",
              "      <td>Sudeste</td>\n",
              "      <td>Rio de Janeiro</td>\n",
              "      <td>Pedro</td>\n",
              "      <td>Geladeira</td>\n",
              "      <td>42</td>\n",
              "      <td>2300.95</td>\n",
              "    </tr>\n",
              "  </tbody>\n",
              "</table>\n",
              "</div>"
            ],
            "text/plain": [
              "    DataPedido    Regiao          Estado Vendedor        Item  Unidades  \\\n",
              "0   7-Jun-2020  Nordeste      Pernambuco   Tobias   Geladeira        62   \n",
              "1  11-Jul-2020  Nordeste         Paraíba    Nadia  Microondas        29   \n",
              "2  20-Jul-2020   Sudeste    Minas Gerais   Carlos   Geladeira        55   \n",
              "3  19-Jul-2020  Nordeste           Bahia    Tania  Microondas        81   \n",
              "4  16-Aug-2020   Sudeste  Rio de Janeiro    Pedro   Geladeira        42   \n",
              "\n",
              "   PrecoUnidade  \n",
              "0        400.99  \n",
              "1        100.99  \n",
              "2       1200.49  \n",
              "3       1900.99  \n",
              "4       2300.95  "
            ]
          },
          "metadata": {
            "tags": []
          },
          "execution_count": 5
        }
      ]
    },
    {
      "cell_type": "code",
      "metadata": {
        "id": "Ms79qK2dhmQj"
      },
      "source": [
        "dados"
      ],
      "execution_count": null,
      "outputs": []
    },
    {
      "cell_type": "code",
      "metadata": {
        "id": "rjJjU2EVKfBz"
      },
      "source": [
        "dados.columns.values"
      ],
      "execution_count": null,
      "outputs": []
    },
    {
      "cell_type": "code",
      "metadata": {
        "id": "-or8tyFlJzW-"
      },
      "source": [
        "dados[[\"Vendedor\", \"Estado\"]]"
      ],
      "execution_count": null,
      "outputs": []
    },
    {
      "cell_type": "code",
      "metadata": {
        "colab": {
          "base_uri": "https://localhost:8080/",
          "height": 163
        },
        "id": "lAzmssy4H2xH",
        "outputId": "e74a9d87-6884-494d-f111-4ee6b8dddb6d"
      },
      "source": [
        "[\"Vendedor\"].hist()"
      ],
      "execution_count": 17,
      "outputs": [
        {
          "output_type": "error",
          "ename": "AttributeError",
          "evalue": "ignored",
          "traceback": [
            "\u001b[0;31m---------------------------------------------------------------------------\u001b[0m",
            "\u001b[0;31mAttributeError\u001b[0m                            Traceback (most recent call last)",
            "\u001b[0;32m<ipython-input-17-d07cf2ddc188>\u001b[0m in \u001b[0;36m<module>\u001b[0;34m()\u001b[0m\n\u001b[0;32m----> 1\u001b[0;31m \u001b[0;34m[\u001b[0m\u001b[0;34m\"Vendedor\"\u001b[0m\u001b[0;34m]\u001b[0m\u001b[0;34m.\u001b[0m\u001b[0mhist\u001b[0m\u001b[0;34m(\u001b[0m\u001b[0;34m)\u001b[0m\u001b[0;34m\u001b[0m\u001b[0;34m\u001b[0m\u001b[0m\n\u001b[0m",
            "\u001b[0;31mAttributeError\u001b[0m: 'list' object has no attribute 'hist'"
          ]
        }
      ]
    }
  ]
}