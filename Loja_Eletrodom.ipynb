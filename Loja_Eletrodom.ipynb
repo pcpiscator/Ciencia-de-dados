{
  "nbformat": 4,
  "nbformat_minor": 0,
  "metadata": {
    "colab": {
      "name": "Loja Eletrodom.ipynb",
      "provenance": [],
      "authorship_tag": "ABX9TyPrQZ09MhB68UE2ZdwnXVfL",
      "include_colab_link": true
    },
    "kernelspec": {
      "name": "python3",
      "display_name": "Python 3"
    }
  },
  "cells": [
    {
      "cell_type": "markdown",
      "metadata": {
        "id": "view-in-github",
        "colab_type": "text"
      },
      "source": [
        "<a href=\"https://colab.research.google.com/github/pcpiscator/Ciencia-de-dados/blob/master/Loja_Eletrodom.ipynb\" target=\"_parent\"><img src=\"https://colab.research.google.com/assets/colab-badge.svg\" alt=\"Open In Colab\"/></a>"
      ]
    },
    {
      "cell_type": "code",
      "metadata": {
        "id": "KG4rTo9yPQW0"
      },
      "source": [
        "!pip install geopandas"
      ],
      "execution_count": null,
      "outputs": []
    },
    {
      "cell_type": "code",
      "metadata": {
        "_uuid": "1ec634790f3cfdd372c20f8ba3d66c7b410e993f",
        "_cell_guid": "8b547494-0ee2-4596-bd96-fe0c1654c626",
        "trusted": true,
        "id": "23yLBM9aCBAY"
      },
      "source": [
        "# bibliotecas para análise de dados\n",
        "import numpy as np\n",
        "import pandas as pd\n",
        "import  geopandas as gpd\n",
        "\n",
        "# bibliotecas para gráficos \n",
        "import plotly.graph_objs as go\n",
        "import matplotlib.pyplot as plt\n",
        "import plotly.offline as py\n",
        "pd.options.display.max_columns = None\n",
        "pd.options.display.max_rows = None\n",
        "pd.options.display.float_format = '{:.2f}'.format\n",
        "# bibliotecas para visualização\n",
        "import matplotlib.pyplot as plt\n",
        "import seaborn as sns\n",
        "%matplotlib inline\n",
        "\n",
        "# configuração para ignorar mensagens de advertência (warning). \n",
        "# Muitas vezes estas mensagens atrapalham, pois pode trazer a informação de \n",
        "# algo está muito errado com nosso código quando na verdade temos apenas uma situação de advertência. \n",
        "import warnings\n",
        "warnings.filterwarnings('ignore')"
      ],
      "execution_count": null,
      "outputs": []
    },
    {
      "cell_type": "code",
      "metadata": {
        "id": "ea7P6QgqhV3h",
        "colab": {
          "base_uri": "https://localhost:8080/",
          "height": 204
        },
        "outputId": "7da1d195-fa02-4e0c-d150-33839b0654d6"
      },
      "source": [
        "fonte = 'https://raw.githubusercontent.com/pcpiscator/Ciencia-de-dados/master/dados_pedidos.csv'\r\n",
        "dados = pd.read_csv(fonte)\r\n",
        "dados.head()"
      ],
      "execution_count": 3,
      "outputs": [
        {
          "output_type": "execute_result",
          "data": {
            "text/html": [
              "<div>\n",
              "<style scoped>\n",
              "    .dataframe tbody tr th:only-of-type {\n",
              "        vertical-align: middle;\n",
              "    }\n",
              "\n",
              "    .dataframe tbody tr th {\n",
              "        vertical-align: top;\n",
              "    }\n",
              "\n",
              "    .dataframe thead th {\n",
              "        text-align: right;\n",
              "    }\n",
              "</style>\n",
              "<table border=\"1\" class=\"dataframe\">\n",
              "  <thead>\n",
              "    <tr style=\"text-align: right;\">\n",
              "      <th></th>\n",
              "      <th>DataPedido</th>\n",
              "      <th>Regiao</th>\n",
              "      <th>Estado</th>\n",
              "      <th>Vendedor</th>\n",
              "      <th>Item</th>\n",
              "      <th>Unidades</th>\n",
              "      <th>PrecoUnidade</th>\n",
              "    </tr>\n",
              "  </thead>\n",
              "  <tbody>\n",
              "    <tr>\n",
              "      <th>0</th>\n",
              "      <td>7-Jun-2020</td>\n",
              "      <td>Nordeste</td>\n",
              "      <td>Pernambuco</td>\n",
              "      <td>Tobias</td>\n",
              "      <td>Geladeira</td>\n",
              "      <td>62</td>\n",
              "      <td>400.99</td>\n",
              "    </tr>\n",
              "    <tr>\n",
              "      <th>1</th>\n",
              "      <td>11-Jul-2020</td>\n",
              "      <td>Nordeste</td>\n",
              "      <td>Paraíba</td>\n",
              "      <td>Nadia</td>\n",
              "      <td>Microondas</td>\n",
              "      <td>29</td>\n",
              "      <td>100.99</td>\n",
              "    </tr>\n",
              "    <tr>\n",
              "      <th>2</th>\n",
              "      <td>20-Jul-2020</td>\n",
              "      <td>Sudeste</td>\n",
              "      <td>Minas Gerais</td>\n",
              "      <td>Carlos</td>\n",
              "      <td>Geladeira</td>\n",
              "      <td>55</td>\n",
              "      <td>1200.49</td>\n",
              "    </tr>\n",
              "    <tr>\n",
              "      <th>3</th>\n",
              "      <td>19-Jul-2020</td>\n",
              "      <td>Nordeste</td>\n",
              "      <td>Bahia</td>\n",
              "      <td>Tania</td>\n",
              "      <td>Microondas</td>\n",
              "      <td>81</td>\n",
              "      <td>1900.99</td>\n",
              "    </tr>\n",
              "    <tr>\n",
              "      <th>4</th>\n",
              "      <td>16-Aug-2020</td>\n",
              "      <td>Sudeste</td>\n",
              "      <td>Rio de Janeiro</td>\n",
              "      <td>Pedro</td>\n",
              "      <td>Geladeira</td>\n",
              "      <td>42</td>\n",
              "      <td>2300.95</td>\n",
              "    </tr>\n",
              "  </tbody>\n",
              "</table>\n",
              "</div>"
            ],
            "text/plain": [
              "    DataPedido    Regiao          Estado  ...        Item Unidades  PrecoUnidade\n",
              "0   7-Jun-2020  Nordeste      Pernambuco  ...   Geladeira       62        400.99\n",
              "1  11-Jul-2020  Nordeste         Paraíba  ...  Microondas       29        100.99\n",
              "2  20-Jul-2020   Sudeste    Minas Gerais  ...   Geladeira       55       1200.49\n",
              "3  19-Jul-2020  Nordeste           Bahia  ...  Microondas       81       1900.99\n",
              "4  16-Aug-2020   Sudeste  Rio de Janeiro  ...   Geladeira       42       2300.95\n",
              "\n",
              "[5 rows x 7 columns]"
            ]
          },
          "metadata": {
            "tags": []
          },
          "execution_count": 3
        }
      ]
    },
    {
      "cell_type": "code",
      "metadata": {
        "id": "Ms79qK2dhmQj"
      },
      "source": [
        "dados"
      ],
      "execution_count": null,
      "outputs": []
    },
    {
      "cell_type": "code",
      "metadata": {
        "id": "rjJjU2EVKfBz"
      },
      "source": [
        "dados.columns.values"
      ],
      "execution_count": null,
      "outputs": []
    },
    {
      "cell_type": "code",
      "metadata": {
        "id": "-or8tyFlJzW-"
      },
      "source": [
        "dados[[\"Vendedor\", \"Estado\"]]"
      ],
      "execution_count": null,
      "outputs": []
    },
    {
      "cell_type": "code",
      "metadata": {
        "colab": {
          "base_uri": "https://localhost:8080/",
          "height": 282
        },
        "id": "lAzmssy4H2xH",
        "outputId": "22ea37e8-c809-4e39-8378-cc4d56368d75"
      },
      "source": [
        "dados[\"Unidades\"].hist()"
      ],
      "execution_count": 26,
      "outputs": [
        {
          "output_type": "execute_result",
          "data": {
            "text/plain": [
              "<matplotlib.axes._subplots.AxesSubplot at 0x7fda7eaf8f60>"
            ]
          },
          "metadata": {
            "tags": []
          },
          "execution_count": 26
        },
        {
          "output_type": "display_data",
          "data": {
            "image/png": "[encoded data removed]",
            "text/plain": [
              "<Figure size 432x288 with 1 Axes>"
            ]
          },
          "metadata": {
            "tags": [],
            "needs_background": "light"
          }
        }
      ]
    }
  ]
}