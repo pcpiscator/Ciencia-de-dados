{
  "nbformat": 4,
  "nbformat_minor": 0,
  "metadata": {
    "colab": {
      "name": "ECD - Introdução à Lógica de Programação - Semana 4 - Tópico 2 .ipynb",
      "provenance": [],
      "collapsed_sections": [],
      "include_colab_link": true
    },
    "kernelspec": {
      "name": "python3",
      "display_name": "Python 3"
    }
  },
  "cells": [
    {
      "cell_type": "markdown",
      "metadata": {
        "id": "view-in-github",
        "colab_type": "text"
      },
      "source": [
        "<a href=\"https://colab.research.google.com/github/pcpiscator/Ciencia-de-dados/blob/master/ECD_Introdu%C3%A7%C3%A3o_%C3%A0_L%C3%B3gica_de_Programa%C3%A7%C3%A3o_Semana_4_T%C3%B3pico_2_.ipynb\" target=\"_parent\"><img src=\"https://colab.research.google.com/assets/colab-badge.svg\" alt=\"Open In Colab\"/></a>"
      ]
    },
    {
      "cell_type": "markdown",
      "metadata": {
        "id": "qnZlOOl5lqam"
      },
      "source": [
        "# ECD - Introdução à Lógica de Programação - Semana 4 - Python\n",
        "## Indentação em Python, estruturas de controle, variáveis compostas, busca e ordenação de vetores\n",
        "##### Prof. Dr. Jônata Tyska Carvalho\n"
      ]
    },
    {
      "cell_type": "markdown",
      "metadata": {
        "id": "ld_zC5T2F3KV"
      },
      "source": [
        "Lembre-se que este é um documento interativo. Todos os exemplos de código nele contidos podem e devem ser executados (botão 'play' ao lado de cada código ou shift+enter) para que você possa ver os conceitos apresentados funcionando na prática. \n",
        "\n",
        "Recomenda-se que você faça uma cópia deste documento através do menu superior \"Arquivo\", \"Salvar uma cópia no Drive\". Sinta-se motivado a executar os exemplos múltiplas vezes, modificá-los adicionando e testando novas funcionalidades. Tente criar e testar hipóteses prevendo qual será o resultado da execução dos códigos com as suas alterações. Caso suas alterações causem erros, tente entender os erros causados e como corrigí-los. Considere este documento não apenas como uma aula, mas também como um ambiente interativo de experimentação e descoberta. \n",
        "\n",
        "Lembre-se que aprender a programar requer prática e dedicação. Discuta problemas e ideias com os colegas através do fórum do Moodle, e não deixe de nos contatar caso tenha dúvidas ou dificuldades. Bons estudos!"
      ]
    },
    {
      "cell_type": "markdown",
      "metadata": {
        "id": "0nyxVLyLnR4X"
      },
      "source": [
        "## 1. Indentação em Python"
      ]
    },
    {
      "cell_type": "markdown",
      "metadata": {
        "id": "THjXFarYnfAe"
      },
      "source": [
        "Uma característica fundamental da linguagem Python é que os blocos de instrução são definidos através da indentação. Em outras palavras, o número de espaços entre a margem do código e as instruções. Outras linguagens, como por exemplo C e Javascript, e mesmo o pseudocódigo que utilizamos nas ultimas semanas, utilizam símbolos para delimitar os blocos de instruções como, por exemplo, chaves ({ }). Em Python tais símbolos não são utilizados para tal finalidade, sendo a definição de blocos de instrução feita exclusivamente através da indentação. Por esse motivo é muito importante ter total atenção para indentar o seu código corretamente. \n",
        "\n",
        "Muito embora não exista uma regra para o número de espaços a se utilizar para diferenciar os blocos, é importante que as instruções de um mesmo bloco sejam indentadas com o mesmo número de espaços. O guia oficial de estilo de código* Python recomenda a utilização de 4 espaços para cada nível de indentação (lembrando que cada nível representa um bloco de instruções). Esse número é apenas uma convenção, mas por questões de padronização, vamos utilizar 4 espaços nos exemplos em nossas aulas.\n",
        "\n",
        "Estruturas de controle que utilizam blocos de instruções, como por exemplo seleção e repetição (serão apresentadas em detalhes na próxima seção), ou ainda a definição de funções em Python (que serão apresentadas na próxima semana), requerem uma correta indentação para que funcionem corretamente.\n",
        "\n",
        "*www.python.org/dev/peps/pep-0008/"
      ]
    },
    {
      "cell_type": "code",
      "metadata": {
        "id": "3jct9ExOyeO8"
      },
      "source": [
        "#estrutura de seleção composta com dois blocos de duas instruções indentados corretamente\n",
        "a=5\n",
        "if a>3:\n",
        "    b=2*a\n",
        "    print(f\"A variável a é maior do que 3 e 2*a = {b}\")\n",
        "else:\n",
        "    b=3*a\n",
        "    print(f\"A variável a é menor do que 3 e 3*a = {b}\")"
      ],
      "execution_count": null,
      "outputs": []
    },
    {
      "cell_type": "code",
      "metadata": {
        "id": "IZCZ7thf2Cdb"
      },
      "source": [
        "#estrutura de repetição composta por um bloco de duas instruções indentado corretamente\n",
        "contador=1\n",
        "while contador<=5:\n",
        "    print(f\"Escrevendo {contador} de 5\")\n",
        "    contador=contador+1\n",
        "print(\"Esse print está fora do bloco anterior.\")"
      ],
      "execution_count": null,
      "outputs": []
    },
    {
      "cell_type": "code",
      "metadata": {
        "id": "ft9CX6_0-4KV"
      },
      "source": [
        "#estrutura de repetição composta por um bloco de três instruções com erro na indentação\n",
        "contador=1\n",
        "while contador<=5:\n",
        "    print(f\"Escrevendo {contador} de 5\")\n",
        "  contador=contador+1\n",
        "      print(\"Este código irá gerar um erro e não será executado.\")"
      ],
      "execution_count": null,
      "outputs": []
    },
    {
      "cell_type": "markdown",
      "metadata": {
        "id": "4k0PfZrbqbfG"
      },
      "source": [
        "Perceba que nos exemplos apresentados, estruturas de seleção e repetição, antes da definição do bloco de instruções interno a estas estruturas, a linha imediatamente anterior é finalizada com o símbolo dois-pontos (:), este é um requisito para a definição de blocos de instruções. Não se preocupe em entender as estruturas de controle apresentadas nestes exemplos, elas serão estudadas em detalhes na próxima seção. Neste momento, é importante que você tenha entendido a importância de uma correta indentação para representar blocos de instrução, e como eles estão aninhados. "
      ]
    },
    {
      "cell_type": "markdown",
      "metadata": {
        "id": "qsUdtLRilzbz"
      },
      "source": [
        "## 2. Estruturas de Controle"
      ]
    },
    {
      "cell_type": "markdown",
      "metadata": {
        "id": "WbFRQb9olzY_"
      },
      "source": [
        "Conforme estudamos anteriormente, qualquer programa de computador pode ser construído através da composição de três tipos de estruturas de controle: *sequência*, *seleção (ou decisão)* e *repetição*. A seguir estudaremos cada uma delas em Python. Grande parte das instruções e palavras-chave que utilizamos em Português com o Portugol (pseudocódigo usado nas semanas anteriores) serão simplesmente utilizadas em Inglês em Python como veremos nas próximas seções.\n"
      ]
    },
    {
      "cell_type": "markdown",
      "metadata": {
        "id": "HW_OECY0mVlr"
      },
      "source": [
        "### **Sequência**"
      ]
    },
    {
      "cell_type": "markdown",
      "metadata": {
        "id": "ECNlaHbwmVgp"
      },
      "source": [
        "Trata-se da estrutura de controle mais simples dentre as três, em que cada instrução de um programa é executada em ordem sequêncial. Todas as instruções são executadas sempre, independente de qualquer condição, e essa execução ocorre na ordem em que foram escritas. Veja o exemplo do código abaixo que utiliza-se apenas da estrutura sequencial para escrever um programa que calcula o salário anual de um funcionário, recebendo como entrada o seu salário mensal."
      ]
    },
    {
      "cell_type": "code",
      "metadata": {
        "id": "gmzVlQLZqp3Q"
      },
      "source": [
        "#Programa que calcula o salário anual de um funcionário\n",
        "salarioMensal=float(input(\"Entre com o salário mensal do funcionário: \"))\n",
        "salarioAnual=12*salarioMensal\n",
        "print(f'O funcionário que possui um salário mensal de {salarioMensal:,.2f} ganha por ano {salarioAnual:,.2f}')"
      ],
      "execution_count": null,
      "outputs": []
    },
    {
      "cell_type": "markdown",
      "metadata": {
        "id": "G3DhqA_ArnNz"
      },
      "source": [
        "*dica de formatação:* perceba que a vírgula foi adicionada no formato f-string (apresentado no tópico 1 desta semana) para mostrar um float usando separadores de milhar (a vírgula, em Inglês). Note que este recurso apenas mostra os valores com separadores de milhar, nas respectivas variáveis tais valores são armazenados sem eles. Ver exemplo abaixo."
      ]
    },
    {
      "cell_type": "code",
      "metadata": {
        "id": "JJsKlFy_so4D"
      },
      "source": [
        "milhao=1000000\n",
        "print(f'Mostrando valor - com separador: {milhao:,} - sem separador {milhao}')"
      ],
      "execution_count": null,
      "outputs": []
    },
    {
      "cell_type": "markdown",
      "metadata": {
        "id": "en-Q5AWUmVV7"
      },
      "source": [
        "### **Seleção**"
      ]
    },
    {
      "cell_type": "markdown",
      "metadata": {
        "id": "RukzbCBLmVOX"
      },
      "source": [
        "Estruturas de seleção, decisão ou condicional são os termos (sinônimos) que costumam designar a construção na qual o programador pode condicionar a execução de blocos de instrução a uma determinada condição (expressão ou valor lógico). A seguir, veremos quais são e como utilizar as estruturas de seleção em Python.\n",
        "\n",
        "Em pseudcódigo usavamos a palavra SE para designar uma estrutura de seleção, fosse ela simples ou composta. Em Python, trata-se da mesma palavra porém em Inglês, isto é, *if* Note que é importante que ela seja escrita em letras minúsculas, caso contrário a palavra não será reconhecida como uma estrutura de seleção. Lembre-se que a linguagem Python é sensível ao caso (case sensitive)."
      ]
    },
    {
      "cell_type": "markdown",
      "metadata": {
        "id": "61HvoCFetv3P"
      },
      "source": [
        "#### Seleção Simples"
      ]
    },
    {
      "cell_type": "markdown",
      "metadata": {
        "id": "EbcKOEOzt2Sh"
      },
      "source": [
        "Recapitulando a seleção simples especifica uma ou mais instruções que devem ser executadas apenas caso uma determinada condição seja verdadeira. Lembrando que uma condição pode ser um valor ou expressão lógica, ou ainda uma expressão relacional. A seleção simples possui a forma abaixo:\n",
        "\n",
        "```\n",
        "if <condição>:\n",
        "    <bloco de instruções quando a condição for verdadeira> \n",
        "```\n",
        "\n",
        "Lembre-se que em Python, a indentação (espaços adicionados antes de um comando) é extremamente importante, pois é através dela que o programador define escopos, blocos de instrução e aninhamentos. No código acima, é a indentação que define o bloco de instruções a ser executado quando a condição da estrutura de seleção (if) for verdadeira. Costuma-se dizer que tais instruções estão \"dentro\" do *if*. Veja abaixo alguns exemplos de estrutura de seleção simples."
      ]
    },
    {
      "cell_type": "code",
      "metadata": {
        "id": "C-jrMnCLyWne"
      },
      "source": [
        "estaChovendo=True\n",
        "if estaChovendo:\n",
        "    print(\"Pegue o guarda-chuva\")"
      ],
      "execution_count": null,
      "outputs": []
    },
    {
      "cell_type": "code",
      "metadata": {
        "id": "ZpZDeu3xylys"
      },
      "source": [
        "nota=6\n",
        "if nota<7:\n",
        "    print(\"Você precisa estudar mais\")\n",
        "print(\"Falta apenas uma prova\")"
      ],
      "execution_count": null,
      "outputs": []
    },
    {
      "cell_type": "markdown",
      "metadata": {
        "id": "mschRedvt27b"
      },
      "source": [
        "#### Seleção Composta"
      ]
    },
    {
      "cell_type": "markdown",
      "metadata": {
        "id": "sBm5uQQxt4jP"
      },
      "source": [
        "A estrutura de seleção composta (SE SENÃO) permite que o programador defina um bloco de instruções a ser executado se a condição for verdadeira, e um bloco alternativo caso a condição for falsa. Em Python, para utilizar uma estrutura de seleção composta usamos as palavras if else da seguinte forma:\n",
        "\n",
        "```\n",
        "if <condição>:\n",
        "    <bloco de instruções quando a condição for verdadeira>\n",
        "else:\n",
        "    <bloco de instruções quando a condição for falsa>\n",
        "```\n",
        "\n"
      ]
    },
    {
      "cell_type": "markdown",
      "metadata": {
        "id": "FSNSHuA1I0SL"
      },
      "source": [
        "Novamente, perceba a importância da indentação para a definição dos blocos de instruções. Veja alguns exemplos de estrutura de seleção composta abaixo."
      ]
    },
    {
      "cell_type": "code",
      "metadata": {
        "id": "tJZx1tLwJBg2"
      },
      "source": [
        "nota=6\n",
        "if nota>=7:\n",
        "    print('Parabéns, você foi aprovado.')\n",
        "else:\n",
        "    print('Infelizmente sua nota não foi suficiente para aprovação.')"
      ],
      "execution_count": null,
      "outputs": []
    },
    {
      "cell_type": "code",
      "metadata": {
        "id": "fWTWh-HsJqHU"
      },
      "source": [
        "a=int(input(\"Digite o primeiro valor inteiro: \"))\n",
        "b=int(input(\"Digite o segundo valor inteiro: \"))\n",
        "if a>=b:\n",
        "    print(\"O primeiro valor fornecido é maior ou igual ao segundo.\")\n",
        "else:\n",
        "    print(\"O segundo valor é maior do que o primeiro.\")\n"
      ],
      "execution_count": null,
      "outputs": []
    },
    {
      "cell_type": "code",
      "metadata": {
        "id": "3doO9dihKKDi"
      },
      "source": [
        "frequencia=60\n",
        "nota=8\n",
        "if frequencia>=75 and nota>=7:\n",
        "    print(\"Aprovado\")\n",
        "else:\n",
        "    print(\"Reprovado\")"
      ],
      "execution_count": null,
      "outputs": []
    },
    {
      "cell_type": "markdown",
      "metadata": {
        "id": "KAqVTXLYKo1G"
      },
      "source": [
        "Perceba que no exemplo acima a aprovação de um determinado estudante é definida com base não apenas em sua nota, mas também em sua frequência. A forma como a estrutura de seleção composta foi utilizada não específica o motivo pelo qual o estudante foi reprovado. Abaixo veja um exemplo em que através de estruturas aninhadas, faz-se tal distinção."
      ]
    },
    {
      "cell_type": "markdown",
      "metadata": {
        "id": "K9OWdqq6t47l"
      },
      "source": [
        "#### Seleção Aninhada"
      ]
    },
    {
      "cell_type": "code",
      "metadata": {
        "id": "MapbMqN3LFJ7"
      },
      "source": [
        "frequencia=60\n",
        "nota=8\n",
        "if frequencia<75:\n",
        "    print(\"Reprovado por frequência\")\n",
        "else:\n",
        "    if nota<7:\n",
        "        print(\"Reprovado por média\")\n",
        "    else:\n",
        "        print(\"Aprovado\")"
      ],
      "execution_count": null,
      "outputs": []
    },
    {
      "cell_type": "markdown",
      "metadata": {
        "id": "oqAtzi-cuDCZ"
      },
      "source": [
        "É importante que você perceba como a indentação diferencia os blocos de instrução, e como ela indica como os blocos estão aninhados. No exemplo acima, testa-se primeiro a frequência do aluno, informando que ele foi reprovado por frequência caso esta seja menor do que 75. Caso tal condição for falsa, \"entra-se\" no *else* (no jargão de programação, significa que as instruções do bloco else serão executadas), onde temos uma nova estrutura de seleção aninhada.\n",
        "\n",
        "Em Python, para facilitar o aninhamento de estruturas de seleção, temos a palavra-chave *elif* (aglutinação das palvras else e if). Assim, podem-se definir diversões condições que serão testadas de forma sequencial, até que alguma delas seja verdadeira, ou, caso todas sejam falsas, até que as instruções do *else* (quando presente) sejam executadas.\n",
        "\n",
        "```\n",
        "if <condição1>:\n",
        "    bloco de instruções quando condição1 for verdadeira\n",
        "elif <condição2>:\n",
        "    bloco de instruções quando condição2 for verdadeira\n",
        "elif <condição3>:\n",
        "    bloco de instruções quando condição3 for verdadeira\n",
        "else:\n",
        "    bloco de instruções quando todas as condições anteriores forem falsas\n",
        "```\n",
        "\n",
        "A estrutura *if elif else* permite que o programador use quantas condições desejar, sendo opcional a definição do *else* e o seu respectivo bloco de instruções. Tal estrutura aninhada simplifica a construção de estruturas de seleção aninhadas, dispensando a necessidade de criar diversos condicionais compostos aninhados e sua respectiva indentação progressiva. Veja abaixo exemplos desta estrutura de seleção aninhada. "
      ]
    },
    {
      "cell_type": "code",
      "metadata": {
        "id": "xWtvU3f1OXfk"
      },
      "source": [
        "#ifs aninhados sem o uso de elif - note a importância da indentação para especificar o aninhamento\n",
        "nota=8.2\n",
        "if nota==10:\n",
        "    print(\"Parabéns você tirou a nota máxima.\")\n",
        "else:\n",
        "    if nota>9:\n",
        "        print(\"Parabéns sua nota está entre as melhores.\")\n",
        "    else:\n",
        "        if nota>8:\n",
        "            print(\"Você teve um bom desempenho.\")\n",
        "        else:\n",
        "            if nota>=7:\n",
        "                print(\"Você ficou na média.\")\n",
        "            else:\n",
        "                print(\"Você ficou abaixo da média\")"
      ],
      "execution_count": null,
      "outputs": []
    },
    {
      "cell_type": "code",
      "metadata": {
        "id": "voqHZy0PPneK"
      },
      "source": [
        "#ifs aninhados com o uso de elif\n",
        "nota=8.2\n",
        "if nota==10:\n",
        "    print(\"Parabéns você tirou a nota máxima.\")\n",
        "elif nota>9:\n",
        "    print(\"Parabéns sua nota está entre as melhores.\")\n",
        "elif nota>8:\n",
        "    print(\"Você teve um bom desempenho.\")\n",
        "elif nota>=7:\n",
        "    print(\"Você ficou na média.\")\n",
        "else:\n",
        "    print(\"Você ficou abaixo da média\")"
      ],
      "execution_count": null,
      "outputs": []
    },
    {
      "cell_type": "markdown",
      "metadata": {
        "id": "n9AfBsqVmU7F"
      },
      "source": [
        "### **Repetição**"
      ]
    },
    {
      "cell_type": "markdown",
      "metadata": {
        "id": "2YYdDizYmUwD"
      },
      "source": [
        "Como sabemos, por vezes a realização de certas tarefas requerem a execução de uma mesma instrução ou bloco de instruções repetidas vezes. As estruturas de repetição, também chamados de laços de repetição, permitem a construção de programas deste tipo sem a necessidade que o programador manualmente reescreva as instruções. Veja abaixo um simples exemplo de como as estruturas de repetição simplificam, e viabilizam, a construção de programas. Os códigos a seguir realizam a mesma tarefa, escrevem os números de 1 a 5. O primeiro não usa estruturas de repetição e o segundo sim. Perceba como, muito embora ambos os códigos produzam o mesmo comportamento, o segundo é bem mais enxuto e elegante.\n",
        "\n",
        "\n"
      ]
    },
    {
      "cell_type": "code",
      "metadata": {
        "id": "dOClFULbavDA"
      },
      "source": [
        "#sem estrutura de repetição - este código foi escrito usando uma variável para facilitar a comparação com o próximo código\n",
        "contador=1\n",
        "print(contador)\n",
        "contador=2\n",
        "print(contador)\n",
        "contador=3\n",
        "print(contador)\n",
        "contador=4\n",
        "print(contador)\n",
        "contador=5\n",
        "print(contador)"
      ],
      "execution_count": null,
      "outputs": []
    },
    {
      "cell_type": "code",
      "metadata": {
        "id": "EDg219JOawi_"
      },
      "source": [
        "#com estrutura de repetição\n",
        "contador=1\n",
        "while contador<=5:\n",
        "    print(contador)\n",
        "    contador=contador + 1"
      ],
      "execution_count": null,
      "outputs": []
    },
    {
      "cell_type": "markdown",
      "metadata": {
        "id": "u_6OzT4CavfU"
      },
      "source": [
        "\n",
        "Em Python, a estrutura de repetição chamada de ENQUANTO em Portugol, pode ser utilizada através da palavra *while* (que justamente significa enquanto em Inglês). Veja abaixo a forma desta estrutura de repetição.\n",
        "\n",
        "```\n",
        "while <condição>:\n",
        "    bloco de instruções quando condição for verdadeira\n",
        "```"
      ]
    },
    {
      "cell_type": "markdown",
      "metadata": {
        "id": "Y6-yE2Utb9Ky"
      },
      "source": [
        "#### Laços de repetição com contadores\n"
      ]
    },
    {
      "cell_type": "markdown",
      "metadata": {
        "id": "NL5BqqxUeS0Q"
      },
      "source": [
        "Os laços de repetição, especialmente o *while*, estão usualmente associados a um contador, ou em geral, a uma variável que controla o número de repetições. Espera-se que a condição do laço, testada múltiplas vezes a cada execução do bloco de instruções do *while*, em um determinado momento resulte no fim do laço de repetição, ou em outras palavras, se torne *False*. Caso isso não aconteça, teremos o indesejado *loop infinito*, ocasionando na repetição infinita do bloco de instruções do *while*.\n",
        "\n",
        "Assim, usualmente as estruturas de repetição usam um contador que parte de um valor inicial, sendo incrementado ou decrementado a cada ciclo de repetição (a execução do bloco de instruções é chamado ciclo), até que seu valor alcance um limite, superior ou inferior dependendo da lógica do programa. Veja o exemplo do programa abaixo, em que o usuário é solicitado a informar um valor inicial, um valor final e um incremento. Note que o programa verifica se os valores informados pelo usuário são coerentes, isto é, valor inicial menor do que o valor final."
      ]
    },
    {
      "cell_type": "code",
      "metadata": {
        "id": "F8UIbt7WeRdN"
      },
      "source": [
        "valorInicial=int(input(\"Informe o valor inicial: \"))\n",
        "incremento=int(input(\"Informe o valor do incremento: \"))\n",
        "valorFinal=int(input(\"Informe o valor final: \"))\n",
        "\n",
        "if valorInicial>valorFinal:\n",
        "    print(f\"O valor inicial informado ({valorInicial}) é maior do que o valor final informado ({valorFinal}).\")\n",
        "elif incremento<1:\n",
        "    print(f\"O valor do incremento informado ({incremento}) é menor do que 1.\")\n",
        "else:\n",
        "    contador=valorInicial\n",
        "    while contador<valorFinal:\n",
        "        print(contador)\n",
        "        contador=contador+incremento"
      ],
      "execution_count": null,
      "outputs": []
    },
    {
      "cell_type": "markdown",
      "metadata": {
        "id": "WpeQt10keaJc"
      },
      "source": [
        "#### Interrompendo explicitamente um laço de repetição"
      ]
    },
    {
      "cell_type": "markdown",
      "metadata": {
        "id": "lMY1c1d2gtqb"
      },
      "source": [
        "Em alguns casos é importante que o programador tenha o controle explícito do laço de repetição, interrompendo-o durante a execução de um ciclo. Um exemplo clássico deste tipo de situação é a utilização de um laço de repetição que se interrompe dependendo do dado de entrada fornecido pelo usuário. O comando *break* automaticamente interrompe o laço de repetição. Veja o exemplo abaixo que realiza a soma dos números fornecidos pelo usuário, até que ele informe o valor zero."
      ]
    },
    {
      "cell_type": "code",
      "metadata": {
        "id": "LOCjCkRllgbV"
      },
      "source": [
        "soma=0\n",
        "while True:\n",
        "    valorEntrada=int(input(\"Digite um valor inteiro positivo ou zero para encerrar o programa: \"))\n",
        "    if valorEntrada==0:\n",
        "        break;\n",
        "    elif valorEntrada<0:\n",
        "        print(\"Valor inválido\")\n",
        "    else:\n",
        "        soma=soma+valorEntrada\n",
        "print(f\"A soma dos valores informados pelo usuário é {soma}\")"
      ],
      "execution_count": null,
      "outputs": []
    },
    {
      "cell_type": "markdown",
      "metadata": {
        "id": "t7V9OQm2nSN7"
      },
      "source": [
        "Perceba que no exemplo acima um contador não é utilizado com o laço de repetição, na realidade ele parte com uma condição que levaria a um *loop infinito*, isto é *while True* Entretanto, no bloco de instruções do laço de repetição existe uma estrutura condicional, que interrompe o laço de repetição usando *break* caso o dado informado pelo usuário seja igual a 0. \n"
      ]
    },
    {
      "cell_type": "markdown",
      "metadata": {
        "id": "O3H4egjmn2Wv"
      },
      "source": [
        "#### O laço de repetição *for*\n"
      ]
    },
    {
      "cell_type": "markdown",
      "metadata": {
        "id": "esgNFGFsn9VP"
      },
      "source": [
        "Em Python, o laço de repetição PARA tem um comportamento um pouco diferente do que utilizamos nas últimas semanas em Portugol. Em Python, a palavra-chave *for* é usada para o laço de repetição PARA. Entretanto, a estrutura não é composta por valor inicial, incremento e condição como em Portugol. Em Python, o *for* percorre uma lista de valores e possui o seguinte formato.\n",
        "\n",
        "```\n",
        "for <variável> in <lista de valores>:\n",
        "    bloco de instruções executado a cada valor da lista\n",
        "```\n",
        "\n",
        "O nome da variável e os valores da lista são fornecidos pelo programador, assim o bloco de instruções é executado tantas vezes quantas forem os valores presentes na lista de valores. O funcionamento do *for* é mais simples do que parece, veja um exemplo de utilização no código abaixo.\n"
      ]
    },
    {
      "cell_type": "code",
      "metadata": {
        "id": "fvcjKN5vguHb"
      },
      "source": [
        "for valor in [1,2,3,4,5]:\n",
        "    print(valor)"
      ],
      "execution_count": null,
      "outputs": []
    },
    {
      "cell_type": "markdown",
      "metadata": {
        "id": "-0Z1fdYiqW7F"
      },
      "source": [
        "Você entenderá melhor os colchetes utilizados nesse exemplo na próxima seção. É muito comum utilizar o *for* em Python associado a uma função chamada *range*. A função range gera justamente uma coleção de valores iteráveis que é ideal quando combinada com a estrutura de repetição *for*. A função pode receber um, dois ou três parâmetros, veja o comportamento da função em cada uma dessas situações:\n",
        "\n",
        "1. Quando apenas **um parâmetro** é informado, este é o valor final de um intervalo começando em 0. Por exemplo, range(5), significa que serão gerados valores no intervalo [0,5). Incluindo o 0, isto é intervalo fechado, e excluindo o 5, intervalo aberto. \n",
        "\n",
        "2. Quando **dois parâmetros** são informados, o primeiro é o valor inicial do intervalo e o segundo o valor final. Por exemplo, range(1,6), significa que serão gerados valores no intervalo [1,6). Incluindo o 1, isto é intervalo fechado, e excluindo o 6, intervalo aberto.\n",
        "\n",
        "3. Finalmente quando **três parâmetros** são informados temos valor inicial, final e incremento. Por exemplo, range(1,10,2), significa que serão gerados valores no intervalo [1,10), de 2 em 2.\n",
        "\n",
        "Veja abaixo alguns exemplos. \n",
        "\n",
        "\n",
        "\n"
      ]
    },
    {
      "cell_type": "code",
      "metadata": {
        "id": "z3HyLWRtpqKt"
      },
      "source": [
        "for valor in range(5):\n",
        "    print(valor)"
      ],
      "execution_count": null,
      "outputs": []
    },
    {
      "cell_type": "code",
      "metadata": {
        "id": "J0o7g9H6r6Xt"
      },
      "source": [
        "for valor in range(1,6):\n",
        "    print(valor)"
      ],
      "execution_count": null,
      "outputs": []
    },
    {
      "cell_type": "code",
      "metadata": {
        "id": "v4MfuAMIsAXq"
      },
      "source": [
        "for valor in range(1,10,2):\n",
        "    print(valor)"
      ],
      "execution_count": null,
      "outputs": []
    },
    {
      "cell_type": "markdown",
      "metadata": {
        "id": "npgpQV7HsPxf"
      },
      "source": [
        "Pode-se usar também a função *range* de forma decremental, bastando informar o valor inicial (primeiro parâmetro) maior do que o valor final (segundo parâmetro), e o valor do incremento (terceiro parâmetro) negativo. Veja o exemplo abaixo."
      ]
    },
    {
      "cell_type": "code",
      "metadata": {
        "id": "VF3QIVLltE97"
      },
      "source": [
        "for valor in range(10,0,-1):\n",
        "    print(valor)"
      ],
      "execution_count": null,
      "outputs": []
    },
    {
      "cell_type": "markdown",
      "metadata": {
        "id": "m92Vb5YxtxJ_"
      },
      "source": [
        "Uma outra forma interessante de utilização do *for* em Python é para percorrer os caracteres de uma string, um a um. Uma string pode ser vista como uma lista de caracteres, podendo assim ser utilizada na lista de valores do *for*. Veja o exemplo abaixo."
      ]
    },
    {
      "cell_type": "code",
      "metadata": {
        "id": "k1j3rhjquC6x"
      },
      "source": [
        "frase=\"A chuva caiu.\"\n",
        "for caracter in frase:\n",
        "    print(caracter)"
      ],
      "execution_count": null,
      "outputs": []
    },
    {
      "cell_type": "markdown",
      "metadata": {
        "id": "xy9di7LIujsk"
      },
      "source": [
        "Por fim, uma outra função importante do Python é a função *enumerate*. A combinação desta função com o *for* permite que sejam acessados tanto o valor do índice, ou seja, da posição de determinado valor na lista, quanto do próprio valor em si. A sintaxe do *for* passa a ser um pouco diferente, pois nesse caso o programador precisa informar dois nomes de variáveis separados por vírgula, um para o índice e o outro para o valor. Veja o exemplo abaixo."
      ]
    },
    {
      "cell_type": "code",
      "metadata": {
        "id": "eLkU3a-ovDd2"
      },
      "source": [
        "frase=\"A chuva caiu.\"\n",
        "for pos,valor in enumerate(frase):\n",
        "    print(f\"Na posição {pos} temos o caractere: {valor}\")"
      ],
      "execution_count": null,
      "outputs": []
    },
    {
      "cell_type": "markdown",
      "metadata": {
        "id": "hIDx1S6ylzRG"
      },
      "source": [
        "## 3. Variáveis Compostas"
      ]
    },
    {
      "cell_type": "markdown",
      "metadata": {
        "id": "h6sDw0vGlzNA"
      },
      "source": [
        "A linguagem Python oferece diversos tipos de variáveis compostas. Lembrando que variáveis compostas podem referenciar não apenas um endereço na memória, mas diversos endereços através de um único nome e e a utilização de índices. Na semana 2 de nossa disciplina estudamos variáveis compostas homogêneas, chamadas de vetores quando unidimensionais e matrizes quando multidimensionais.\n",
        "\n",
        "Tais estruturas de dados podem ser representadas em Python, entretanto existem algumas diferenças importantes. Nesta seção apresentaremos duas das principais variáveis compostas disponíveis nativamente em Python: as listas e os dicionários."
      ]
    },
    {
      "cell_type": "markdown",
      "metadata": {
        "id": "ZAoNhYPpmKUZ"
      },
      "source": [
        "### **Listas**"
      ]
    },
    {
      "cell_type": "markdown",
      "metadata": {
        "id": "6N8y71TimJ_8"
      },
      "source": [
        "Uma lista em Python é uma variável composta indexada por valores númericos. A principal diferença de uma lista para um vetor ou uma matriz é que ela permite o armazenamento de dados de diferentes tipos de forma simultânea. Ou seja, diferentemente das variáveis compostas homogêneas que estudamos em Portugol, listas em Python são variáveis compostas heterogênenas. \n",
        "\n"
      ]
    },
    {
      "cell_type": "markdown",
      "metadata": {
        "id": "cF1tz6_-y2PB"
      },
      "source": [
        "#### Declaração de listas"
      ]
    },
    {
      "cell_type": "markdown",
      "metadata": {
        "id": "EBB5rps0s_gP"
      },
      "source": [
        "Listas são declaradas no momento da atribuição de valores, assim como as demais variáveis em Python. É possível declarar uma lista vazia, sem elementos, ou uma lista que começa com um certo número de elementos. O símbolo utilizado para representar listas é o colchete. Veja abaixo alguns exemplos de declaração de listas."
      ]
    },
    {
      "cell_type": "code",
      "metadata": {
        "id": "7GRFUME_tYZ2"
      },
      "source": [
        "#declarando uma lista vazia\n",
        "lista = []\n",
        "print(lista)"
      ],
      "execution_count": null,
      "outputs": []
    },
    {
      "cell_type": "code",
      "metadata": {
        "id": "om810KhNtfS6"
      },
      "source": [
        "#declarando uma lista com inteiros\n",
        "lista= [3,9,2,1,22]\n",
        "print(lista)"
      ],
      "execution_count": null,
      "outputs": []
    },
    {
      "cell_type": "code",
      "metadata": {
        "id": "FvLq81NPthX-"
      },
      "source": [
        "#declarando uma lista com floats\n",
        "lista=[1.1,2.0,3,9,15.2]\n",
        "print(lista)"
      ],
      "execution_count": null,
      "outputs": []
    },
    {
      "cell_type": "code",
      "metadata": {
        "id": "4ug3KDEFtj4c"
      },
      "source": [
        "#declarando uma lista com inteiros, floats e caracteres\n",
        "lista=[7.2,\"a\",5,9.7,\"casa\"]\n",
        "print(lista)"
      ],
      "execution_count": null,
      "outputs": []
    },
    {
      "cell_type": "markdown",
      "metadata": {
        "id": "JjvW-LMqx7kc"
      },
      "source": [
        "Perceba como nos primeiros exemplos, apesar de muitos valores terem sido colocados na lista, todos eles pertenciam a um mesmo tipo de dado (inteiros ou floats). Tal comportamento se assemelha aos vetores que estudamos em Portugol.\n",
        "\n",
        "Entretanto o último exemplo mostra como as listas em Python são mais flexíveis, permitindo o armazenamento de múltiplos tipos de dados em uma mesma variável, configurando-se assim como variáveis compostas heterogêneas. \n",
        "\n",
        "Note que as listas podem armazenar qualquer tipo de dado, incluindo outras listas. Uma matriz em Python, ou de forma geral variáveis compostas multidimensionais, são representadas desta forma, usando listas de listas. Por exemplo, uma matriz bidimensional de 3 linhas por 3 colunas, é representada em Python através de uma lista que armazena 3 listas, tendo cada uma destas listas 3 elementos. Cada lista armazenada é uma linha da matriz, enquanto cada elemento destas listas é uma coluna daquela linha. Veja o exemplo abaixo. "
      ]
    },
    {
      "cell_type": "code",
      "metadata": {
        "id": "F-g6HEb4zOxd"
      },
      "source": [
        "#representação de matriz usando listas - perceba que as quebras de linha foram inseridas apenas para uma maior clareza, elas não são necessárias\n",
        "matriz=[\n",
        "        [1,2,3],\n",
        "        [4,5,6],\n",
        "        [7,8,9]\n",
        "       ]\n",
        "print(matriz)"
      ],
      "execution_count": null,
      "outputs": []
    },
    {
      "cell_type": "markdown",
      "metadata": {
        "id": "hhCaLj-ub0hm"
      },
      "source": [
        "#### Acessando elementos de uma lista\n"
      ]
    },
    {
      "cell_type": "markdown",
      "metadata": {
        "id": "LA_ZlZvdyvgM"
      },
      "source": [
        "\n",
        "O elementos de uma lista são acessados pelo nome da variável, seguido de um ou mais índices (no caso de listas de listas) entre colchetes. Ver a tabela e o exemplo abaixo.\n",
        "\n",
        "Para o exemplo abaixo temos:\n",
        "\n",
        "```\n",
        "lista=[7.2,\"a\",5,9.7,\"casa\",\"100\"]\n",
        "```\n",
        "\n",
        "Índice:| 0 | 1 | 2 | 3 | 4 | 5 \n",
        "--- | --- | --- | --- | --- | ---| --- | \n",
        "valor:|7.2|\"a\"|5|9.7|\"casa\"|100|"
      ]
    },
    {
      "cell_type": "code",
      "metadata": {
        "id": "_AEdDvog2R5f"
      },
      "source": [
        "lista=[7.2,\"a\",5,9.7,\"casa\",\"100\"]\n",
        "print(lista[2])\n",
        "print(lista[3])\n",
        "print(lista[4])"
      ],
      "execution_count": null,
      "outputs": []
    },
    {
      "cell_type": "markdown",
      "metadata": {
        "id": "8PwE0u0njvwS"
      },
      "source": [
        "Fique atento para que seus programas não tentem acessar índices inexistentes em uma lista, isso irá gerar um erro como mostrado no exemplo abaixo."
      ]
    },
    {
      "cell_type": "code",
      "metadata": {
        "id": "ZXdVetdOkLa_"
      },
      "source": [
        "lista=[10,22,35]\n",
        "print(f\"Primeiro elemento {lista[0]}\")\n",
        "print(f\"Segundo elemento {lista[1]}\")\n",
        "print(f\"Terceiro elemento {lista[2]}\")\n",
        "print(lista[3])#!!!! índice inexistente, irá gerar um erro"
      ],
      "execution_count": null,
      "outputs": []
    },
    {
      "cell_type": "markdown",
      "metadata": {
        "id": "G2j_Hz_1238f"
      },
      "source": [
        "Quando temos listas dentro de listas como no exemplo abaixo, temos diversas possibilidades de acesso. Se utilizarmos apenas o nome da variável, sem índices, acessamos todos os valores simultamente. Ao utilizar apenas um índice, acessamos todos os valores de uma determinada linha. E por fim, ao utilizar dois índices, o primeiro se refere a uma determinada linha, e o segundo a um elemento dela, como mostra o exemplo abaixo.\n",
        "\n",
        "```\n",
        "matriz=[[1, 2, 3], [4, 5, 6], [7, 8, 9]]\n",
        "```\n",
        "\n",
        "Índice:| 0 | 1 | 2  \n",
        "--- | --- | --- | --- | \n",
        "valor:|[1, 2, 3]|[4, 5, 6]|[7, 8, 9]"
      ]
    },
    {
      "cell_type": "code",
      "metadata": {
        "id": "Xmo-6BtE2oGP"
      },
      "source": [
        "matriz=[\n",
        "        [1,2,3],\n",
        "        [4,5,6],\n",
        "        [7,8,9]\n",
        "       ]\n",
        "#mostrando todos os elementos\n",
        "print(matriz)\n",
        "#mostrando uma linha por vez\n",
        "print(f\"Linha 1={matriz[0]}\")\n",
        "print(f\"Linha 2={matriz[1]}\")\n",
        "print(f\"Linha 3={matriz[2]}\")\n",
        "#mostrando o segundo elemento terceira linha\n",
        "print(f'Este é o segundo elemento da terceira linha: {matriz[2][1]}')"
      ],
      "execution_count": null,
      "outputs": []
    },
    {
      "cell_type": "code",
      "metadata": {
        "id": "_aK9OKFhRjur"
      },
      "source": [
        "#exemplo que percorre e imprime a matriz com dois whiles - não esqueça de executar primeiro a célula anterior que declara a matriz\n",
        "i=0\n",
        "while i<3:\n",
        "    j=0\n",
        "    while j<3:\n",
        "        print(f\"{matriz[i][j]} \",end=\"\") #dica: ao utilizar o parâmetro end=\"\" realizamos o print sem quebra de linha\n",
        "        j=j+1\n",
        "    print() #este print serve para realizar a quebra de linha a cada linha da matriz\n",
        "    i=i+1"
      ],
      "execution_count": null,
      "outputs": []
    },
    {
      "cell_type": "code",
      "metadata": {
        "id": "ZWD5FFWjQibn"
      },
      "source": [
        "#exemplo que percorre e imprime a matriz utilizando dois laços de repetição for - perceba como o codigo fica bem mais simples\n",
        "for linha in matriz:\n",
        "    for valorColuna in linha:\n",
        "        print(f\"{valorColuna} \",end=\"\") \n",
        "    print()"
      ],
      "execution_count": null,
      "outputs": []
    },
    {
      "cell_type": "markdown",
      "metadata": {
        "id": "vrNuVWwicGxf"
      },
      "source": [
        "#### Modificando valores em uma lista"
      ]
    },
    {
      "cell_type": "markdown",
      "metadata": {
        "id": "pPTMQeZMS2sN"
      },
      "source": [
        "Você percebeu que acessamos aos elementos de uma lista da mesma forma que acessamos os caracteres de uma string? Isso mesmo, usamos índices para acessar tanto os elementos de uma lista, quanto os caracteres de uma string. Com uma lista porém, diferente das strings que não nos permitem modificar caracteres individualmente, é possível modificar os elementos da lista fazendo uma atribuição a posição desejada, conforme mostra o exemplo abaixo."
      ]
    },
    {
      "cell_type": "markdown",
      "metadata": {
        "id": "YR7Z7Yr8TKl9"
      },
      "source": [
        "**Exemplo 1.** Recebe 5 valores informados pelo usuário, e ao final mostra a soma e a média dos valores\n"
      ]
    },
    {
      "cell_type": "code",
      "metadata": {
        "id": "uD50mkz_tCTP"
      },
      "source": [
        "contador=0\n",
        "soma=0\n",
        "listaValor=[0,0,0,0,0] #inicializamos a lista com valores 0\n",
        "while contador<5:\n",
        "    valor=float(input(f\"Digite um valor numérico ({contador+1} de 5): \"))\n",
        "    listaValor[contador]=valor #modificamos o valor atribuído inicialmente pelo valor informado pelo usuário\n",
        "    soma=soma+valor\n",
        "    contador=contador+1\n",
        "print(f\"O usuário informou os seguintes valores: {listaValor}\")\n",
        "print(f\"A soma desta valores é {soma} e a média é {soma/contador}\") #perceba como é possível utilizar expressões com o formato f-string"
      ],
      "execution_count": null,
      "outputs": []
    },
    {
      "cell_type": "markdown",
      "metadata": {
        "id": "C4b1WNFZWlp_"
      },
      "source": [
        "#### Fatiamento (slicing) de listas"
      ]
    },
    {
      "cell_type": "markdown",
      "metadata": {
        "id": "wz1QG_-ccP3x"
      },
      "source": [
        "Assim como as strings, as listas em Python permitem a realização do fatiamento ou *slicing*, permitindo o acesso a partes específicas das listas. Através da especificação de um índice inicial e final, separados por dois pontos, podemos acessar parte da lista contida no intervalo informado, conforme mostra o exemplo abaixo."
      ]
    },
    {
      "cell_type": "code",
      "metadata": {
        "id": "qhU4iF17XoVi"
      },
      "source": [
        "lista=[1,2,3,4,5,6,7,8,9]\n",
        "print(lista[2:5]) #lembre-se que o fatiamento considera o intervalo [inicio,fim), isto é, fechado no início e aberto no fim"
      ],
      "execution_count": null,
      "outputs": []
    },
    {
      "cell_type": "markdown",
      "metadata": {
        "id": "heD-dLyUX-wK"
      },
      "source": [
        "O fatiamento de listas funciona exatamente da mesma forma como estudamos nas strings, com a diferença que podemos modificar valores específicos da lista usando o fatiamento, veja o exemplo abaixo."
      ]
    },
    {
      "cell_type": "code",
      "metadata": {
        "id": "MnFkq-EAYPD7"
      },
      "source": [
        "lista=[1,2,3,4,5,6,7,8,9]\n",
        "lista[2:5]=[30,40,50]\n",
        "print(lista)"
      ],
      "execution_count": null,
      "outputs": []
    },
    {
      "cell_type": "markdown",
      "metadata": {
        "id": "tAxXkt6gYoHO"
      },
      "source": [
        "#### Cópia de listas"
      ]
    },
    {
      "cell_type": "markdown",
      "metadata": {
        "id": "jY1QXmVIYq8h"
      },
      "source": [
        "É muito importante entender o comportamento da cópia de listas em Python. Ao copiar uma lista atribuindo uma determinada variável a outra, como mostra o exemplo abaixo, estamos na verdade apontando as duas variáveis para o mesmo endereço de memória. Assim, ao alterarmos o valor de uma variável, estaremos alterando também o valor da outra, pois as duas apontam para o mesmo endereço da memória. \n"
      ]
    },
    {
      "cell_type": "code",
      "metadata": {
        "id": "HnpGCutZZOC8"
      },
      "source": [
        "lista1=[1,2,3,4,5]\n",
        "\n",
        "print(f\"A variável lista1 começa com estes valores {lista1}\")\n",
        "\n",
        "lista2=lista1 #ao fazer isso estamos apontando as duas variáveis, lista1 e lista2, para o mesmo endereço de memória\n",
        "\n",
        "lista2[0]=100 #desta forma, ao alterarmos o primeiro valor de lista2, estaremos alterando também o primeiro valor de lista1\n",
        "\n",
        "print(f\"Os valores de lista2 após a alteração são {lista2}\")\n",
        "print(f\"Os valores de lista1 agora são {lista1}\")"
      ],
      "execution_count": null,
      "outputs": []
    },
    {
      "cell_type": "markdown",
      "metadata": {
        "id": "gVTBGfxoaAGZ"
      },
      "source": [
        "Isso pode parecer confuso, e talvez você não entenda exatamente o porquê deste comportamento. Entretanto é muito importante que você se lembre dele ao escrever os seus programas. Você deve estar se perguntando \"e como eu faço para efetivamente copiar uma lista?\", não é mesmo? Vamos utilizar o fatiamento para realizar tal operação. Lembre-se que se não especificarmos o primeiro ou o último elemento do fatiamento estamos nos referindo ao primeiro e ao último elemento da lista. Assim, ao não informar ambos, estamos acessando todos os valores de uma lista, que são assim devidamente copiados para outra variável como mostra o exemplo abaixo. "
      ]
    },
    {
      "cell_type": "code",
      "metadata": {
        "id": "9jgh4K-hbNar"
      },
      "source": [
        "lista1=[1,2,3,4,5]\n",
        "\n",
        "print(f\"A variável lista1 começa com estes valores {lista1}\")\n",
        "\n",
        "lista2=lista1[:] #perceba que estamos utilizando o fatiamento sem especificar o índice inicial e final, retornando assim uma cópia da lista\n",
        "\n",
        "lista2[0]=100 #nesse caso estamos efetivamente alterando a cópia da lista1, e não mais o mesmo endereço da memória como no exemplo anterior\n",
        "\n",
        "print(f\"Os valores de lista2 após a alteração são {lista2}\")\n",
        "print(f\"Os valores de lista1 continuam sendo {lista1}\")"
      ],
      "execution_count": null,
      "outputs": []
    },
    {
      "cell_type": "code",
      "metadata": {
        "id": "m8s_ZZ9tYp5S"
      },
      "source": [
        ""
      ],
      "execution_count": null,
      "outputs": []
    },
    {
      "cell_type": "markdown",
      "metadata": {
        "id": "6unrk0dRg0ny"
      },
      "source": [
        "#### Tamanho de listas"
      ]
    },
    {
      "cell_type": "markdown",
      "metadata": {
        "id": "sbiyRfA-g3uI"
      },
      "source": [
        "Novamente, assim como a função *len* retorna o tamanho de uma string, essa mesma função retorna o tamanho de uma lista, como mostram os exemplos abaixo. "
      ]
    },
    {
      "cell_type": "code",
      "metadata": {
        "id": "z065VoDMhM5L"
      },
      "source": [
        "lista=[50,40,30,20,10]\n",
        "tamanhoLista=len(lista)\n",
        "print(f\"O tamanho da lista é {tamanhoLista}\")"
      ],
      "execution_count": null,
      "outputs": []
    },
    {
      "cell_type": "markdown",
      "metadata": {
        "id": "d3CDbMgfhcdw"
      },
      "source": [
        "A função len é frequentemente utilizada ao utilizar um while para percorrer uma lista da qual não sabemos o tamanho, assim garantimos que não vamos tentar acessar um índice que não existe na lista. Veja o exemplo do código abaixo."
      ]
    },
    {
      "cell_type": "code",
      "metadata": {
        "id": "SFv3IDsylITN"
      },
      "source": [
        "lista=[33,66,99,132] #note que você pode remover ou adicionar elementos da lista e o programa continuará funcionando\n",
        "pos=0\n",
        "while pos<len(lista):\n",
        "    print(f\"Elemento {pos+1} = {lista[pos]}\")\n",
        "    pos=pos+1"
      ],
      "execution_count": null,
      "outputs": []
    },
    {
      "cell_type": "markdown",
      "metadata": {
        "id": "yCit3Kflg4IJ"
      },
      "source": [
        "#### Adição de elementos em uma lista"
      ]
    },
    {
      "cell_type": "markdown",
      "metadata": {
        "id": "w9IZeZnQg5ro"
      },
      "source": [
        "Muitas vezes é necessário adicionar novos elementos em uma lista, e isso é possível em Python através da função append. Para utilizá-la, escreve-se o nome da variável (do tipo lista) na qual queremos adicionar um elemento, seguida de um ponto ( . ) e o nome da função append, sem espaços, conforme mostrado abaixo.\n",
        "\n",
        "```\n",
        "<nome_da_variavel>.append(<novo_elemento>)\n",
        "```\n",
        "Veja abaixo alguns exemplo de utilização da função *append*.\n"
      ]
    },
    {
      "cell_type": "code",
      "metadata": {
        "id": "iaaOSSHQnnRz"
      },
      "source": [
        "lista=[]#declara uma lista vazia\n",
        "lista.append(5)\n",
        "lista.append(18)\n",
        "print(lista)"
      ],
      "execution_count": null,
      "outputs": []
    },
    {
      "cell_type": "code",
      "metadata": {
        "id": "P_Ew3iU8nt1Z"
      },
      "source": [
        "#programa que lê um número de valores indefinidos informados pelo usuário até que ele digite 0, e imprime a soma, a média e o número de valores\n",
        "listaValores=[] #declara uma lista vazia\n",
        "soma=0 \n",
        "while True:\n",
        "    valor=float(input(\"Digite um valor numérico (digite 0 para encerrar): \"))\n",
        "    if valor==0:\n",
        "        break; #lembre-se que a instrução break interrompe explicitamente um laço de repetição\n",
        "    listaValores.append(valor) #adiciona o valor informado à lista\n",
        "    soma=soma+valor\n",
        "numeroValores=len(listaValores) #usa a função len para verificar o número de valores na lista\n",
        "print(f\"O usuário informou {numeroValores} valor(es), a soma deste(s) é {soma:.1f} e a média é {soma/numeroValores:.1f}\")\n",
        "print(f\"Os valores informados pelo usuário foram: {listaValores}\")"
      ],
      "execution_count": null,
      "outputs": []
    },
    {
      "cell_type": "markdown",
      "metadata": {
        "id": "xmS4ljD9r2dO"
      },
      "source": [
        "É possível adicionar elementos em uma lista através do operador + (soma). Note que neste caso não estamos realizando operações matemáticas, quando os operandos do operador + são listas, a operação realizada é similar a concatenação de strings, porém estamos concatenando listas. Veja exemplos a seguir."
      ]
    },
    {
      "cell_type": "code",
      "metadata": {
        "id": "xam8XT0_sKIy"
      },
      "source": [
        "lista=[\"a\",1,\"b\",2,\"c\"]\n",
        "print(f\"Lista com valores iniciais {lista}\")\n",
        "lista=lista+[3]\n",
        "print(f\"Lista após a adição de elemento {lista}\")"
      ],
      "execution_count": null,
      "outputs": []
    },
    {
      "cell_type": "code",
      "metadata": {
        "id": "26DL55p9sZZE"
      },
      "source": [
        "#exemplo de concatenação de listas\n",
        "lista1=[1,2,3]\n",
        "lista2=[4,5,6]\n",
        "lista3=lista1+lista2\n",
        "print(f\"Listas concatenadas {lista3}\")"
      ],
      "execution_count": null,
      "outputs": []
    },
    {
      "cell_type": "markdown",
      "metadata": {
        "id": "pxAgaKGfg6ML"
      },
      "source": [
        "#### Remoção de elementos de uma lista"
      ]
    },
    {
      "cell_type": "markdown",
      "metadata": {
        "id": "yVS5WEi1qpMf"
      },
      "source": [
        "Por vezes pode ser necessária a remoção de elementos de uma lista. Da mesma forma que podemos inserir novos elementos a uma lista, podemos também apagar elementos existentes. A sintaxe é um pouco diferente da adição de elementos, para apagar elementos usamos a instrução *del*, que precede o elemento que desejamos remover. Sempre que um elemento da lista é apagado, os índices são reorganizados. Veja abaixo alguns exemplos.\n"
      ]
    },
    {
      "cell_type": "code",
      "metadata": {
        "id": "4I8Jth8EqNeW"
      },
      "source": [
        "lista=[\"ABC\",4.7,10,22,\"novo\",33,44]\n",
        "print(f\"Os valores iniciais da lista são {lista}\")\n",
        "print(f\"Valor no índice 5 = {lista[5]}\")\n",
        "del lista[4]\n",
        "print(f\"Elemento de índice 4 apagado, os valores da lista são {lista}\")\n",
        "print(f\"Valor no índice 5 = {lista[5]}\")\n",
        "#tenha cuidado para não tentar acessar índices inexistentes após a remoção de elementos - note que o índice 6 existia antes da remoção, mas não mais após a remoção"
      ],
      "execution_count": null,
      "outputs": []
    },
    {
      "cell_type": "markdown",
      "metadata": {
        "id": "SlPcET3WBs73"
      },
      "source": [
        "Perceba que a função *del* pode ser usada também para apagar variáveis simples, isto é, liberar a memória utilizada por ela, e também apagar elementos de outras estruturas de dados, como os dicionários que serão apresentados a seguir."
      ]
    },
    {
      "cell_type": "markdown",
      "metadata": {
        "id": "iuaU6loemN0K"
      },
      "source": [
        "### **Dicionários**"
      ]
    },
    {
      "cell_type": "markdown",
      "metadata": {
        "id": "wgg3AnWCmNuF"
      },
      "source": [
        "Recapitulando, as listas em Python são estruturas de dados compostas, isto é, permitem o armazenamento de múltiplos valores, heterogêneos, os valores podem ser de diferentes tipos de dados. Para acessar cada elemento de uma lista usamos um índice numérico, mais especificamente um valor inteiro.\n",
        "\n",
        "A linguagem Python oferece uma outra estrutura de dados importante chamada de **dicionário**. Os dicionários tem um comportamento similar ao das listas, entretanto além da utilização de índices númericos, eles permitem a utilização de strings (e até mesmo outros tipos de dados) para indexar valores, criando assim uma estrutura de chaves-valores. Tal estrutura é muito útil em diversas ocasiões, por um exemplo quando queremos armazenar de forma intuitiva os dados da tabela de preços abaixo.\n",
        "\n",
        "Produto|Preço\n",
        "---|---\n",
        "Banana| 2.50\n",
        "Alface| 1.20\n",
        "Tomate| 3.70\n",
        "\n",
        "Os dicionários são representados e declarados utilizando chaves ({}), chaves e valores são separados por dois-pontos (:), e cada par chave-valor é separado por vírgulas (,). Veja a sintaxe abaixo para a declaração de um dicionário.\n",
        "\n",
        "```\n",
        "<variável>={<chave1>:<valo1>,<chave2>:<valor2>, ... ,<chaveN:valorN>}\n",
        "```\n",
        "Veja a seguir um exemplo do código em que a tabela de preços acima é representada utilizando um dicionário. \n"
      ]
    },
    {
      "cell_type": "code",
      "metadata": {
        "id": "IKYoVxOGtTDw"
      },
      "source": [
        "tabela={\"Banana\":2.50 ,\"Alface\":1.20,\"Tomate\":3.70}\n",
        "print(f'O preço do tomate é R$ {tabela[\"Tomate\"]:.2f}') "
      ],
      "execution_count": null,
      "outputs": []
    },
    {
      "cell_type": "markdown",
      "metadata": {
        "id": "UJGWsqiLvoPD"
      },
      "source": [
        "Como vimos no exemplo acima, o acesso aos elementos de um dicionário é feito de maneira semelhante ao acesso aos elementos de uma lista, com a diferença que utilizamos as chaves como índices, e tais chaves podem ser do tipo string, por exemplo. Na realidade em um mesmo dicionário podemos ter chaves de tipos diferentes como strings, inteiros e mesmo floats como mostra o exempo abaixo."
      ]
    },
    {
      "cell_type": "code",
      "metadata": {
        "id": "4ncAfUT4wYKh"
      },
      "source": [
        "multiChaves={7.2:\"chave do tipo float\",\"segundo valor\":\"chave do tipo string\",9:\"chave do tipo inteiro\"}\n",
        "print(f\"Primeiro elemento: {multiChaves[7.2]}\")\n",
        "print(f\"Segundo elemento: {multiChaves['segundo valor']}\")\n",
        "print(f\"Terceiro elemento: {multiChaves[9]}\")"
      ],
      "execution_count": null,
      "outputs": []
    },
    {
      "cell_type": "markdown",
      "metadata": {
        "id": "0CKtCI4VxX3u"
      },
      "source": [
        "#### Adição de elementos em um dicionário\n"
      ]
    },
    {
      "cell_type": "markdown",
      "metadata": {
        "id": "_Pjrxz6b03W6"
      },
      "source": [
        "Ao atribuir um valor a um índice (chave) existente de um dicionário, substituímos o valor armazenado anteriormente. Quando atribuimos um valor a um índice inexistente, estamos na realidade adicionando um novo valor ao dicionário, e o índice antes inexistente, passa a referenciar o valor recém atribuído. Veja o exemplo a seguir.\n",
        "\n"
      ]
    },
    {
      "cell_type": "code",
      "metadata": {
        "id": "gVzKwTGsxtMA"
      },
      "source": [
        "tabela={\"Banana\":2.50 ,\"Alface\":1.20,\"Tomate\":3.70}\n",
        "print(f\"Tabela inicial = {tabela}\")\n",
        "tabela[\"Feijão\"]=5.20 #adição de elemento\n",
        "tabela[\"Alface\"]=0.95 #alteração de valor\n",
        "print(f'Nova tabela = {tabela}')"
      ],
      "execution_count": null,
      "outputs": []
    },
    {
      "cell_type": "markdown",
      "metadata": {
        "id": "PqADvcqxMCze"
      },
      "source": [
        "O operador *in* permite verificar a existência de uma chave em um dicionário. Este operador é bastante útil para a utilização de dicionários como contadores. Veja o exemplo abaixo."
      ]
    },
    {
      "cell_type": "code",
      "metadata": {
        "id": "Im0YLKWeMTqc"
      },
      "source": [
        "#conta o número de vezes que o usuário digitou uma palavra, até que ele digite 0\n",
        "contador={}\n",
        "while True:\n",
        "    palavra=input(\"Digite uma palavra ou 0 para encerrar o programa: \")\n",
        "    if palavra==\"0\":\n",
        "        break;\n",
        "    else:\n",
        "        if palavra in contador: #se a palavra já for uma chave do dicionário, incrementar o contador\n",
        "            contador[palavra]=contador[palavra]+1\n",
        "        else: #se a palavra informada não for uma chave, atribua o valor 1 a ela\n",
        "            contador[palavra]=1\n",
        "print(f\"A contagem de palavras foi a seguinte: {contador}\")"
      ],
      "execution_count": null,
      "outputs": []
    },
    {
      "cell_type": "markdown",
      "metadata": {
        "id": "2k4lABhG2mvV"
      },
      "source": [
        "#### Acessando apenas as chaves de um dicionário"
      ]
    },
    {
      "cell_type": "markdown",
      "metadata": {
        "id": "dl9MyemU28k8"
      },
      "source": [
        "A função *keys* retorna as chaves de um determinado dicionário, podendo ser utilizada como mostram os exemplos abaixo."
      ]
    },
    {
      "cell_type": "code",
      "metadata": {
        "id": "5QfDzw_l3Huq"
      },
      "source": [
        "tabela={\"Banana\":2.50 ,\"Alface\":1.20,\"Tomate\":3.70}\n",
        "print(tabela.keys())"
      ],
      "execution_count": null,
      "outputs": []
    },
    {
      "cell_type": "markdown",
      "metadata": {
        "id": "vIw2W7lp3fZI"
      },
      "source": [
        "Entretanto é importante destacar que a função *keys* não retorna diretamente uma lista em Python, ela retorna um tipo de dado chamado dict_keys. Por esse motivo não é possível utilizar índices para acessar as chaves retornadas. As duas principais formas de acessar tais valores são: (i) convertendo o retorno da função keys para uma lista, e (ii) usando tal retorno em conjunto com um laço de repetição for. Veja exemplos abaixo."
      ]
    },
    {
      "cell_type": "code",
      "metadata": {
        "id": "Hb75SBYL3W14"
      },
      "source": [
        "#convertando o retorno da função keys para uma lista\n",
        "tabela={\"Banana\":2.50 ,\"Alface\":1.20,\"Tomate\":3.70}\n",
        "listaChaves = list(tabela.keys())\n",
        "print(f\"Primeira chave: {listaChaves[0]}\")\n",
        "print(f\"Primeira chave: {listaChaves[1]}\")\n",
        "print(f\"Primeira chave: {listaChaves[2]}\")"
      ],
      "execution_count": null,
      "outputs": []
    },
    {
      "cell_type": "code",
      "metadata": {
        "id": "5SKKxXHb4klv"
      },
      "source": [
        "#combinando o retorno da função keys com um laço de repetição for\n",
        "tabela={\"Banana\":2.50 ,\"Alface\":1.20,\"Tomate\":3.70}\n",
        "contador=1\n",
        "for chave in tabela.keys():\n",
        "    print(f\"Chave {contador} = {chave}\")\n",
        "    contador=contador+1\n"
      ],
      "execution_count": null,
      "outputs": []
    },
    {
      "cell_type": "markdown",
      "metadata": {
        "id": "ByLWmlwt20X0"
      },
      "source": [
        "#### Acessando apenas os valores de um dicionário"
      ]
    },
    {
      "cell_type": "markdown",
      "metadata": {
        "id": "gbIuupDQ8dWg"
      },
      "source": [
        "De forma análoga a função *keys*, a função *values* retorna apenas os valores de um dicionário. Lembre-se, assim como a função *keys*, o retorno da função *values* não é uma lista, e sim um tipo específico chamado dict_values. Assim, para acessar cada elemento usa-se a conversão dele para listas, ou usa-se um laço de repetição for. "
      ]
    },
    {
      "cell_type": "code",
      "metadata": {
        "id": "PLk1Mx9L8eAp"
      },
      "source": [
        "#acessando apenas os valores de um dicionário\n",
        "dicionario={202:\"Sala de aula\",101:\"Secretaria\",103:\"Auditório\"}\n",
        "for valor in dicionario.values():\n",
        "    print(f\"Valor = {valor}\")"
      ],
      "execution_count": null,
      "outputs": []
    },
    {
      "cell_type": "markdown",
      "metadata": {
        "id": "Tg0kDUKV9_aK"
      },
      "source": [
        "#### Iterando chaves e valores de um dicionário\n",
        "A função *items* retorna todos os pares de chave-valor contidos em um dicionário. Ao combiná-la com um laço de repetição for, por exemplo, é possível percorrer cada elemento de um dicionário, acessando ambos chave e valor de cada elemento. Veja o exemplo abaixo."
      ]
    },
    {
      "cell_type": "code",
      "metadata": {
        "id": "mBYRqU3299vi"
      },
      "source": [
        "tabela={\"Banana\":2.50 ,\"Alface\":1.20,\"Tomate\":3.70}\n",
        "for chave,valor in tabela.items():\n",
        "    print(f\"Compre {chave} por apenas R$ {valor:.2f}\")"
      ],
      "execution_count": null,
      "outputs": []
    },
    {
      "cell_type": "markdown",
      "metadata": {
        "id": "AViMdR9526V8"
      },
      "source": [
        "#### Cópia de dicionários\n"
      ]
    },
    {
      "cell_type": "markdown",
      "metadata": {
        "id": "pg-rjb388fo6"
      },
      "source": [
        "Note que da mesma forma como acontece com as listas, ao atribuirmos um dicionário a uma outra variável, estamos apenas apontando as duas variáveis para o mesmo endereço de memória. Assim para realizar a cópia de um dicionário usa-se a função *copy*, veja exemplos abaixo."
      ]
    },
    {
      "cell_type": "code",
      "metadata": {
        "id": "xNy2WjK3vfqr",
        "outputId": "9957b4fc-6ccc-4bc4-a143-0c3cb6fd2d41",
        "colab": {
          "base_uri": "https://localhost:8080/",
          "height": 68
        }
      },
      "source": [
        "#atribuição simples faz as variáveis apontarem para o mesmo endereço de memória\n",
        "dic1={202:\"Sala de aula\",101:\"Secretaria\",103:\"Auditório\"}\n",
        "print(f\"Valores em dic1 antes da mudança {dic1}\")\n",
        "dic2=dic1\n",
        "dic2[202]=\"Mudança de sala - Direção\"\n",
        "print(f\"Valores em dic2 {dic2}\")\n",
        "print(f\"Valores em dic1 {dic1}\")"
      ],
      "execution_count": null,
      "outputs": [
        {
          "output_type": "stream",
          "text": [
            "Valores em dic1 antes da mudança {202: 'Sala de aula', 101: 'Secretaria', 103: 'Auditório'}\n",
            "Valores em dic2 {202: 'Mudança de sala - Direção', 101: 'Secretaria', 103: 'Auditório'}\n",
            "Valores em dic1 {202: 'Mudança de sala - Direção', 101: 'Secretaria', 103: 'Auditório'}\n"
          ],
          "name": "stdout"
        }
      ]
    },
    {
      "cell_type": "code",
      "metadata": {
        "id": "DZTmN3iCAfKu",
        "outputId": "7854a95b-2c8a-47b7-fcb8-021d7b8b87ee",
        "colab": {
          "base_uri": "https://localhost:8080/",
          "height": 68
        }
      },
      "source": [
        "#cópia usando copy cria dois dicionários (duas áreas de memória) diferentes\n",
        "dic1={202:\"Sala de aula\",101:\"Secretaria\",103:\"Auditório\"}\n",
        "print(f\"Valores em dic1 antes da mudança {dic1}\")\n",
        "dic2=dic1.copy() #atribui a dic2 uma cópia do dicionário armazenado na variável dic1\n",
        "dic2[202]=\"Mudança de sala - Direção\"\n",
        "print(f\"Valores em dic2 {dic2}\")\n",
        "print(f\"Valores em dic1 {dic1}\")"
      ],
      "execution_count": null,
      "outputs": [
        {
          "output_type": "stream",
          "text": [
            "Valores em dic1 antes da mudança {202: 'Sala de aula', 101: 'Secretaria', 103: 'Auditório'}\n",
            "Valores em dic2 {202: 'Mudança de sala - Direção', 101: 'Secretaria', 103: 'Auditório'}\n",
            "Valores em dic1 {202: 'Sala de aula', 101: 'Secretaria', 103: 'Auditório'}\n"
          ],
          "name": "stdout"
        }
      ]
    },
    {
      "cell_type": "markdown",
      "metadata": {
        "id": "foPI6igaly9c"
      },
      "source": [
        "## 4. Busca e Ordenação"
      ]
    },
    {
      "cell_type": "markdown",
      "metadata": {
        "id": "A0jeXVt8lyhZ"
      },
      "source": [
        "Como estudamos anteriormente, é bastante comum na construção de programas, a necessidade de buscar valores específicos em uma lista ou dicionário. Ou mesmo realizar a ordenação dos elementos de uma lista. Como já estudado anteriormente, existem diversas estratégias para realizar busca e ordenação de variáveis compostas. A seguir, serão apresentadas duas destas estratégias utilizando listas em Python, a busca linear e o algoritmo de ordenação por seleção. "
      ]
    },
    {
      "cell_type": "markdown",
      "metadata": {
        "id": "E53VQRHl9IDF"
      },
      "source": [
        "### **Busca Linear**"
      ]
    },
    {
      "cell_type": "markdown",
      "metadata": {
        "id": "IHiQSvCd9JWX"
      },
      "source": [
        "A busca linear é uma estratégia de busca simples e efetiva usada quando precisamos verificar a existência, e localizar determinado valor em uma lista. Em uma busca linear percorremos os valores da lista, comparando-o com o valor buscado, até que este seja encontrado ou até que se chegue ao final da lista. \n",
        "\n",
        "Assim, utiliza-se uma estrutura de repetição para percorrer os valores da lista, e uma estrutura de seleção para determinar se o valor procurado foi ou não encontrado. Veja o exemplo abaixo que implementa uma busca linear e ao final imprime se o valor foi ou não encontrado, e sua posição caso ele esteja presente na lista."
      ]
    },
    {
      "cell_type": "code",
      "metadata": {
        "id": "GsGnOQPBBgtt"
      },
      "source": [
        "#exemplo de busca linear\n",
        "lista=[20,300,47,52,91,41,5,1019]\n",
        "valorBuscado=int(input(\"Digite um valor inteiro: \"))\n",
        "foiEncontrado=False\n",
        "pos=0\n",
        "while pos<len(lista):\n",
        "    if lista[pos]==valorBuscado:\n",
        "        foiEncontrado=True\n",
        "        break\n",
        "    pos=pos+1 \n",
        "\n",
        "if foiEncontrado:\n",
        "    print(f\"O valor {valorBuscado} foir encontrado na posição {pos}\")\n",
        "else:\n",
        "    print(f\"Não existem elementos iguais a {valorBuscado} na lista\")"
      ],
      "execution_count": null,
      "outputs": []
    },
    {
      "cell_type": "markdown",
      "metadata": {
        "id": "PsbF9hryCSP8"
      },
      "source": [
        "Note que no exemplo acima, uma variável do tipo Lógico chamada *foiEncontrado* é utilizada para, ao final do programa, escrever na tela o resultado da busca linear. Atribui-se o valor *False* a essa variável no início do programa, e uma nova atribuição com o valor *True* é realizada a ela apenas se o valorBuscado é encontrado em alguma posição da lista."
      ]
    },
    {
      "cell_type": "markdown",
      "metadata": {
        "id": "2blTknRgDPBM"
      },
      "source": [
        "#### **Ordenação por Seleção (Selection Sort)**"
      ]
    },
    {
      "cell_type": "markdown",
      "metadata": {
        "id": "pwc0J2keDOop"
      },
      "source": [
        "Existem múltiplas estratégias para ordenação de vetores (ou listas no caso do Python), das mais simples às mais sofisticadas. O funcionamento geral de todas estas estratégias é sempre o mesmo: a partir de uma lista de valores fora de ordem, obtém-se uma lista de valores ordenados em ordem crescente ou decrescente. Nesta seção vamos estudar uma estratégia chamada **ordenação por seleção**. Ela não está entre as estratégias de ordenação mais velozes, mas por sua simplicidade, didaticamente mostra-se como uma das melhores alternativas para quem está começando a programar.\n",
        "\n",
        "Como já estudamos na segunda semana de nossa disciplina, essa estratégia *seleciona* os menores ou maiores valores, dependendo se a ordenação é crescente ou decrescente, e os coloca no ínicio da lista. Assim, para uma ordenção crescente, por exemplo, parte-se do primeiro elemento da lista (índice 0), busca-se o menor elemento dentre todos os valores, e substitui-se o valor presente na primeira posição do vetor (índice 0) pelo menor valor encontrado. Repete-se o processo para o segundo elemento (índice 1), buscando o menor valor dentre todos os valores do vetor a partir deste índice, e substitui-se o segundo elemento (índice 1) pelo menor valor encontrado. E assim sucessivamente, até que o vetor esteja ordenado em ordem crescente. Veja o código abaixo que mostra um exemplo do processo de ordenação por seleção.\n",
        "\n"
      ]
    },
    {
      "cell_type": "code",
      "metadata": {
        "id": "76Tw6l979G3q"
      },
      "source": [
        "lista=[7,4,5,9,8,2,1]\n",
        "i=0\n",
        "print(f\"Lista antes da ordenação: {lista}\")\n",
        "while i < len(lista)-1: #percorre-se a lista elemento por elemento até o penúltimo elemento\n",
        "    menor=lista[i]\n",
        "    posMenor=i\n",
        "    j=i+1 #busca-se o menor valor (ordenção crescente) do valor atual em diante (i+1)\n",
        "    while j<len(lista):\n",
        "        if lista[j]<menor:\n",
        "            menor=lista[j]\n",
        "            posMenor=j\n",
        "        j=j+1  \n",
        "    #caso tenha sido encontrado valor menor do que o atual (i), realizar a troca de posição entre eles      \n",
        "    if posMenor!=i:\n",
        "        aux=lista[i] #usa-se uma variável auxiliar para mudar dois valores de lugar\n",
        "        lista[i]=lista[posMenor]\n",
        "        lista[posMenor]=aux\n",
        "    i=i+1\n",
        "print(f\"->Lista após a ordenação: {lista}\")"
      ],
      "execution_count": null,
      "outputs": []
    },
    {
      "cell_type": "markdown",
      "metadata": {
        "id": "qpwB8CSSJz-W"
      },
      "source": [
        "### **Funções disponíveis em Python para busca e ordenação**\n",
        "\n",
        "A linguagem Python oferece inúmeras funções pré-definidas bastante úteis. Algumas das funções úteis no contexto de busca e ordenação de valores serão apresentadas nos exemplos de código a seguir."
      ]
    },
    {
      "cell_type": "code",
      "metadata": {
        "id": "qVa9Ipq8LGd7"
      },
      "source": [
        "#função sort - ordena uma lista em ordem crescente ou decrescente\n",
        "lista=[7,4,5,9,8,2,1]\n",
        "print(f\"Lista antes da ordenação: {lista}\")\n",
        "lista.sort() #sem parâmetros realiza  ordenação crescente\n",
        "print(f\"->Ordenação crescente: {lista}\")\n",
        "lista.sort(reverse=True) #com parâmetro reverse=True faz a ordenação decrescente\n",
        "print(f\"->Ordenação decrescente: {lista}\")"
      ],
      "execution_count": null,
      "outputs": []
    },
    {
      "cell_type": "markdown",
      "metadata": {
        "id": "vcdMVdfe8JGN"
      },
      "source": [
        "Em Python para realizar uma busca utilizando a função pré-definida *index*, é importante combiná-la com o operador *in*. Isso pois a função *index* retorna o índice no qual o valor buscado foi encontrado em uma lista, porém gera um erro se este valor não for encontrado. Já o operador *in* retorna *True* caso o valor buscado esteja na lista, e retorna *False* caso contrário. Veja o exemplo abaixo."
      ]
    },
    {
      "cell_type": "code",
      "metadata": {
        "id": "7Hxgbq_7SA2Z"
      },
      "source": [
        "#função index - retorna o índice no qual o valor buscado foi encontrado, mas gera um erro caso o valor não exista\n",
        "lista=[7,4,5,9,8,2,1]\n",
        "valorBuscado=2\n",
        "if valorBuscado in lista:\n",
        "    posEncontrado=lista.index(valorBuscado)\n",
        "    print(f\"O valor {valorBuscado} foi encontado na posição {posEncontrado}\")\n",
        "else:\n",
        "    print(f\"O valor {valorBuscado} não faz parte da lista.\")\n"
      ],
      "execution_count": null,
      "outputs": []
    },
    {
      "cell_type": "markdown",
      "metadata": {
        "id": "SyeA1tapJHnV"
      },
      "source": [
        "## 5. Exercícios"
      ]
    },
    {
      "cell_type": "markdown",
      "metadata": {
        "id": "JpFh_-q5JLQo"
      },
      "source": [
        "Os exercícios deste tópico encontram-se no link a seguir:\n",
        "\n",
        "[acessar os exercícios](https://colab.research.google.com/drive/10fB8fex9RIpTamaUx0atXgsmLeXcTuCc?usp=sharing)"
      ]
    }
  ]
}