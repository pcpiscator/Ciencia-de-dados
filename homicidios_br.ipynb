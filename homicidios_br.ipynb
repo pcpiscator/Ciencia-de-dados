{
  "nbformat": 4,
  "nbformat_minor": 0,
  "metadata": {
    "colab": {
      "name": "homicidios_br.ipynb",
      "provenance": [],
      "authorship_tag": "ABX9TyMppFJ2G6T/NDiHxJt/boZB",
      "include_colab_link": true
    },
    "kernelspec": {
      "name": "python3",
      "display_name": "Python 3"
    }
  },
  "cells": [
    {
      "cell_type": "markdown",
      "metadata": {
        "id": "view-in-github",
        "colab_type": "text"
      },
      "source": [
        "<a href=\"https://colab.research.google.com/github/pcpiscator/Ciencia-de-dados/blob/master/homicidios_br.ipynb\" target=\"_parent\"><img src=\"https://colab.research.google.com/assets/colab-badge.svg\" alt=\"Open In Colab\"/></a>"
      ]
    },
    {
      "cell_type": "code",
      "metadata": {
        "id": "FTzYz4pLfpLh"
      },
      "source": [
        "import pandas as pd                  \r\n",
        "import numpy as np\r\n",
        "import seaborn as sns\r\n",
        "import matplotlib.pyplot as plt\r\n",
        "from datetime import datetime\r\n",
        "from dateutil.parser import parse \r\n",
        "\r\n",
        "%matplotlib inline"
      ],
      "execution_count": 13,
      "outputs": []
    },
    {
      "cell_type": "code",
      "metadata": {
        "colab": {
          "base_uri": "https://localhost:8080/",
          "height": 204
        },
        "id": "pN5c6xVOfGZQ",
        "outputId": "676f9916-fa54-4ecd-8bfe-f7f221e08391"
      },
      "source": [
        "fonte = \"https://raw.githubusercontent.com/pcpiscator/Ciencia-de-dados/master/HomiTotais.txt\"\r\n",
        "dados = pd.read_csv(fonte)\r\n",
        "dados.head()"
      ],
      "execution_count": 14,
      "outputs": [
        {
          "output_type": "execute_result",
          "data": {
            "text/html": [
              "<div>\n",
              "<style scoped>\n",
              "    .dataframe tbody tr th:only-of-type {\n",
              "        vertical-align: middle;\n",
              "    }\n",
              "\n",
              "    .dataframe tbody tr th {\n",
              "        vertical-align: top;\n",
              "    }\n",
              "\n",
              "    .dataframe thead th {\n",
              "        text-align: right;\n",
              "    }\n",
              "</style>\n",
              "<table border=\"1\" class=\"dataframe\">\n",
              "  <thead>\n",
              "    <tr style=\"text-align: right;\">\n",
              "      <th></th>\n",
              "      <th>Ano</th>\n",
              "      <th>Total</th>\n",
              "      <th>HBCO</th>\n",
              "      <th>HNEG</th>\n",
              "      <th>MBCA</th>\n",
              "      <th>MNEG</th>\n",
              "      <th>NC</th>\n",
              "      <th>Glossário</th>\n",
              "    </tr>\n",
              "  </thead>\n",
              "  <tbody>\n",
              "    <tr>\n",
              "      <th>0</th>\n",
              "      <td>1979</td>\n",
              "      <td>10011</td>\n",
              "      <td>NaN</td>\n",
              "      <td>NaN</td>\n",
              "      <td>NaN</td>\n",
              "      <td>NaN</td>\n",
              "      <td>NaN</td>\n",
              "      <td>HBCO-homem não negro</td>\n",
              "    </tr>\n",
              "    <tr>\n",
              "      <th>1</th>\n",
              "      <td>1980</td>\n",
              "      <td>12535</td>\n",
              "      <td>NaN</td>\n",
              "      <td>NaN</td>\n",
              "      <td>NaN</td>\n",
              "      <td>NaN</td>\n",
              "      <td>NaN</td>\n",
              "      <td>HNEG-homem negro</td>\n",
              "    </tr>\n",
              "    <tr>\n",
              "      <th>2</th>\n",
              "      <td>1981</td>\n",
              "      <td>13706</td>\n",
              "      <td>NaN</td>\n",
              "      <td>NaN</td>\n",
              "      <td>NaN</td>\n",
              "      <td>NaN</td>\n",
              "      <td>NaN</td>\n",
              "      <td>MBCA-mulher não negra</td>\n",
              "    </tr>\n",
              "    <tr>\n",
              "      <th>3</th>\n",
              "      <td>1982</td>\n",
              "      <td>14035</td>\n",
              "      <td>NaN</td>\n",
              "      <td>NaN</td>\n",
              "      <td>NaN</td>\n",
              "      <td>NaN</td>\n",
              "      <td>NaN</td>\n",
              "      <td>MNEG-mulher negra</td>\n",
              "    </tr>\n",
              "    <tr>\n",
              "      <th>4</th>\n",
              "      <td>1983</td>\n",
              "      <td>15699</td>\n",
              "      <td>NaN</td>\n",
              "      <td>NaN</td>\n",
              "      <td>NaN</td>\n",
              "      <td>NaN</td>\n",
              "      <td>NaN</td>\n",
              "      <td>NC-não-constante</td>\n",
              "    </tr>\n",
              "  </tbody>\n",
              "</table>\n",
              "</div>"
            ],
            "text/plain": [
              "    Ano  Total  HBCO  HNEG  MBCA  MNEG  NC              Glossário\n",
              "0  1979  10011   NaN   NaN   NaN   NaN NaN   HBCO-homem não negro\n",
              "1  1980  12535   NaN   NaN   NaN   NaN NaN       HNEG-homem negro\n",
              "2  1981  13706   NaN   NaN   NaN   NaN NaN  MBCA-mulher não negra\n",
              "3  1982  14035   NaN   NaN   NaN   NaN NaN      MNEG-mulher negra\n",
              "4  1983  15699   NaN   NaN   NaN   NaN NaN       NC-não-constante"
            ]
          },
          "metadata": {
            "tags": []
          },
          "execution_count": 14
        }
      ]
    },
    {
      "cell_type": "code",
      "metadata": {
        "id": "h8VOX82En658"
      },
      "source": [
        "dados"
      ],
      "execution_count": null,
      "outputs": []
    },
    {
      "cell_type": "code",
      "metadata": {
        "id": "Lv45rhnDgsxD"
      },
      "source": [
        "dados[\"Ano\"].unique()"
      ],
      "execution_count": null,
      "outputs": []
    },
    {
      "cell_type": "code",
      "metadata": {
        "id": "LK4ssUqBheu3"
      },
      "source": [
        "dados[\"Total\"].unique()"
      ],
      "execution_count": null,
      "outputs": []
    },
    {
      "cell_type": "code",
      "metadata": {
        "id": "ijDagkiNhrLZ"
      },
      "source": [
        "dados[\"HBCO\"].unique()"
      ],
      "execution_count": null,
      "outputs": []
    },
    {
      "cell_type": "code",
      "metadata": {
        "id": "-IenmAIvh7dO"
      },
      "source": [
        "#@title\n",
        "dados[\"HNEG\"].unique"
      ],
      "execution_count": null,
      "outputs": []
    },
    {
      "cell_type": "code",
      "metadata": {
        "id": "wDF46HR9jueE"
      },
      "source": [
        "dados[\"MBCA\"].unique "
      ],
      "execution_count": null,
      "outputs": []
    },
    {
      "cell_type": "code",
      "metadata": {
        "id": "Zfgg_jaT3sAf"
      },
      "source": [
        "dados[\"MNEG\"].unique "
      ],
      "execution_count": null,
      "outputs": []
    },
    {
      "cell_type": "code",
      "metadata": {
        "id": "T_iC4NCs4A8_"
      },
      "source": [
        "dados[\"NC\"].unique "
      ],
      "execution_count": null,
      "outputs": []
    },
    {
      "cell_type": "code",
      "metadata": {
        "id": "JGiCYNa54NMj"
      },
      "source": [
        "dados[\"Glossário\"].unique "
      ],
      "execution_count": null,
      "outputs": []
    },
    {
      "cell_type": "code",
      "metadata": {
        "id": "fDh7KEYAsPD-",
        "outputId": "bcea0c37-5601-4449-9e04-e3adb9299756",
        "colab": {
          "base_uri": "https://localhost:8080/"
        }
      },
      "source": [
        "dados.columns.values"
      ],
      "execution_count": 4,
      "outputs": [
        {
          "output_type": "execute_result",
          "data": {
            "text/plain": [
              "array(['Ano', 'Total', 'HBCO', 'HNEG', 'MBCA', 'MNEG', 'NC', 'Glossário'],\n",
              "      dtype=object)"
            ]
          },
          "metadata": {
            "tags": []
          },
          "execution_count": 4
        }
      ]
    },
    {
      "cell_type": "code",
      "metadata": {
        "id": "WqltaJ9JsUYF"
      },
      "source": [
        "dados[[\"Ano\", \"Total\"]]"
      ],
      "execution_count": null,
      "outputs": []
    },
    {
      "cell_type": "code",
      "metadata": {
        "id": "75UScUPrsUBv"
      },
      "source": [
        "dados[[\"Ano\", \"HBCO\"]]"
      ],
      "execution_count": null,
      "outputs": []
    },
    {
      "cell_type": "code",
      "metadata": {
        "id": "wksAoEPVsTsl"
      },
      "source": [
        "dados[[\"HBCO\", \"Total\"]]"
      ],
      "execution_count": null,
      "outputs": []
    },
    {
      "cell_type": "code",
      "metadata": {
        "id": "vU2Ftd3H3rzB"
      },
      "source": [
        "dados[[\"HNEG\", \"Total\"]]"
      ],
      "execution_count": null,
      "outputs": []
    },
    {
      "cell_type": "code",
      "metadata": {
        "id": "V38vx_oOsTTD"
      },
      "source": [
        "dados[[\"MBCA\", \"Total\"]]"
      ],
      "execution_count": null,
      "outputs": []
    },
    {
      "cell_type": "code",
      "metadata": {
        "id": "3Erx-GTM3rhc"
      },
      "source": [
        "dados[[\"MNEG\", \"Total\"]]"
      ],
      "execution_count": null,
      "outputs": []
    },
    {
      "cell_type": "code",
      "metadata": {
        "id": "L8mj62vp3rGH"
      },
      "source": [
        ""
      ],
      "execution_count": null,
      "outputs": []
    },
    {
      "cell_type": "code",
      "metadata": {
        "id": "81vag8VrZxcj",
        "colab": {
          "base_uri": "https://localhost:8080/"
        },
        "outputId": "0f1e4c99-e23a-4f4e-fd7b-b4123321cd30"
      },
      "source": [
        "#Desvio padrão do total.\n",
        "\n",
        "dados[\"Total\"].describe()"
      ],
      "execution_count": 21,
      "outputs": [
        {
          "output_type": "execute_result",
          "data": {
            "text/plain": [
              "count       39.000000\n",
              "mean     35815.025641\n",
              "std      14470.503268\n",
              "min      10011.000000\n",
              "25%      23713.000000\n",
              "50%      38427.000000\n",
              "75%      47066.500000\n",
              "max      60559.000000\n",
              "Name: Total, dtype: float64"
            ]
          },
          "metadata": {
            "tags": []
          },
          "execution_count": 21
        }
      ]
    },
    {
      "cell_type": "code",
      "metadata": {
        "id": "pEpng5ZwiLxZ",
        "outputId": "9c50f10d-322d-406c-ceac-6072142381fe",
        "colab": {
          "base_uri": "https://localhost:8080/"
        }
      },
      "source": [
        "dados[\"HBCO\"].describe()"
      ],
      "execution_count": 26,
      "outputs": [
        {
          "output_type": "execute_result",
          "data": {
            "text/plain": [
              "count       18.000000\n",
              "mean     14333.722222\n",
              "std       1716.837476\n",
              "min      12719.000000\n",
              "25%      13158.500000\n",
              "50%      13482.500000\n",
              "75%      15492.000000\n",
              "max      17515.000000\n",
              "Name: HBCO, dtype: float64"
            ]
          },
          "metadata": {
            "tags": []
          },
          "execution_count": 26
        }
      ]
    },
    {
      "cell_type": "code",
      "metadata": {
        "id": "MxXpsumYBWnQ",
        "outputId": "136a6cce-4b01-4290-c88d-f3b414c53048",
        "colab": {
          "base_uri": "https://localhost:8080/"
        }
      },
      "source": [
        "dados[\"HNEG\"].describe()"
      ],
      "execution_count": 25,
      "outputs": [
        {
          "output_type": "execute_result",
          "data": {
            "text/plain": [
              "count       18.000000\n",
              "mean     31840.555556\n",
              "std       6736.086674\n",
              "min      21895.000000\n",
              "25%      26774.000000\n",
              "50%      30966.500000\n",
              "75%      36155.000000\n",
              "max      46217.000000\n",
              "Name: HNEG, dtype: float64"
            ]
          },
          "metadata": {
            "tags": []
          },
          "execution_count": 25
        }
      ]
    },
    {
      "cell_type": "code",
      "metadata": {
        "id": "sexoMzZLBWdE",
        "outputId": "4163e684-744b-4f9f-de5a-74ebb4765b8f",
        "colab": {
          "base_uri": "https://localhost:8080/"
        }
      },
      "source": [
        "dados[\"MBCA\"].describe()"
      ],
      "execution_count": 27,
      "outputs": [
        {
          "output_type": "execute_result",
          "data": {
            "text/plain": [
              "count      18.000000\n",
              "mean     1630.388889\n",
              "std        88.528586\n",
              "min      1488.000000\n",
              "25%      1562.500000\n",
              "50%      1628.500000\n",
              "75%      1689.750000\n",
              "max      1781.000000\n",
              "Name: MBCA, dtype: float64"
            ]
          },
          "metadata": {
            "tags": []
          },
          "execution_count": 27
        }
      ]
    },
    {
      "cell_type": "code",
      "metadata": {
        "id": "iI3gmzPkBWRB",
        "outputId": "4d0602e7-8528-41df-c194-82656177da6b",
        "colab": {
          "base_uri": "https://localhost:8080/"
        }
      },
      "source": [
        "dados[\"MNEG\"].describe()"
      ],
      "execution_count": 28,
      "outputs": [
        {
          "output_type": "execute_result",
          "data": {
            "text/plain": [
              "count      18.000000\n",
              "mean     2391.222222\n",
              "std       528.386841\n",
              "min      1648.000000\n",
              "25%      1894.250000\n",
              "50%      2337.000000\n",
              "75%      2896.750000\n",
              "max      3288.000000\n",
              "Name: MNEG, dtype: float64"
            ]
          },
          "metadata": {
            "tags": []
          },
          "execution_count": 28
        }
      ]
    },
    {
      "cell_type": "code",
      "metadata": {
        "id": "QNyFI0CMBWFL"
      },
      "source": [
        "dados[\"NC\"].describe()"
      ],
      "execution_count": null,
      "outputs": []
    },
    {
      "cell_type": "code",
      "metadata": {
        "colab": {
          "base_uri": "https://localhost:8080/",
          "height": 282
        },
        "id": "XAkPNkc_h_Ge",
        "outputId": "bc17e05e-8185-40ca-e246-e248ca80791f"
      },
      "source": [
        "dados[\"Total\"].hist()"
      ],
      "execution_count": 19,
      "outputs": [
        {
          "output_type": "execute_result",
          "data": {
            "text/plain": [
              "<matplotlib.axes._subplots.AxesSubplot at 0x7f142c88e6a0>"
            ]
          },
          "metadata": {
            "tags": []
          },
          "execution_count": 19
        },
        {
          "output_type": "display_data",
          "data": {
            "image/png": "[encoded data removed]",
            "text/plain": [
              "<Figure size 432x288 with 1 Axes>"
            ]
          },
          "metadata": {
            "tags": [],
            "needs_background": "light"
          }
        }
      ]
    },
    {
      "cell_type": "code",
      "metadata": {
        "colab": {
          "base_uri": "https://localhost:8080/",
          "height": 282
        },
        "id": "PqYwKyMeiMZO",
        "outputId": "0bad638e-4c18-4360-a92e-787f3708c68a"
      },
      "source": [
        "dados[\"Ano\"].hist()"
      ],
      "execution_count": null,
      "outputs": [
        {
          "output_type": "execute_result",
          "data": {
            "text/plain": [
              "<matplotlib.axes._subplots.AxesSubplot at 0x7f9db64152b0>"
            ]
          },
          "metadata": {
            "tags": []
          },
          "execution_count": 14
        },
        {
          "output_type": "display_data",
          "data": {
            "image/png": "[encoded data removed]",
            "text/plain": [
              "<Figure size 432x288 with 1 Axes>"
            ]
          },
          "metadata": {
            "tags": [],
            "needs_background": "light"
          }
        }
      ]
    }
  ]
}