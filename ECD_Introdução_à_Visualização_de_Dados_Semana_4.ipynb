{
  "nbformat": 4,
  "nbformat_minor": 0,
  "metadata": {
    "colab": {
      "name": "ECD - Introdução à Visualização de Dados - Semana 4",
      "provenance": [],
      "include_colab_link": true
    },
    "kernelspec": {
      "name": "python3",
      "display_name": "Python 3"
    }
  },
  "cells": [
    {
      "cell_type": "markdown",
      "metadata": {
        "id": "view-in-github",
        "colab_type": "text"
      },
      "source": [
        "<a href=\"https://colab.research.google.com/github/pcpiscator/Ciencia-de-dados/blob/master/ECD_Introdu%C3%A7%C3%A3o_%C3%A0_Visualiza%C3%A7%C3%A3o_de_Dados_Semana_4.ipynb\" target=\"_parent\"><img src=\"https://colab.research.google.com/assets/colab-badge.svg\" alt=\"Open In Colab\"/></a>"
      ]
    },
    {
      "cell_type": "markdown",
      "metadata": {
        "id": "3N4mfCU-1-Gl"
      },
      "source": [
        "# ECD - Introdução à Visualização de Dados - Semana 4\n",
        "## Biblioteca Pandas - Explorando Dados usando Gráficos\n",
        "##### Prof. Dr. Alessandro de Lima Bicho"
      ]
    },
    {
      "cell_type": "markdown",
      "metadata": {
        "id": "FJo5uN4p10ec"
      },
      "source": [
        "Lembre-se que este é um documento interativo. Todos os exemplos de código nele contidos podem e devem ser executados (botão 'play' ao lado de cada código ou shift+enter) para que você possa ver os conceitos apresentados funcionando na prática.\n",
        "\n",
        "Recomenda-se que você faça uma cópia deste documento através do menu superior \"Arquivo\", \"Salvar uma cópia no Drive\". Sinta-se motivado a executar os exemplos múltiplas vezes, modificá-los adicionando e testando novas funcionalidades. Tente criar e testar hipóteses prevendo qual será o resultado da execução dos códigos com as suas alterações. Caso suas alterações causem erros, tente entender os erros causados e como corrigí-los. Considere este documento não apenas como uma aula, mas também como um ambiente interativo de experimentação e descoberta."
      ]
    },
    {
      "cell_type": "markdown",
      "metadata": {
        "id": "Mv2DIdQ7dIu_"
      },
      "source": [
        "## Olá, pessoal!\n",
        "\n",
        "Na aula desta semana começaremos a estudar recursos visuais para a análise dos nossos dados. Para tanto, daremos início ao estudo de duas bibliotecas para este fim: **matplotlib** e **seaborn**.\n",
        "\n",
        "Talvez alguns métodos vocês já utilizaram em outras disciplinas; não se preocupem, com certeza agregarão mais conhecimento ao que já viram até este momento. \n",
        "\n",
        "Os métodos disponibilizados por estas bibliotecas são aplicados na etapa destacada pelo retângulo em vermelho na figura abaixo (vista na semana 1):\n",
        "\n",
        "<img src=\"https://drive.google.com/uc?export=view&id=1RXCjtY1oRj-n4knyqpYRdcBM9LCAiQhw\" width=\"75%\" height=\"50%\">\n",
        "\n",
        "Fonte: (CARD et al., 1999, apud NASCIMENTO; FERREIRA, 2005)\n",
        "\n",
        "\n"
      ]
    },
    {
      "cell_type": "markdown",
      "metadata": {
        "id": "tRTjKPnFpbpf"
      },
      "source": [
        "Sempre lembrando que o primeiro passo é indicarmos as bibliotecas que utilizaremos. Na aula desta semana, além da biblioteca **Pandas**, também iremos utilizar as bibliotecas **Matplotlib** e **Seaborn**.\n"
      ]
    },
    {
      "cell_type": "code",
      "metadata": {
        "id": "QOm9qE0_qVA7"
      },
      "source": [
        "#importar a biblioteca pandas\n",
        "import pandas as pd\n",
        "import matplotlib.pyplot as plt\n",
        "import seaborn as sns\n",
        "\n",
        "pd.options.display.max_columns = None\n",
        "pd.options.display.max_rows = None\n",
        "pd.options.display.float_format = '{:.2f}'.format"
      ],
      "execution_count": 13,
      "outputs": []
    },
    {
      "cell_type": "markdown",
      "metadata": {
        "id": "aqAshRdsS11X"
      },
      "source": [
        "### **Importação de Dados**\n",
        " \n",
        "Na aula desta semana, continuaremos a adotar o *dataset* que utilizamos na disciplina \"Análise de Dados em Planilhas Eletrônicas\". Por ser um pequeno *dataset*, nos permitirá mais facilmente perceber o resultado das análises estatísticas e gráficas que estudaremos nesta semana."
      ]
    },
    {
      "cell_type": "code",
      "metadata": {
        "id": "NYFDhM--TbFm",
        "colab": {
          "base_uri": "https://localhost:8080/",
          "height": 1000
        },
        "outputId": "74a3f999-77ec-43cd-a83b-4781e906c036"
      },
      "source": [
        "df = pd.read_excel(\"https://drive.google.com/uc?export=view&id=1QEbayMmwvU-BR7Q26_x8kP6dyu-XIeSI\")\n",
        "df\n"
      ],
      "execution_count": 7,
      "outputs": [
        {
          "output_type": "execute_result",
          "data": {
            "text/html": [
              "<div>\n",
              "<style scoped>\n",
              "    .dataframe tbody tr th:only-of-type {\n",
              "        vertical-align: middle;\n",
              "    }\n",
              "\n",
              "    .dataframe tbody tr th {\n",
              "        vertical-align: top;\n",
              "    }\n",
              "\n",
              "    .dataframe thead th {\n",
              "        text-align: right;\n",
              "    }\n",
              "</style>\n",
              "<table border=\"1\" class=\"dataframe\">\n",
              "  <thead>\n",
              "    <tr style=\"text-align: right;\">\n",
              "      <th></th>\n",
              "      <th>Posicao</th>\n",
              "      <th>Equipe</th>\n",
              "      <th>Pontuação Março</th>\n",
              "      <th>Pontuação Abril</th>\n",
              "      <th>Pontuação Maio</th>\n",
              "      <th>MãoHabilidade</th>\n",
              "      <th>Salario</th>\n",
              "    </tr>\n",
              "  </thead>\n",
              "  <tbody>\n",
              "    <tr>\n",
              "      <th>0</th>\n",
              "      <td>Ponta Esquerda</td>\n",
              "      <td>B</td>\n",
              "      <td>49</td>\n",
              "      <td>18</td>\n",
              "      <td>13</td>\n",
              "      <td>Destra</td>\n",
              "      <td>22996</td>\n",
              "    </tr>\n",
              "    <tr>\n",
              "      <th>1</th>\n",
              "      <td>Ponta Esquerda</td>\n",
              "      <td>A</td>\n",
              "      <td>6</td>\n",
              "      <td>46</td>\n",
              "      <td>30</td>\n",
              "      <td>Destra</td>\n",
              "      <td>85434</td>\n",
              "    </tr>\n",
              "    <tr>\n",
              "      <th>2</th>\n",
              "      <td>Ponta Esquerda</td>\n",
              "      <td>A</td>\n",
              "      <td>20</td>\n",
              "      <td>16</td>\n",
              "      <td>12</td>\n",
              "      <td>Destra</td>\n",
              "      <td>65525</td>\n",
              "    </tr>\n",
              "    <tr>\n",
              "      <th>3</th>\n",
              "      <td>Ponta Esquerda</td>\n",
              "      <td>A</td>\n",
              "      <td>31</td>\n",
              "      <td>38</td>\n",
              "      <td>9</td>\n",
              "      <td>Destra</td>\n",
              "      <td>17000</td>\n",
              "    </tr>\n",
              "    <tr>\n",
              "      <th>4</th>\n",
              "      <td>Ponta Esquerda</td>\n",
              "      <td>B</td>\n",
              "      <td>18</td>\n",
              "      <td>19</td>\n",
              "      <td>11</td>\n",
              "      <td>Destra</td>\n",
              "      <td>37642</td>\n",
              "    </tr>\n",
              "    <tr>\n",
              "      <th>5</th>\n",
              "      <td>Ponta Esquerda</td>\n",
              "      <td>A</td>\n",
              "      <td>20</td>\n",
              "      <td>25</td>\n",
              "      <td>42</td>\n",
              "      <td>Destra</td>\n",
              "      <td>71860</td>\n",
              "    </tr>\n",
              "    <tr>\n",
              "      <th>6</th>\n",
              "      <td>Ponta Esquerda</td>\n",
              "      <td>A</td>\n",
              "      <td>18</td>\n",
              "      <td>5</td>\n",
              "      <td>0</td>\n",
              "      <td>Destra</td>\n",
              "      <td>43160</td>\n",
              "    </tr>\n",
              "    <tr>\n",
              "      <th>7</th>\n",
              "      <td>Ponta Direita</td>\n",
              "      <td>A</td>\n",
              "      <td>27</td>\n",
              "      <td>11</td>\n",
              "      <td>44</td>\n",
              "      <td>Destra</td>\n",
              "      <td>98236</td>\n",
              "    </tr>\n",
              "    <tr>\n",
              "      <th>8</th>\n",
              "      <td>Ponta Direita</td>\n",
              "      <td>A</td>\n",
              "      <td>30</td>\n",
              "      <td>29</td>\n",
              "      <td>10</td>\n",
              "      <td>Destra</td>\n",
              "      <td>85172</td>\n",
              "    </tr>\n",
              "    <tr>\n",
              "      <th>9</th>\n",
              "      <td>Ponta Direita</td>\n",
              "      <td>A</td>\n",
              "      <td>23</td>\n",
              "      <td>30</td>\n",
              "      <td>35</td>\n",
              "      <td>Destra</td>\n",
              "      <td>43498</td>\n",
              "    </tr>\n",
              "    <tr>\n",
              "      <th>10</th>\n",
              "      <td>Ponta Direita</td>\n",
              "      <td>B</td>\n",
              "      <td>31</td>\n",
              "      <td>3</td>\n",
              "      <td>16</td>\n",
              "      <td>Destra</td>\n",
              "      <td>58780</td>\n",
              "    </tr>\n",
              "    <tr>\n",
              "      <th>11</th>\n",
              "      <td>Ponta Direita</td>\n",
              "      <td>A</td>\n",
              "      <td>19</td>\n",
              "      <td>36</td>\n",
              "      <td>44</td>\n",
              "      <td>Destra</td>\n",
              "      <td>55073</td>\n",
              "    </tr>\n",
              "    <tr>\n",
              "      <th>12</th>\n",
              "      <td>Ponta Direita</td>\n",
              "      <td>A</td>\n",
              "      <td>43</td>\n",
              "      <td>31</td>\n",
              "      <td>13</td>\n",
              "      <td>Destra</td>\n",
              "      <td>62543</td>\n",
              "    </tr>\n",
              "    <tr>\n",
              "      <th>13</th>\n",
              "      <td>Ponta Direita</td>\n",
              "      <td>B</td>\n",
              "      <td>20</td>\n",
              "      <td>36</td>\n",
              "      <td>31</td>\n",
              "      <td>Destra</td>\n",
              "      <td>44691</td>\n",
              "    </tr>\n",
              "    <tr>\n",
              "      <th>14</th>\n",
              "      <td>Ponta Direita</td>\n",
              "      <td>B</td>\n",
              "      <td>21</td>\n",
              "      <td>7</td>\n",
              "      <td>18</td>\n",
              "      <td>Destra</td>\n",
              "      <td>38184</td>\n",
              "    </tr>\n",
              "    <tr>\n",
              "      <th>15</th>\n",
              "      <td>Ponta Direita</td>\n",
              "      <td>A</td>\n",
              "      <td>19</td>\n",
              "      <td>41</td>\n",
              "      <td>40</td>\n",
              "      <td>Destra</td>\n",
              "      <td>28630</td>\n",
              "    </tr>\n",
              "    <tr>\n",
              "      <th>16</th>\n",
              "      <td>Central</td>\n",
              "      <td>B</td>\n",
              "      <td>18</td>\n",
              "      <td>14</td>\n",
              "      <td>4</td>\n",
              "      <td>Destra</td>\n",
              "      <td>77293</td>\n",
              "    </tr>\n",
              "    <tr>\n",
              "      <th>17</th>\n",
              "      <td>Central</td>\n",
              "      <td>A</td>\n",
              "      <td>23</td>\n",
              "      <td>15</td>\n",
              "      <td>45</td>\n",
              "      <td>Destra</td>\n",
              "      <td>44493</td>\n",
              "    </tr>\n",
              "    <tr>\n",
              "      <th>18</th>\n",
              "      <td>Central</td>\n",
              "      <td>A</td>\n",
              "      <td>45</td>\n",
              "      <td>3</td>\n",
              "      <td>25</td>\n",
              "      <td>Destra</td>\n",
              "      <td>88435</td>\n",
              "    </tr>\n",
              "    <tr>\n",
              "      <th>19</th>\n",
              "      <td>Central</td>\n",
              "      <td>B</td>\n",
              "      <td>18</td>\n",
              "      <td>8</td>\n",
              "      <td>1</td>\n",
              "      <td>Canhota</td>\n",
              "      <td>51865</td>\n",
              "    </tr>\n",
              "    <tr>\n",
              "      <th>20</th>\n",
              "      <td>Central</td>\n",
              "      <td>A</td>\n",
              "      <td>36</td>\n",
              "      <td>35</td>\n",
              "      <td>25</td>\n",
              "      <td>Canhota</td>\n",
              "      <td>75838</td>\n",
              "    </tr>\n",
              "    <tr>\n",
              "      <th>21</th>\n",
              "      <td>Central</td>\n",
              "      <td>B</td>\n",
              "      <td>19</td>\n",
              "      <td>21</td>\n",
              "      <td>7</td>\n",
              "      <td>Canhota</td>\n",
              "      <td>57635</td>\n",
              "    </tr>\n",
              "    <tr>\n",
              "      <th>22</th>\n",
              "      <td>Central</td>\n",
              "      <td>A</td>\n",
              "      <td>25</td>\n",
              "      <td>9</td>\n",
              "      <td>10</td>\n",
              "      <td>Canhota</td>\n",
              "      <td>58386</td>\n",
              "    </tr>\n",
              "    <tr>\n",
              "      <th>23</th>\n",
              "      <td>Central</td>\n",
              "      <td>B</td>\n",
              "      <td>17</td>\n",
              "      <td>5</td>\n",
              "      <td>17</td>\n",
              "      <td>Canhota</td>\n",
              "      <td>30945</td>\n",
              "    </tr>\n",
              "    <tr>\n",
              "      <th>24</th>\n",
              "      <td>Central</td>\n",
              "      <td>B</td>\n",
              "      <td>18</td>\n",
              "      <td>11</td>\n",
              "      <td>9</td>\n",
              "      <td>Canhota</td>\n",
              "      <td>34602</td>\n",
              "    </tr>\n",
              "    <tr>\n",
              "      <th>25</th>\n",
              "      <td>Oposta</td>\n",
              "      <td>A</td>\n",
              "      <td>19</td>\n",
              "      <td>17</td>\n",
              "      <td>2</td>\n",
              "      <td>Destra</td>\n",
              "      <td>11379</td>\n",
              "    </tr>\n",
              "    <tr>\n",
              "      <th>26</th>\n",
              "      <td>Oposta</td>\n",
              "      <td>A</td>\n",
              "      <td>51</td>\n",
              "      <td>28</td>\n",
              "      <td>19</td>\n",
              "      <td>Destra</td>\n",
              "      <td>87672</td>\n",
              "    </tr>\n",
              "    <tr>\n",
              "      <th>27</th>\n",
              "      <td>Oposta</td>\n",
              "      <td>B</td>\n",
              "      <td>33</td>\n",
              "      <td>17</td>\n",
              "      <td>22</td>\n",
              "      <td>Destra</td>\n",
              "      <td>54973</td>\n",
              "    </tr>\n",
              "    <tr>\n",
              "      <th>28</th>\n",
              "      <td>Oposta</td>\n",
              "      <td>B</td>\n",
              "      <td>23</td>\n",
              "      <td>9</td>\n",
              "      <td>18</td>\n",
              "      <td>Destra</td>\n",
              "      <td>48970</td>\n",
              "    </tr>\n",
              "    <tr>\n",
              "      <th>29</th>\n",
              "      <td>Oposta</td>\n",
              "      <td>B</td>\n",
              "      <td>33</td>\n",
              "      <td>18</td>\n",
              "      <td>17</td>\n",
              "      <td>Destra</td>\n",
              "      <td>74819</td>\n",
              "    </tr>\n",
              "    <tr>\n",
              "      <th>30</th>\n",
              "      <td>Oposta</td>\n",
              "      <td>B</td>\n",
              "      <td>19</td>\n",
              "      <td>13</td>\n",
              "      <td>45</td>\n",
              "      <td>Destra</td>\n",
              "      <td>68948</td>\n",
              "    </tr>\n",
              "    <tr>\n",
              "      <th>31</th>\n",
              "      <td>Oposta</td>\n",
              "      <td>B</td>\n",
              "      <td>3</td>\n",
              "      <td>12</td>\n",
              "      <td>23</td>\n",
              "      <td>Destra</td>\n",
              "      <td>86315</td>\n",
              "    </tr>\n",
              "    <tr>\n",
              "      <th>32</th>\n",
              "      <td>Oposta</td>\n",
              "      <td>A</td>\n",
              "      <td>19</td>\n",
              "      <td>1</td>\n",
              "      <td>3</td>\n",
              "      <td>Destra</td>\n",
              "      <td>36886</td>\n",
              "    </tr>\n",
              "    <tr>\n",
              "      <th>33</th>\n",
              "      <td>Oposta</td>\n",
              "      <td>A</td>\n",
              "      <td>43</td>\n",
              "      <td>0</td>\n",
              "      <td>1</td>\n",
              "      <td>Destra</td>\n",
              "      <td>32894</td>\n",
              "    </tr>\n",
              "    <tr>\n",
              "      <th>34</th>\n",
              "      <td>Levantadora</td>\n",
              "      <td>A</td>\n",
              "      <td>7</td>\n",
              "      <td>46</td>\n",
              "      <td>28</td>\n",
              "      <td>Destra</td>\n",
              "      <td>65023</td>\n",
              "    </tr>\n",
              "    <tr>\n",
              "      <th>35</th>\n",
              "      <td>Levantadora</td>\n",
              "      <td>B</td>\n",
              "      <td>7</td>\n",
              "      <td>34</td>\n",
              "      <td>30</td>\n",
              "      <td>Destra</td>\n",
              "      <td>67392</td>\n",
              "    </tr>\n",
              "    <tr>\n",
              "      <th>36</th>\n",
              "      <td>Levantadora</td>\n",
              "      <td>B</td>\n",
              "      <td>8</td>\n",
              "      <td>30</td>\n",
              "      <td>27</td>\n",
              "      <td>Destra</td>\n",
              "      <td>26298</td>\n",
              "    </tr>\n",
              "    <tr>\n",
              "      <th>37</th>\n",
              "      <td>Levantadora</td>\n",
              "      <td>A</td>\n",
              "      <td>8</td>\n",
              "      <td>30</td>\n",
              "      <td>39</td>\n",
              "      <td>Canhota</td>\n",
              "      <td>56730</td>\n",
              "    </tr>\n",
              "    <tr>\n",
              "      <th>38</th>\n",
              "      <td>Libero</td>\n",
              "      <td>B</td>\n",
              "      <td>0</td>\n",
              "      <td>0</td>\n",
              "      <td>24</td>\n",
              "      <td>Destra</td>\n",
              "      <td>18330</td>\n",
              "    </tr>\n",
              "    <tr>\n",
              "      <th>39</th>\n",
              "      <td>Libero</td>\n",
              "      <td>A</td>\n",
              "      <td>2</td>\n",
              "      <td>4</td>\n",
              "      <td>25</td>\n",
              "      <td>Destra</td>\n",
              "      <td>14995</td>\n",
              "    </tr>\n",
              "  </tbody>\n",
              "</table>\n",
              "</div>"
            ],
            "text/plain": [
              "           Posicao Equipe  Pontuação Março  Pontuação Abril  Pontuação Maio  \\\n",
              "0   Ponta Esquerda      B               49               18              13   \n",
              "1   Ponta Esquerda      A                6               46              30   \n",
              "2   Ponta Esquerda      A               20               16              12   \n",
              "3   Ponta Esquerda      A               31               38               9   \n",
              "4   Ponta Esquerda      B               18               19              11   \n",
              "5   Ponta Esquerda      A               20               25              42   \n",
              "6   Ponta Esquerda      A               18                5               0   \n",
              "7    Ponta Direita      A               27               11              44   \n",
              "8    Ponta Direita      A               30               29              10   \n",
              "9    Ponta Direita      A               23               30              35   \n",
              "10   Ponta Direita      B               31                3              16   \n",
              "11   Ponta Direita      A               19               36              44   \n",
              "12   Ponta Direita      A               43               31              13   \n",
              "13   Ponta Direita      B               20               36              31   \n",
              "14   Ponta Direita      B               21                7              18   \n",
              "15   Ponta Direita      A               19               41              40   \n",
              "16         Central      B               18               14               4   \n",
              "17         Central      A               23               15              45   \n",
              "18         Central      A               45                3              25   \n",
              "19         Central      B               18                8               1   \n",
              "20         Central      A               36               35              25   \n",
              "21         Central      B               19               21               7   \n",
              "22         Central      A               25                9              10   \n",
              "23         Central      B               17                5              17   \n",
              "24         Central      B               18               11               9   \n",
              "25          Oposta      A               19               17               2   \n",
              "26          Oposta      A               51               28              19   \n",
              "27          Oposta      B               33               17              22   \n",
              "28          Oposta      B               23                9              18   \n",
              "29          Oposta      B               33               18              17   \n",
              "30          Oposta      B               19               13              45   \n",
              "31          Oposta      B                3               12              23   \n",
              "32          Oposta      A               19                1               3   \n",
              "33          Oposta      A               43                0               1   \n",
              "34     Levantadora      A                7               46              28   \n",
              "35     Levantadora      B                7               34              30   \n",
              "36     Levantadora      B                8               30              27   \n",
              "37     Levantadora      A                8               30              39   \n",
              "38          Libero      B                0                0              24   \n",
              "39          Libero      A                2                4              25   \n",
              "\n",
              "   MãoHabilidade  Salario  \n",
              "0         Destra    22996  \n",
              "1         Destra    85434  \n",
              "2         Destra    65525  \n",
              "3         Destra    17000  \n",
              "4         Destra    37642  \n",
              "5         Destra    71860  \n",
              "6         Destra    43160  \n",
              "7         Destra    98236  \n",
              "8         Destra    85172  \n",
              "9         Destra    43498  \n",
              "10        Destra    58780  \n",
              "11        Destra    55073  \n",
              "12        Destra    62543  \n",
              "13        Destra    44691  \n",
              "14        Destra    38184  \n",
              "15        Destra    28630  \n",
              "16        Destra    77293  \n",
              "17        Destra    44493  \n",
              "18        Destra    88435  \n",
              "19       Canhota    51865  \n",
              "20       Canhota    75838  \n",
              "21       Canhota    57635  \n",
              "22       Canhota    58386  \n",
              "23       Canhota    30945  \n",
              "24       Canhota    34602  \n",
              "25        Destra    11379  \n",
              "26        Destra    87672  \n",
              "27        Destra    54973  \n",
              "28        Destra    48970  \n",
              "29        Destra    74819  \n",
              "30        Destra    68948  \n",
              "31        Destra    86315  \n",
              "32        Destra    36886  \n",
              "33        Destra    32894  \n",
              "34        Destra    65023  \n",
              "35        Destra    67392  \n",
              "36        Destra    26298  \n",
              "37       Canhota    56730  \n",
              "38        Destra    18330  \n",
              "39        Destra    14995  "
            ]
          },
          "metadata": {
            "tags": []
          },
          "execution_count": 7
        }
      ]
    },
    {
      "cell_type": "markdown",
      "metadata": {
        "id": "BcsGIFm2mT6f"
      },
      "source": [
        "## **Visualização de Dados**\n",
        "\n",
        "A análise dos dados estatísticos por meio de tabelas nem sempre permite uma clara compreensão. De modo a agregar recursos ao processo de análise, a utilização de gráficos nos possibilita melhores e mais ágeis interpretações sobre os *datasets* em estudo. É importante termos ciência de como elaborar um gráfico, assim como qual tipo é o mais adequado para o conjunto de dados em estudo. \n",
        "\n",
        "Nesta semana, começaremos a apresentar os gráficos mais utilizados para a análise de dados.\n",
        "\n"
      ]
    },
    {
      "cell_type": "markdown",
      "metadata": {
        "id": "rS6K--HGdEiB"
      },
      "source": [
        "### **Histograma**\n",
        "\n",
        "Uma das formas mais simples de ilustrar a distribuição de um conjunto de valores de uma variável é o uso de histogramas:\n",
        "- no eixo horizontal, o conjunto (ou intervalos) de valores observados; \n",
        "- no eixo vertical, a frequência de ocorrência de cada valor (ou valores em um intervalo) presente na amostra analisada. \n",
        "\n",
        "O pacote `matplotlib` disponibiliza o método `hist()`. Neste método, `bins` corresponde ao número de barras verticais. Quando o valor de `bins` é definido como ’auto’, o número de barras é definido automaticamente. Como exemplo, considere o código a seguir:\n"
      ]
    },
    {
      "cell_type": "code",
      "metadata": {
        "id": "OBfPG3XunID_",
        "colab": {
          "base_uri": "https://localhost:8080/",
          "height": 299
        },
        "outputId": "02a0458a-dbc5-4b9d-a57f-ea3c3e4b0721"
      },
      "source": [
        "plt.hist(df['Salario'],bins=7)\n",
        "plt.title('Histograma')\n",
        "plt.ylabel('Frequência')\n",
        "plt.xlabel('Salário')\n",
        "plt.show()"
      ],
      "execution_count": 8,
      "outputs": [
        {
          "output_type": "display_data",
          "data": {
            "image/png": "[encoded data removed]",
            "text/plain": [
              "<Figure size 432x288 with 1 Axes>"
            ]
          },
          "metadata": {
            "tags": []
          }
        }
      ]
    },
    {
      "cell_type": "markdown",
      "metadata": {
        "id": "IquenaOVE1db"
      },
      "source": [
        "É possível alterarmos as cores e o estilo dos gráficos gerados pela biblioteca `matplotlib`. Para isso, digite:"
      ]
    },
    {
      "cell_type": "code",
      "metadata": {
        "id": "asdJc43DFO7Q"
      },
      "source": [
        "plt.style.use('ggplot')"
      ],
      "execution_count": 9,
      "outputs": []
    },
    {
      "cell_type": "code",
      "metadata": {
        "colab": {
          "base_uri": "https://localhost:8080/",
          "height": 299
        },
        "id": "of2OJiPF1RYh",
        "outputId": "045e6ab2-7696-40fe-b538-be4656a55750"
      },
      "source": [
        "# Execute novamente a sequência de instruções\n",
        "\n",
        "plt.hist(df['Salario'],bins=7)\n",
        "plt.title('Histograma')\n",
        "plt.ylabel('Frequência')\n",
        "plt.xlabel('Salário')\n",
        "plt.show()"
      ],
      "execution_count": 10,
      "outputs": [
        {
          "output_type": "display_data",
          "data": {
            "image/png": "[encoded data removed]",
            "text/plain": [
              "<Figure size 432x288 with 1 Axes>"
            ]
          },
          "metadata": {
            "tags": []
          }
        }
      ]
    },
    {
      "cell_type": "code",
      "metadata": {
        "id": "REYFB8NXndPi",
        "colab": {
          "base_uri": "https://localhost:8080/",
          "height": 300
        },
        "outputId": "ddb3370d-511a-4e4a-ad3d-6d278d1df71b"
      },
      "source": [
        "# O pacote Seaborn é construído a partir da matplotlib; oferece uma interface de alto nível para desenhar gráficos estatísticos mais atraentes\n",
        "sns.histplot(df['Salario'])"
      ],
      "execution_count": 11,
      "outputs": [
        {
          "output_type": "execute_result",
          "data": {
            "text/plain": [
              "<matplotlib.axes._subplots.AxesSubplot at 0x7f3bab5eeef0>"
            ]
          },
          "metadata": {
            "tags": []
          },
          "execution_count": 11
        },
        {
          "output_type": "display_data",
          "data": {
            "image/png": "[encoded data removed]",
            "text/plain": [
              "<Figure size 432x288 with 1 Axes>"
            ]
          },
          "metadata": {
            "tags": []
          }
        }
      ]
    },
    {
      "cell_type": "markdown",
      "metadata": {
        "id": "g04o2lPvjt4M"
      },
      "source": [
        "### **Gráficos de barra e de linhas**\n",
        "\n",
        "No gráfico de barras, cada categoria (por exemplo, as possíveis posições em que as jogadoras atuam na equipe) é representada por uma barra de comprimento proporcional à sua frequência, conforme a identificação no eixo.\n"
      ]
    },
    {
      "cell_type": "code",
      "metadata": {
        "id": "6UjWsPlKwvzK",
        "colab": {
          "base_uri": "https://localhost:8080/",
          "height": 385
        },
        "outputId": "5db322a9-9b33-490f-ce21-19a06b4d0753"
      },
      "source": [
        "# Podemos utilizar o método plot da biblioteca matplotlib\n",
        "plt.title('Gráficos de barras')\n",
        "plt.ylabel('Pontuação Média - Março')\n",
        "df.groupby('Posicao')['Pontuação Março'].mean().plot(kind='bar')"
      ],
      "execution_count": null,
      "outputs": [
        {
          "output_type": "execute_result",
          "data": {
            "text/plain": [
              "<matplotlib.axes._subplots.AxesSubplot at 0x7f5a13c110f0>"
            ]
          },
          "metadata": {
            "tags": []
          },
          "execution_count": 13
        },
        {
          "output_type": "display_data",
          "data": {
            "image/png": "[encoded data removed]",
            "text/plain": [
              "<Figure size 432x288 with 1 Axes>"
            ]
          },
          "metadata": {
            "tags": []
          }
        }
      ]
    },
    {
      "cell_type": "code",
      "metadata": {
        "colab": {
          "base_uri": "https://localhost:8080/",
          "height": 316
        },
        "id": "1y_aBYMbqi9e",
        "outputId": "204b0a82-8e3f-4a13-b3c3-07caa233aa14"
      },
      "source": [
        "#Podemos plotar o mesmo conjunto de dados em um gráfico de linhas no matplotlib, apenas alterando \"kind\" para linha\n",
        "plt.title('Gráficos de linhas')\n",
        "plt.ylabel('Pontuação Média - Março')\n",
        "df.groupby('Posicao')['Pontuação Março'].mean().plot(kind='line')"
      ],
      "execution_count": null,
      "outputs": [
        {
          "output_type": "execute_result",
          "data": {
            "text/plain": [
              "<matplotlib.axes._subplots.AxesSubplot at 0x7f5a13b7ada0>"
            ]
          },
          "metadata": {
            "tags": []
          },
          "execution_count": 14
        },
        {
          "output_type": "display_data",
          "data": {
            "image/png": "[encoded data removed]",
            "text/plain": [
              "<Figure size 432x288 with 1 Axes>"
            ]
          },
          "metadata": {
            "tags": []
          }
        }
      ]
    },
    {
      "cell_type": "code",
      "metadata": {
        "id": "9z_kyEuZxdpM",
        "colab": {
          "base_uri": "https://localhost:8080/",
          "height": 300
        },
        "outputId": "15478a6f-8162-4bd7-d104-0226da2f1149"
      },
      "source": [
        "# Podemos utilizar o pacote seaborn para mostrar um gráfico de barras contendo a média e o desvio padrão\n",
        "sns.set_style(\"whitegrid\")\n",
        "sns.barplot(x='Posicao',y ='Pontuação Março', data=df)"
      ],
      "execution_count": null,
      "outputs": [
        {
          "output_type": "execute_result",
          "data": {
            "text/plain": [
              "<matplotlib.axes._subplots.AxesSubplot at 0x7f5a13b7a748>"
            ]
          },
          "metadata": {
            "tags": []
          },
          "execution_count": 15
        },
        {
          "output_type": "display_data",
          "data": {
            "image/png": "[encoded data removed]",
            "text/plain": [
              "<Figure size 432x288 with 1 Axes>"
            ]
          },
          "metadata": {
            "tags": []
          }
        }
      ]
    },
    {
      "cell_type": "code",
      "metadata": {
        "colab": {
          "base_uri": "https://localhost:8080/",
          "height": 300
        },
        "id": "6VdW5BnvJoHb",
        "outputId": "3a20500d-0e42-408d-b57c-f739efc8c75b"
      },
      "source": [
        "#Podemos plotar o mesmo conjunto de dados no seanborn utilizando gráfico de linhas, utilizando o método lineplot. \n",
        "#Interessante verificar que a área hachurada representa o desvio padrão.\n",
        "sns.lineplot(x='Posicao',y ='Pontuação Março', data=df)"
      ],
      "execution_count": null,
      "outputs": [
        {
          "output_type": "execute_result",
          "data": {
            "text/plain": [
              "<matplotlib.axes._subplots.AxesSubplot at 0x7f5a154adba8>"
            ]
          },
          "metadata": {
            "tags": []
          },
          "execution_count": 17
        },
        {
          "output_type": "display_data",
          "data": {
            "image/png": "[encoded data removed]",
            "text/plain": [
              "<Figure size 432x288 with 1 Axes>"
            ]
          },
          "metadata": {
            "tags": []
          }
        }
      ]
    },
    {
      "cell_type": "code",
      "metadata": {
        "colab": {
          "base_uri": "https://localhost:8080/",
          "height": 300
        },
        "id": "IFNYSpUmpDqq",
        "outputId": "5b246cc1-f05f-4d79-f606-d0bbac4fed8a"
      },
      "source": [
        "# Podemos utilizar o seaborn separando em subgrupos\n",
        "sns.set_style(\"whitegrid\")\n",
        "sns.barplot(x='Posicao',y ='Pontuação Março', hue = 'Equipe', data=df)"
      ],
      "execution_count": null,
      "outputs": [
        {
          "output_type": "execute_result",
          "data": {
            "text/plain": [
              "<matplotlib.axes._subplots.AxesSubplot at 0x7f5a14fa2c88>"
            ]
          },
          "metadata": {
            "tags": []
          },
          "execution_count": 18
        },
        {
          "output_type": "display_data",
          "data": {
            "image/png": "[encoded data removed]",
            "text/plain": [
              "<Figure size 432x288 with 1 Axes>"
            ]
          },
          "metadata": {
            "tags": []
          }
        }
      ]
    },
    {
      "cell_type": "markdown",
      "metadata": {
        "id": "ut6LlaOe7mct"
      },
      "source": [
        "### **Gráfico de setores (pizza)**\n",
        "\n",
        "Baseado em um círculo, é adotado quando desejamos mostrar proporções de um todo. Ou seja, quando o total das categorias for 100%. O total é representado pelo círculo, que fica dividido em tantos setores quantos são as partes. Os setores são tais que suas áreas são proporcionais aos dados. Cada setor é obtido por meio de uma regra de três simples e direta.\n",
        "\n",
        "Os valores devem ser apresentados em ordem decrescente a partir da parte superior do gráfico e no sentido horário. Ao lado de cada setor, podem-se colocar os percentuais e os nomes de cada parcela.\n"
      ]
    },
    {
      "cell_type": "code",
      "metadata": {
        "colab": {
          "base_uri": "https://localhost:8080/",
          "height": 586
        },
        "id": "hb72WR6rBj3m",
        "outputId": "f73c847c-93d2-44ac-ff1b-5bd6690c5d0e"
      },
      "source": [
        "dcount = df['Posicao'].value_counts()\n",
        "plt.title('Gráficos de setores - percentual de jogadoras em cada posição')\n",
        "explode = (0.1,0.1,0.1,0.1,0.1,0.1)\n",
        "plt.pie(dcount.values.tolist(),explode=explode,labels=dcount.index,autopct='%1.1f%%',shadow=True,startangle=90)"
      ],
      "execution_count": null,
      "outputs": [
        {
          "output_type": "execute_result",
          "data": {
            "text/plain": [
              "([<matplotlib.patches.Wedge at 0x7f5a133007b8>,\n",
              "  <matplotlib.patches.Wedge at 0x7f5a13292f28>,\n",
              "  <matplotlib.patches.Wedge at 0x7f5a133589e8>,\n",
              "  <matplotlib.patches.Wedge at 0x7f5a134bce80>,\n",
              "  <matplotlib.patches.Wedge at 0x7f5a13330a58>,\n",
              "  <matplotlib.patches.Wedge at 0x7f5a1317f940>],\n",
              " [Text(-0.7793376409095775, 0.9124871733134087, 'Oposta'),\n",
              "  Text(-1.0231682324471982, -0.6269982201815856, 'Central'),\n",
              "  Text(0.45922001503829163, -1.1086554820088301, 'Ponta Direita'),\n",
              "  Text(1.196300811939303, 0.09415076926591884, 'Ponta Esquerda'),\n",
              "  Text(0.7053424254588954, 0.9708203040973973, 'Levantadora'),\n",
              "  Text(0.187721499533582, 1.185225986305086, 'Libero')],\n",
              " [Text(-0.4546136238639201, 0.5322841844328217, '22.5%'),\n",
              "  Text(-0.596848135594199, -0.3657489617725916, '22.5%'),\n",
              "  Text(0.2678783421056701, -0.6467156978384843, '22.5%'),\n",
              "  Text(0.6978421402979268, 0.05492128207178599, '17.5%'),\n",
              "  Text(0.4114497481843556, 0.566311844056815, '10.0%'),\n",
              "  Text(0.10950420806125616, 0.6913818253446333, '5.0%')])"
            ]
          },
          "metadata": {
            "tags": []
          },
          "execution_count": 32
        },
        {
          "output_type": "display_data",
          "data": {
            "image/png": "[encoded data removed]",
            "text/plain": [
              "<Figure size 432x288 with 1 Axes>"
            ]
          },
          "metadata": {
            "tags": []
          }
        }
      ]
    }
  ]
}