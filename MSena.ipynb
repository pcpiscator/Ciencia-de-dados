{
  "nbformat": 4,
  "nbformat_minor": 0,
  "metadata": {
    "colab": {
      "name": "MSena.ipynb",
      "provenance": [],
      "authorship_tag": "ABX9TyMtgT1emQzY53bSoZL+YX8R",
      "include_colab_link": true
    },
    "kernelspec": {
      "name": "python3",
      "display_name": "Python 3"
    }
  },
  "cells": [
    {
      "cell_type": "markdown",
      "metadata": {
        "id": "view-in-github",
        "colab_type": "text"
      },
      "source": [
        "<a href=\"https://colab.research.google.com/github/pcpiscator/Ciencia-de-dados/blob/master/MSena.ipynb\" target=\"_parent\"><img src=\"https://colab.research.google.com/assets/colab-badge.svg\" alt=\"Open In Colab\"/></a>"
      ]
    },
    {
      "cell_type": "code",
      "metadata": {
        "id": "FTzYz4pLfpLh"
      },
      "source": [
        "import pandas as pd                  \r\n",
        "import numpy as np\r\n",
        "import seaborn as sns\r\n",
        "import matplotlib.pyplot as plt\r\n",
        "from datetime import datetime\r\n",
        "from dateutil.parser import parse \r\n",
        "\r\n",
        "%matplotlib inline"
      ],
      "execution_count": 1,
      "outputs": []
    },
    {
      "cell_type": "code",
      "metadata": {
        "id": "pN5c6xVOfGZQ",
        "outputId": "19f0a380-79f4-46c1-942d-eaab7d9b6c90",
        "colab": {
          "base_uri": "https://localhost:8080/",
          "height": 204
        }
      },
      "source": [
        "fonte = 'https://raw.githubusercontent.com/pcpiscator/Ciencia-de-dados/master/MegaSena01C.txt'\r\n",
        "dados = pd.read_csv(fonte)\r\n",
        "dados.head()"
      ],
      "execution_count": 2,
      "outputs": [
        {
          "output_type": "execute_result",
          "data": {
            "text/html": [
              "<div>\n",
              "<style scoped>\n",
              "    .dataframe tbody tr th:only-of-type {\n",
              "        vertical-align: middle;\n",
              "    }\n",
              "\n",
              "    .dataframe tbody tr th {\n",
              "        vertical-align: top;\n",
              "    }\n",
              "\n",
              "    .dataframe thead th {\n",
              "        text-align: right;\n",
              "    }\n",
              "</style>\n",
              "<table border=\"1\" class=\"dataframe\">\n",
              "  <thead>\n",
              "    <tr style=\"text-align: right;\">\n",
              "      <th></th>\n",
              "      <th>C</th>\n",
              "      <th>Data</th>\n",
              "      <th>PDez</th>\n",
              "      <th>SDz</th>\n",
              "      <th>TDz</th>\n",
              "      <th>QDez</th>\n",
              "      <th>QiDez</th>\n",
              "      <th>SxDez</th>\n",
              "      <th>NGan</th>\n",
              "      <th>UF</th>\n",
              "      <th>Rateio</th>\n",
              "    </tr>\n",
              "  </thead>\n",
              "  <tbody>\n",
              "    <tr>\n",
              "      <th>0</th>\n",
              "      <td>1.0</td>\n",
              "      <td>11/03/96</td>\n",
              "      <td>41.0</td>\n",
              "      <td>5.0</td>\n",
              "      <td>4.0</td>\n",
              "      <td>52.0</td>\n",
              "      <td>30.0</td>\n",
              "      <td>33.0</td>\n",
              "      <td>0.0</td>\n",
              "      <td>NaN</td>\n",
              "      <td>NaN</td>\n",
              "    </tr>\n",
              "    <tr>\n",
              "      <th>1</th>\n",
              "      <td>2.0</td>\n",
              "      <td>18/03/96</td>\n",
              "      <td>9.0</td>\n",
              "      <td>39.0</td>\n",
              "      <td>37.0</td>\n",
              "      <td>49.0</td>\n",
              "      <td>43.0</td>\n",
              "      <td>41.0</td>\n",
              "      <td>1.0</td>\n",
              "      <td>PR</td>\n",
              "      <td>2.307.162</td>\n",
              "    </tr>\n",
              "    <tr>\n",
              "      <th>2</th>\n",
              "      <td>3.0</td>\n",
              "      <td>25/03/96</td>\n",
              "      <td>36.0</td>\n",
              "      <td>30.0</td>\n",
              "      <td>10.0</td>\n",
              "      <td>11.0</td>\n",
              "      <td>29.0</td>\n",
              "      <td>47.0</td>\n",
              "      <td>2.0</td>\n",
              "      <td>RN</td>\n",
              "      <td>391.192</td>\n",
              "    </tr>\n",
              "    <tr>\n",
              "      <th>3</th>\n",
              "      <td>4.0</td>\n",
              "      <td>01/04/96</td>\n",
              "      <td>6.0</td>\n",
              "      <td>59.0</td>\n",
              "      <td>42.0</td>\n",
              "      <td>27.0</td>\n",
              "      <td>1.0</td>\n",
              "      <td>5.0</td>\n",
              "      <td>0.0</td>\n",
              "      <td>NaN</td>\n",
              "      <td>0</td>\n",
              "    </tr>\n",
              "    <tr>\n",
              "      <th>4</th>\n",
              "      <td>5.0</td>\n",
              "      <td>08/04/96</td>\n",
              "      <td>1.0</td>\n",
              "      <td>19.0</td>\n",
              "      <td>46.0</td>\n",
              "      <td>6.0</td>\n",
              "      <td>16.0</td>\n",
              "      <td>2.0</td>\n",
              "      <td>0.0</td>\n",
              "      <td>NaN</td>\n",
              "      <td>0</td>\n",
              "    </tr>\n",
              "  </tbody>\n",
              "</table>\n",
              "</div>"
            ],
            "text/plain": [
              "     C      Data  PDez   SDz   TDz  QDez  QiDez  SxDez  NGan   UF     Rateio\n",
              "0  1.0  11/03/96  41.0   5.0   4.0  52.0   30.0   33.0   0.0  NaN        NaN\n",
              "1  2.0  18/03/96   9.0  39.0  37.0  49.0   43.0   41.0   1.0   PR  2.307.162\n",
              "2  3.0  25/03/96  36.0  30.0  10.0  11.0   29.0   47.0   2.0   RN    391.192\n",
              "3  4.0  01/04/96   6.0  59.0  42.0  27.0    1.0    5.0   0.0  NaN          0\n",
              "4  5.0  08/04/96   1.0  19.0  46.0   6.0   16.0    2.0   0.0  NaN          0"
            ]
          },
          "metadata": {
            "tags": []
          },
          "execution_count": 2
        }
      ]
    },
    {
      "cell_type": "code",
      "metadata": {
        "id": "h8VOX82En658"
      },
      "source": [
        "dados"
      ],
      "execution_count": null,
      "outputs": []
    },
    {
      "cell_type": "code",
      "metadata": {
        "id": "Lv45rhnDgsxD"
      },
      "source": [
        "dados[\"C\"].unique()"
      ],
      "execution_count": null,
      "outputs": []
    },
    {
      "cell_type": "code",
      "metadata": {
        "id": "LK4ssUqBheu3",
        "outputId": "cb9f9673-dbd9-4ba7-f150-c2720fb67615",
        "colab": {
          "base_uri": "https://localhost:8080/"
        }
      },
      "source": [
        "dados[\"Data\"].unique()"
      ],
      "execution_count": 26,
      "outputs": [
        {
          "output_type": "execute_result",
          "data": {
            "text/plain": [
              "array(['11/03/96', '18/03/96', '25/03/96', ..., '16/12/20', '19/12/20',\n",
              "       '31/12/20'], dtype=object)"
            ]
          },
          "metadata": {
            "tags": []
          },
          "execution_count": 26
        }
      ]
    },
    {
      "cell_type": "code",
      "metadata": {
        "colab": {
          "base_uri": "https://localhost:8080/"
        },
        "id": "ijDagkiNhrLZ",
        "outputId": "06bb963f-377c-4de9-f901-03829225a993"
      },
      "source": [
        "dados[\"PDez\"].unique()"
      ],
      "execution_count": 25,
      "outputs": [
        {
          "output_type": "execute_result",
          "data": {
            "text/plain": [
              "array([41.,  9., 36.,  6.,  1., 19., 56., 53., 55., 25., 20., 47., 16.,\n",
              "       60., 10., 37.,  5., 49., 17., 50., 44., 14., 38., 43., 15., 21.,\n",
              "       13., 22.,  3., 24.,  2., 30., 32., 35., 33., 57., 23., 58., 42.,\n",
              "       29., 51., 27., 28., 59., 52., 26.,  8., 40., 54., 45., 46.,  4.,\n",
              "       39., 34., 11., 12.,  7., 31., 48., 18., nan])"
            ]
          },
          "metadata": {
            "tags": []
          },
          "execution_count": 25
        }
      ]
    },
    {
      "cell_type": "code",
      "metadata": {
        "id": "-IenmAIvh7dO"
      },
      "source": [
        "#@title\n",
        "dados[\"SDz\"].unique"
      ],
      "execution_count": null,
      "outputs": []
    },
    {
      "cell_type": "code",
      "metadata": {
        "id": "wDF46HR9jueE",
        "outputId": "934b56e4-c621-474a-c934-fd5fb5e85725",
        "colab": {
          "base_uri": "https://localhost:8080/"
        }
      },
      "source": [
        "dados[\"TDz\"].unique"
      ],
      "execution_count": 24,
      "outputs": [
        {
          "output_type": "execute_result",
          "data": {
            "text/plain": [
              "<bound method Series.unique of 0        4.0\n",
              "1       37.0\n",
              "2       10.0\n",
              "3       42.0\n",
              "4       46.0\n",
              "        ... \n",
              "2326    34.0\n",
              "2327    30.0\n",
              "2328    39.0\n",
              "2329    45.0\n",
              "2330    17.0\n",
              "Name: TDz, Length: 2331, dtype: float64>"
            ]
          },
          "metadata": {
            "tags": []
          },
          "execution_count": 24
        }
      ]
    },
    {
      "cell_type": "code",
      "metadata": {
        "id": "5_oZus3Z-Dkh",
        "outputId": "5dabe84b-e741-47cc-9d01-e67e540d6863",
        "colab": {
          "base_uri": "https://localhost:8080/"
        }
      },
      "source": [
        "dados[\"QDez\"].unique"
      ],
      "execution_count": 23,
      "outputs": [
        {
          "output_type": "execute_result",
          "data": {
            "text/plain": [
              "<bound method Series.unique of 0       52.0\n",
              "1       49.0\n",
              "2       11.0\n",
              "3       27.0\n",
              "4        6.0\n",
              "        ... \n",
              "2326    16.0\n",
              "2327    57.0\n",
              "2328    14.0\n",
              "2329    14.0\n",
              "2330    41.0\n",
              "Name: QDez, Length: 2331, dtype: float64>"
            ]
          },
          "metadata": {
            "tags": []
          },
          "execution_count": 23
        }
      ]
    },
    {
      "cell_type": "code",
      "metadata": {
        "id": "M8GcB-mr-A6k",
        "outputId": "061a348e-f8bb-4628-984d-c8dbb32f962d",
        "colab": {
          "base_uri": "https://localhost:8080/"
        }
      },
      "source": [
        "dados[\"QiDez\"].unique"
      ],
      "execution_count": 22,
      "outputs": [
        {
          "output_type": "execute_result",
          "data": {
            "text/plain": [
              "<bound method Series.unique of 0       30.0\n",
              "1       43.0\n",
              "2       29.0\n",
              "3        1.0\n",
              "4       16.0\n",
              "        ... \n",
              "2326    57.0\n",
              "2327    37.0\n",
              "2328    48.0\n",
              "2329    12.0\n",
              "2330    20.0\n",
              "Name: QiDez, Length: 2331, dtype: float64>"
            ]
          },
          "metadata": {
            "tags": []
          },
          "execution_count": 22
        }
      ]
    },
    {
      "cell_type": "code",
      "metadata": {
        "id": "pDyxCnQQ-Agc",
        "outputId": "f21e6886-2f9c-4395-e460-a4ff52c34835",
        "colab": {
          "base_uri": "https://localhost:8080/"
        }
      },
      "source": [
        "dados[\"SxDez\"].unique"
      ],
      "execution_count": 16,
      "outputs": [
        {
          "output_type": "execute_result",
          "data": {
            "text/plain": [
              "<bound method Series.unique of 0       33.0\n",
              "1       41.0\n",
              "2       47.0\n",
              "3        5.0\n",
              "4        2.0\n",
              "        ... \n",
              "2326    10.0\n",
              "2327    58.0\n",
              "2328    53.0\n",
              "2329    55.0\n",
              "2330    42.0\n",
              "Name: SxDez, Length: 2331, dtype: float64>"
            ]
          },
          "metadata": {
            "tags": []
          },
          "execution_count": 16
        }
      ]
    },
    {
      "cell_type": "code",
      "metadata": {
        "id": "fXcyCCIc9_tZ",
        "outputId": "41da44c2-c92a-4633-a902-35ab34a72857",
        "colab": {
          "base_uri": "https://localhost:8080/"
        }
      },
      "source": [
        "dados[\"NGan\"].unique"
      ],
      "execution_count": 21,
      "outputs": [
        {
          "output_type": "execute_result",
          "data": {
            "text/plain": [
              "<bound method Series.unique of 0       0.0\n",
              "1       1.0\n",
              "2       2.0\n",
              "3       0.0\n",
              "4       0.0\n",
              "       ... \n",
              "2326    0.0\n",
              "2327    0.0\n",
              "2328    0.0\n",
              "2329    2.0\n",
              "2330    2.0\n",
              "Name: NGan, Length: 2331, dtype: float64>"
            ]
          },
          "metadata": {
            "tags": []
          },
          "execution_count": 21
        }
      ]
    },
    {
      "cell_type": "code",
      "metadata": {
        "id": "AxotKk8L_ADm",
        "outputId": "b241cd4b-c837-49d3-c95b-85b2514f1c3e",
        "colab": {
          "base_uri": "https://localhost:8080/"
        }
      },
      "source": [
        "dados[\"UF\"].unique"
      ],
      "execution_count": 20,
      "outputs": [
        {
          "output_type": "execute_result",
          "data": {
            "text/plain": [
              "<bound method Series.unique of 0       NaN\n",
              "1        PR\n",
              "2        RN\n",
              "3       NaN\n",
              "4       NaN\n",
              "       ... \n",
              "2326    NaN\n",
              "2327    NaN\n",
              "2328    NaN\n",
              "2329     PB\n",
              "2330     SE\n",
              "Name: UF, Length: 2331, dtype: object>"
            ]
          },
          "metadata": {
            "tags": []
          },
          "execution_count": 20
        }
      ]
    },
    {
      "cell_type": "code",
      "metadata": {
        "id": "8f8aBJAV-_1I",
        "outputId": "5d8f2a83-34e5-41df-c019-db92bc04c110",
        "colab": {
          "base_uri": "https://localhost:8080/"
        }
      },
      "source": [
        "dados[\"Rateio\"].unique"
      ],
      "execution_count": 19,
      "outputs": [
        {
          "output_type": "execute_result",
          "data": {
            "text/plain": [
              "<bound method Series.unique of 0               NaN\n",
              "1         2.307.162\n",
              "2           391.192\n",
              "3                 0\n",
              "4                 0\n",
              "           ...     \n",
              "2326              0\n",
              "2327              0\n",
              "2328              0\n",
              "2329     26.798.752\n",
              "2330    162.625.108\n",
              "Name: Rateio, Length: 2331, dtype: object>"
            ]
          },
          "metadata": {
            "tags": []
          },
          "execution_count": 19
        }
      ]
    },
    {
      "cell_type": "code",
      "metadata": {
        "id": "IRfecaic-_l0"
      },
      "source": [
        ""
      ],
      "execution_count": null,
      "outputs": []
    },
    {
      "cell_type": "code",
      "metadata": {
        "colab": {
          "base_uri": "https://localhost:8080/",
          "height": 282
        },
        "id": "XAkPNkc_h_Ge",
        "outputId": "43e689e2-24d5-42aa-d020-5c138133e4fd"
      },
      "source": [
        "dados[\"TDz\"].hist()"
      ],
      "execution_count": 8,
      "outputs": [
        {
          "output_type": "execute_result",
          "data": {
            "text/plain": [
              "<matplotlib.axes._subplots.AxesSubplot at 0x7f2ee2a87940>"
            ]
          },
          "metadata": {
            "tags": []
          },
          "execution_count": 8
        },
        {
          "output_type": "display_data",
          "data": {
            "image/png": "[encoded data removed]",
            "text/plain": [
              "<Figure size 432x288 with 1 Axes>"
            ]
          },
          "metadata": {
            "tags": [],
            "needs_background": "light"
          }
        }
      ]
    },
    {
      "cell_type": "code",
      "metadata": {
        "id": "pEpng5ZwiLxZ"
      },
      "source": [
        ""
      ],
      "execution_count": null,
      "outputs": []
    },
    {
      "cell_type": "code",
      "metadata": {
        "colab": {
          "base_uri": "https://localhost:8080/",
          "height": 282
        },
        "id": "PqYwKyMeiMZO",
        "outputId": "0bad638e-4c18-4360-a92e-787f3708c68a"
      },
      "source": [
        "dados[\"Ano\"].hist()"
      ],
      "execution_count": null,
      "outputs": [
        {
          "output_type": "execute_result",
          "data": {
            "text/plain": [
              "<matplotlib.axes._subplots.AxesSubplot at 0x7f9db64152b0>"
            ]
          },
          "metadata": {
            "tags": []
          },
          "execution_count": 14
        },
        {
          "output_type": "display_data",
          "data": {
            "image/png": "[encoded data removed]",
            "text/plain": [
              "<Figure size 432x288 with 1 Axes>"
            ]
          },
          "metadata": {
            "tags": [],
            "needs_background": "light"
          }
        }
      ]
    }
  ]
}