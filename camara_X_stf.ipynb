{
  "nbformat": 4,
  "nbformat_minor": 0,
  "metadata": {
    "colab": {
      "name": "camara_X_stf.ipynb",
      "provenance": [],
      "authorship_tag": "ABX9TyNneeEf75lh7wrkWkLPSNJh",
      "include_colab_link": true
    },
    "kernelspec": {
      "name": "python3",
      "display_name": "Python 3"
    }
  },
  "cells": [
    {
      "cell_type": "markdown",
      "metadata": {
        "id": "view-in-github",
        "colab_type": "text"
      },
      "source": [
        "<a href=\"https://colab.research.google.com/github/pcpiscator/Ciencia-de-dados/blob/master/camara_X_stf.ipynb\" target=\"_parent\"><img src=\"https://colab.research.google.com/assets/colab-badge.svg\" alt=\"Open In Colab\"/></a>"
      ]
    },
    {
      "cell_type": "code",
      "metadata": {
        "id": "D7Dp1AikM909"
      },
      "source": [
        "import pandas as pd                  \r\n",
        "import numpy as np\r\n",
        "import seaborn as sns\r\n",
        "import matplotlib.pyplot as plt\r\n",
        "from datetime import datetime\r\n",
        "from dateutil.parser import parse \r\n",
        "# bibliotecas para visualização\r\n",
        "import plotly.offline as py\r\n",
        "import plotly.graph_objs as go\r\n",
        "# bibliotecas para visualização\r\n",
        "\r\n",
        "\r\n",
        "%matplotlib inline"
      ],
      "execution_count": 25,
      "outputs": []
    },
    {
      "cell_type": "code",
      "metadata": {
        "colab": {
          "base_uri": "https://localhost:8080/",
          "height": 204
        },
        "id": "pN5c6xVOfGZQ",
        "outputId": "1b6b4908-5dda-473c-fcd7-69759fe992fe"
      },
      "source": [
        "fonte = \"https://raw.githubusercontent.com/pcpiscator/Ciencia-de-dados/master/camara_X_stf.txt\"\r\n",
        "dados = pd.read_csv(fonte)\r\n",
        "dados.head()"
      ],
      "execution_count": 35,
      "outputs": [
        {
          "output_type": "execute_result",
          "data": {
            "text/html": [
              "<div>\n",
              "<style scoped>\n",
              "    .dataframe tbody tr th:only-of-type {\n",
              "        vertical-align: middle;\n",
              "    }\n",
              "\n",
              "    .dataframe tbody tr th {\n",
              "        vertical-align: top;\n",
              "    }\n",
              "\n",
              "    .dataframe thead th {\n",
              "        text-align: right;\n",
              "    }\n",
              "</style>\n",
              "<table border=\"1\" class=\"dataframe\">\n",
              "  <thead>\n",
              "    <tr style=\"text-align: right;\">\n",
              "      <th></th>\n",
              "      <th>Deputado</th>\n",
              "      <th>Partido</th>\n",
              "      <th>Estado</th>\n",
              "      <th>Voto</th>\n",
              "    </tr>\n",
              "  </thead>\n",
              "  <tbody>\n",
              "    <tr>\n",
              "      <th>0</th>\n",
              "      <td>Abílio Santana</td>\n",
              "      <td>PL</td>\n",
              "      <td>BA</td>\n",
              "      <td>Sim</td>\n",
              "    </tr>\n",
              "    <tr>\n",
              "      <th>1</th>\n",
              "      <td>Abou Anni</td>\n",
              "      <td>PSL</td>\n",
              "      <td>SP</td>\n",
              "      <td>Sim</td>\n",
              "    </tr>\n",
              "    <tr>\n",
              "      <th>2</th>\n",
              "      <td>Acácio Favacho</td>\n",
              "      <td>PROS</td>\n",
              "      <td>AP</td>\n",
              "      <td>Sim</td>\n",
              "    </tr>\n",
              "    <tr>\n",
              "      <th>3</th>\n",
              "      <td>Adolfo Viana</td>\n",
              "      <td>PSDB</td>\n",
              "      <td>BA</td>\n",
              "      <td>Sim</td>\n",
              "    </tr>\n",
              "    <tr>\n",
              "      <th>4</th>\n",
              "      <td>Adriana Ventura</td>\n",
              "      <td>NOVO</td>\n",
              "      <td>SP</td>\n",
              "      <td>Não</td>\n",
              "    </tr>\n",
              "  </tbody>\n",
              "</table>\n",
              "</div>"
            ],
            "text/plain": [
              "          Deputado Partido Estado Voto\n",
              "0   Abílio Santana      PL     BA  Sim\n",
              "1        Abou Anni     PSL     SP  Sim\n",
              "2   Acácio Favacho    PROS     AP  Sim\n",
              "3     Adolfo Viana    PSDB     BA  Sim\n",
              "4  Adriana Ventura    NOVO     SP  Não"
            ]
          },
          "metadata": {
            "tags": []
          },
          "execution_count": 35
        }
      ]
    },
    {
      "cell_type": "code",
      "metadata": {
        "id": "hEy3Ojgqv_Tl",
        "colab": {
          "base_uri": "https://localhost:8080/",
          "height": 204
        },
        "outputId": "29b75498-8d0a-4313-c874-2159901abe51"
      },
      "source": [
        "mapeamento_Voto = {\"Sim\": 0, \"Não\": 1}\r\n",
        "dados['Voto'] = dados['Voto'].map(mapeamento_Voto)\r\n",
        "\r\n",
        "dados.head()"
      ],
      "execution_count": 36,
      "outputs": [
        {
          "output_type": "execute_result",
          "data": {
            "text/html": [
              "<div>\n",
              "<style scoped>\n",
              "    .dataframe tbody tr th:only-of-type {\n",
              "        vertical-align: middle;\n",
              "    }\n",
              "\n",
              "    .dataframe tbody tr th {\n",
              "        vertical-align: top;\n",
              "    }\n",
              "\n",
              "    .dataframe thead th {\n",
              "        text-align: right;\n",
              "    }\n",
              "</style>\n",
              "<table border=\"1\" class=\"dataframe\">\n",
              "  <thead>\n",
              "    <tr style=\"text-align: right;\">\n",
              "      <th></th>\n",
              "      <th>Deputado</th>\n",
              "      <th>Partido</th>\n",
              "      <th>Estado</th>\n",
              "      <th>Voto</th>\n",
              "    </tr>\n",
              "  </thead>\n",
              "  <tbody>\n",
              "    <tr>\n",
              "      <th>0</th>\n",
              "      <td>Abílio Santana</td>\n",
              "      <td>PL</td>\n",
              "      <td>BA</td>\n",
              "      <td>0.0</td>\n",
              "    </tr>\n",
              "    <tr>\n",
              "      <th>1</th>\n",
              "      <td>Abou Anni</td>\n",
              "      <td>PSL</td>\n",
              "      <td>SP</td>\n",
              "      <td>0.0</td>\n",
              "    </tr>\n",
              "    <tr>\n",
              "      <th>2</th>\n",
              "      <td>Acácio Favacho</td>\n",
              "      <td>PROS</td>\n",
              "      <td>AP</td>\n",
              "      <td>0.0</td>\n",
              "    </tr>\n",
              "    <tr>\n",
              "      <th>3</th>\n",
              "      <td>Adolfo Viana</td>\n",
              "      <td>PSDB</td>\n",
              "      <td>BA</td>\n",
              "      <td>0.0</td>\n",
              "    </tr>\n",
              "    <tr>\n",
              "      <th>4</th>\n",
              "      <td>Adriana Ventura</td>\n",
              "      <td>NOVO</td>\n",
              "      <td>SP</td>\n",
              "      <td>1.0</td>\n",
              "    </tr>\n",
              "  </tbody>\n",
              "</table>\n",
              "</div>"
            ],
            "text/plain": [
              "          Deputado Partido Estado  Voto\n",
              "0   Abílio Santana      PL     BA   0.0\n",
              "1        Abou Anni     PSL     SP   0.0\n",
              "2   Acácio Favacho    PROS     AP   0.0\n",
              "3     Adolfo Viana    PSDB     BA   0.0\n",
              "4  Adriana Ventura    NOVO     SP   1.0"
            ]
          },
          "metadata": {
            "tags": []
          },
          "execution_count": 36
        }
      ]
    },
    {
      "cell_type": "code",
      "metadata": {
        "id": "7vWLuv8pSWT9",
        "colab": {
          "base_uri": "https://localhost:8080/",
          "height": 419
        },
        "outputId": "6bea4e10-9f17-4e5b-d6a3-b48a44296a0d"
      },
      "source": [
        "dados"
      ],
      "execution_count": 37,
      "outputs": [
        {
          "output_type": "execute_result",
          "data": {
            "text/html": [
              "<div>\n",
              "<style scoped>\n",
              "    .dataframe tbody tr th:only-of-type {\n",
              "        vertical-align: middle;\n",
              "    }\n",
              "\n",
              "    .dataframe tbody tr th {\n",
              "        vertical-align: top;\n",
              "    }\n",
              "\n",
              "    .dataframe thead th {\n",
              "        text-align: right;\n",
              "    }\n",
              "</style>\n",
              "<table border=\"1\" class=\"dataframe\">\n",
              "  <thead>\n",
              "    <tr style=\"text-align: right;\">\n",
              "      <th></th>\n",
              "      <th>Deputado</th>\n",
              "      <th>Partido</th>\n",
              "      <th>Estado</th>\n",
              "      <th>Voto</th>\n",
              "    </tr>\n",
              "  </thead>\n",
              "  <tbody>\n",
              "    <tr>\n",
              "      <th>0</th>\n",
              "      <td>Abílio Santana</td>\n",
              "      <td>PL</td>\n",
              "      <td>BA</td>\n",
              "      <td>0.0</td>\n",
              "    </tr>\n",
              "    <tr>\n",
              "      <th>1</th>\n",
              "      <td>Abou Anni</td>\n",
              "      <td>PSL</td>\n",
              "      <td>SP</td>\n",
              "      <td>0.0</td>\n",
              "    </tr>\n",
              "    <tr>\n",
              "      <th>2</th>\n",
              "      <td>Acácio Favacho</td>\n",
              "      <td>PROS</td>\n",
              "      <td>AP</td>\n",
              "      <td>0.0</td>\n",
              "    </tr>\n",
              "    <tr>\n",
              "      <th>3</th>\n",
              "      <td>Adolfo Viana</td>\n",
              "      <td>PSDB</td>\n",
              "      <td>BA</td>\n",
              "      <td>0.0</td>\n",
              "    </tr>\n",
              "    <tr>\n",
              "      <th>4</th>\n",
              "      <td>Adriana Ventura</td>\n",
              "      <td>NOVO</td>\n",
              "      <td>SP</td>\n",
              "      <td>1.0</td>\n",
              "    </tr>\n",
              "    <tr>\n",
              "      <th>...</th>\n",
              "      <td>...</td>\n",
              "      <td>...</td>\n",
              "      <td>...</td>\n",
              "      <td>...</td>\n",
              "    </tr>\n",
              "    <tr>\n",
              "      <th>508</th>\n",
              "      <td>Zé Carlos</td>\n",
              "      <td>PT</td>\n",
              "      <td>MA</td>\n",
              "      <td>0.0</td>\n",
              "    </tr>\n",
              "    <tr>\n",
              "      <th>509</th>\n",
              "      <td>Zé Neto</td>\n",
              "      <td>PT</td>\n",
              "      <td>BA</td>\n",
              "      <td>0.0</td>\n",
              "    </tr>\n",
              "    <tr>\n",
              "      <th>510</th>\n",
              "      <td>Zé Silva</td>\n",
              "      <td>SOLIDARIEDADE</td>\n",
              "      <td>MG</td>\n",
              "      <td>0.0</td>\n",
              "    </tr>\n",
              "    <tr>\n",
              "      <th>511</th>\n",
              "      <td>Zé Vitor</td>\n",
              "      <td>PL</td>\n",
              "      <td>MG</td>\n",
              "      <td>0.0</td>\n",
              "    </tr>\n",
              "    <tr>\n",
              "      <th>512</th>\n",
              "      <td>Zeca Dirceu</td>\n",
              "      <td>PT</td>\n",
              "      <td>PR</td>\n",
              "      <td>0.0</td>\n",
              "    </tr>\n",
              "  </tbody>\n",
              "</table>\n",
              "<p>513 rows × 4 columns</p>\n",
              "</div>"
            ],
            "text/plain": [
              "            Deputado        Partido Estado  Voto\n",
              "0     Abílio Santana             PL     BA   0.0\n",
              "1          Abou Anni            PSL     SP   0.0\n",
              "2     Acácio Favacho           PROS     AP   0.0\n",
              "3       Adolfo Viana           PSDB     BA   0.0\n",
              "4    Adriana Ventura           NOVO     SP   1.0\n",
              "..               ...            ...    ...   ...\n",
              "508        Zé Carlos             PT     MA   0.0\n",
              "509          Zé Neto             PT     BA   0.0\n",
              "510         Zé Silva  SOLIDARIEDADE     MG   0.0\n",
              "511         Zé Vitor             PL     MG   0.0\n",
              "512      Zeca Dirceu             PT     PR   0.0\n",
              "\n",
              "[513 rows x 4 columns]"
            ]
          },
          "metadata": {
            "tags": []
          },
          "execution_count": 37
        }
      ]
    },
    {
      "cell_type": "code",
      "metadata": {
        "id": "yFW9eDj9t90k",
        "colab": {
          "base_uri": "https://localhost:8080/"
        },
        "outputId": "da0e4c1a-a3d0-40b7-a161-a779066a4d86"
      },
      "source": [
        "dados.shape"
      ],
      "execution_count": null,
      "outputs": [
        {
          "output_type": "execute_result",
          "data": {
            "text/plain": [
              "(513, 4)"
            ]
          },
          "metadata": {
            "tags": []
          },
          "execution_count": 5
        }
      ]
    },
    {
      "cell_type": "code",
      "metadata": {
        "id": "V5jI5BwVU5pH",
        "outputId": "2c43c600-cf93-4b4a-d770-ea6b356be59f",
        "colab": {
          "base_uri": "https://localhost:8080/",
          "height": 419
        }
      },
      "source": [
        "dados[[\"Deputado\",\"Partido\"]]"
      ],
      "execution_count": 38,
      "outputs": [
        {
          "output_type": "execute_result",
          "data": {
            "text/html": [
              "<div>\n",
              "<style scoped>\n",
              "    .dataframe tbody tr th:only-of-type {\n",
              "        vertical-align: middle;\n",
              "    }\n",
              "\n",
              "    .dataframe tbody tr th {\n",
              "        vertical-align: top;\n",
              "    }\n",
              "\n",
              "    .dataframe thead th {\n",
              "        text-align: right;\n",
              "    }\n",
              "</style>\n",
              "<table border=\"1\" class=\"dataframe\">\n",
              "  <thead>\n",
              "    <tr style=\"text-align: right;\">\n",
              "      <th></th>\n",
              "      <th>Deputado</th>\n",
              "      <th>Partido</th>\n",
              "    </tr>\n",
              "  </thead>\n",
              "  <tbody>\n",
              "    <tr>\n",
              "      <th>0</th>\n",
              "      <td>Abílio Santana</td>\n",
              "      <td>PL</td>\n",
              "    </tr>\n",
              "    <tr>\n",
              "      <th>1</th>\n",
              "      <td>Abou Anni</td>\n",
              "      <td>PSL</td>\n",
              "    </tr>\n",
              "    <tr>\n",
              "      <th>2</th>\n",
              "      <td>Acácio Favacho</td>\n",
              "      <td>PROS</td>\n",
              "    </tr>\n",
              "    <tr>\n",
              "      <th>3</th>\n",
              "      <td>Adolfo Viana</td>\n",
              "      <td>PSDB</td>\n",
              "    </tr>\n",
              "    <tr>\n",
              "      <th>4</th>\n",
              "      <td>Adriana Ventura</td>\n",
              "      <td>NOVO</td>\n",
              "    </tr>\n",
              "    <tr>\n",
              "      <th>...</th>\n",
              "      <td>...</td>\n",
              "      <td>...</td>\n",
              "    </tr>\n",
              "    <tr>\n",
              "      <th>508</th>\n",
              "      <td>Zé Carlos</td>\n",
              "      <td>PT</td>\n",
              "    </tr>\n",
              "    <tr>\n",
              "      <th>509</th>\n",
              "      <td>Zé Neto</td>\n",
              "      <td>PT</td>\n",
              "    </tr>\n",
              "    <tr>\n",
              "      <th>510</th>\n",
              "      <td>Zé Silva</td>\n",
              "      <td>SOLIDARIEDADE</td>\n",
              "    </tr>\n",
              "    <tr>\n",
              "      <th>511</th>\n",
              "      <td>Zé Vitor</td>\n",
              "      <td>PL</td>\n",
              "    </tr>\n",
              "    <tr>\n",
              "      <th>512</th>\n",
              "      <td>Zeca Dirceu</td>\n",
              "      <td>PT</td>\n",
              "    </tr>\n",
              "  </tbody>\n",
              "</table>\n",
              "<p>513 rows × 2 columns</p>\n",
              "</div>"
            ],
            "text/plain": [
              "            Deputado        Partido\n",
              "0     Abílio Santana             PL\n",
              "1          Abou Anni            PSL\n",
              "2     Acácio Favacho           PROS\n",
              "3       Adolfo Viana           PSDB\n",
              "4    Adriana Ventura           NOVO\n",
              "..               ...            ...\n",
              "508        Zé Carlos             PT\n",
              "509          Zé Neto             PT\n",
              "510         Zé Silva  SOLIDARIEDADE\n",
              "511         Zé Vitor             PL\n",
              "512      Zeca Dirceu             PT\n",
              "\n",
              "[513 rows x 2 columns]"
            ]
          },
          "metadata": {
            "tags": []
          },
          "execution_count": 38
        }
      ]
    },
    {
      "cell_type": "code",
      "metadata": {
        "id": "EzhCped_VvEN",
        "colab": {
          "base_uri": "https://localhost:8080/"
        },
        "outputId": "3a6bbb66-3b1b-4892-d8d0-24e47e7d4699"
      },
      "source": [
        "dados[\"Partido\"].value_counts()"
      ],
      "execution_count": 39,
      "outputs": [
        {
          "output_type": "execute_result",
          "data": {
            "text/plain": [
              "PSL              53\n",
              "PT               52\n",
              "PL               42\n",
              "PP               40\n",
              "PSD              35\n",
              "MDB              34\n",
              "PSDB             32\n",
              "REPUBLICANOS     32\n",
              "PSB              30\n",
              "DEM              29\n",
              "PDT              26\n",
              "SOLIDARIEDADE    14\n",
              "PTB              11\n",
              "PROS             11\n",
              "PSC              10\n",
              "PSOL             10\n",
              "PODE             10\n",
              "CIDADANIA         8\n",
              "NOVO              8\n",
              "AVANTE            8\n",
              "PCdoB             7\n",
              "PATRIOTA          6\n",
              "PV                4\n",
              "REDE              1\n",
              "Name: Partido, dtype: int64"
            ]
          },
          "metadata": {
            "tags": []
          },
          "execution_count": 39
        }
      ]
    },
    {
      "cell_type": "code",
      "metadata": {
        "id": "gRSrpizsY_L-",
        "colab": {
          "base_uri": "https://localhost:8080/",
          "height": 419
        },
        "outputId": "b13e947c-1a13-49db-969c-177ae4f390a2"
      },
      "source": [
        "dados[[\"Deputado\",\"Voto\"]]"
      ],
      "execution_count": 40,
      "outputs": [
        {
          "output_type": "execute_result",
          "data": {
            "text/html": [
              "<div>\n",
              "<style scoped>\n",
              "    .dataframe tbody tr th:only-of-type {\n",
              "        vertical-align: middle;\n",
              "    }\n",
              "\n",
              "    .dataframe tbody tr th {\n",
              "        vertical-align: top;\n",
              "    }\n",
              "\n",
              "    .dataframe thead th {\n",
              "        text-align: right;\n",
              "    }\n",
              "</style>\n",
              "<table border=\"1\" class=\"dataframe\">\n",
              "  <thead>\n",
              "    <tr style=\"text-align: right;\">\n",
              "      <th></th>\n",
              "      <th>Deputado</th>\n",
              "      <th>Voto</th>\n",
              "    </tr>\n",
              "  </thead>\n",
              "  <tbody>\n",
              "    <tr>\n",
              "      <th>0</th>\n",
              "      <td>Abílio Santana</td>\n",
              "      <td>0.0</td>\n",
              "    </tr>\n",
              "    <tr>\n",
              "      <th>1</th>\n",
              "      <td>Abou Anni</td>\n",
              "      <td>0.0</td>\n",
              "    </tr>\n",
              "    <tr>\n",
              "      <th>2</th>\n",
              "      <td>Acácio Favacho</td>\n",
              "      <td>0.0</td>\n",
              "    </tr>\n",
              "    <tr>\n",
              "      <th>3</th>\n",
              "      <td>Adolfo Viana</td>\n",
              "      <td>0.0</td>\n",
              "    </tr>\n",
              "    <tr>\n",
              "      <th>4</th>\n",
              "      <td>Adriana Ventura</td>\n",
              "      <td>1.0</td>\n",
              "    </tr>\n",
              "    <tr>\n",
              "      <th>...</th>\n",
              "      <td>...</td>\n",
              "      <td>...</td>\n",
              "    </tr>\n",
              "    <tr>\n",
              "      <th>508</th>\n",
              "      <td>Zé Carlos</td>\n",
              "      <td>0.0</td>\n",
              "    </tr>\n",
              "    <tr>\n",
              "      <th>509</th>\n",
              "      <td>Zé Neto</td>\n",
              "      <td>0.0</td>\n",
              "    </tr>\n",
              "    <tr>\n",
              "      <th>510</th>\n",
              "      <td>Zé Silva</td>\n",
              "      <td>0.0</td>\n",
              "    </tr>\n",
              "    <tr>\n",
              "      <th>511</th>\n",
              "      <td>Zé Vitor</td>\n",
              "      <td>0.0</td>\n",
              "    </tr>\n",
              "    <tr>\n",
              "      <th>512</th>\n",
              "      <td>Zeca Dirceu</td>\n",
              "      <td>0.0</td>\n",
              "    </tr>\n",
              "  </tbody>\n",
              "</table>\n",
              "<p>513 rows × 2 columns</p>\n",
              "</div>"
            ],
            "text/plain": [
              "            Deputado  Voto\n",
              "0     Abílio Santana   0.0\n",
              "1          Abou Anni   0.0\n",
              "2     Acácio Favacho   0.0\n",
              "3       Adolfo Viana   0.0\n",
              "4    Adriana Ventura   1.0\n",
              "..               ...   ...\n",
              "508        Zé Carlos   0.0\n",
              "509          Zé Neto   0.0\n",
              "510         Zé Silva   0.0\n",
              "511         Zé Vitor   0.0\n",
              "512      Zeca Dirceu   0.0\n",
              "\n",
              "[513 rows x 2 columns]"
            ]
          },
          "metadata": {
            "tags": []
          },
          "execution_count": 40
        }
      ]
    },
    {
      "cell_type": "code",
      "metadata": {
        "id": "LNOBOHTQgqVi",
        "colab": {
          "base_uri": "https://localhost:8080/"
        },
        "outputId": "c7cbc824-703e-43cd-fb9d-d427bb524c54"
      },
      "source": [
        "dados[[\"Estado\",\"Voto\"]].value_counts()"
      ],
      "execution_count": 41,
      "outputs": [
        {
          "output_type": "execute_result",
          "data": {
            "text/plain": [
              "Estado  Voto\n",
              "SP      0.0     50\n",
              "MG      0.0     37\n",
              "BA      0.0     34\n",
              "RJ      0.0     28\n",
              "PE      0.0     24\n",
              "SP      1.0     20\n",
              "PR      0.0     19\n",
              "CE      0.0     17\n",
              "RS      1.0     17\n",
              "GO      0.0     14\n",
              "RJ      1.0     13\n",
              "PA      0.0     13\n",
              "RS      0.0     12\n",
              "MA      0.0     12\n",
              "MG      1.0     12\n",
              "PR      1.0     10\n",
              "PI      0.0      9\n",
              "SC      1.0      9\n",
              "PB      0.0      9\n",
              "SE      0.0      8\n",
              "AP      0.0      7\n",
              "RR      0.0      7\n",
              "AL      0.0      7\n",
              "SC      0.0      7\n",
              "MS      0.0      6\n",
              "AM      0.0      6\n",
              "DF      0.0      6\n",
              "AC      0.0      6\n",
              "RN      0.0      6\n",
              "MT      0.0      5\n",
              "TO      0.0      5\n",
              "ES      1.0      5\n",
              "        0.0      5\n",
              "RO      0.0      5\n",
              "CE      1.0      5\n",
              "BA      1.0      4\n",
              "PA      1.0      4\n",
              "MA      1.0      4\n",
              "MT      1.0      3\n",
              "RO      1.0      3\n",
              "AC      1.0      2\n",
              "AM      1.0      2\n",
              "RN      1.0      2\n",
              "TO      1.0      2\n",
              "MS      1.0      2\n",
              "DF      1.0      2\n",
              "GO      1.0      2\n",
              "PB      1.0      2\n",
              "AP      1.0      1\n",
              "PE      1.0      1\n",
              "AL      1.0      1\n",
              "RR      1.0      1\n",
              "PI      1.0      1\n",
              "dtype: int64"
            ]
          },
          "metadata": {
            "tags": []
          },
          "execution_count": 41
        }
      ]
    },
    {
      "cell_type": "markdown",
      "metadata": {
        "id": "3gR3WuwL4sG3"
      },
      "source": [
        "Como se pode ver abaixo um total de 383 parlamentares deram voto a favor da manutenção da prisão do deputado.\r\n",
        "\r\n"
      ]
    },
    {
      "cell_type": "code",
      "metadata": {
        "id": "d7xy6anLksv3",
        "colab": {
          "base_uri": "https://localhost:8080/"
        },
        "outputId": "f5bee6c5-0e1c-47ea-c813-3da918f00d7f"
      },
      "source": [
        "dados.query(\"Voto != 1\")[\"Voto\"]"
      ],
      "execution_count": 44,
      "outputs": [
        {
          "output_type": "execute_result",
          "data": {
            "text/plain": [
              "0      0.0\n",
              "1      0.0\n",
              "2      0.0\n",
              "3      0.0\n",
              "5      0.0\n",
              "      ... \n",
              "508    0.0\n",
              "509    0.0\n",
              "510    0.0\n",
              "511    0.0\n",
              "512    0.0\n",
              "Name: Voto, Length: 383, dtype: float64"
            ]
          },
          "metadata": {
            "tags": []
          },
          "execution_count": 44
        }
      ]
    },
    {
      "cell_type": "markdown",
      "metadata": {
        "id": "cBAIhc2L2-2u"
      },
      "source": [
        "Como se pode  ver abaixo um total de 149 parlamentares deram voto negativo à manutenção da prisão do deputado ou se abstiveram.\r\n"
      ]
    },
    {
      "cell_type": "code",
      "metadata": {
        "id": "grdZP4sWyZrt",
        "colab": {
          "base_uri": "https://localhost:8080/"
        },
        "outputId": "841726ea-b979-4b87-fdf0-8f3c3419ebb0"
      },
      "source": [
        "dados.query(\"Voto != 0\")[\"Voto\"]"
      ],
      "execution_count": 45,
      "outputs": [
        {
          "output_type": "execute_result",
          "data": {
            "text/plain": [
              "4      1.0\n",
              "9      1.0\n",
              "10     NaN\n",
              "14     1.0\n",
              "15     1.0\n",
              "      ... \n",
              "484    1.0\n",
              "485    1.0\n",
              "498    1.0\n",
              "499    1.0\n",
              "506    1.0\n",
              "Name: Voto, Length: 149, dtype: float64"
            ]
          },
          "metadata": {
            "tags": []
          },
          "execution_count": 45
        }
      ]
    },
    {
      "cell_type": "code",
      "metadata": {
        "id": "5w0JCmZXjQH2",
        "colab": {
          "base_uri": "https://localhost:8080/"
        },
        "outputId": "3369bab1-3832-44e8-99b3-20bb6de09ffa"
      },
      "source": [
        "dados[[\"Partido\",\"Voto\"]].value_counts()"
      ],
      "execution_count": null,
      "outputs": [
        {
          "output_type": "execute_result",
          "data": {
            "text/plain": [
              "Partido        Voto      \n",
              "PT             Sim           51\n",
              "PSL            Não           38\n",
              "PP             Sim           33\n",
              "PL             Sim           32\n",
              "REPUBLICANOS   Sim           28\n",
              "MDB            Sim           28\n",
              "PSDB           Sim           26\n",
              "PSB            Sim           25\n",
              "PSD            Sim           24\n",
              "DEM            Sim           23\n",
              "PDT            Sim           21\n",
              "SOLIDARIEDADE  Sim           13\n",
              "PSL            Sim           11\n",
              "PSOL           Sim           10\n",
              "PTB            Não            9\n",
              "PSD            Não            9\n",
              "NOVO           Não            8\n",
              "PL             Não            8\n",
              "PCdoB          Sim            7\n",
              "PODE           Não            7\n",
              "AVANTE         Sim            7\n",
              "PSC            Não            7\n",
              "PROS           Não            6\n",
              "CIDADANIA      Sim            6\n",
              "PP             Não            6\n",
              "MDB            Não            5\n",
              "DEM            Não            5\n",
              "PROS           Sim            5\n",
              "PSDB           Não            5\n",
              "PSB            Não            4\n",
              "PSC            Sim            3\n",
              "REPUBLICANOS   Não            3\n",
              "PATRIOTA       Sim            3\n",
              "PV             Sim            3\n",
              "PSL             AUSENTE       3\n",
              "PDT            Não            3\n",
              "PATRIOTA       Não            2\n",
              "CIDADANIA      Não            2\n",
              "PODE           Sim            2\n",
              "PTB            Sim            2\n",
              "MDB            Abstenção      1\n",
              "PV             Não            1\n",
              "PSB            AUSENTE        1\n",
              "PT             AUSENTE        1\n",
              "DEM            Abstenção      1\n",
              "REPUBLICANOS   AUSENTE        1\n",
              "REDE           Sim            1\n",
              "PDT             AUSENTE       1\n",
              "PATRIOTA       AUSENTE        1\n",
              "PSL            AUSENTE        1\n",
              "SOLIDARIEDADE  Não            1\n",
              "PDT            AUSENTE        1\n",
              "PL              AUSENTE       1\n",
              "PSDB           Abstenção      1\n",
              "PODE            AUSENTE       1\n",
              "PSD            AUSENTE        1\n",
              "                AUSENTE       1\n",
              "PP             PRESIDENTE     1\n",
              "AVANTE         Não            1\n",
              "dtype: int64"
            ]
          },
          "metadata": {
            "tags": []
          },
          "execution_count": 28
        }
      ]
    },
    {
      "cell_type": "markdown",
      "metadata": {
        "id": "mttozozt7MV8"
      },
      "source": [
        "Deputados que votaram **NÃO**."
      ]
    },
    {
      "cell_type": "code",
      "metadata": {
        "colab": {
          "base_uri": "https://localhost:8080/",
          "height": 419
        },
        "id": "xeiMMFcD6TYE",
        "outputId": "605c4fe0-9ceb-47b4-c568-4527d880cfef"
      },
      "source": [
        "dados.query(\"Voto != 0\")[['Deputado',\"Voto\"]]"
      ],
      "execution_count": 47,
      "outputs": [
        {
          "output_type": "execute_result",
          "data": {
            "text/html": [
              "<div>\n",
              "<style scoped>\n",
              "    .dataframe tbody tr th:only-of-type {\n",
              "        vertical-align: middle;\n",
              "    }\n",
              "\n",
              "    .dataframe tbody tr th {\n",
              "        vertical-align: top;\n",
              "    }\n",
              "\n",
              "    .dataframe thead th {\n",
              "        text-align: right;\n",
              "    }\n",
              "</style>\n",
              "<table border=\"1\" class=\"dataframe\">\n",
              "  <thead>\n",
              "    <tr style=\"text-align: right;\">\n",
              "      <th></th>\n",
              "      <th>Deputado</th>\n",
              "      <th>Voto</th>\n",
              "    </tr>\n",
              "  </thead>\n",
              "  <tbody>\n",
              "    <tr>\n",
              "      <th>4</th>\n",
              "      <td>Adriana Ventura</td>\n",
              "      <td>1.0</td>\n",
              "    </tr>\n",
              "    <tr>\n",
              "      <th>9</th>\n",
              "      <td>Afonso Hamm</td>\n",
              "      <td>1.0</td>\n",
              "    </tr>\n",
              "    <tr>\n",
              "      <th>10</th>\n",
              "      <td>Afonso Motta</td>\n",
              "      <td>NaN</td>\n",
              "    </tr>\n",
              "    <tr>\n",
              "      <th>14</th>\n",
              "      <td>Alan Rick</td>\n",
              "      <td>1.0</td>\n",
              "    </tr>\n",
              "    <tr>\n",
              "      <th>15</th>\n",
              "      <td>Alceu Moreira</td>\n",
              "      <td>1.0</td>\n",
              "    </tr>\n",
              "    <tr>\n",
              "      <th>...</th>\n",
              "      <td>...</td>\n",
              "      <td>...</td>\n",
              "    </tr>\n",
              "    <tr>\n",
              "      <th>484</th>\n",
              "      <td>Uldurico Junior</td>\n",
              "      <td>1.0</td>\n",
              "    </tr>\n",
              "    <tr>\n",
              "      <th>485</th>\n",
              "      <td>Vaidon Oliveira</td>\n",
              "      <td>1.0</td>\n",
              "    </tr>\n",
              "    <tr>\n",
              "      <th>498</th>\n",
              "      <td>Vinicius Poit</td>\n",
              "      <td>1.0</td>\n",
              "    </tr>\n",
              "    <tr>\n",
              "      <th>499</th>\n",
              "      <td>Vitor Hugo</td>\n",
              "      <td>1.0</td>\n",
              "    </tr>\n",
              "    <tr>\n",
              "      <th>506</th>\n",
              "      <td>Wilson Santiago</td>\n",
              "      <td>1.0</td>\n",
              "    </tr>\n",
              "  </tbody>\n",
              "</table>\n",
              "<p>149 rows × 2 columns</p>\n",
              "</div>"
            ],
            "text/plain": [
              "            Deputado  Voto\n",
              "4    Adriana Ventura   1.0\n",
              "9        Afonso Hamm   1.0\n",
              "10      Afonso Motta   NaN\n",
              "14         Alan Rick   1.0\n",
              "15     Alceu Moreira   1.0\n",
              "..               ...   ...\n",
              "484  Uldurico Junior   1.0\n",
              "485  Vaidon Oliveira   1.0\n",
              "498    Vinicius Poit   1.0\n",
              "499       Vitor Hugo   1.0\n",
              "506  Wilson Santiago   1.0\n",
              "\n",
              "[149 rows x 2 columns]"
            ]
          },
          "metadata": {
            "tags": []
          },
          "execution_count": 47
        }
      ]
    },
    {
      "cell_type": "markdown",
      "metadata": {
        "id": "GximW-b87c3d"
      },
      "source": [
        "Deputados que votaram **SIM**"
      ]
    },
    {
      "cell_type": "code",
      "metadata": {
        "colab": {
          "base_uri": "https://localhost:8080/",
          "height": 419
        },
        "id": "7E-dp45y6zk7",
        "outputId": "20f25162-b3d7-4433-b770-dd0c4ae5b8c7"
      },
      "source": [
        "dados.query(\"Voto != 1\")[['Deputado',\"Voto\"]]"
      ],
      "execution_count": 48,
      "outputs": [
        {
          "output_type": "execute_result",
          "data": {
            "text/html": [
              "<div>\n",
              "<style scoped>\n",
              "    .dataframe tbody tr th:only-of-type {\n",
              "        vertical-align: middle;\n",
              "    }\n",
              "\n",
              "    .dataframe tbody tr th {\n",
              "        vertical-align: top;\n",
              "    }\n",
              "\n",
              "    .dataframe thead th {\n",
              "        text-align: right;\n",
              "    }\n",
              "</style>\n",
              "<table border=\"1\" class=\"dataframe\">\n",
              "  <thead>\n",
              "    <tr style=\"text-align: right;\">\n",
              "      <th></th>\n",
              "      <th>Deputado</th>\n",
              "      <th>Voto</th>\n",
              "    </tr>\n",
              "  </thead>\n",
              "  <tbody>\n",
              "    <tr>\n",
              "      <th>0</th>\n",
              "      <td>Abílio Santana</td>\n",
              "      <td>0.0</td>\n",
              "    </tr>\n",
              "    <tr>\n",
              "      <th>1</th>\n",
              "      <td>Abou Anni</td>\n",
              "      <td>0.0</td>\n",
              "    </tr>\n",
              "    <tr>\n",
              "      <th>2</th>\n",
              "      <td>Acácio Favacho</td>\n",
              "      <td>0.0</td>\n",
              "    </tr>\n",
              "    <tr>\n",
              "      <th>3</th>\n",
              "      <td>Adolfo Viana</td>\n",
              "      <td>0.0</td>\n",
              "    </tr>\n",
              "    <tr>\n",
              "      <th>5</th>\n",
              "      <td>Adriano do Baldy</td>\n",
              "      <td>0.0</td>\n",
              "    </tr>\n",
              "    <tr>\n",
              "      <th>...</th>\n",
              "      <td>...</td>\n",
              "      <td>...</td>\n",
              "    </tr>\n",
              "    <tr>\n",
              "      <th>508</th>\n",
              "      <td>Zé Carlos</td>\n",
              "      <td>0.0</td>\n",
              "    </tr>\n",
              "    <tr>\n",
              "      <th>509</th>\n",
              "      <td>Zé Neto</td>\n",
              "      <td>0.0</td>\n",
              "    </tr>\n",
              "    <tr>\n",
              "      <th>510</th>\n",
              "      <td>Zé Silva</td>\n",
              "      <td>0.0</td>\n",
              "    </tr>\n",
              "    <tr>\n",
              "      <th>511</th>\n",
              "      <td>Zé Vitor</td>\n",
              "      <td>0.0</td>\n",
              "    </tr>\n",
              "    <tr>\n",
              "      <th>512</th>\n",
              "      <td>Zeca Dirceu</td>\n",
              "      <td>0.0</td>\n",
              "    </tr>\n",
              "  </tbody>\n",
              "</table>\n",
              "<p>383 rows × 2 columns</p>\n",
              "</div>"
            ],
            "text/plain": [
              "             Deputado  Voto\n",
              "0      Abílio Santana   0.0\n",
              "1           Abou Anni   0.0\n",
              "2      Acácio Favacho   0.0\n",
              "3        Adolfo Viana   0.0\n",
              "5    Adriano do Baldy   0.0\n",
              "..                ...   ...\n",
              "508         Zé Carlos   0.0\n",
              "509           Zé Neto   0.0\n",
              "510          Zé Silva   0.0\n",
              "511          Zé Vitor   0.0\n",
              "512       Zeca Dirceu   0.0\n",
              "\n",
              "[383 rows x 2 columns]"
            ]
          },
          "metadata": {
            "tags": []
          },
          "execution_count": 48
        }
      ]
    },
    {
      "cell_type": "code",
      "metadata": {
        "id": "dPnj2OKew4b-",
        "colab": {
          "base_uri": "https://localhost:8080/",
          "height": 488
        },
        "outputId": "e52ca206-2c45-4e1b-bac6-0cb79fc5da3d"
      },
      "source": [
        "Voto_map = {1: 'Sim', 0: 'Não'}\r\n",
        "sns.catplot('Voto',data=dados, kind='count').set_xticklabels(Voto_map.values())\r\n",
        "\r\n"
      ],
      "execution_count": 49,
      "outputs": [
        {
          "output_type": "stream",
          "text": [
            "/usr/local/lib/python3.7/dist-packages/seaborn/_decorators.py:43: FutureWarning:\n",
            "\n",
            "Pass the following variable as a keyword arg: x. From version 0.12, the only valid positional argument will be `data`, and passing other arguments without an explicit keyword will result in an error or misinterpretation.\n",
            "\n"
          ],
          "name": "stderr"
        },
        {
          "output_type": "execute_result",
          "data": {
            "text/plain": [
              "<seaborn.axisgrid.FacetGrid at 0x7f61dbc21750>"
            ]
          },
          "metadata": {
            "tags": []
          },
          "execution_count": 49
        },
        {
          "output_type": "display_data",
          "data": {
            "image/png": "[encoded data removed]",
            "text/plain": [
              "<Figure size 360x360 with 1 Axes>"
            ]
          },
          "metadata": {
            "tags": [],
            "needs_background": "light"
          }
        }
      ]
    },
    {
      "cell_type": "code",
      "metadata": {
        "id": "JBDiifhK1e7o",
        "colab": {
          "base_uri": "https://localhost:8080/",
          "height": 514
        },
        "outputId": "93c6cea9-90c6-4583-b2a2-7f944d27b2fa"
      },
      "source": [
        "\r\n",
        "sns.catplot('Voto', data=dados, hue='Partido', kind='count')"
      ],
      "execution_count": 50,
      "outputs": [
        {
          "output_type": "stream",
          "text": [
            "/usr/local/lib/python3.7/dist-packages/seaborn/_decorators.py:43: FutureWarning:\n",
            "\n",
            "Pass the following variable as a keyword arg: x. From version 0.12, the only valid positional argument will be `data`, and passing other arguments without an explicit keyword will result in an error or misinterpretation.\n",
            "\n"
          ],
          "name": "stderr"
        },
        {
          "output_type": "execute_result",
          "data": {
            "text/plain": [
              "<seaborn.axisgrid.FacetGrid at 0x7f61dbbf7a90>"
            ]
          },
          "metadata": {
            "tags": []
          },
          "execution_count": 50
        },
        {
          "output_type": "display_data",
          "data": {
            "image/png": "[encoded data removed]",
            "text/plain": [
              "<Figure size 477.375x360 with 1 Axes>"
            ]
          },
          "metadata": {
            "tags": [],
            "needs_background": "light"
          }
        }
      ]
    },
    {
      "cell_type": "code",
      "metadata": {
        "id": "OttOQWKC5FOS",
        "colab": {
          "base_uri": "https://localhost:8080/",
          "height": 619
        },
        "outputId": "291c4748-547c-463c-b4ce-354bc0af9145"
      },
      "source": [
        "sns.catplot('Voto', data=dados, hue='Estado', kind='count')\r\n",
        "\r\n"
      ],
      "execution_count": null,
      "outputs": [
        {
          "output_type": "stream",
          "text": [
            "/usr/local/lib/python3.6/dist-packages/seaborn/_decorators.py:43: FutureWarning:\n",
            "\n",
            "Pass the following variable as a keyword arg: x. From version 0.12, the only valid positional argument will be `data`, and passing other arguments without an explicit keyword will result in an error or misinterpretation.\n",
            "\n"
          ],
          "name": "stderr"
        },
        {
          "output_type": "execute_result",
          "data": {
            "text/plain": [
              "<seaborn.axisgrid.FacetGrid at 0x7f9c07fcbe10>"
            ]
          },
          "metadata": {
            "tags": []
          },
          "execution_count": 72
        },
        {
          "output_type": "display_data",
          "data": {
            "image/png": "[encoded data removed]",
            "text/plain": [
              "<Figure size 416.25x360 with 1 Axes>"
            ]
          },
          "metadata": {
            "tags": [],
            "needs_background": "light"
          }
        }
      ]
    },
    {
      "cell_type": "code",
      "metadata": {
        "id": "bYYdyrVGE--m",
        "colab": {
          "base_uri": "https://localhost:8080/",
          "height": 542
        },
        "outputId": "a9ff0339-c200-479d-c42d-19b50a1c1283"
      },
      "source": [
        "#Resultado  em um gráfico de pizza.\r\n",
        "dcount = dados['Voto'].value_counts()\r\n",
        "# O método Pie() tem o parâmetro \"labels\" para definir cada setor do gráfico. Em \"values\" informamos os valores para cada setor. \r\n",
        "# Por fim, em \"pull\" podemos indicar qual \"fatia\" deseja ficar afastada, e quanto será este afastamento. No exemplo abaixo, todas ficaram afastadas do centro.\r\n",
        "data=[go.Pie(labels=list(dcount.index), values=dcount.values.tolist(), pull=[0.1,0.1,0.1,0.1,0.1,0.1])]\r\n",
        "\r\n",
        "py.iplot(data)"
      ],
      "execution_count": null,
      "outputs": [
        {
          "output_type": "display_data",
          "data": {
            "text/html": [
              "<html>\n",
              "<head><meta charset=\"utf-8\" /></head>\n",
              "<body>\n",
              "    <div>\n",
              "            <script src=\"https://cdnjs.cloudflare.com/ajax/libs/mathjax/2.7.5/MathJax.js?config=TeX-AMS-MML_SVG\"></script><script type=\"text/javascript\">if (window.MathJax) {MathJax.Hub.Config({SVG: {font: \"STIX-Web\"}});}</script>\n",
              "                <script type=\"text/javascript\">window.PlotlyConfig = {MathJaxConfig: 'local'};</script>\n",
              "        <script src=\"https://cdn.plot.ly/plotly-latest.min.js\"></script>    \n",
              "            <div id=\"8de96fe1-dcb7-45a9-a9ef-c3099bce8cd2\" class=\"plotly-graph-div\" style=\"height:525px; width:100%;\"></div>\n",
              "            <script type=\"text/javascript\">\n",
              "                \n",
              "                    window.PLOTLYENV=window.PLOTLYENV || {};\n",
              "                    \n",
              "                if (document.getElementById(\"8de96fe1-dcb7-45a9-a9ef-c3099bce8cd2\")) {\n",
              "                    Plotly.newPlot(\n",
              "                        '8de96fe1-dcb7-45a9-a9ef-c3099bce8cd2',\n",
              "                        [{\"labels\": [\"Sim\", \"N\\u00e3o\", \" AUSENTE\", \"AUSENTE\", \"Absten\\u00e7\\u00e3o\", \"PRESIDENTE\"], \"pull\": [0.1, 0.1, 0.1, 0.1, 0.1, 0.1], \"type\": \"pie\", \"values\": [364, 130, 7, 7, 3, 1]}],\n",
              "                        {\"template\": {\"data\": {\"bar\": [{\"error_x\": {\"color\": \"#2a3f5f\"}, \"error_y\": {\"color\": \"#2a3f5f\"}, \"marker\": {\"line\": {\"color\": \"#E5ECF6\", \"width\": 0.5}}, \"type\": \"bar\"}], \"barpolar\": [{\"marker\": {\"line\": {\"color\": \"#E5ECF6\", \"width\": 0.5}}, \"type\": \"barpolar\"}], \"carpet\": [{\"aaxis\": {\"endlinecolor\": \"#2a3f5f\", \"gridcolor\": \"white\", \"linecolor\": \"white\", \"minorgridcolor\": \"white\", \"startlinecolor\": \"#2a3f5f\"}, \"baxis\": {\"endlinecolor\": \"#2a3f5f\", \"gridcolor\": \"white\", \"linecolor\": \"white\", \"minorgridcolor\": \"white\", \"startlinecolor\": \"#2a3f5f\"}, \"type\": \"carpet\"}], \"choropleth\": [{\"colorbar\": {\"outlinewidth\": 0, \"ticks\": \"\"}, \"type\": \"choropleth\"}], \"contour\": [{\"colorbar\": {\"outlinewidth\": 0, \"ticks\": \"\"}, \"colorscale\": [[0.0, \"#0d0887\"], [0.1111111111111111, \"#46039f\"], [0.2222222222222222, \"#7201a8\"], [0.3333333333333333, \"#9c179e\"], [0.4444444444444444, \"#bd3786\"], [0.5555555555555556, \"#d8576b\"], [0.6666666666666666, \"#ed7953\"], [0.7777777777777778, \"#fb9f3a\"], [0.8888888888888888, \"#fdca26\"], [1.0, \"#f0f921\"]], \"type\": \"contour\"}], \"contourcarpet\": [{\"colorbar\": {\"outlinewidth\": 0, \"ticks\": \"\"}, \"type\": \"contourcarpet\"}], \"heatmap\": [{\"colorbar\": {\"outlinewidth\": 0, \"ticks\": \"\"}, \"colorscale\": [[0.0, \"#0d0887\"], [0.1111111111111111, \"#46039f\"], [0.2222222222222222, \"#7201a8\"], [0.3333333333333333, \"#9c179e\"], [0.4444444444444444, \"#bd3786\"], [0.5555555555555556, \"#d8576b\"], [0.6666666666666666, \"#ed7953\"], [0.7777777777777778, \"#fb9f3a\"], [0.8888888888888888, \"#fdca26\"], [1.0, \"#f0f921\"]], \"type\": \"heatmap\"}], \"heatmapgl\": [{\"colorbar\": {\"outlinewidth\": 0, \"ticks\": \"\"}, \"colorscale\": [[0.0, \"#0d0887\"], [0.1111111111111111, \"#46039f\"], [0.2222222222222222, \"#7201a8\"], [0.3333333333333333, \"#9c179e\"], [0.4444444444444444, \"#bd3786\"], [0.5555555555555556, \"#d8576b\"], [0.6666666666666666, \"#ed7953\"], [0.7777777777777778, \"#fb9f3a\"], [0.8888888888888888, \"#fdca26\"], [1.0, \"#f0f921\"]], \"type\": \"heatmapgl\"}], \"histogram\": [{\"marker\": {\"colorbar\": {\"outlinewidth\": 0, \"ticks\": \"\"}}, \"type\": \"histogram\"}], \"histogram2d\": [{\"colorbar\": {\"outlinewidth\": 0, \"ticks\": \"\"}, \"colorscale\": [[0.0, \"#0d0887\"], [0.1111111111111111, \"#46039f\"], [0.2222222222222222, \"#7201a8\"], [0.3333333333333333, \"#9c179e\"], [0.4444444444444444, \"#bd3786\"], [0.5555555555555556, \"#d8576b\"], [0.6666666666666666, \"#ed7953\"], [0.7777777777777778, \"#fb9f3a\"], [0.8888888888888888, \"#fdca26\"], [1.0, \"#f0f921\"]], \"type\": \"histogram2d\"}], \"histogram2dcontour\": [{\"colorbar\": {\"outlinewidth\": 0, \"ticks\": \"\"}, \"colorscale\": [[0.0, \"#0d0887\"], [0.1111111111111111, \"#46039f\"], [0.2222222222222222, \"#7201a8\"], [0.3333333333333333, \"#9c179e\"], [0.4444444444444444, \"#bd3786\"], [0.5555555555555556, \"#d8576b\"], [0.6666666666666666, \"#ed7953\"], [0.7777777777777778, \"#fb9f3a\"], [0.8888888888888888, \"#fdca26\"], [1.0, \"#f0f921\"]], \"type\": \"histogram2dcontour\"}], \"mesh3d\": [{\"colorbar\": {\"outlinewidth\": 0, \"ticks\": \"\"}, \"type\": \"mesh3d\"}], \"parcoords\": [{\"line\": {\"colorbar\": {\"outlinewidth\": 0, \"ticks\": \"\"}}, \"type\": \"parcoords\"}], \"pie\": [{\"automargin\": true, \"type\": \"pie\"}], \"scatter\": [{\"marker\": {\"colorbar\": {\"outlinewidth\": 0, \"ticks\": \"\"}}, \"type\": \"scatter\"}], \"scatter3d\": [{\"line\": {\"colorbar\": {\"outlinewidth\": 0, \"ticks\": \"\"}}, \"marker\": {\"colorbar\": {\"outlinewidth\": 0, \"ticks\": \"\"}}, \"type\": \"scatter3d\"}], \"scattercarpet\": [{\"marker\": {\"colorbar\": {\"outlinewidth\": 0, \"ticks\": \"\"}}, \"type\": \"scattercarpet\"}], \"scattergeo\": [{\"marker\": {\"colorbar\": {\"outlinewidth\": 0, \"ticks\": \"\"}}, \"type\": \"scattergeo\"}], \"scattergl\": [{\"marker\": {\"colorbar\": {\"outlinewidth\": 0, \"ticks\": \"\"}}, \"type\": \"scattergl\"}], \"scattermapbox\": [{\"marker\": {\"colorbar\": {\"outlinewidth\": 0, \"ticks\": \"\"}}, \"type\": \"scattermapbox\"}], \"scatterpolar\": [{\"marker\": {\"colorbar\": {\"outlinewidth\": 0, \"ticks\": \"\"}}, \"type\": \"scatterpolar\"}], \"scatterpolargl\": [{\"marker\": {\"colorbar\": {\"outlinewidth\": 0, \"ticks\": \"\"}}, \"type\": \"scatterpolargl\"}], \"scatterternary\": [{\"marker\": {\"colorbar\": {\"outlinewidth\": 0, \"ticks\": \"\"}}, \"type\": \"scatterternary\"}], \"surface\": [{\"colorbar\": {\"outlinewidth\": 0, \"ticks\": \"\"}, \"colorscale\": [[0.0, \"#0d0887\"], [0.1111111111111111, \"#46039f\"], [0.2222222222222222, \"#7201a8\"], [0.3333333333333333, \"#9c179e\"], [0.4444444444444444, \"#bd3786\"], [0.5555555555555556, \"#d8576b\"], [0.6666666666666666, \"#ed7953\"], [0.7777777777777778, \"#fb9f3a\"], [0.8888888888888888, \"#fdca26\"], [1.0, \"#f0f921\"]], \"type\": \"surface\"}], \"table\": [{\"cells\": {\"fill\": {\"color\": \"#EBF0F8\"}, \"line\": {\"color\": \"white\"}}, \"header\": {\"fill\": {\"color\": \"#C8D4E3\"}, \"line\": {\"color\": \"white\"}}, \"type\": \"table\"}]}, \"layout\": {\"annotationdefaults\": {\"arrowcolor\": \"#2a3f5f\", \"arrowhead\": 0, \"arrowwidth\": 1}, \"coloraxis\": {\"colorbar\": {\"outlinewidth\": 0, \"ticks\": \"\"}}, \"colorscale\": {\"diverging\": [[0, \"#8e0152\"], [0.1, \"#c51b7d\"], [0.2, \"#de77ae\"], [0.3, \"#f1b6da\"], [0.4, \"#fde0ef\"], [0.5, \"#f7f7f7\"], [0.6, \"#e6f5d0\"], [0.7, \"#b8e186\"], [0.8, \"#7fbc41\"], [0.9, \"#4d9221\"], [1, \"#276419\"]], \"sequential\": [[0.0, \"#0d0887\"], [0.1111111111111111, \"#46039f\"], [0.2222222222222222, \"#7201a8\"], [0.3333333333333333, \"#9c179e\"], [0.4444444444444444, \"#bd3786\"], [0.5555555555555556, \"#d8576b\"], [0.6666666666666666, \"#ed7953\"], [0.7777777777777778, \"#fb9f3a\"], [0.8888888888888888, \"#fdca26\"], [1.0, \"#f0f921\"]], \"sequentialminus\": [[0.0, \"#0d0887\"], [0.1111111111111111, \"#46039f\"], [0.2222222222222222, \"#7201a8\"], [0.3333333333333333, \"#9c179e\"], [0.4444444444444444, \"#bd3786\"], [0.5555555555555556, \"#d8576b\"], [0.6666666666666666, \"#ed7953\"], [0.7777777777777778, \"#fb9f3a\"], [0.8888888888888888, \"#fdca26\"], [1.0, \"#f0f921\"]]}, \"colorway\": [\"#636efa\", \"#EF553B\", \"#00cc96\", \"#ab63fa\", \"#FFA15A\", \"#19d3f3\", \"#FF6692\", \"#B6E880\", \"#FF97FF\", \"#FECB52\"], \"font\": {\"color\": \"#2a3f5f\"}, \"geo\": {\"bgcolor\": \"white\", \"lakecolor\": \"white\", \"landcolor\": \"#E5ECF6\", \"showlakes\": true, \"showland\": true, \"subunitcolor\": \"white\"}, \"hoverlabel\": {\"align\": \"left\"}, \"hovermode\": \"closest\", \"mapbox\": {\"style\": \"light\"}, \"paper_bgcolor\": \"white\", \"plot_bgcolor\": \"#E5ECF6\", \"polar\": {\"angularaxis\": {\"gridcolor\": \"white\", \"linecolor\": \"white\", \"ticks\": \"\"}, \"bgcolor\": \"#E5ECF6\", \"radialaxis\": {\"gridcolor\": \"white\", \"linecolor\": \"white\", \"ticks\": \"\"}}, \"scene\": {\"xaxis\": {\"backgroundcolor\": \"#E5ECF6\", \"gridcolor\": \"white\", \"gridwidth\": 2, \"linecolor\": \"white\", \"showbackground\": true, \"ticks\": \"\", \"zerolinecolor\": \"white\"}, \"yaxis\": {\"backgroundcolor\": \"#E5ECF6\", \"gridcolor\": \"white\", \"gridwidth\": 2, \"linecolor\": \"white\", \"showbackground\": true, \"ticks\": \"\", \"zerolinecolor\": \"white\"}, \"zaxis\": {\"backgroundcolor\": \"#E5ECF6\", \"gridcolor\": \"white\", \"gridwidth\": 2, \"linecolor\": \"white\", \"showbackground\": true, \"ticks\": \"\", \"zerolinecolor\": \"white\"}}, \"shapedefaults\": {\"line\": {\"color\": \"#2a3f5f\"}}, \"ternary\": {\"aaxis\": {\"gridcolor\": \"white\", \"linecolor\": \"white\", \"ticks\": \"\"}, \"baxis\": {\"gridcolor\": \"white\", \"linecolor\": \"white\", \"ticks\": \"\"}, \"bgcolor\": \"#E5ECF6\", \"caxis\": {\"gridcolor\": \"white\", \"linecolor\": \"white\", \"ticks\": \"\"}}, \"title\": {\"x\": 0.05}, \"xaxis\": {\"automargin\": true, \"gridcolor\": \"white\", \"linecolor\": \"white\", \"ticks\": \"\", \"title\": {\"standoff\": 15}, \"zerolinecolor\": \"white\", \"zerolinewidth\": 2}, \"yaxis\": {\"automargin\": true, \"gridcolor\": \"white\", \"linecolor\": \"white\", \"ticks\": \"\", \"title\": {\"standoff\": 15}, \"zerolinecolor\": \"white\", \"zerolinewidth\": 2}}}},\n",
              "                        {\"responsive\": true}\n",
              "                    ).then(function(){\n",
              "                            \n",
              "var gd = document.getElementById('8de96fe1-dcb7-45a9-a9ef-c3099bce8cd2');\n",
              "var x = new MutationObserver(function (mutations, observer) {{\n",
              "        var display = window.getComputedStyle(gd).display;\n",
              "        if (!display || display === 'none') {{\n",
              "            console.log([gd, 'removed!']);\n",
              "            Plotly.purge(gd);\n",
              "            observer.disconnect();\n",
              "        }}\n",
              "}});\n",
              "\n",
              "// Listen for the removal of the full notebook cells\n",
              "var notebookContainer = gd.closest('#notebook-container');\n",
              "if (notebookContainer) {{\n",
              "    x.observe(notebookContainer, {childList: true});\n",
              "}}\n",
              "\n",
              "// Listen for the clearing of the current output cell\n",
              "var outputEl = gd.closest('.output');\n",
              "if (outputEl) {{\n",
              "    x.observe(outputEl, {childList: true});\n",
              "}}\n",
              "\n",
              "                        })\n",
              "                };\n",
              "                \n",
              "            </script>\n",
              "        </div>\n",
              "</body>\n",
              "</html>"
            ]
          },
          "metadata": {
            "tags": []
          }
        }
      ]
    },
    {
      "cell_type": "code",
      "metadata": {
        "id": "RV0LdvOZCwCv",
        "colab": {
          "base_uri": "https://localhost:8080/",
          "height": 542
        },
        "outputId": "4044fdc7-bdaf-4e72-e2d2-93857536b8d4"
      },
      "source": [
        "#Resultado  por estado em um gráfico de pizza.\r\n",
        "dcount = dados[['Voto','Estado']].value_counts()\r\n",
        "# O método Pie() tem o parâmetro \"labels\" para definir cada setor do gráfico. Em \"values\" informamos os valores para cada setor. \r\n",
        "# Por fim, em \"pull\" podemos indicar qual \"fatia\" deseja ficar afastada, e quanto será #este afastamento. No exemplo abaixo, todas ficaram afastadas do centro.\r\n",
        "data=[go.Pie(labels=list(dcount.index), values=dcount.values.tolist(), pull=[1.0,1.0,1.0,1.0,1.0,1.0])]\r\n",
        "py.iplot(data)\r\n"
      ],
      "execution_count": null,
      "outputs": [
        {
          "output_type": "display_data",
          "data": {
            "text/html": [
              "<html>\n",
              "<head><meta charset=\"utf-8\" /></head>\n",
              "<body>\n",
              "    <div>\n",
              "            <script src=\"https://cdnjs.cloudflare.com/ajax/libs/mathjax/2.7.5/MathJax.js?config=TeX-AMS-MML_SVG\"></script><script type=\"text/javascript\">if (window.MathJax) {MathJax.Hub.Config({SVG: {font: \"STIX-Web\"}});}</script>\n",
              "                <script type=\"text/javascript\">window.PlotlyConfig = {MathJaxConfig: 'local'};</script>\n",
              "        <script src=\"https://cdn.plot.ly/plotly-latest.min.js\"></script>    \n",
              "            <div id=\"6af48410-9cbe-4398-b373-a7b6ea68c934\" class=\"plotly-graph-div\" style=\"height:525px; width:100%;\"></div>\n",
              "            <script type=\"text/javascript\">\n",
              "                \n",
              "                    window.PLOTLYENV=window.PLOTLYENV || {};\n",
              "                    \n",
              "                if (document.getElementById(\"6af48410-9cbe-4398-b373-a7b6ea68c934\")) {\n",
              "                    Plotly.newPlot(\n",
              "                        '6af48410-9cbe-4398-b373-a7b6ea68c934',\n",
              "                        [{\"labels\": [[\"Sim\", \"SP\"], [\"Sim\", \"MG\"], [\"Sim\", \"BA\"], [\"Sim\", \"RJ\"], [\"Sim\", \"PE\"], [\"N\\u00e3o\", \"SP\"], [\"Sim\", \"PR\"], [\"Sim\", \"CE\"], [\"N\\u00e3o\", \"RS\"], [\"Sim\", \"GO\"], [\"N\\u00e3o\", \"RJ\"], [\"Sim\", \"PA\"], [\"Sim\", \"RS\"], [\"N\\u00e3o\", \"MG\"], [\"Sim\", \"MA\"], [\"N\\u00e3o\", \"PR\"], [\"N\\u00e3o\", \"SC\"], [\"Sim\", \"PB\"], [\"Sim\", \"PI\"], [\"Sim\", \"SE\"], [\"Sim\", \"AL\"], [\"Sim\", \"AP\"], [\"Sim\", \"RR\"], [\"Sim\", \"SC\"], [\"Sim\", \"DF\"], [\"Sim\", \"AM\"], [\"Sim\", \"AC\"], [\"Sim\", \"RN\"], [\"Sim\", \"MS\"], [\" AUSENTE\", \"RJ)\"], [\"N\\u00e3o\", \"CE\"], [\"Sim\", \"TO\"], [\"N\\u00e3o\", \"ES\"], [\"Sim\", \"ES\"], [\"Sim\", \"MT\"], [\"Sim\", \"RO\"], [\"N\\u00e3o\", \"BA\"], [\"N\\u00e3o\", \"PA\"], [\"N\\u00e3o\", \"MA\"], [\"N\\u00e3o\", \"RO\"], [\"N\\u00e3o\", \"MT\"], [\"N\\u00e3o\", \"AC\"], [\"N\\u00e3o\", \"AM\"], [\"AUSENTE\", \"RS\"], [\"AUSENTE\", \"MG\"], [\"N\\u00e3o\", \"DF\"], [\"N\\u00e3o\", \"TO\"], [\"N\\u00e3o\", \"GO\"], [\"N\\u00e3o\", \"MS\"], [\"N\\u00e3o\", \"PB\"], [\"N\\u00e3o\", \"RN\"], [\"AUSENTE\", \"BA\"], [\"AUSENTE\", \"PR\"], [\"Absten\\u00e7\\u00e3o\", \"GO\"], [\" AUSENTE\", \"PB)\"], [\"AUSENTE\", \"TO\"], [\"N\\u00e3o\", \"RR\"], [\"Absten\\u00e7\\u00e3o\", \"MA\"], [\"Absten\\u00e7\\u00e3o\", \"MG\"], [\"N\\u00e3o\", \"AL\"], [\"N\\u00e3o\", \"AP\"], [\"N\\u00e3o\", \"PE\"], [\"N\\u00e3o\", \"PI\"], [\"PRESIDENTE\", \"AL\"], [\" AUSENTE\", \"MG)\"]], \"pull\": [1.0, 1.0, 1.0, 1.0, 1.0, 1.0], \"type\": \"pie\", \"values\": [50, 37, 34, 28, 24, 20, 19, 17, 17, 14, 13, 13, 12, 12, 12, 10, 9, 9, 9, 8, 7, 7, 7, 7, 6, 6, 6, 6, 6, 5, 5, 5, 5, 5, 5, 5, 4, 4, 4, 3, 3, 2, 2, 2, 2, 2, 2, 2, 2, 2, 2, 1, 1, 1, 1, 1, 1, 1, 1, 1, 1, 1, 1, 1, 1]}],\n",
              "                        {\"template\": {\"data\": {\"bar\": [{\"error_x\": {\"color\": \"#2a3f5f\"}, \"error_y\": {\"color\": \"#2a3f5f\"}, \"marker\": {\"line\": {\"color\": \"#E5ECF6\", \"width\": 0.5}}, \"type\": \"bar\"}], \"barpolar\": [{\"marker\": {\"line\": {\"color\": \"#E5ECF6\", \"width\": 0.5}}, \"type\": \"barpolar\"}], \"carpet\": [{\"aaxis\": {\"endlinecolor\": \"#2a3f5f\", \"gridcolor\": \"white\", \"linecolor\": \"white\", \"minorgridcolor\": \"white\", \"startlinecolor\": \"#2a3f5f\"}, \"baxis\": {\"endlinecolor\": \"#2a3f5f\", \"gridcolor\": \"white\", \"linecolor\": \"white\", \"minorgridcolor\": \"white\", \"startlinecolor\": \"#2a3f5f\"}, \"type\": \"carpet\"}], \"choropleth\": [{\"colorbar\": {\"outlinewidth\": 0, \"ticks\": \"\"}, \"type\": \"choropleth\"}], \"contour\": [{\"colorbar\": {\"outlinewidth\": 0, \"ticks\": \"\"}, \"colorscale\": [[0.0, \"#0d0887\"], [0.1111111111111111, \"#46039f\"], [0.2222222222222222, \"#7201a8\"], [0.3333333333333333, \"#9c179e\"], [0.4444444444444444, \"#bd3786\"], [0.5555555555555556, \"#d8576b\"], [0.6666666666666666, \"#ed7953\"], [0.7777777777777778, \"#fb9f3a\"], [0.8888888888888888, \"#fdca26\"], [1.0, \"#f0f921\"]], \"type\": \"contour\"}], \"contourcarpet\": [{\"colorbar\": {\"outlinewidth\": 0, \"ticks\": \"\"}, \"type\": \"contourcarpet\"}], \"heatmap\": [{\"colorbar\": {\"outlinewidth\": 0, \"ticks\": \"\"}, \"colorscale\": [[0.0, \"#0d0887\"], [0.1111111111111111, \"#46039f\"], [0.2222222222222222, \"#7201a8\"], [0.3333333333333333, \"#9c179e\"], [0.4444444444444444, \"#bd3786\"], [0.5555555555555556, \"#d8576b\"], [0.6666666666666666, \"#ed7953\"], [0.7777777777777778, \"#fb9f3a\"], [0.8888888888888888, \"#fdca26\"], [1.0, \"#f0f921\"]], \"type\": \"heatmap\"}], \"heatmapgl\": [{\"colorbar\": {\"outlinewidth\": 0, \"ticks\": \"\"}, \"colorscale\": [[0.0, \"#0d0887\"], [0.1111111111111111, \"#46039f\"], [0.2222222222222222, \"#7201a8\"], [0.3333333333333333, \"#9c179e\"], [0.4444444444444444, \"#bd3786\"], [0.5555555555555556, \"#d8576b\"], [0.6666666666666666, \"#ed7953\"], [0.7777777777777778, \"#fb9f3a\"], [0.8888888888888888, \"#fdca26\"], [1.0, \"#f0f921\"]], \"type\": \"heatmapgl\"}], \"histogram\": [{\"marker\": {\"colorbar\": {\"outlinewidth\": 0, \"ticks\": \"\"}}, \"type\": \"histogram\"}], \"histogram2d\": [{\"colorbar\": {\"outlinewidth\": 0, \"ticks\": \"\"}, \"colorscale\": [[0.0, \"#0d0887\"], [0.1111111111111111, \"#46039f\"], [0.2222222222222222, \"#7201a8\"], [0.3333333333333333, \"#9c179e\"], [0.4444444444444444, \"#bd3786\"], [0.5555555555555556, \"#d8576b\"], [0.6666666666666666, \"#ed7953\"], [0.7777777777777778, \"#fb9f3a\"], [0.8888888888888888, \"#fdca26\"], [1.0, \"#f0f921\"]], \"type\": \"histogram2d\"}], \"histogram2dcontour\": [{\"colorbar\": {\"outlinewidth\": 0, \"ticks\": \"\"}, \"colorscale\": [[0.0, \"#0d0887\"], [0.1111111111111111, \"#46039f\"], [0.2222222222222222, \"#7201a8\"], [0.3333333333333333, \"#9c179e\"], [0.4444444444444444, \"#bd3786\"], [0.5555555555555556, \"#d8576b\"], [0.6666666666666666, \"#ed7953\"], [0.7777777777777778, \"#fb9f3a\"], [0.8888888888888888, \"#fdca26\"], [1.0, \"#f0f921\"]], \"type\": \"histogram2dcontour\"}], \"mesh3d\": [{\"colorbar\": {\"outlinewidth\": 0, \"ticks\": \"\"}, \"type\": \"mesh3d\"}], \"parcoords\": [{\"line\": {\"colorbar\": {\"outlinewidth\": 0, \"ticks\": \"\"}}, \"type\": \"parcoords\"}], \"pie\": [{\"automargin\": true, \"type\": \"pie\"}], \"scatter\": [{\"marker\": {\"colorbar\": {\"outlinewidth\": 0, \"ticks\": \"\"}}, \"type\": \"scatter\"}], \"scatter3d\": [{\"line\": {\"colorbar\": {\"outlinewidth\": 0, \"ticks\": \"\"}}, \"marker\": {\"colorbar\": {\"outlinewidth\": 0, \"ticks\": \"\"}}, \"type\": \"scatter3d\"}], \"scattercarpet\": [{\"marker\": {\"colorbar\": {\"outlinewidth\": 0, \"ticks\": \"\"}}, \"type\": \"scattercarpet\"}], \"scattergeo\": [{\"marker\": {\"colorbar\": {\"outlinewidth\": 0, \"ticks\": \"\"}}, \"type\": \"scattergeo\"}], \"scattergl\": [{\"marker\": {\"colorbar\": {\"outlinewidth\": 0, \"ticks\": \"\"}}, \"type\": \"scattergl\"}], \"scattermapbox\": [{\"marker\": {\"colorbar\": {\"outlinewidth\": 0, \"ticks\": \"\"}}, \"type\": \"scattermapbox\"}], \"scatterpolar\": [{\"marker\": {\"colorbar\": {\"outlinewidth\": 0, \"ticks\": \"\"}}, \"type\": \"scatterpolar\"}], \"scatterpolargl\": [{\"marker\": {\"colorbar\": {\"outlinewidth\": 0, \"ticks\": \"\"}}, \"type\": \"scatterpolargl\"}], \"scatterternary\": [{\"marker\": {\"colorbar\": {\"outlinewidth\": 0, \"ticks\": \"\"}}, \"type\": \"scatterternary\"}], \"surface\": [{\"colorbar\": {\"outlinewidth\": 0, \"ticks\": \"\"}, \"colorscale\": [[0.0, \"#0d0887\"], [0.1111111111111111, \"#46039f\"], [0.2222222222222222, \"#7201a8\"], [0.3333333333333333, \"#9c179e\"], [0.4444444444444444, \"#bd3786\"], [0.5555555555555556, \"#d8576b\"], [0.6666666666666666, \"#ed7953\"], [0.7777777777777778, \"#fb9f3a\"], [0.8888888888888888, \"#fdca26\"], [1.0, \"#f0f921\"]], \"type\": \"surface\"}], \"table\": [{\"cells\": {\"fill\": {\"color\": \"#EBF0F8\"}, \"line\": {\"color\": \"white\"}}, \"header\": {\"fill\": {\"color\": \"#C8D4E3\"}, \"line\": {\"color\": \"white\"}}, \"type\": \"table\"}]}, \"layout\": {\"annotationdefaults\": {\"arrowcolor\": \"#2a3f5f\", \"arrowhead\": 0, \"arrowwidth\": 1}, \"coloraxis\": {\"colorbar\": {\"outlinewidth\": 0, \"ticks\": \"\"}}, \"colorscale\": {\"diverging\": [[0, \"#8e0152\"], [0.1, \"#c51b7d\"], [0.2, \"#de77ae\"], [0.3, \"#f1b6da\"], [0.4, \"#fde0ef\"], [0.5, \"#f7f7f7\"], [0.6, \"#e6f5d0\"], [0.7, \"#b8e186\"], [0.8, \"#7fbc41\"], [0.9, \"#4d9221\"], [1, \"#276419\"]], \"sequential\": [[0.0, \"#0d0887\"], [0.1111111111111111, \"#46039f\"], [0.2222222222222222, \"#7201a8\"], [0.3333333333333333, \"#9c179e\"], [0.4444444444444444, \"#bd3786\"], [0.5555555555555556, \"#d8576b\"], [0.6666666666666666, \"#ed7953\"], [0.7777777777777778, \"#fb9f3a\"], [0.8888888888888888, \"#fdca26\"], [1.0, \"#f0f921\"]], \"sequentialminus\": [[0.0, \"#0d0887\"], [0.1111111111111111, \"#46039f\"], [0.2222222222222222, \"#7201a8\"], [0.3333333333333333, \"#9c179e\"], [0.4444444444444444, \"#bd3786\"], [0.5555555555555556, \"#d8576b\"], [0.6666666666666666, \"#ed7953\"], [0.7777777777777778, \"#fb9f3a\"], [0.8888888888888888, \"#fdca26\"], [1.0, \"#f0f921\"]]}, \"colorway\": [\"#636efa\", \"#EF553B\", \"#00cc96\", \"#ab63fa\", \"#FFA15A\", \"#19d3f3\", \"#FF6692\", \"#B6E880\", \"#FF97FF\", \"#FECB52\"], \"font\": {\"color\": \"#2a3f5f\"}, \"geo\": {\"bgcolor\": \"white\", \"lakecolor\": \"white\", \"landcolor\": \"#E5ECF6\", \"showlakes\": true, \"showland\": true, \"subunitcolor\": \"white\"}, \"hoverlabel\": {\"align\": \"left\"}, \"hovermode\": \"closest\", \"mapbox\": {\"style\": \"light\"}, \"paper_bgcolor\": \"white\", \"plot_bgcolor\": \"#E5ECF6\", \"polar\": {\"angularaxis\": {\"gridcolor\": \"white\", \"linecolor\": \"white\", \"ticks\": \"\"}, \"bgcolor\": \"#E5ECF6\", \"radialaxis\": {\"gridcolor\": \"white\", \"linecolor\": \"white\", \"ticks\": \"\"}}, \"scene\": {\"xaxis\": {\"backgroundcolor\": \"#E5ECF6\", \"gridcolor\": \"white\", \"gridwidth\": 2, \"linecolor\": \"white\", \"showbackground\": true, \"ticks\": \"\", \"zerolinecolor\": \"white\"}, \"yaxis\": {\"backgroundcolor\": \"#E5ECF6\", \"gridcolor\": \"white\", \"gridwidth\": 2, \"linecolor\": \"white\", \"showbackground\": true, \"ticks\": \"\", \"zerolinecolor\": \"white\"}, \"zaxis\": {\"backgroundcolor\": \"#E5ECF6\", \"gridcolor\": \"white\", \"gridwidth\": 2, \"linecolor\": \"white\", \"showbackground\": true, \"ticks\": \"\", \"zerolinecolor\": \"white\"}}, \"shapedefaults\": {\"line\": {\"color\": \"#2a3f5f\"}}, \"ternary\": {\"aaxis\": {\"gridcolor\": \"white\", \"linecolor\": \"white\", \"ticks\": \"\"}, \"baxis\": {\"gridcolor\": \"white\", \"linecolor\": \"white\", \"ticks\": \"\"}, \"bgcolor\": \"#E5ECF6\", \"caxis\": {\"gridcolor\": \"white\", \"linecolor\": \"white\", \"ticks\": \"\"}}, \"title\": {\"x\": 0.05}, \"xaxis\": {\"automargin\": true, \"gridcolor\": \"white\", \"linecolor\": \"white\", \"ticks\": \"\", \"title\": {\"standoff\": 15}, \"zerolinecolor\": \"white\", \"zerolinewidth\": 2}, \"yaxis\": {\"automargin\": true, \"gridcolor\": \"white\", \"linecolor\": \"white\", \"ticks\": \"\", \"title\": {\"standoff\": 15}, \"zerolinecolor\": \"white\", \"zerolinewidth\": 2}}}},\n",
              "                        {\"responsive\": true}\n",
              "                    ).then(function(){\n",
              "                            \n",
              "var gd = document.getElementById('6af48410-9cbe-4398-b373-a7b6ea68c934');\n",
              "var x = new MutationObserver(function (mutations, observer) {{\n",
              "        var display = window.getComputedStyle(gd).display;\n",
              "        if (!display || display === 'none') {{\n",
              "            console.log([gd, 'removed!']);\n",
              "            Plotly.purge(gd);\n",
              "            observer.disconnect();\n",
              "        }}\n",
              "}});\n",
              "\n",
              "// Listen for the removal of the full notebook cells\n",
              "var notebookContainer = gd.closest('#notebook-container');\n",
              "if (notebookContainer) {{\n",
              "    x.observe(notebookContainer, {childList: true});\n",
              "}}\n",
              "\n",
              "// Listen for the clearing of the current output cell\n",
              "var outputEl = gd.closest('.output');\n",
              "if (outputEl) {{\n",
              "    x.observe(outputEl, {childList: true});\n",
              "}}\n",
              "\n",
              "                        })\n",
              "                };\n",
              "                \n",
              "            </script>\n",
              "        </div>\n",
              "</body>\n",
              "</html>"
            ]
          },
          "metadata": {
            "tags": []
          }
        }
      ]
    },
    {
      "cell_type": "code",
      "metadata": {
        "id": "b7Pz4kvVGuQm",
        "colab": {
          "base_uri": "https://localhost:8080/",
          "height": 316
        },
        "outputId": "b21c231b-4f8e-41aa-8663-8f7f40e5580b"
      },
      "source": [
        "#Resultado da votação em um gráfico de pizza.\r\n",
        "def get_description(row):\r\n",
        "     if row.Voto != 1:\r\n",
        "       return 'Brocharam'\r\n",
        "     elif row.Voto != 0:\r\n",
        "        return 'Refugaram'\r\n",
        "        \r\n",
        "\r\n",
        "dados['Description'] = dados.apply(get_description, axis=1)\r\n",
        "dados.Description.value_counts().plot(kind='pie', autopct='%.2f%%')\r\n",
        "plt.axis('equal')"
      ],
      "execution_count": null,
      "outputs": [
        {
          "output_type": "execute_result",
          "data": {
            "text/plain": [
              "(-1.1200228056320096,\n",
              " 1.1009534669348575,\n",
              " -1.103713137262319,\n",
              " 1.120261048603897)"
            ]
          },
          "metadata": {
            "tags": []
          },
          "execution_count": 61
        },
        {
          "output_type": "display_data",
          "data": {
            "image/png": "[encoded data removed]",
            "text/plain": [
              "<Figure size 432x288 with 1 Axes>"
            ]
          },
          "metadata": {
            "tags": []
          }
        }
      ]
    },
    {
      "cell_type": "code",
      "metadata": {
        "id": "xWx6WuZRKoDV",
        "colab": {
          "base_uri": "https://localhost:8080/",
          "height": 542
        },
        "outputId": "3c2064ed-7d4b-419d-ad17-ab840825f8f0"
      },
      "source": [
        "# Responda aqui a questão 1\r\n",
        "#Criando o gráfico, onde nbinsx indica o número de setores a serem analisados no gráfico\r\n",
        "data = [go.Histogram(x = dados['Voto'],nbinsx=3)]\r\n",
        "\r\n",
        "# Criando o layout\r\n",
        "layout = go.Layout(title='Histograma analisando os votos dos deputados',\r\n",
        "                   yaxis={'title':'Voto'},\r\n",
        "                   xaxis={'title':'Classificação:0-Sim;1-Não'})\r\n",
        "\r\n",
        "# Criando a figura que será exibida, passando informações nas variáveis data e lauyout\r\n",
        "fig = go.Figure(data=data, layout=layout)\r\n",
        "\r\n",
        "#Exibindo o gráfico\r\n",
        "py.iplot(fig)"
      ],
      "execution_count": null,
      "outputs": [
        {
          "output_type": "display_data",
          "data": {
            "text/html": [
              "<html>\n",
              "<head><meta charset=\"utf-8\" /></head>\n",
              "<body>\n",
              "    <div>\n",
              "            <script src=\"https://cdnjs.cloudflare.com/ajax/libs/mathjax/2.7.5/MathJax.js?config=TeX-AMS-MML_SVG\"></script><script type=\"text/javascript\">if (window.MathJax) {MathJax.Hub.Config({SVG: {font: \"STIX-Web\"}});}</script>\n",
              "                <script type=\"text/javascript\">window.PlotlyConfig = {MathJaxConfig: 'local'};</script>\n",
              "        <script src=\"https://cdn.plot.ly/plotly-latest.min.js\"></script>    \n",
              "            <div id=\"062c35c6-f56d-4c63-a363-5697db2ae7af\" class=\"plotly-graph-div\" style=\"height:525px; width:100%;\"></div>\n",
              "            <script type=\"text/javascript\">\n",
              "                \n",
              "                    window.PLOTLYENV=window.PLOTLYENV || {};\n",
              "                    \n",
              "                if (document.getElementById(\"062c35c6-f56d-4c63-a363-5697db2ae7af\")) {\n",
              "                    Plotly.newPlot(\n",
              "                        '062c35c6-f56d-4c63-a363-5697db2ae7af',\n",
              "                        [{\"nbinsx\": 3, \"type\": \"histogram\", \"x\": [\"Sim\", \"Sim\", \"Sim\", \"Sim\", \"N\\u00e3o\", \"Sim\", \"Sim\", \"Sim\", \"Sim\", \"N\\u00e3o\", \"AUSENTE\", \"Sim\", \"Sim\", \"Sim\", \"N\\u00e3o\", \"N\\u00e3o\", \"Sim\", \"N\\u00e3o\", \"Sim\", \"Sim\", \"Sim\", \"N\\u00e3o\", \"Sim\", \"Sim\", \"Sim\", \"N\\u00e3o\", \"Sim\", \"Sim\", \"Sim\", \"N\\u00e3o\", \"Sim\", \"N\\u00e3o\", \"Sim\", \"Sim\", \"Sim\", \"Sim\", \"Sim\", \"Sim\", \"Sim\", \"N\\u00e3o\", \"Sim\", \"Sim\", \"Sim\", \"Sim\", \"Sim\", \"PRESIDENTE\", \"Sim\", \"Sim\", \"Sim\", \"Sim\", \"Sim\", \"Sim\", \"N\\u00e3o\", \"Sim\", \"Sim\", \"Sim\", \"Sim\", \"Sim\", \"Sim\", \"Sim\", \"N\\u00e3o\", \"N\\u00e3o\", \"Sim\", \"Sim\", \"N\\u00e3o\", \"Sim\", \"Sim\", \"Sim\", \"Sim\", \"Sim\", \"Sim\", \"Sim\", \"N\\u00e3o\", \"N\\u00e3o\", \"N\\u00e3o\", \"N\\u00e3o\", \"N\\u00e3o\", \"N\\u00e3o\", \"Sim\", \"Sim\", \"Sim\", \"Sim\", \"N\\u00e3o\", \"Sim\", \"Sim\", \"Sim\", \"Sim\", \"N\\u00e3o\", \"Sim\", \"Sim\", \"AUSENTE\", \"Absten\\u00e7\\u00e3o\", \"Sim\", \"Sim\", \"Sim\", \"Sim\", \"Sim\", \"Sim\", \"N\\u00e3o\", \"Sim\", \"Sim\", \" AUSENTE\", \"Sim\", \"Sim\", \"Sim\", \"Sim\", \"Sim\", \"N\\u00e3o\", \"N\\u00e3o\", \"N\\u00e3o\", \"Sim\", \"N\\u00e3o\", \"Sim\", \" AUSENTE\", \"Sim\", \"Sim\", \"N\\u00e3o\", \" AUSENTE\", \"N\\u00e3o\", \"Sim\", \"Sim\", \"N\\u00e3o\", \"N\\u00e3o\", \"Sim\", \"Sim\", \"Sim\", \"N\\u00e3o\", \"N\\u00e3o\", \"Sim\", \"N\\u00e3o\", \"Sim\", \"Sim\", \"Sim\", \"N\\u00e3o\", \"Sim\", \"Sim\", \"Sim\", \"Sim\", \"N\\u00e3o\", \"Sim\", \"N\\u00e3o\", \"Sim\", \"N\\u00e3o\", \"Sim\", \"Sim\", \"N\\u00e3o\", \"Sim\", \"Sim\", \"Sim\", \"Sim\", \"Sim\", \"Sim\", \"N\\u00e3o\", \"Sim\", \"Sim\", \"N\\u00e3o\", \"Sim\", \"Sim\", \"N\\u00e3o\", \"Sim\", \"Sim\", \"Sim\", \"N\\u00e3o\", \"AUSENTE\", \"Sim\", \"N\\u00e3o\", \"Sim\", \"N\\u00e3o\", \"Sim\", \"Sim\", \"Sim\", \"Sim\", \"Sim\", \"Sim\", \"Sim\", \"N\\u00e3o\", \"Sim\", \"Sim\", \"Sim\", \"Sim\", \"Sim\", \"Sim\", \"Sim\", \"Sim\", \"Sim\", \"Sim\", \"Sim\", \"N\\u00e3o\", \"Sim\", \"Sim\", \"Sim\", \"Sim\", \" AUSENTE\", \"N\\u00e3o\", \"Sim\", \"Sim\", \"Sim\", \"Sim\", \" AUSENTE\", \"Sim\", \"N\\u00e3o\", \"N\\u00e3o\", \"Sim\", \"Sim\", \"Sim\", \"Sim\", \"Sim\", \"Sim\", \"N\\u00e3o\", \"N\\u00e3o\", \"Sim\", \"Sim\", \"Sim\", \"Sim\", \"Sim\", \"Sim\", \"Sim\", \"Sim\", \"N\\u00e3o\", \"N\\u00e3o\", \"Sim\", \" AUSENTE\", \"Sim\", \"Sim\", \"Sim\", \"Sim\", \"N\\u00e3o\", \"Sim\", \"Sim\", \"N\\u00e3o\", \"Sim\", \"N\\u00e3o\", \"Sim\", \"Sim\", \"Sim\", \"Sim\", \"N\\u00e3o\", \"Sim\", \"N\\u00e3o\", \"Sim\", \"Sim\", \"Sim\", \" AUSENTE\", \"Sim\", \"Sim\", \"Sim\", \"Sim\", \"Sim\", \"Sim\", \"N\\u00e3o\", \"N\\u00e3o\", \"Sim\", \"Sim\", \"Sim\", \"Sim\", \"Sim\", \"Sim\", \"Sim\", \"Sim\", \"AUSENTE\", \"N\\u00e3o\", \"Sim\", \"Sim\", \"Sim\", \"Sim\", \"Sim\", \"Sim\", \"Sim\", \"N\\u00e3o\", \"Sim\", \"Sim\", \"Sim\", \"Sim\", \"N\\u00e3o\", \"Sim\", \"Sim\", \"N\\u00e3o\", \"Sim\", \"Sim\", \"Sim\", \"Sim\", \"Sim\", \"Sim\", \"N\\u00e3o\", \"Sim\", null, \"Sim\", \"Absten\\u00e7\\u00e3o\", \"N\\u00e3o\", \"Sim\", \"Sim\", \"N\\u00e3o\", \"Sim\", \"N\\u00e3o\", \"Sim\", \"N\\u00e3o\", \"N\\u00e3o\", \"Sim\", \"Sim\", \"Sim\", \"Sim\", \"N\\u00e3o\", \"N\\u00e3o\", \"N\\u00e3o\", \"Sim\", \"N\\u00e3o\", \"N\\u00e3o\", \"Sim\", \"Sim\", \"Sim\", \"N\\u00e3o\", \"Sim\", \"Sim\", \"N\\u00e3o\", \"Sim\", \"Sim\", \"N\\u00e3o\", \"Sim\", \"N\\u00e3o\", \"Sim\", \"N\\u00e3o\", \"Sim\", \"Sim\", \"N\\u00e3o\", \"N\\u00e3o\", \"N\\u00e3o\", \"N\\u00e3o\", \"Sim\", \"N\\u00e3o\", \"Sim\", \"Sim\", \"N\\u00e3o\", \"Sim\", \"Sim\", \"Sim\", \"Sim\", \"N\\u00e3o\", \"Sim\", \"Sim\", \"Sim\", \"Sim\", \"Sim\", \"Sim\", \"Sim\", \"Sim\", \"Sim\", \"Sim\", \"Sim\", \"Sim\", \"Sim\", \"Sim\", \"N\\u00e3o\", \"Sim\", \"Sim\", \"N\\u00e3o\", \"Sim\", \"Sim\", \"Sim\", \"Sim\", \"Sim\", \"Sim\", \"AUSENTE\", \"Sim\", \"Sim\", \"N\\u00e3o\", \"AUSENTE\", \"Sim\", \"N\\u00e3o\", \"Absten\\u00e7\\u00e3o\", \"N\\u00e3o\", \"Sim\", \"Sim\", \"N\\u00e3o\", \"N\\u00e3o\", \"Sim\", \"Sim\", \"Sim\", \"N\\u00e3o\", \"N\\u00e3o\", \"Sim\", \"N\\u00e3o\", \"Sim\", \"Sim\", \"Sim\", \"N\\u00e3o\", \"N\\u00e3o\", \"Sim\", \"Sim\", \"N\\u00e3o\", \"Sim\", \"Sim\", \"Sim\", \"N\\u00e3o\", \"Sim\", \"N\\u00e3o\", \"Sim\", \"Sim\", \"N\\u00e3o\", \"Sim\", \"Sim\", \"Sim\", \"Sim\", \"Sim\", \"Sim\", \"N\\u00e3o\", \"Sim\", \"N\\u00e3o\", \"Sim\", \"Sim\", \"N\\u00e3o\", \"Sim\", \"Sim\", \"N\\u00e3o\", \"Sim\", \"N\\u00e3o\", \"Sim\", \"Sim\", \"Sim\", \"Sim\", \"N\\u00e3o\", \"Sim\", \"Sim\", \"Sim\", \"Sim\", \"Sim\", \"Sim\", \"N\\u00e3o\", \"Sim\", \"N\\u00e3o\", \"N\\u00e3o\", \"Sim\", \"Sim\", \"Sim\", \"Sim\", \"Sim\", \"Sim\", \"N\\u00e3o\", \"Sim\", \"N\\u00e3o\", \"Sim\", \"Sim\", \"Sim\", \"N\\u00e3o\", \"AUSENTE\", \"Sim\", \"N\\u00e3o\", \"Sim\", \"Sim\", \"Sim\", \"Sim\", \"Sim\", \"Sim\", \"Sim\", \"Sim\", \"N\\u00e3o\", \"N\\u00e3o\", \"N\\u00e3o\", \"Sim\", \"Sim\", \"Sim\", \"Sim\", \"Sim\", \"Sim\", \"Sim\", \"Sim\", \"Sim\", \"Sim\", \"Sim\", \"Sim\", \"N\\u00e3o\", \"N\\u00e3o\", \"N\\u00e3o\", \"N\\u00e3o\", \"Sim\", \"Sim\", \"Sim\", \"Sim\", \"Sim\", \"Sim\", \"N\\u00e3o\", \"Sim\", \"Sim\", \"Sim\", \"Sim\", \"N\\u00e3o\", \"N\\u00e3o\", \"Sim\", \"Sim\", \"Sim\", \"Sim\", \"Sim\", \"Sim\", \"Sim\", \"Sim\", \"Sim\", \"Sim\", \"Sim\", \"Sim\", \"N\\u00e3o\", \"N\\u00e3o\", \"Sim\", \"Sim\", \"Sim\", \"Sim\", \"Sim\", \"Sim\", \"N\\u00e3o\", \"Sim\", \"Sim\", \"Sim\", \"Sim\", \"Sim\", \"Sim\"]}],\n",
              "                        {\"template\": {\"data\": {\"bar\": [{\"error_x\": {\"color\": \"#2a3f5f\"}, \"error_y\": {\"color\": \"#2a3f5f\"}, \"marker\": {\"line\": {\"color\": \"#E5ECF6\", \"width\": 0.5}}, \"type\": \"bar\"}], \"barpolar\": [{\"marker\": {\"line\": {\"color\": \"#E5ECF6\", \"width\": 0.5}}, \"type\": \"barpolar\"}], \"carpet\": [{\"aaxis\": {\"endlinecolor\": \"#2a3f5f\", \"gridcolor\": \"white\", \"linecolor\": \"white\", \"minorgridcolor\": \"white\", \"startlinecolor\": \"#2a3f5f\"}, \"baxis\": {\"endlinecolor\": \"#2a3f5f\", \"gridcolor\": \"white\", \"linecolor\": \"white\", \"minorgridcolor\": \"white\", \"startlinecolor\": \"#2a3f5f\"}, \"type\": \"carpet\"}], \"choropleth\": [{\"colorbar\": {\"outlinewidth\": 0, \"ticks\": \"\"}, \"type\": \"choropleth\"}], \"contour\": [{\"colorbar\": {\"outlinewidth\": 0, \"ticks\": \"\"}, \"colorscale\": [[0.0, \"#0d0887\"], [0.1111111111111111, \"#46039f\"], [0.2222222222222222, \"#7201a8\"], [0.3333333333333333, \"#9c179e\"], [0.4444444444444444, \"#bd3786\"], [0.5555555555555556, \"#d8576b\"], [0.6666666666666666, \"#ed7953\"], [0.7777777777777778, \"#fb9f3a\"], [0.8888888888888888, \"#fdca26\"], [1.0, \"#f0f921\"]], \"type\": \"contour\"}], \"contourcarpet\": [{\"colorbar\": {\"outlinewidth\": 0, \"ticks\": \"\"}, \"type\": \"contourcarpet\"}], \"heatmap\": [{\"colorbar\": {\"outlinewidth\": 0, \"ticks\": \"\"}, \"colorscale\": [[0.0, \"#0d0887\"], [0.1111111111111111, \"#46039f\"], [0.2222222222222222, \"#7201a8\"], [0.3333333333333333, \"#9c179e\"], [0.4444444444444444, \"#bd3786\"], [0.5555555555555556, \"#d8576b\"], [0.6666666666666666, \"#ed7953\"], [0.7777777777777778, \"#fb9f3a\"], [0.8888888888888888, \"#fdca26\"], [1.0, \"#f0f921\"]], \"type\": \"heatmap\"}], \"heatmapgl\": [{\"colorbar\": {\"outlinewidth\": 0, \"ticks\": \"\"}, \"colorscale\": [[0.0, \"#0d0887\"], [0.1111111111111111, \"#46039f\"], [0.2222222222222222, \"#7201a8\"], [0.3333333333333333, \"#9c179e\"], [0.4444444444444444, \"#bd3786\"], [0.5555555555555556, \"#d8576b\"], [0.6666666666666666, \"#ed7953\"], [0.7777777777777778, \"#fb9f3a\"], [0.8888888888888888, \"#fdca26\"], [1.0, \"#f0f921\"]], \"type\": \"heatmapgl\"}], \"histogram\": [{\"marker\": {\"colorbar\": {\"outlinewidth\": 0, \"ticks\": \"\"}}, \"type\": \"histogram\"}], \"histogram2d\": [{\"colorbar\": {\"outlinewidth\": 0, \"ticks\": \"\"}, \"colorscale\": [[0.0, \"#0d0887\"], [0.1111111111111111, \"#46039f\"], [0.2222222222222222, \"#7201a8\"], [0.3333333333333333, \"#9c179e\"], [0.4444444444444444, \"#bd3786\"], [0.5555555555555556, \"#d8576b\"], [0.6666666666666666, \"#ed7953\"], [0.7777777777777778, \"#fb9f3a\"], [0.8888888888888888, \"#fdca26\"], [1.0, \"#f0f921\"]], \"type\": \"histogram2d\"}], \"histogram2dcontour\": [{\"colorbar\": {\"outlinewidth\": 0, \"ticks\": \"\"}, \"colorscale\": [[0.0, \"#0d0887\"], [0.1111111111111111, \"#46039f\"], [0.2222222222222222, \"#7201a8\"], [0.3333333333333333, \"#9c179e\"], [0.4444444444444444, \"#bd3786\"], [0.5555555555555556, \"#d8576b\"], [0.6666666666666666, \"#ed7953\"], [0.7777777777777778, \"#fb9f3a\"], [0.8888888888888888, \"#fdca26\"], [1.0, \"#f0f921\"]], \"type\": \"histogram2dcontour\"}], \"mesh3d\": [{\"colorbar\": {\"outlinewidth\": 0, \"ticks\": \"\"}, \"type\": \"mesh3d\"}], \"parcoords\": [{\"line\": {\"colorbar\": {\"outlinewidth\": 0, \"ticks\": \"\"}}, \"type\": \"parcoords\"}], \"pie\": [{\"automargin\": true, \"type\": \"pie\"}], \"scatter\": [{\"marker\": {\"colorbar\": {\"outlinewidth\": 0, \"ticks\": \"\"}}, \"type\": \"scatter\"}], \"scatter3d\": [{\"line\": {\"colorbar\": {\"outlinewidth\": 0, \"ticks\": \"\"}}, \"marker\": {\"colorbar\": {\"outlinewidth\": 0, \"ticks\": \"\"}}, \"type\": \"scatter3d\"}], \"scattercarpet\": [{\"marker\": {\"colorbar\": {\"outlinewidth\": 0, \"ticks\": \"\"}}, \"type\": \"scattercarpet\"}], \"scattergeo\": [{\"marker\": {\"colorbar\": {\"outlinewidth\": 0, \"ticks\": \"\"}}, \"type\": \"scattergeo\"}], \"scattergl\": [{\"marker\": {\"colorbar\": {\"outlinewidth\": 0, \"ticks\": \"\"}}, \"type\": \"scattergl\"}], \"scattermapbox\": [{\"marker\": {\"colorbar\": {\"outlinewidth\": 0, \"ticks\": \"\"}}, \"type\": \"scattermapbox\"}], \"scatterpolar\": [{\"marker\": {\"colorbar\": {\"outlinewidth\": 0, \"ticks\": \"\"}}, \"type\": \"scatterpolar\"}], \"scatterpolargl\": [{\"marker\": {\"colorbar\": {\"outlinewidth\": 0, \"ticks\": \"\"}}, \"type\": \"scatterpolargl\"}], \"scatterternary\": [{\"marker\": {\"colorbar\": {\"outlinewidth\": 0, \"ticks\": \"\"}}, \"type\": \"scatterternary\"}], \"surface\": [{\"colorbar\": {\"outlinewidth\": 0, \"ticks\": \"\"}, \"colorscale\": [[0.0, \"#0d0887\"], [0.1111111111111111, \"#46039f\"], [0.2222222222222222, \"#7201a8\"], [0.3333333333333333, \"#9c179e\"], [0.4444444444444444, \"#bd3786\"], [0.5555555555555556, \"#d8576b\"], [0.6666666666666666, \"#ed7953\"], [0.7777777777777778, \"#fb9f3a\"], [0.8888888888888888, \"#fdca26\"], [1.0, \"#f0f921\"]], \"type\": \"surface\"}], \"table\": [{\"cells\": {\"fill\": {\"color\": \"#EBF0F8\"}, \"line\": {\"color\": \"white\"}}, \"header\": {\"fill\": {\"color\": \"#C8D4E3\"}, \"line\": {\"color\": \"white\"}}, \"type\": \"table\"}]}, \"layout\": {\"annotationdefaults\": {\"arrowcolor\": \"#2a3f5f\", \"arrowhead\": 0, \"arrowwidth\": 1}, \"coloraxis\": {\"colorbar\": {\"outlinewidth\": 0, \"ticks\": \"\"}}, \"colorscale\": {\"diverging\": [[0, \"#8e0152\"], [0.1, \"#c51b7d\"], [0.2, \"#de77ae\"], [0.3, \"#f1b6da\"], [0.4, \"#fde0ef\"], [0.5, \"#f7f7f7\"], [0.6, \"#e6f5d0\"], [0.7, \"#b8e186\"], [0.8, \"#7fbc41\"], [0.9, \"#4d9221\"], [1, \"#276419\"]], \"sequential\": [[0.0, \"#0d0887\"], [0.1111111111111111, \"#46039f\"], [0.2222222222222222, \"#7201a8\"], [0.3333333333333333, \"#9c179e\"], [0.4444444444444444, \"#bd3786\"], [0.5555555555555556, \"#d8576b\"], [0.6666666666666666, \"#ed7953\"], [0.7777777777777778, \"#fb9f3a\"], [0.8888888888888888, \"#fdca26\"], [1.0, \"#f0f921\"]], \"sequentialminus\": [[0.0, \"#0d0887\"], [0.1111111111111111, \"#46039f\"], [0.2222222222222222, \"#7201a8\"], [0.3333333333333333, \"#9c179e\"], [0.4444444444444444, \"#bd3786\"], [0.5555555555555556, \"#d8576b\"], [0.6666666666666666, \"#ed7953\"], [0.7777777777777778, \"#fb9f3a\"], [0.8888888888888888, \"#fdca26\"], [1.0, \"#f0f921\"]]}, \"colorway\": [\"#636efa\", \"#EF553B\", \"#00cc96\", \"#ab63fa\", \"#FFA15A\", \"#19d3f3\", \"#FF6692\", \"#B6E880\", \"#FF97FF\", \"#FECB52\"], \"font\": {\"color\": \"#2a3f5f\"}, \"geo\": {\"bgcolor\": \"white\", \"lakecolor\": \"white\", \"landcolor\": \"#E5ECF6\", \"showlakes\": true, \"showland\": true, \"subunitcolor\": \"white\"}, \"hoverlabel\": {\"align\": \"left\"}, \"hovermode\": \"closest\", \"mapbox\": {\"style\": \"light\"}, \"paper_bgcolor\": \"white\", \"plot_bgcolor\": \"#E5ECF6\", \"polar\": {\"angularaxis\": {\"gridcolor\": \"white\", \"linecolor\": \"white\", \"ticks\": \"\"}, \"bgcolor\": \"#E5ECF6\", \"radialaxis\": {\"gridcolor\": \"white\", \"linecolor\": \"white\", \"ticks\": \"\"}}, \"scene\": {\"xaxis\": {\"backgroundcolor\": \"#E5ECF6\", \"gridcolor\": \"white\", \"gridwidth\": 2, \"linecolor\": \"white\", \"showbackground\": true, \"ticks\": \"\", \"zerolinecolor\": \"white\"}, \"yaxis\": {\"backgroundcolor\": \"#E5ECF6\", \"gridcolor\": \"white\", \"gridwidth\": 2, \"linecolor\": \"white\", \"showbackground\": true, \"ticks\": \"\", \"zerolinecolor\": \"white\"}, \"zaxis\": {\"backgroundcolor\": \"#E5ECF6\", \"gridcolor\": \"white\", \"gridwidth\": 2, \"linecolor\": \"white\", \"showbackground\": true, \"ticks\": \"\", \"zerolinecolor\": \"white\"}}, \"shapedefaults\": {\"line\": {\"color\": \"#2a3f5f\"}}, \"ternary\": {\"aaxis\": {\"gridcolor\": \"white\", \"linecolor\": \"white\", \"ticks\": \"\"}, \"baxis\": {\"gridcolor\": \"white\", \"linecolor\": \"white\", \"ticks\": \"\"}, \"bgcolor\": \"#E5ECF6\", \"caxis\": {\"gridcolor\": \"white\", \"linecolor\": \"white\", \"ticks\": \"\"}}, \"title\": {\"x\": 0.05}, \"xaxis\": {\"automargin\": true, \"gridcolor\": \"white\", \"linecolor\": \"white\", \"ticks\": \"\", \"title\": {\"standoff\": 15}, \"zerolinecolor\": \"white\", \"zerolinewidth\": 2}, \"yaxis\": {\"automargin\": true, \"gridcolor\": \"white\", \"linecolor\": \"white\", \"ticks\": \"\", \"title\": {\"standoff\": 15}, \"zerolinecolor\": \"white\", \"zerolinewidth\": 2}}}, \"title\": {\"text\": \"Histograma analisando os votos dos deputados\"}, \"xaxis\": {\"title\": {\"text\": \"Classifica\\u00e7\\u00e3o:0-Sim;1-N\\u00e3o\"}}, \"yaxis\": {\"title\": {\"text\": \"Voto\"}}},\n",
              "                        {\"responsive\": true}\n",
              "                    ).then(function(){\n",
              "                            \n",
              "var gd = document.getElementById('062c35c6-f56d-4c63-a363-5697db2ae7af');\n",
              "var x = new MutationObserver(function (mutations, observer) {{\n",
              "        var display = window.getComputedStyle(gd).display;\n",
              "        if (!display || display === 'none') {{\n",
              "            console.log([gd, 'removed!']);\n",
              "            Plotly.purge(gd);\n",
              "            observer.disconnect();\n",
              "        }}\n",
              "}});\n",
              "\n",
              "// Listen for the removal of the full notebook cells\n",
              "var notebookContainer = gd.closest('#notebook-container');\n",
              "if (notebookContainer) {{\n",
              "    x.observe(notebookContainer, {childList: true});\n",
              "}}\n",
              "\n",
              "// Listen for the clearing of the current output cell\n",
              "var outputEl = gd.closest('.output');\n",
              "if (outputEl) {{\n",
              "    x.observe(outputEl, {childList: true});\n",
              "}}\n",
              "\n",
              "                        })\n",
              "                };\n",
              "                \n",
              "            </script>\n",
              "        </div>\n",
              "</body>\n",
              "</html>"
            ]
          },
          "metadata": {
            "tags": []
          }
        }
      ]
    }
  ]
}