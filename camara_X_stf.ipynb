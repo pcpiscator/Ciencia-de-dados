{
  "nbformat": 4,
  "nbformat_minor": 0,
  "metadata": {
    "colab": {
      "name": "camara_X_stf.ipynb",
      "provenance": [],
      "authorship_tag": "ABX9TyPKf1xo3K0WHxpVxhzhPgUR",
      "include_colab_link": true
    },
    "kernelspec": {
      "name": "python3",
      "display_name": "Python 3"
    }
  },
  "cells": [
    {
      "cell_type": "markdown",
      "metadata": {
        "id": "view-in-github",
        "colab_type": "text"
      },
      "source": [
        "<a href=\"https://colab.research.google.com/github/pcpiscator/Ciencia-de-dados/blob/master/camara_X_stf.ipynb\" target=\"_parent\"><img src=\"https://colab.research.google.com/assets/colab-badge.svg\" alt=\"Open In Colab\"/></a>"
      ]
    },
    {
      "cell_type": "code",
      "metadata": {
        "id": "D7Dp1AikM909"
      },
      "source": [
        "import pandas as pd                  \r\n",
        "import numpy as np\r\n",
        "import seaborn as sns\r\n",
        "import matplotlib.pyplot as plt\r\n",
        "from datetime import datetime\r\n",
        "from dateutil.parser import parse \r\n",
        "\r\n",
        "%matplotlib inline"
      ],
      "execution_count": 11,
      "outputs": []
    },
    {
      "cell_type": "code",
      "metadata": {
        "colab": {
          "base_uri": "https://localhost:8080/",
          "height": 204
        },
        "id": "pN5c6xVOfGZQ",
        "outputId": "31efa055-0763-4101-da57-641fb948e999"
      },
      "source": [
        "fonte = \"https://raw.githubusercontent.com/pcpiscator/Ciencia-de-dados/master/camara_X_stf.txt\"\r\n",
        "dados = pd.read_csv(fonte)\r\n",
        "dados.head()"
      ],
      "execution_count": 13,
      "outputs": [
        {
          "output_type": "execute_result",
          "data": {
            "text/html": [
              "<div>\n",
              "<style scoped>\n",
              "    .dataframe tbody tr th:only-of-type {\n",
              "        vertical-align: middle;\n",
              "    }\n",
              "\n",
              "    .dataframe tbody tr th {\n",
              "        vertical-align: top;\n",
              "    }\n",
              "\n",
              "    .dataframe thead th {\n",
              "        text-align: right;\n",
              "    }\n",
              "</style>\n",
              "<table border=\"1\" class=\"dataframe\">\n",
              "  <thead>\n",
              "    <tr style=\"text-align: right;\">\n",
              "      <th></th>\n",
              "      <th>Deputado</th>\n",
              "      <th>Partido</th>\n",
              "      <th>Estado</th>\n",
              "      <th>Voto</th>\n",
              "    </tr>\n",
              "  </thead>\n",
              "  <tbody>\n",
              "    <tr>\n",
              "      <th>0</th>\n",
              "      <td>Abílio Santana</td>\n",
              "      <td>PL</td>\n",
              "      <td>BA</td>\n",
              "      <td>Sim</td>\n",
              "    </tr>\n",
              "    <tr>\n",
              "      <th>1</th>\n",
              "      <td>Abou Anni</td>\n",
              "      <td>PSL</td>\n",
              "      <td>SP</td>\n",
              "      <td>Sim</td>\n",
              "    </tr>\n",
              "    <tr>\n",
              "      <th>2</th>\n",
              "      <td>Acácio Favacho</td>\n",
              "      <td>PROS</td>\n",
              "      <td>AP</td>\n",
              "      <td>Sim</td>\n",
              "    </tr>\n",
              "    <tr>\n",
              "      <th>3</th>\n",
              "      <td>Adolfo Viana</td>\n",
              "      <td>PSDB</td>\n",
              "      <td>BA</td>\n",
              "      <td>Sim</td>\n",
              "    </tr>\n",
              "    <tr>\n",
              "      <th>4</th>\n",
              "      <td>Adriana Ventura</td>\n",
              "      <td>NOVO</td>\n",
              "      <td>SP</td>\n",
              "      <td>Não</td>\n",
              "    </tr>\n",
              "  </tbody>\n",
              "</table>\n",
              "</div>"
            ],
            "text/plain": [
              "          Deputado Partido Estado Voto\n",
              "0   Abílio Santana      PL     BA  Sim\n",
              "1        Abou Anni     PSL     SP  Sim\n",
              "2   Acácio Favacho    PROS     AP  Sim\n",
              "3     Adolfo Viana    PSDB     BA  Sim\n",
              "4  Adriana Ventura    NOVO     SP  Não"
            ]
          },
          "metadata": {
            "tags": []
          },
          "execution_count": 13
        }
      ]
    },
    {
      "cell_type": "code",
      "metadata": {
        "id": "7vWLuv8pSWT9"
      },
      "source": [
        "dados"
      ],
      "execution_count": null,
      "outputs": []
    },
    {
      "cell_type": "code",
      "metadata": {
        "id": "V5jI5BwVU5pH"
      },
      "source": [
        ""
      ],
      "execution_count": null,
      "outputs": []
    }
  ]
}