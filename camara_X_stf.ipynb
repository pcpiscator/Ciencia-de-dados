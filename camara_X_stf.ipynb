{
  "nbformat": 4,
  "nbformat_minor": 0,
  "metadata": {
    "colab": {
      "name": "camara_X_stf.ipynb",
      "provenance": [],
      "authorship_tag": "ABX9TyN/EJxmgadEDnmvovpO7T2/",
      "include_colab_link": true
    },
    "kernelspec": {
      "name": "python3",
      "display_name": "Python 3"
    }
  },
  "cells": [
    {
      "cell_type": "markdown",
      "metadata": {
        "id": "view-in-github",
        "colab_type": "text"
      },
      "source": [
        "<a href=\"https://colab.research.google.com/github/pcpiscator/Ciencia-de-dados/blob/master/camara_X_stf.ipynb\" target=\"_parent\"><img src=\"https://colab.research.google.com/assets/colab-badge.svg\" alt=\"Open In Colab\"/></a>"
      ]
    },
    {
      "cell_type": "code",
      "metadata": {
        "id": "D7Dp1AikM909"
      },
      "source": [
        "import pandas as pd                  \r\n",
        "import numpy as np\r\n",
        "import seaborn as sns\r\n",
        "import matplotlib.pyplot as plt\r\n",
        "from datetime import datetime\r\n",
        "from dateutil.parser import parse \r\n",
        "\r\n",
        "%matplotlib inline"
      ],
      "execution_count": 11,
      "outputs": []
    },
    {
      "cell_type": "code",
      "metadata": {
        "colab": {
          "base_uri": "https://localhost:8080/",
          "height": 204
        },
        "id": "pN5c6xVOfGZQ",
        "outputId": "31efa055-0763-4101-da57-641fb948e999"
      },
      "source": [
        "fonte = \"https://raw.githubusercontent.com/pcpiscator/Ciencia-de-dados/master/camara_X_stf.txt\"\r\n",
        "dados = pd.read_csv(fonte)\r\n",
        "dados.head()"
      ],
      "execution_count": 13,
      "outputs": [
        {
          "output_type": "execute_result",
          "data": {
            "text/html": [
              "<div>\n",
              "<style scoped>\n",
              "    .dataframe tbody tr th:only-of-type {\n",
              "        vertical-align: middle;\n",
              "    }\n",
              "\n",
              "    .dataframe tbody tr th {\n",
              "        vertical-align: top;\n",
              "    }\n",
              "\n",
              "    .dataframe thead th {\n",
              "        text-align: right;\n",
              "    }\n",
              "</style>\n",
              "<table border=\"1\" class=\"dataframe\">\n",
              "  <thead>\n",
              "    <tr style=\"text-align: right;\">\n",
              "      <th></th>\n",
              "      <th>Deputado</th>\n",
              "      <th>Partido</th>\n",
              "      <th>Estado</th>\n",
              "      <th>Voto</th>\n",
              "    </tr>\n",
              "  </thead>\n",
              "  <tbody>\n",
              "    <tr>\n",
              "      <th>0</th>\n",
              "      <td>Abílio Santana</td>\n",
              "      <td>PL</td>\n",
              "      <td>BA</td>\n",
              "      <td>Sim</td>\n",
              "    </tr>\n",
              "    <tr>\n",
              "      <th>1</th>\n",
              "      <td>Abou Anni</td>\n",
              "      <td>PSL</td>\n",
              "      <td>SP</td>\n",
              "      <td>Sim</td>\n",
              "    </tr>\n",
              "    <tr>\n",
              "      <th>2</th>\n",
              "      <td>Acácio Favacho</td>\n",
              "      <td>PROS</td>\n",
              "      <td>AP</td>\n",
              "      <td>Sim</td>\n",
              "    </tr>\n",
              "    <tr>\n",
              "      <th>3</th>\n",
              "      <td>Adolfo Viana</td>\n",
              "      <td>PSDB</td>\n",
              "      <td>BA</td>\n",
              "      <td>Sim</td>\n",
              "    </tr>\n",
              "    <tr>\n",
              "      <th>4</th>\n",
              "      <td>Adriana Ventura</td>\n",
              "      <td>NOVO</td>\n",
              "      <td>SP</td>\n",
              "      <td>Não</td>\n",
              "    </tr>\n",
              "  </tbody>\n",
              "</table>\n",
              "</div>"
            ],
            "text/plain": [
              "          Deputado Partido Estado Voto\n",
              "0   Abílio Santana      PL     BA  Sim\n",
              "1        Abou Anni     PSL     SP  Sim\n",
              "2   Acácio Favacho    PROS     AP  Sim\n",
              "3     Adolfo Viana    PSDB     BA  Sim\n",
              "4  Adriana Ventura    NOVO     SP  Não"
            ]
          },
          "metadata": {
            "tags": []
          },
          "execution_count": 13
        }
      ]
    },
    {
      "cell_type": "code",
      "metadata": {
        "id": "7vWLuv8pSWT9"
      },
      "source": [
        "dados"
      ],
      "execution_count": null,
      "outputs": []
    },
    {
      "cell_type": "code",
      "metadata": {
        "id": "yFW9eDj9t90k",
        "colab": {
          "base_uri": "https://localhost:8080/"
        },
        "outputId": "9e525c62-a57b-48e1-c842-a98914ead966"
      },
      "source": [
        "dados.shape"
      ],
      "execution_count": 15,
      "outputs": [
        {
          "output_type": "execute_result",
          "data": {
            "text/plain": [
              "(513, 4)"
            ]
          },
          "metadata": {
            "tags": []
          },
          "execution_count": 15
        }
      ]
    },
    {
      "cell_type": "code",
      "metadata": {
        "id": "V5jI5BwVU5pH"
      },
      "source": [
        "dados[[\"Deputado\",\"Partido\"]]"
      ],
      "execution_count": null,
      "outputs": []
    },
    {
      "cell_type": "code",
      "metadata": {
        "id": "EzhCped_VvEN",
        "outputId": "8f98495a-4a60-427e-953a-e04d6b0f4f6e",
        "colab": {
          "base_uri": "https://localhost:8080/"
        }
      },
      "source": [
        "dados[\"Partido\"].value_counts()"
      ],
      "execution_count": 19,
      "outputs": [
        {
          "output_type": "execute_result",
          "data": {
            "text/plain": [
              "PSL              53\n",
              "PT               52\n",
              "PL               42\n",
              "PP               40\n",
              "PSD              35\n",
              "MDB              34\n",
              "REPUBLICANOS     32\n",
              "PSDB             32\n",
              "PSB              30\n",
              "DEM              29\n",
              "PDT              26\n",
              "SOLIDARIEDADE    14\n",
              "PROS             11\n",
              "PTB              11\n",
              "PSOL             10\n",
              "PSC              10\n",
              "PODE             10\n",
              "NOVO              8\n",
              "AVANTE            8\n",
              "CIDADANIA         8\n",
              "PCdoB             7\n",
              "PATRIOTA          6\n",
              "PV                4\n",
              "REDE              1\n",
              "Name: Partido, dtype: int64"
            ]
          },
          "metadata": {
            "tags": []
          },
          "execution_count": 19
        }
      ]
    },
    {
      "cell_type": "code",
      "metadata": {
        "id": "gRSrpizsY_L-"
      },
      "source": [
        "dados[[\"Deputado\",\"Voto\"]]"
      ],
      "execution_count": null,
      "outputs": []
    }
  ]
}