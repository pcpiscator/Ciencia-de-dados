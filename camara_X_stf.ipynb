{
  "nbformat": 4,
  "nbformat_minor": 0,
  "metadata": {
    "colab": {
      "name": "camara_X_stf.ipynb",
      "provenance": [],
      "authorship_tag": "ABX9TyOaKfGSN/B4rJjaQMUnZlEf",
      "include_colab_link": true
    },
    "kernelspec": {
      "name": "python3",
      "display_name": "Python 3"
    }
  },
  "cells": [
    {
      "cell_type": "markdown",
      "metadata": {
        "id": "view-in-github",
        "colab_type": "text"
      },
      "source": [
        "<a href=\"https://colab.research.google.com/github/pcpiscator/Ciencia-de-dados/blob/master/camara_X_stf.ipynb\" target=\"_parent\"><img src=\"https://colab.research.google.com/assets/colab-badge.svg\" alt=\"Open In Colab\"/></a>"
      ]
    },
    {
      "cell_type": "code",
      "metadata": {
        "id": "D7Dp1AikM909"
      },
      "source": [
        "import pandas as pd                  \r\n",
        "import numpy as np\r\n",
        "import seaborn as sns\r\n",
        "import matplotlib.pyplot as plt\r\n",
        "from datetime import datetime\r\n",
        "from dateutil.parser import parse \r\n",
        "\r\n",
        "%matplotlib inline"
      ],
      "execution_count": 33,
      "outputs": []
    },
    {
      "cell_type": "code",
      "metadata": {
        "colab": {
          "base_uri": "https://localhost:8080/",
          "height": 204
        },
        "id": "pN5c6xVOfGZQ",
        "outputId": "f1a06631-4677-4c4e-f985-7e84953e4c6c"
      },
      "source": [
        "fonte = \"https://raw.githubusercontent.com/pcpiscator/Ciencia-de-dados/master/camara_X_stf.txt\"\r\n",
        "dados = pd.read_csv(fonte)\r\n",
        "dados.head()"
      ],
      "execution_count": 36,
      "outputs": [
        {
          "output_type": "execute_result",
          "data": {
            "text/html": [
              "<div>\n",
              "<style scoped>\n",
              "    .dataframe tbody tr th:only-of-type {\n",
              "        vertical-align: middle;\n",
              "    }\n",
              "\n",
              "    .dataframe tbody tr th {\n",
              "        vertical-align: top;\n",
              "    }\n",
              "\n",
              "    .dataframe thead th {\n",
              "        text-align: right;\n",
              "    }\n",
              "</style>\n",
              "<table border=\"1\" class=\"dataframe\">\n",
              "  <thead>\n",
              "    <tr style=\"text-align: right;\">\n",
              "      <th></th>\n",
              "      <th>Deputado</th>\n",
              "      <th>Partido</th>\n",
              "      <th>Estado</th>\n",
              "      <th>Voto</th>\n",
              "    </tr>\n",
              "  </thead>\n",
              "  <tbody>\n",
              "    <tr>\n",
              "      <th>0</th>\n",
              "      <td>Abílio Santana</td>\n",
              "      <td>PL</td>\n",
              "      <td>BA</td>\n",
              "      <td>Sim</td>\n",
              "    </tr>\n",
              "    <tr>\n",
              "      <th>1</th>\n",
              "      <td>Abou Anni</td>\n",
              "      <td>PSL</td>\n",
              "      <td>SP</td>\n",
              "      <td>Sim</td>\n",
              "    </tr>\n",
              "    <tr>\n",
              "      <th>2</th>\n",
              "      <td>Acácio Favacho</td>\n",
              "      <td>PROS</td>\n",
              "      <td>AP</td>\n",
              "      <td>Sim</td>\n",
              "    </tr>\n",
              "    <tr>\n",
              "      <th>3</th>\n",
              "      <td>Adolfo Viana</td>\n",
              "      <td>PSDB</td>\n",
              "      <td>BA</td>\n",
              "      <td>Sim</td>\n",
              "    </tr>\n",
              "    <tr>\n",
              "      <th>4</th>\n",
              "      <td>Adriana Ventura</td>\n",
              "      <td>NOVO</td>\n",
              "      <td>SP</td>\n",
              "      <td>Não</td>\n",
              "    </tr>\n",
              "  </tbody>\n",
              "</table>\n",
              "</div>"
            ],
            "text/plain": [
              "          Deputado Partido Estado Voto\n",
              "0   Abílio Santana      PL     BA  Sim\n",
              "1        Abou Anni     PSL     SP  Sim\n",
              "2   Acácio Favacho    PROS     AP  Sim\n",
              "3     Adolfo Viana    PSDB     BA  Sim\n",
              "4  Adriana Ventura    NOVO     SP  Não"
            ]
          },
          "metadata": {
            "tags": []
          },
          "execution_count": 36
        }
      ]
    },
    {
      "cell_type": "code",
      "metadata": {
        "id": "hEy3Ojgqv_Tl",
        "outputId": "8464cf7a-2b99-4348-b7c6-81dda9d51598",
        "colab": {
          "base_uri": "https://localhost:8080/",
          "height": 204
        }
      },
      "source": [
        "mapeamento_Voto = {\"Sim\": 0, \"Não\": 1}\r\n",
        "dados['Voto'] = dados['Voto'].map(mapeamento_Voto)\r\n",
        "\r\n",
        "dados.head()"
      ],
      "execution_count": 37,
      "outputs": [
        {
          "output_type": "execute_result",
          "data": {
            "text/html": [
              "<div>\n",
              "<style scoped>\n",
              "    .dataframe tbody tr th:only-of-type {\n",
              "        vertical-align: middle;\n",
              "    }\n",
              "\n",
              "    .dataframe tbody tr th {\n",
              "        vertical-align: top;\n",
              "    }\n",
              "\n",
              "    .dataframe thead th {\n",
              "        text-align: right;\n",
              "    }\n",
              "</style>\n",
              "<table border=\"1\" class=\"dataframe\">\n",
              "  <thead>\n",
              "    <tr style=\"text-align: right;\">\n",
              "      <th></th>\n",
              "      <th>Deputado</th>\n",
              "      <th>Partido</th>\n",
              "      <th>Estado</th>\n",
              "      <th>Voto</th>\n",
              "    </tr>\n",
              "  </thead>\n",
              "  <tbody>\n",
              "    <tr>\n",
              "      <th>0</th>\n",
              "      <td>Abílio Santana</td>\n",
              "      <td>PL</td>\n",
              "      <td>BA</td>\n",
              "      <td>0.0</td>\n",
              "    </tr>\n",
              "    <tr>\n",
              "      <th>1</th>\n",
              "      <td>Abou Anni</td>\n",
              "      <td>PSL</td>\n",
              "      <td>SP</td>\n",
              "      <td>0.0</td>\n",
              "    </tr>\n",
              "    <tr>\n",
              "      <th>2</th>\n",
              "      <td>Acácio Favacho</td>\n",
              "      <td>PROS</td>\n",
              "      <td>AP</td>\n",
              "      <td>0.0</td>\n",
              "    </tr>\n",
              "    <tr>\n",
              "      <th>3</th>\n",
              "      <td>Adolfo Viana</td>\n",
              "      <td>PSDB</td>\n",
              "      <td>BA</td>\n",
              "      <td>0.0</td>\n",
              "    </tr>\n",
              "    <tr>\n",
              "      <th>4</th>\n",
              "      <td>Adriana Ventura</td>\n",
              "      <td>NOVO</td>\n",
              "      <td>SP</td>\n",
              "      <td>1.0</td>\n",
              "    </tr>\n",
              "  </tbody>\n",
              "</table>\n",
              "</div>"
            ],
            "text/plain": [
              "          Deputado Partido Estado  Voto\n",
              "0   Abílio Santana      PL     BA   0.0\n",
              "1        Abou Anni     PSL     SP   0.0\n",
              "2   Acácio Favacho    PROS     AP   0.0\n",
              "3     Adolfo Viana    PSDB     BA   0.0\n",
              "4  Adriana Ventura    NOVO     SP   1.0"
            ]
          },
          "metadata": {
            "tags": []
          },
          "execution_count": 37
        }
      ]
    },
    {
      "cell_type": "code",
      "metadata": {
        "id": "7vWLuv8pSWT9",
        "outputId": "57b5606f-023c-4bfe-af4d-21bf9122dac1",
        "colab": {
          "base_uri": "https://localhost:8080/",
          "height": 419
        }
      },
      "source": [
        "dados"
      ],
      "execution_count": 19,
      "outputs": [
        {
          "output_type": "execute_result",
          "data": {
            "text/html": [
              "<div>\n",
              "<style scoped>\n",
              "    .dataframe tbody tr th:only-of-type {\n",
              "        vertical-align: middle;\n",
              "    }\n",
              "\n",
              "    .dataframe tbody tr th {\n",
              "        vertical-align: top;\n",
              "    }\n",
              "\n",
              "    .dataframe thead th {\n",
              "        text-align: right;\n",
              "    }\n",
              "</style>\n",
              "<table border=\"1\" class=\"dataframe\">\n",
              "  <thead>\n",
              "    <tr style=\"text-align: right;\">\n",
              "      <th></th>\n",
              "      <th>Deputado</th>\n",
              "      <th>Partido</th>\n",
              "      <th>Estado</th>\n",
              "      <th>Voto</th>\n",
              "    </tr>\n",
              "  </thead>\n",
              "  <tbody>\n",
              "    <tr>\n",
              "      <th>0</th>\n",
              "      <td>Abílio Santana</td>\n",
              "      <td>PL</td>\n",
              "      <td>BA</td>\n",
              "      <td>Sim</td>\n",
              "    </tr>\n",
              "    <tr>\n",
              "      <th>1</th>\n",
              "      <td>Abou Anni</td>\n",
              "      <td>PSL</td>\n",
              "      <td>SP</td>\n",
              "      <td>Sim</td>\n",
              "    </tr>\n",
              "    <tr>\n",
              "      <th>2</th>\n",
              "      <td>Acácio Favacho</td>\n",
              "      <td>PROS</td>\n",
              "      <td>AP</td>\n",
              "      <td>Sim</td>\n",
              "    </tr>\n",
              "    <tr>\n",
              "      <th>3</th>\n",
              "      <td>Adolfo Viana</td>\n",
              "      <td>PSDB</td>\n",
              "      <td>BA</td>\n",
              "      <td>Sim</td>\n",
              "    </tr>\n",
              "    <tr>\n",
              "      <th>4</th>\n",
              "      <td>Adriana Ventura</td>\n",
              "      <td>NOVO</td>\n",
              "      <td>SP</td>\n",
              "      <td>Não</td>\n",
              "    </tr>\n",
              "    <tr>\n",
              "      <th>...</th>\n",
              "      <td>...</td>\n",
              "      <td>...</td>\n",
              "      <td>...</td>\n",
              "      <td>...</td>\n",
              "    </tr>\n",
              "    <tr>\n",
              "      <th>508</th>\n",
              "      <td>Zé Carlos</td>\n",
              "      <td>PT</td>\n",
              "      <td>MA</td>\n",
              "      <td>Sim</td>\n",
              "    </tr>\n",
              "    <tr>\n",
              "      <th>509</th>\n",
              "      <td>Zé Neto</td>\n",
              "      <td>PT</td>\n",
              "      <td>BA</td>\n",
              "      <td>Sim</td>\n",
              "    </tr>\n",
              "    <tr>\n",
              "      <th>510</th>\n",
              "      <td>Zé Silva</td>\n",
              "      <td>SOLIDARIEDADE</td>\n",
              "      <td>MG</td>\n",
              "      <td>Sim</td>\n",
              "    </tr>\n",
              "    <tr>\n",
              "      <th>511</th>\n",
              "      <td>Zé Vitor</td>\n",
              "      <td>PL</td>\n",
              "      <td>MG</td>\n",
              "      <td>Sim</td>\n",
              "    </tr>\n",
              "    <tr>\n",
              "      <th>512</th>\n",
              "      <td>Zeca Dirceu</td>\n",
              "      <td>PT</td>\n",
              "      <td>PR</td>\n",
              "      <td>Sim</td>\n",
              "    </tr>\n",
              "  </tbody>\n",
              "</table>\n",
              "<p>513 rows × 4 columns</p>\n",
              "</div>"
            ],
            "text/plain": [
              "            Deputado        Partido Estado Voto\n",
              "0     Abílio Santana             PL     BA  Sim\n",
              "1          Abou Anni            PSL     SP  Sim\n",
              "2     Acácio Favacho           PROS     AP  Sim\n",
              "3       Adolfo Viana           PSDB     BA  Sim\n",
              "4    Adriana Ventura           NOVO     SP  Não\n",
              "..               ...            ...    ...  ...\n",
              "508        Zé Carlos             PT     MA  Sim\n",
              "509          Zé Neto             PT     BA  Sim\n",
              "510         Zé Silva  SOLIDARIEDADE     MG  Sim\n",
              "511         Zé Vitor             PL     MG  Sim\n",
              "512      Zeca Dirceu             PT     PR  Sim\n",
              "\n",
              "[513 rows x 4 columns]"
            ]
          },
          "metadata": {
            "tags": []
          },
          "execution_count": 19
        }
      ]
    },
    {
      "cell_type": "code",
      "metadata": {
        "id": "yFW9eDj9t90k",
        "colab": {
          "base_uri": "https://localhost:8080/"
        },
        "outputId": "c6ced2b9-6ce1-4f88-e566-deccf62ed510"
      },
      "source": [
        "dados.shape"
      ],
      "execution_count": 20,
      "outputs": [
        {
          "output_type": "execute_result",
          "data": {
            "text/plain": [
              "(513, 4)"
            ]
          },
          "metadata": {
            "tags": []
          },
          "execution_count": 20
        }
      ]
    },
    {
      "cell_type": "code",
      "metadata": {
        "id": "V5jI5BwVU5pH",
        "colab": {
          "base_uri": "https://localhost:8080/",
          "height": 419
        },
        "outputId": "82827900-698e-4fa3-d976-393426286cc5"
      },
      "source": [
        "dados[[\"Deputado\",\"Partido\"]]"
      ],
      "execution_count": 21,
      "outputs": [
        {
          "output_type": "execute_result",
          "data": {
            "text/html": [
              "<div>\n",
              "<style scoped>\n",
              "    .dataframe tbody tr th:only-of-type {\n",
              "        vertical-align: middle;\n",
              "    }\n",
              "\n",
              "    .dataframe tbody tr th {\n",
              "        vertical-align: top;\n",
              "    }\n",
              "\n",
              "    .dataframe thead th {\n",
              "        text-align: right;\n",
              "    }\n",
              "</style>\n",
              "<table border=\"1\" class=\"dataframe\">\n",
              "  <thead>\n",
              "    <tr style=\"text-align: right;\">\n",
              "      <th></th>\n",
              "      <th>Deputado</th>\n",
              "      <th>Partido</th>\n",
              "    </tr>\n",
              "  </thead>\n",
              "  <tbody>\n",
              "    <tr>\n",
              "      <th>0</th>\n",
              "      <td>Abílio Santana</td>\n",
              "      <td>PL</td>\n",
              "    </tr>\n",
              "    <tr>\n",
              "      <th>1</th>\n",
              "      <td>Abou Anni</td>\n",
              "      <td>PSL</td>\n",
              "    </tr>\n",
              "    <tr>\n",
              "      <th>2</th>\n",
              "      <td>Acácio Favacho</td>\n",
              "      <td>PROS</td>\n",
              "    </tr>\n",
              "    <tr>\n",
              "      <th>3</th>\n",
              "      <td>Adolfo Viana</td>\n",
              "      <td>PSDB</td>\n",
              "    </tr>\n",
              "    <tr>\n",
              "      <th>4</th>\n",
              "      <td>Adriana Ventura</td>\n",
              "      <td>NOVO</td>\n",
              "    </tr>\n",
              "    <tr>\n",
              "      <th>...</th>\n",
              "      <td>...</td>\n",
              "      <td>...</td>\n",
              "    </tr>\n",
              "    <tr>\n",
              "      <th>508</th>\n",
              "      <td>Zé Carlos</td>\n",
              "      <td>PT</td>\n",
              "    </tr>\n",
              "    <tr>\n",
              "      <th>509</th>\n",
              "      <td>Zé Neto</td>\n",
              "      <td>PT</td>\n",
              "    </tr>\n",
              "    <tr>\n",
              "      <th>510</th>\n",
              "      <td>Zé Silva</td>\n",
              "      <td>SOLIDARIEDADE</td>\n",
              "    </tr>\n",
              "    <tr>\n",
              "      <th>511</th>\n",
              "      <td>Zé Vitor</td>\n",
              "      <td>PL</td>\n",
              "    </tr>\n",
              "    <tr>\n",
              "      <th>512</th>\n",
              "      <td>Zeca Dirceu</td>\n",
              "      <td>PT</td>\n",
              "    </tr>\n",
              "  </tbody>\n",
              "</table>\n",
              "<p>513 rows × 2 columns</p>\n",
              "</div>"
            ],
            "text/plain": [
              "            Deputado        Partido\n",
              "0     Abílio Santana             PL\n",
              "1          Abou Anni            PSL\n",
              "2     Acácio Favacho           PROS\n",
              "3       Adolfo Viana           PSDB\n",
              "4    Adriana Ventura           NOVO\n",
              "..               ...            ...\n",
              "508        Zé Carlos             PT\n",
              "509          Zé Neto             PT\n",
              "510         Zé Silva  SOLIDARIEDADE\n",
              "511         Zé Vitor             PL\n",
              "512      Zeca Dirceu             PT\n",
              "\n",
              "[513 rows x 2 columns]"
            ]
          },
          "metadata": {
            "tags": []
          },
          "execution_count": 21
        }
      ]
    },
    {
      "cell_type": "code",
      "metadata": {
        "id": "EzhCped_VvEN",
        "colab": {
          "base_uri": "https://localhost:8080/"
        },
        "outputId": "86cb91e7-5e58-4601-8937-3956e0ec1aad"
      },
      "source": [
        "dados[\"Partido\"].value_counts()"
      ],
      "execution_count": 22,
      "outputs": [
        {
          "output_type": "execute_result",
          "data": {
            "text/plain": [
              "PSL              53\n",
              "PT               52\n",
              "PL               42\n",
              "PP               40\n",
              "PSD              35\n",
              "MDB              34\n",
              "PSDB             32\n",
              "REPUBLICANOS     32\n",
              "PSB              30\n",
              "DEM              29\n",
              "PDT              26\n",
              "SOLIDARIEDADE    14\n",
              "PROS             11\n",
              "PTB              11\n",
              "PODE             10\n",
              "PSC              10\n",
              "PSOL             10\n",
              "CIDADANIA         8\n",
              "AVANTE            8\n",
              "NOVO              8\n",
              "PCdoB             7\n",
              "PATRIOTA          6\n",
              "PV                4\n",
              "REDE              1\n",
              "Name: Partido, dtype: int64"
            ]
          },
          "metadata": {
            "tags": []
          },
          "execution_count": 22
        }
      ]
    },
    {
      "cell_type": "code",
      "metadata": {
        "id": "gRSrpizsY_L-",
        "colab": {
          "base_uri": "https://localhost:8080/",
          "height": 419
        },
        "outputId": "9a08f1af-dabd-469d-e4f5-42a5d2ad37db"
      },
      "source": [
        "dados[[\"Deputado\",\"Voto\"]]"
      ],
      "execution_count": 23,
      "outputs": [
        {
          "output_type": "execute_result",
          "data": {
            "text/html": [
              "<div>\n",
              "<style scoped>\n",
              "    .dataframe tbody tr th:only-of-type {\n",
              "        vertical-align: middle;\n",
              "    }\n",
              "\n",
              "    .dataframe tbody tr th {\n",
              "        vertical-align: top;\n",
              "    }\n",
              "\n",
              "    .dataframe thead th {\n",
              "        text-align: right;\n",
              "    }\n",
              "</style>\n",
              "<table border=\"1\" class=\"dataframe\">\n",
              "  <thead>\n",
              "    <tr style=\"text-align: right;\">\n",
              "      <th></th>\n",
              "      <th>Deputado</th>\n",
              "      <th>Voto</th>\n",
              "    </tr>\n",
              "  </thead>\n",
              "  <tbody>\n",
              "    <tr>\n",
              "      <th>0</th>\n",
              "      <td>Abílio Santana</td>\n",
              "      <td>Sim</td>\n",
              "    </tr>\n",
              "    <tr>\n",
              "      <th>1</th>\n",
              "      <td>Abou Anni</td>\n",
              "      <td>Sim</td>\n",
              "    </tr>\n",
              "    <tr>\n",
              "      <th>2</th>\n",
              "      <td>Acácio Favacho</td>\n",
              "      <td>Sim</td>\n",
              "    </tr>\n",
              "    <tr>\n",
              "      <th>3</th>\n",
              "      <td>Adolfo Viana</td>\n",
              "      <td>Sim</td>\n",
              "    </tr>\n",
              "    <tr>\n",
              "      <th>4</th>\n",
              "      <td>Adriana Ventura</td>\n",
              "      <td>Não</td>\n",
              "    </tr>\n",
              "    <tr>\n",
              "      <th>...</th>\n",
              "      <td>...</td>\n",
              "      <td>...</td>\n",
              "    </tr>\n",
              "    <tr>\n",
              "      <th>508</th>\n",
              "      <td>Zé Carlos</td>\n",
              "      <td>Sim</td>\n",
              "    </tr>\n",
              "    <tr>\n",
              "      <th>509</th>\n",
              "      <td>Zé Neto</td>\n",
              "      <td>Sim</td>\n",
              "    </tr>\n",
              "    <tr>\n",
              "      <th>510</th>\n",
              "      <td>Zé Silva</td>\n",
              "      <td>Sim</td>\n",
              "    </tr>\n",
              "    <tr>\n",
              "      <th>511</th>\n",
              "      <td>Zé Vitor</td>\n",
              "      <td>Sim</td>\n",
              "    </tr>\n",
              "    <tr>\n",
              "      <th>512</th>\n",
              "      <td>Zeca Dirceu</td>\n",
              "      <td>Sim</td>\n",
              "    </tr>\n",
              "  </tbody>\n",
              "</table>\n",
              "<p>513 rows × 2 columns</p>\n",
              "</div>"
            ],
            "text/plain": [
              "            Deputado Voto\n",
              "0     Abílio Santana  Sim\n",
              "1          Abou Anni  Sim\n",
              "2     Acácio Favacho  Sim\n",
              "3       Adolfo Viana  Sim\n",
              "4    Adriana Ventura  Não\n",
              "..               ...  ...\n",
              "508        Zé Carlos  Sim\n",
              "509          Zé Neto  Sim\n",
              "510         Zé Silva  Sim\n",
              "511         Zé Vitor  Sim\n",
              "512      Zeca Dirceu  Sim\n",
              "\n",
              "[513 rows x 2 columns]"
            ]
          },
          "metadata": {
            "tags": []
          },
          "execution_count": 23
        }
      ]
    },
    {
      "cell_type": "code",
      "metadata": {
        "id": "cX1sBeUAgSBD"
      },
      "source": [
        ""
      ],
      "execution_count": null,
      "outputs": []
    },
    {
      "cell_type": "code",
      "metadata": {
        "id": "LNOBOHTQgqVi",
        "colab": {
          "base_uri": "https://localhost:8080/"
        },
        "outputId": "2f3b7b29-83e3-40d3-ed11-d9dfdddab6c9"
      },
      "source": [
        "dados[[\"Estado\",\"Voto\"]].value_counts()"
      ],
      "execution_count": 24,
      "outputs": [
        {
          "output_type": "execute_result",
          "data": {
            "text/plain": [
              "Estado  Voto     \n",
              "SP      Sim          50\n",
              "MG      Sim          37\n",
              "BA      Sim          34\n",
              "RJ      Sim          28\n",
              "PE      Sim          24\n",
              "                     ..\n",
              "BA      AUSENTE       1\n",
              "MA      Abstenção     1\n",
              "PB)      AUSENTE      1\n",
              "GO      Abstenção     1\n",
              "PR      AUSENTE       1\n",
              "Length: 65, dtype: int64"
            ]
          },
          "metadata": {
            "tags": []
          },
          "execution_count": 24
        }
      ]
    },
    {
      "cell_type": "code",
      "metadata": {
        "id": "BRSCCnUUgyI_",
        "colab": {
          "base_uri": "https://localhost:8080/"
        },
        "outputId": "3450b254-88aa-43ff-a385-cdeb62af11b6"
      },
      "source": [
        "dados[[\"Deputado\",\"Voto\"]].value_counts()"
      ],
      "execution_count": 41,
      "outputs": [
        {
          "output_type": "execute_result",
          "data": {
            "text/plain": [
              "Deputado            Voto\n",
              "Áurea Carolina      0.0     1\n",
              "Enrico Misasi       1.0     1\n",
              "Eros Biondini       1.0     1\n",
              "EuclydesPettersen   0.0     1\n",
              "Evair de Melo       0.0     1\n",
              "                           ..\n",
              "Maurício Dziedrick  1.0     1\n",
              "Merlong Solano      0.0     1\n",
              "Miguel Lombardi     0.0     1\n",
              "Milton Coelho       0.0     1\n",
              "AJ Albuquerque      0.0     1\n",
              "Length: 494, dtype: int64"
            ]
          },
          "metadata": {
            "tags": []
          },
          "execution_count": 41
        }
      ]
    },
    {
      "cell_type": "markdown",
      "metadata": {
        "id": "3gR3WuwL4sG3"
      },
      "source": [
        "Como se pode ver abaixo um total de 383 parlamentares deram voto a favor da manutenção da prisão do deputado.\r\n",
        "\r\n"
      ]
    },
    {
      "cell_type": "code",
      "metadata": {
        "id": "d7xy6anLksv3",
        "colab": {
          "base_uri": "https://localhost:8080/"
        },
        "outputId": "064049f6-d1b8-485a-d269-547dcd3f3a28"
      },
      "source": [
        "dados.query(\"Voto != 1\")[\"Voto\"]"
      ],
      "execution_count": 38,
      "outputs": [
        {
          "output_type": "execute_result",
          "data": {
            "text/plain": [
              "0      0.0\n",
              "1      0.0\n",
              "2      0.0\n",
              "3      0.0\n",
              "5      0.0\n",
              "      ... \n",
              "508    0.0\n",
              "509    0.0\n",
              "510    0.0\n",
              "511    0.0\n",
              "512    0.0\n",
              "Name: Voto, Length: 383, dtype: float64"
            ]
          },
          "metadata": {
            "tags": []
          },
          "execution_count": 38
        }
      ]
    },
    {
      "cell_type": "markdown",
      "metadata": {
        "id": "cBAIhc2L2-2u"
      },
      "source": [
        "Como se pode  ver abaixo um total de 149 parlamentares deram voto negativo à manutenção da prisão do deputado.\r\n"
      ]
    },
    {
      "cell_type": "code",
      "metadata": {
        "id": "grdZP4sWyZrt",
        "outputId": "b3e3a89d-f196-45b5-c482-fc6fea76c0d2",
        "colab": {
          "base_uri": "https://localhost:8080/"
        }
      },
      "source": [
        "dados.query(\"Voto != 0\")[\"Voto\"]"
      ],
      "execution_count": 40,
      "outputs": [
        {
          "output_type": "execute_result",
          "data": {
            "text/plain": [
              "4      1.0\n",
              "9      1.0\n",
              "10     NaN\n",
              "14     1.0\n",
              "15     1.0\n",
              "      ... \n",
              "484    1.0\n",
              "485    1.0\n",
              "498    1.0\n",
              "499    1.0\n",
              "506    1.0\n",
              "Name: Voto, Length: 149, dtype: float64"
            ]
          },
          "metadata": {
            "tags": []
          },
          "execution_count": 40
        }
      ]
    },
    {
      "cell_type": "code",
      "metadata": {
        "id": "5w0JCmZXjQH2",
        "colab": {
          "base_uri": "https://localhost:8080/"
        },
        "outputId": "3369bab1-3832-44e8-99b3-20bb6de09ffa"
      },
      "source": [
        "dados[[\"Partido\",\"Voto\"]].value_counts()"
      ],
      "execution_count": 28,
      "outputs": [
        {
          "output_type": "execute_result",
          "data": {
            "text/plain": [
              "Partido        Voto      \n",
              "PT             Sim           51\n",
              "PSL            Não           38\n",
              "PP             Sim           33\n",
              "PL             Sim           32\n",
              "REPUBLICANOS   Sim           28\n",
              "MDB            Sim           28\n",
              "PSDB           Sim           26\n",
              "PSB            Sim           25\n",
              "PSD            Sim           24\n",
              "DEM            Sim           23\n",
              "PDT            Sim           21\n",
              "SOLIDARIEDADE  Sim           13\n",
              "PSL            Sim           11\n",
              "PSOL           Sim           10\n",
              "PTB            Não            9\n",
              "PSD            Não            9\n",
              "NOVO           Não            8\n",
              "PL             Não            8\n",
              "PCdoB          Sim            7\n",
              "PODE           Não            7\n",
              "AVANTE         Sim            7\n",
              "PSC            Não            7\n",
              "PROS           Não            6\n",
              "CIDADANIA      Sim            6\n",
              "PP             Não            6\n",
              "MDB            Não            5\n",
              "DEM            Não            5\n",
              "PROS           Sim            5\n",
              "PSDB           Não            5\n",
              "PSB            Não            4\n",
              "PSC            Sim            3\n",
              "REPUBLICANOS   Não            3\n",
              "PATRIOTA       Sim            3\n",
              "PV             Sim            3\n",
              "PSL             AUSENTE       3\n",
              "PDT            Não            3\n",
              "PATRIOTA       Não            2\n",
              "CIDADANIA      Não            2\n",
              "PODE           Sim            2\n",
              "PTB            Sim            2\n",
              "MDB            Abstenção      1\n",
              "PV             Não            1\n",
              "PSB            AUSENTE        1\n",
              "PT             AUSENTE        1\n",
              "DEM            Abstenção      1\n",
              "REPUBLICANOS   AUSENTE        1\n",
              "REDE           Sim            1\n",
              "PDT             AUSENTE       1\n",
              "PATRIOTA       AUSENTE        1\n",
              "PSL            AUSENTE        1\n",
              "SOLIDARIEDADE  Não            1\n",
              "PDT            AUSENTE        1\n",
              "PL              AUSENTE       1\n",
              "PSDB           Abstenção      1\n",
              "PODE            AUSENTE       1\n",
              "PSD            AUSENTE        1\n",
              "                AUSENTE       1\n",
              "PP             PRESIDENTE     1\n",
              "AVANTE         Não            1\n",
              "dtype: int64"
            ]
          },
          "metadata": {
            "tags": []
          },
          "execution_count": 28
        }
      ]
    },
    {
      "cell_type": "markdown",
      "metadata": {
        "id": "mttozozt7MV8"
      },
      "source": [
        "Deputados que votaram **NÃO**."
      ]
    },
    {
      "cell_type": "code",
      "metadata": {
        "colab": {
          "base_uri": "https://localhost:8080/",
          "height": 419
        },
        "id": "xeiMMFcD6TYE",
        "outputId": "783e3764-232d-480e-cbf2-46dceedfdb80"
      },
      "source": [
        "dados.query(\"Voto != 0\")[['Deputado',\"Voto\"]]"
      ],
      "execution_count": 42,
      "outputs": [
        {
          "output_type": "execute_result",
          "data": {
            "text/html": [
              "<div>\n",
              "<style scoped>\n",
              "    .dataframe tbody tr th:only-of-type {\n",
              "        vertical-align: middle;\n",
              "    }\n",
              "\n",
              "    .dataframe tbody tr th {\n",
              "        vertical-align: top;\n",
              "    }\n",
              "\n",
              "    .dataframe thead th {\n",
              "        text-align: right;\n",
              "    }\n",
              "</style>\n",
              "<table border=\"1\" class=\"dataframe\">\n",
              "  <thead>\n",
              "    <tr style=\"text-align: right;\">\n",
              "      <th></th>\n",
              "      <th>Deputado</th>\n",
              "      <th>Voto</th>\n",
              "    </tr>\n",
              "  </thead>\n",
              "  <tbody>\n",
              "    <tr>\n",
              "      <th>4</th>\n",
              "      <td>Adriana Ventura</td>\n",
              "      <td>1.0</td>\n",
              "    </tr>\n",
              "    <tr>\n",
              "      <th>9</th>\n",
              "      <td>Afonso Hamm</td>\n",
              "      <td>1.0</td>\n",
              "    </tr>\n",
              "    <tr>\n",
              "      <th>10</th>\n",
              "      <td>Afonso Motta</td>\n",
              "      <td>NaN</td>\n",
              "    </tr>\n",
              "    <tr>\n",
              "      <th>14</th>\n",
              "      <td>Alan Rick</td>\n",
              "      <td>1.0</td>\n",
              "    </tr>\n",
              "    <tr>\n",
              "      <th>15</th>\n",
              "      <td>Alceu Moreira</td>\n",
              "      <td>1.0</td>\n",
              "    </tr>\n",
              "    <tr>\n",
              "      <th>...</th>\n",
              "      <td>...</td>\n",
              "      <td>...</td>\n",
              "    </tr>\n",
              "    <tr>\n",
              "      <th>484</th>\n",
              "      <td>Uldurico Junior</td>\n",
              "      <td>1.0</td>\n",
              "    </tr>\n",
              "    <tr>\n",
              "      <th>485</th>\n",
              "      <td>Vaidon Oliveira</td>\n",
              "      <td>1.0</td>\n",
              "    </tr>\n",
              "    <tr>\n",
              "      <th>498</th>\n",
              "      <td>Vinicius Poit</td>\n",
              "      <td>1.0</td>\n",
              "    </tr>\n",
              "    <tr>\n",
              "      <th>499</th>\n",
              "      <td>Vitor Hugo</td>\n",
              "      <td>1.0</td>\n",
              "    </tr>\n",
              "    <tr>\n",
              "      <th>506</th>\n",
              "      <td>Wilson Santiago</td>\n",
              "      <td>1.0</td>\n",
              "    </tr>\n",
              "  </tbody>\n",
              "</table>\n",
              "<p>149 rows × 2 columns</p>\n",
              "</div>"
            ],
            "text/plain": [
              "            Deputado  Voto\n",
              "4    Adriana Ventura   1.0\n",
              "9        Afonso Hamm   1.0\n",
              "10      Afonso Motta   NaN\n",
              "14         Alan Rick   1.0\n",
              "15     Alceu Moreira   1.0\n",
              "..               ...   ...\n",
              "484  Uldurico Junior   1.0\n",
              "485  Vaidon Oliveira   1.0\n",
              "498    Vinicius Poit   1.0\n",
              "499       Vitor Hugo   1.0\n",
              "506  Wilson Santiago   1.0\n",
              "\n",
              "[149 rows x 2 columns]"
            ]
          },
          "metadata": {
            "tags": []
          },
          "execution_count": 42
        }
      ]
    },
    {
      "cell_type": "markdown",
      "metadata": {
        "id": "GximW-b87c3d"
      },
      "source": [
        "Deputados que votaram **SIM**"
      ]
    },
    {
      "cell_type": "code",
      "metadata": {
        "colab": {
          "base_uri": "https://localhost:8080/",
          "height": 419
        },
        "id": "7E-dp45y6zk7",
        "outputId": "dab8b750-af1e-47c2-ae78-77bb6a626202"
      },
      "source": [
        "dados.query(\"Voto != 1\")[['Deputado',\"Voto\"]]"
      ],
      "execution_count": 45,
      "outputs": [
        {
          "output_type": "execute_result",
          "data": {
            "text/html": [
              "<div>\n",
              "<style scoped>\n",
              "    .dataframe tbody tr th:only-of-type {\n",
              "        vertical-align: middle;\n",
              "    }\n",
              "\n",
              "    .dataframe tbody tr th {\n",
              "        vertical-align: top;\n",
              "    }\n",
              "\n",
              "    .dataframe thead th {\n",
              "        text-align: right;\n",
              "    }\n",
              "</style>\n",
              "<table border=\"1\" class=\"dataframe\">\n",
              "  <thead>\n",
              "    <tr style=\"text-align: right;\">\n",
              "      <th></th>\n",
              "      <th>Deputado</th>\n",
              "      <th>Voto</th>\n",
              "    </tr>\n",
              "  </thead>\n",
              "  <tbody>\n",
              "    <tr>\n",
              "      <th>0</th>\n",
              "      <td>Abílio Santana</td>\n",
              "      <td>0.0</td>\n",
              "    </tr>\n",
              "    <tr>\n",
              "      <th>1</th>\n",
              "      <td>Abou Anni</td>\n",
              "      <td>0.0</td>\n",
              "    </tr>\n",
              "    <tr>\n",
              "      <th>2</th>\n",
              "      <td>Acácio Favacho</td>\n",
              "      <td>0.0</td>\n",
              "    </tr>\n",
              "    <tr>\n",
              "      <th>3</th>\n",
              "      <td>Adolfo Viana</td>\n",
              "      <td>0.0</td>\n",
              "    </tr>\n",
              "    <tr>\n",
              "      <th>5</th>\n",
              "      <td>Adriano do Baldy</td>\n",
              "      <td>0.0</td>\n",
              "    </tr>\n",
              "    <tr>\n",
              "      <th>...</th>\n",
              "      <td>...</td>\n",
              "      <td>...</td>\n",
              "    </tr>\n",
              "    <tr>\n",
              "      <th>508</th>\n",
              "      <td>Zé Carlos</td>\n",
              "      <td>0.0</td>\n",
              "    </tr>\n",
              "    <tr>\n",
              "      <th>509</th>\n",
              "      <td>Zé Neto</td>\n",
              "      <td>0.0</td>\n",
              "    </tr>\n",
              "    <tr>\n",
              "      <th>510</th>\n",
              "      <td>Zé Silva</td>\n",
              "      <td>0.0</td>\n",
              "    </tr>\n",
              "    <tr>\n",
              "      <th>511</th>\n",
              "      <td>Zé Vitor</td>\n",
              "      <td>0.0</td>\n",
              "    </tr>\n",
              "    <tr>\n",
              "      <th>512</th>\n",
              "      <td>Zeca Dirceu</td>\n",
              "      <td>0.0</td>\n",
              "    </tr>\n",
              "  </tbody>\n",
              "</table>\n",
              "<p>383 rows × 2 columns</p>\n",
              "</div>"
            ],
            "text/plain": [
              "             Deputado  Voto\n",
              "0      Abílio Santana   0.0\n",
              "1           Abou Anni   0.0\n",
              "2      Acácio Favacho   0.0\n",
              "3        Adolfo Viana   0.0\n",
              "5    Adriano do Baldy   0.0\n",
              "..                ...   ...\n",
              "508         Zé Carlos   0.0\n",
              "509           Zé Neto   0.0\n",
              "510          Zé Silva   0.0\n",
              "511          Zé Vitor   0.0\n",
              "512       Zeca Dirceu   0.0\n",
              "\n",
              "[383 rows x 2 columns]"
            ]
          },
          "metadata": {
            "tags": []
          },
          "execution_count": 45
        }
      ]
    }
  ]
}