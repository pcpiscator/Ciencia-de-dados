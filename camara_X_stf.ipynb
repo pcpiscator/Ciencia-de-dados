{
  "nbformat": 4,
  "nbformat_minor": 0,
  "metadata": {
    "colab": {
      "name": "camara_X_stf.ipynb",
      "provenance": [],
      "authorship_tag": "ABX9TyPhyz2f3LkIc2lLGet9LlhY",
      "include_colab_link": true
    },
    "kernelspec": {
      "name": "python3",
      "display_name": "Python 3"
    }
  },
  "cells": [
    {
      "cell_type": "markdown",
      "metadata": {
        "id": "view-in-github",
        "colab_type": "text"
      },
      "source": [
        "<a href=\"https://colab.research.google.com/github/pcpiscator/Ciencia-de-dados/blob/master/camara_X_stf.ipynb\" target=\"_parent\"><img src=\"https://colab.research.google.com/assets/colab-badge.svg\" alt=\"Open In Colab\"/></a>"
      ]
    },
    {
      "cell_type": "code",
      "metadata": {
        "id": "D7Dp1AikM909"
      },
      "source": [
        "import pandas as pd                  \r\n",
        "import numpy as np\r\n",
        "import seaborn as sns\r\n",
        "import matplotlib.pyplot as plt\r\n",
        "from datetime import datetime\r\n",
        "from dateutil.parser import parse \r\n",
        "\r\n",
        "%matplotlib inline"
      ],
      "execution_count": 40,
      "outputs": []
    },
    {
      "cell_type": "code",
      "metadata": {
        "colab": {
          "base_uri": "https://localhost:8080/",
          "height": 204
        },
        "id": "pN5c6xVOfGZQ",
        "outputId": "c4ab9238-0d9c-4efd-b46e-c36b8d327e97"
      },
      "source": [
        "fonte = \"https://raw.githubusercontent.com/pcpiscator/Ciencia-de-dados/master/camara_X_stf.txt\"\r\n",
        "dados = pd.read_csv(fonte)\r\n",
        "dados.head()"
      ],
      "execution_count": null,
      "outputs": [
        {
          "output_type": "execute_result",
          "data": {
            "text/html": [
              "<div>\n",
              "<style scoped>\n",
              "    .dataframe tbody tr th:only-of-type {\n",
              "        vertical-align: middle;\n",
              "    }\n",
              "\n",
              "    .dataframe tbody tr th {\n",
              "        vertical-align: top;\n",
              "    }\n",
              "\n",
              "    .dataframe thead th {\n",
              "        text-align: right;\n",
              "    }\n",
              "</style>\n",
              "<table border=\"1\" class=\"dataframe\">\n",
              "  <thead>\n",
              "    <tr style=\"text-align: right;\">\n",
              "      <th></th>\n",
              "      <th>Deputado</th>\n",
              "      <th>Partido</th>\n",
              "      <th>Estado</th>\n",
              "      <th>Voto</th>\n",
              "    </tr>\n",
              "  </thead>\n",
              "  <tbody>\n",
              "    <tr>\n",
              "      <th>0</th>\n",
              "      <td>Abílio Santana</td>\n",
              "      <td>PL</td>\n",
              "      <td>BA</td>\n",
              "      <td>Sim</td>\n",
              "    </tr>\n",
              "    <tr>\n",
              "      <th>1</th>\n",
              "      <td>Abou Anni</td>\n",
              "      <td>PSL</td>\n",
              "      <td>SP</td>\n",
              "      <td>Sim</td>\n",
              "    </tr>\n",
              "    <tr>\n",
              "      <th>2</th>\n",
              "      <td>Acácio Favacho</td>\n",
              "      <td>PROS</td>\n",
              "      <td>AP</td>\n",
              "      <td>Sim</td>\n",
              "    </tr>\n",
              "    <tr>\n",
              "      <th>3</th>\n",
              "      <td>Adolfo Viana</td>\n",
              "      <td>PSDB</td>\n",
              "      <td>BA</td>\n",
              "      <td>Sim</td>\n",
              "    </tr>\n",
              "    <tr>\n",
              "      <th>4</th>\n",
              "      <td>Adriana Ventura</td>\n",
              "      <td>NOVO</td>\n",
              "      <td>SP</td>\n",
              "      <td>Não</td>\n",
              "    </tr>\n",
              "  </tbody>\n",
              "</table>\n",
              "</div>"
            ],
            "text/plain": [
              "          Deputado Partido Estado Voto\n",
              "0   Abílio Santana      PL     BA  Sim\n",
              "1        Abou Anni     PSL     SP  Sim\n",
              "2   Acácio Favacho    PROS     AP  Sim\n",
              "3     Adolfo Viana    PSDB     BA  Sim\n",
              "4  Adriana Ventura    NOVO     SP  Não"
            ]
          },
          "metadata": {
            "tags": []
          },
          "execution_count": 24
        }
      ]
    },
    {
      "cell_type": "code",
      "metadata": {
        "id": "7vWLuv8pSWT9"
      },
      "source": [
        "dados"
      ],
      "execution_count": null,
      "outputs": []
    },
    {
      "cell_type": "code",
      "metadata": {
        "id": "yFW9eDj9t90k",
        "colab": {
          "base_uri": "https://localhost:8080/"
        },
        "outputId": "9e525c62-a57b-48e1-c842-a98914ead966"
      },
      "source": [
        "dados.shape"
      ],
      "execution_count": null,
      "outputs": [
        {
          "output_type": "execute_result",
          "data": {
            "text/plain": [
              "(513, 4)"
            ]
          },
          "metadata": {
            "tags": []
          },
          "execution_count": 15
        }
      ]
    },
    {
      "cell_type": "code",
      "metadata": {
        "id": "V5jI5BwVU5pH",
        "colab": {
          "base_uri": "https://localhost:8080/",
          "height": 419
        },
        "outputId": "06b5c15f-4117-49da-ea9d-7ddddebe5b44"
      },
      "source": [
        "dados[[\"Deputado\",\"Partido\"]]"
      ],
      "execution_count": null,
      "outputs": [
        {
          "output_type": "execute_result",
          "data": {
            "text/html": [
              "<div>\n",
              "<style scoped>\n",
              "    .dataframe tbody tr th:only-of-type {\n",
              "        vertical-align: middle;\n",
              "    }\n",
              "\n",
              "    .dataframe tbody tr th {\n",
              "        vertical-align: top;\n",
              "    }\n",
              "\n",
              "    .dataframe thead th {\n",
              "        text-align: right;\n",
              "    }\n",
              "</style>\n",
              "<table border=\"1\" class=\"dataframe\">\n",
              "  <thead>\n",
              "    <tr style=\"text-align: right;\">\n",
              "      <th></th>\n",
              "      <th>Deputado</th>\n",
              "      <th>Partido</th>\n",
              "    </tr>\n",
              "  </thead>\n",
              "  <tbody>\n",
              "    <tr>\n",
              "      <th>0</th>\n",
              "      <td>Abílio Santana</td>\n",
              "      <td>PL</td>\n",
              "    </tr>\n",
              "    <tr>\n",
              "      <th>1</th>\n",
              "      <td>Abou Anni</td>\n",
              "      <td>PSL</td>\n",
              "    </tr>\n",
              "    <tr>\n",
              "      <th>2</th>\n",
              "      <td>Acácio Favacho</td>\n",
              "      <td>PROS</td>\n",
              "    </tr>\n",
              "    <tr>\n",
              "      <th>3</th>\n",
              "      <td>Adolfo Viana</td>\n",
              "      <td>PSDB</td>\n",
              "    </tr>\n",
              "    <tr>\n",
              "      <th>4</th>\n",
              "      <td>Adriana Ventura</td>\n",
              "      <td>NOVO</td>\n",
              "    </tr>\n",
              "    <tr>\n",
              "      <th>...</th>\n",
              "      <td>...</td>\n",
              "      <td>...</td>\n",
              "    </tr>\n",
              "    <tr>\n",
              "      <th>508</th>\n",
              "      <td>Zé Carlos</td>\n",
              "      <td>PT</td>\n",
              "    </tr>\n",
              "    <tr>\n",
              "      <th>509</th>\n",
              "      <td>Zé Neto</td>\n",
              "      <td>PT</td>\n",
              "    </tr>\n",
              "    <tr>\n",
              "      <th>510</th>\n",
              "      <td>Zé Silva</td>\n",
              "      <td>SOLIDARIEDADE</td>\n",
              "    </tr>\n",
              "    <tr>\n",
              "      <th>511</th>\n",
              "      <td>Zé Vitor</td>\n",
              "      <td>PL</td>\n",
              "    </tr>\n",
              "    <tr>\n",
              "      <th>512</th>\n",
              "      <td>Zeca Dirceu</td>\n",
              "      <td>PT</td>\n",
              "    </tr>\n",
              "  </tbody>\n",
              "</table>\n",
              "<p>513 rows × 2 columns</p>\n",
              "</div>"
            ],
            "text/plain": [
              "            Deputado        Partido\n",
              "0     Abílio Santana             PL\n",
              "1          Abou Anni            PSL\n",
              "2     Acácio Favacho           PROS\n",
              "3       Adolfo Viana           PSDB\n",
              "4    Adriana Ventura           NOVO\n",
              "..               ...            ...\n",
              "508        Zé Carlos             PT\n",
              "509          Zé Neto             PT\n",
              "510         Zé Silva  SOLIDARIEDADE\n",
              "511         Zé Vitor             PL\n",
              "512      Zeca Dirceu             PT\n",
              "\n",
              "[513 rows x 2 columns]"
            ]
          },
          "metadata": {
            "tags": []
          },
          "execution_count": 21
        }
      ]
    },
    {
      "cell_type": "code",
      "metadata": {
        "id": "EzhCped_VvEN",
        "colab": {
          "base_uri": "https://localhost:8080/"
        },
        "outputId": "8f98495a-4a60-427e-953a-e04d6b0f4f6e"
      },
      "source": [
        "dados[\"Partido\"].value_counts()"
      ],
      "execution_count": null,
      "outputs": [
        {
          "output_type": "execute_result",
          "data": {
            "text/plain": [
              "PSL              53\n",
              "PT               52\n",
              "PL               42\n",
              "PP               40\n",
              "PSD              35\n",
              "MDB              34\n",
              "REPUBLICANOS     32\n",
              "PSDB             32\n",
              "PSB              30\n",
              "DEM              29\n",
              "PDT              26\n",
              "SOLIDARIEDADE    14\n",
              "PROS             11\n",
              "PTB              11\n",
              "PSOL             10\n",
              "PSC              10\n",
              "PODE             10\n",
              "NOVO              8\n",
              "AVANTE            8\n",
              "CIDADANIA         8\n",
              "PCdoB             7\n",
              "PATRIOTA          6\n",
              "PV                4\n",
              "REDE              1\n",
              "Name: Partido, dtype: int64"
            ]
          },
          "metadata": {
            "tags": []
          },
          "execution_count": 19
        }
      ]
    },
    {
      "cell_type": "code",
      "metadata": {
        "id": "gRSrpizsY_L-",
        "colab": {
          "base_uri": "https://localhost:8080/",
          "height": 419
        },
        "outputId": "5c531477-e10d-4d65-b69d-2dfc1938552a"
      },
      "source": [
        "dados[[\"Deputado\",\"Voto\"]]"
      ],
      "execution_count": null,
      "outputs": [
        {
          "output_type": "execute_result",
          "data": {
            "text/html": [
              "<div>\n",
              "<style scoped>\n",
              "    .dataframe tbody tr th:only-of-type {\n",
              "        vertical-align: middle;\n",
              "    }\n",
              "\n",
              "    .dataframe tbody tr th {\n",
              "        vertical-align: top;\n",
              "    }\n",
              "\n",
              "    .dataframe thead th {\n",
              "        text-align: right;\n",
              "    }\n",
              "</style>\n",
              "<table border=\"1\" class=\"dataframe\">\n",
              "  <thead>\n",
              "    <tr style=\"text-align: right;\">\n",
              "      <th></th>\n",
              "      <th>Deputado</th>\n",
              "      <th>Voto</th>\n",
              "    </tr>\n",
              "  </thead>\n",
              "  <tbody>\n",
              "    <tr>\n",
              "      <th>0</th>\n",
              "      <td>Abílio Santana</td>\n",
              "      <td>Sim</td>\n",
              "    </tr>\n",
              "    <tr>\n",
              "      <th>1</th>\n",
              "      <td>Abou Anni</td>\n",
              "      <td>Sim</td>\n",
              "    </tr>\n",
              "    <tr>\n",
              "      <th>2</th>\n",
              "      <td>Acácio Favacho</td>\n",
              "      <td>Sim</td>\n",
              "    </tr>\n",
              "    <tr>\n",
              "      <th>3</th>\n",
              "      <td>Adolfo Viana</td>\n",
              "      <td>Sim</td>\n",
              "    </tr>\n",
              "    <tr>\n",
              "      <th>4</th>\n",
              "      <td>Adriana Ventura</td>\n",
              "      <td>Não</td>\n",
              "    </tr>\n",
              "    <tr>\n",
              "      <th>...</th>\n",
              "      <td>...</td>\n",
              "      <td>...</td>\n",
              "    </tr>\n",
              "    <tr>\n",
              "      <th>508</th>\n",
              "      <td>Zé Carlos</td>\n",
              "      <td>Sim</td>\n",
              "    </tr>\n",
              "    <tr>\n",
              "      <th>509</th>\n",
              "      <td>Zé Neto</td>\n",
              "      <td>Sim</td>\n",
              "    </tr>\n",
              "    <tr>\n",
              "      <th>510</th>\n",
              "      <td>Zé Silva</td>\n",
              "      <td>Sim</td>\n",
              "    </tr>\n",
              "    <tr>\n",
              "      <th>511</th>\n",
              "      <td>Zé Vitor</td>\n",
              "      <td>Sim</td>\n",
              "    </tr>\n",
              "    <tr>\n",
              "      <th>512</th>\n",
              "      <td>Zeca Dirceu</td>\n",
              "      <td>Sim</td>\n",
              "    </tr>\n",
              "  </tbody>\n",
              "</table>\n",
              "<p>513 rows × 2 columns</p>\n",
              "</div>"
            ],
            "text/plain": [
              "            Deputado Voto\n",
              "0     Abílio Santana  Sim\n",
              "1          Abou Anni  Sim\n",
              "2     Acácio Favacho  Sim\n",
              "3       Adolfo Viana  Sim\n",
              "4    Adriana Ventura  Não\n",
              "..               ...  ...\n",
              "508        Zé Carlos  Sim\n",
              "509          Zé Neto  Sim\n",
              "510         Zé Silva  Sim\n",
              "511         Zé Vitor  Sim\n",
              "512      Zeca Dirceu  Sim\n",
              "\n",
              "[513 rows x 2 columns]"
            ]
          },
          "metadata": {
            "tags": []
          },
          "execution_count": 22
        }
      ]
    },
    {
      "cell_type": "code",
      "metadata": {
        "id": "cX1sBeUAgSBD"
      },
      "source": [
        ""
      ],
      "execution_count": null,
      "outputs": []
    },
    {
      "cell_type": "code",
      "metadata": {
        "id": "LNOBOHTQgqVi",
        "colab": {
          "base_uri": "https://localhost:8080/"
        },
        "outputId": "219a4c30-13ae-4e93-c0c3-55b4a1cd71ae"
      },
      "source": [
        "dados[[\"Estado\",\"Voto\"]].value_counts()"
      ],
      "execution_count": null,
      "outputs": [
        {
          "output_type": "execute_result",
          "data": {
            "text/plain": [
              "Estado  Voto     \n",
              "SP      Sim          50\n",
              "MG      Sim          37\n",
              "BA      Sim          34\n",
              "RJ      Sim          28\n",
              "PE      Sim          24\n",
              "                     ..\n",
              "BA      AUSENTE       1\n",
              "MA      Abstenção     1\n",
              "PB)      AUSENTE      1\n",
              "GO      Abstenção     1\n",
              "PR      AUSENTE       1\n",
              "Length: 65, dtype: int64"
            ]
          },
          "metadata": {
            "tags": []
          },
          "execution_count": 27
        }
      ]
    },
    {
      "cell_type": "code",
      "metadata": {
        "id": "BRSCCnUUgyI_",
        "colab": {
          "base_uri": "https://localhost:8080/"
        },
        "outputId": "fba74c88-1579-4499-c0ca-da4a54b8f7ff"
      },
      "source": [
        "dados[[\"Deputado\",\"Voto\"]].value_counts()"
      ],
      "execution_count": null,
      "outputs": [
        {
          "output_type": "execute_result",
          "data": {
            "text/plain": [
              "Deputado            Voto\n",
              "Áurea Carolina      Sim     1\n",
              "Átila Lira          Sim     1\n",
              "Enio Verri          Sim     1\n",
              "Enrico Misasi       Não     1\n",
              "Erika Kokay         Sim     1\n",
              "                           ..\n",
              "Mauro Nazif         Sim     1\n",
              "Maurício Dziedrick  Não     1\n",
              "Merlong Solano      Sim     1\n",
              "Miguel Lombardi     Sim     1\n",
              "AJ Albuquerque      Sim     1\n",
              "Length: 512, dtype: int64"
            ]
          },
          "metadata": {
            "tags": []
          },
          "execution_count": 36
        }
      ]
    },
    {
      "cell_type": "code",
      "metadata": {
        "id": "d7xy6anLksv3",
        "colab": {
          "base_uri": "https://localhost:8080/"
        },
        "outputId": "ab5c8ff9-6f4c-4880-a1f3-c37009371f64"
      },
      "source": [
        "dados.query(\"Voto != 1\")[\"Voto\"]"
      ],
      "execution_count": null,
      "outputs": [
        {
          "output_type": "execute_result",
          "data": {
            "text/plain": [
              "0      Sim\n",
              "1      Sim\n",
              "2      Sim\n",
              "3      Sim\n",
              "4      Não\n",
              "      ... \n",
              "508    Sim\n",
              "509    Sim\n",
              "510    Sim\n",
              "511    Sim\n",
              "512    Sim\n",
              "Name: Voto, Length: 513, dtype: object"
            ]
          },
          "metadata": {
            "tags": []
          },
          "execution_count": 37
        }
      ]
    },
    {
      "cell_type": "code",
      "metadata": {
        "id": "5w0JCmZXjQH2",
        "colab": {
          "base_uri": "https://localhost:8080/"
        },
        "outputId": "6f5fad3b-a0d6-4de5-b9df-d41b8df87ba5"
      },
      "source": [
        "dados[[\"Partido\",\"Voto\"]].value_counts()"
      ],
      "execution_count": 43,
      "outputs": [
        {
          "output_type": "execute_result",
          "data": {
            "text/plain": [
              "Partido        Voto      \n",
              "PT             Sim           51\n",
              "PSL            Não           38\n",
              "PP             Sim           33\n",
              "PL             Sim           32\n",
              "REPUBLICANOS   Sim           28\n",
              "MDB            Sim           28\n",
              "PSDB           Sim           26\n",
              "PSB            Sim           25\n",
              "PSD            Sim           24\n",
              "DEM            Sim           23\n",
              "PDT            Sim           21\n",
              "SOLIDARIEDADE  Sim           13\n",
              "PSL            Sim           11\n",
              "PSOL           Sim           10\n",
              "PTB            Não            9\n",
              "PSD            Não            9\n",
              "NOVO           Não            8\n",
              "PL             Não            8\n",
              "PCdoB          Sim            7\n",
              "PODE           Não            7\n",
              "AVANTE         Sim            7\n",
              "PSC            Não            7\n",
              "PROS           Não            6\n",
              "CIDADANIA      Sim            6\n",
              "PP             Não            6\n",
              "MDB            Não            5\n",
              "DEM            Não            5\n",
              "PROS           Sim            5\n",
              "PSDB           Não            5\n",
              "PSB            Não            4\n",
              "PSC            Sim            3\n",
              "REPUBLICANOS   Não            3\n",
              "PATRIOTA       Sim            3\n",
              "PV             Sim            3\n",
              "PSL             AUSENTE       3\n",
              "PDT            Não            3\n",
              "PATRIOTA       Não            2\n",
              "CIDADANIA      Não            2\n",
              "PODE           Sim            2\n",
              "PTB            Sim            2\n",
              "MDB            Abstenção      1\n",
              "PV             Não            1\n",
              "PSB            AUSENTE        1\n",
              "PT             AUSENTE        1\n",
              "DEM            Abstenção      1\n",
              "REPUBLICANOS   AUSENTE        1\n",
              "REDE           Sim            1\n",
              "PDT             AUSENTE       1\n",
              "PATRIOTA       AUSENTE        1\n",
              "PSL            AUSENTE        1\n",
              "SOLIDARIEDADE  Não            1\n",
              "PDT            AUSENTE        1\n",
              "PL              AUSENTE       1\n",
              "PSDB           Abstenção      1\n",
              "PODE            AUSENTE       1\n",
              "PSD            AUSENTE        1\n",
              "                AUSENTE       1\n",
              "PP             PRESIDENTE     1\n",
              "AVANTE         Não            1\n",
              "dtype: int64"
            ]
          },
          "metadata": {
            "tags": []
          },
          "execution_count": 43
        }
      ]
    }
  ]
}