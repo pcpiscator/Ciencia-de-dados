{
  "nbformat": 4,
  "nbformat_minor": 0,
  "metadata": {
    "colab": {
      "name": "ECD - Introdução à Lógica de Programação - Semana 6 - Tópico 1 .ipynb",
      "provenance": [],
      "collapsed_sections": [
        "mIpUQqjzUe0d",
        "csQTq0Tvkenb",
        "vjKjnqMp7gOe",
        "kO6xX11nLkFt",
        "_BTjO2bX1EmL",
        "7sXhwLDQThRk",
        "eMkpa-tfhgCI",
        "m24_IJ2aNwP7",
        "I6WD0frgbqlm",
        "TwJiIsPcjF8a",
        "a2dMpEzwXAmp",
        "CXzk_1uudsHI",
        "h8c_EkQpdxgy",
        "sVhV7Vl7eGI9",
        "Y_DF-iTMeRq3",
        "M7ReX_o1iRvk",
        "tPUP3XJ0G99k",
        "OPreEYXiHP96",
        "VcfxhF2fHeWP",
        "GIx7a0gxunIb"
      ],
      "include_colab_link": true
    },
    "kernelspec": {
      "name": "python3",
      "display_name": "Python 3"
    }
  },
  "cells": [
    {
      "cell_type": "markdown",
      "metadata": {
        "id": "view-in-github",
        "colab_type": "text"
      },
      "source": [
        "<a href=\"https://colab.research.google.com/github/pcpiscator/Ciencia-de-dados/blob/master/ECD_Introdu%C3%A7%C3%A3o_%C3%A0_L%C3%B3gica_de_Programa%C3%A7%C3%A3o_Semana_6_T%C3%B3pico_1_.ipynb\" target=\"_parent\"><img src=\"https://colab.research.google.com/assets/colab-badge.svg\" alt=\"Open In Colab\"/></a>"
      ]
    },
    {
      "cell_type": "markdown",
      "metadata": {
        "id": "fGuRjXEs6_N8"
      },
      "source": [
        "# ECD - Introdução à Lógica de Programação - Semana 6 - Javascript\n",
        "## Histórico, comandos de entrada e saída, variáveis, tipos de dados, operações e expressões\n",
        "##### Prof. Dr. Jônata Tyska Carvalho"
      ]
    },
    {
      "cell_type": "markdown",
      "metadata": {
        "id": "3CLeClli_vA0"
      },
      "source": [
        "Diferente de nossas aulas em Python, esse documento não será interativo. Todos os exemplos de código nele contidos deverão ser copiados e executados em outro editor. Existem muitos editores online, e é possível inclusive executar códigos javascript diretamente em seu navegador. Deixo aqui uma sugestão de editor online javascript que você pode usar para executar os códigos e os seus programas, o editor pode ser acessado através do endereço https://js.do/\n",
        "\n",
        "Recomenda-se que você teste os trechos de código e exemplos aqui apresentados, através de um editor javascript como, por exemplo, o acima mencionado. Sinta-se motivado a executar os exemplos múltiplas vezes, modificá-los adicionando e testando novas funcionalidades. Tente criar e testar hipóteses prevendo qual será o resultado da execução dos códigos com as suas alterações. Caso suas alterações causem erros, tente entender os erros causados e como corrigí-los. \n",
        "\n",
        "Lembre-se que aprender a programar requer prática e dedicação. Discuta problemas e ideias com os colegas através do fórum do Moodle, e não deixe de nos contatar caso tenha dúvidas ou dificuldades. Bons estudos!\n"
      ]
    },
    {
      "cell_type": "markdown",
      "metadata": {
        "id": "n78g5jMuhxs7"
      },
      "source": [
        "## 0.1 JavaScript\n",
        "\n"
      ]
    },
    {
      "cell_type": "markdown",
      "metadata": {
        "id": "nrSJ9RHv_JXN"
      },
      "source": [
        "### Breve histórico\n",
        "\n"
      ]
    },
    {
      "cell_type": "markdown",
      "metadata": {
        "id": "00l0LS9Bg-Vc"
      },
      "source": [
        "Antes de começarmos a escrever e entender os códigos de programas em JavaScript, é importante conhecer algumas de suas características básicas. JavaScript (JS) é uma linguagem de programação criada em 1995 por uma empresa chamada Netscape, a criadora de um dos principais navegadores Web dos anos 90. O objetivo da empresa era justamente o de criar a possibilidade de incorporar programas de computador à páginas HTML, que até então utilizavam, quase que exclusivamente, conteúdo estático. A linguagem é até hoje essencialmente usada para a Web, sendo muito díficil encontrar websites que não utilizem JavaScript em seu conteúdo. Muito embora tenha sido criada para Web, e até hoje seja amplamente utilizada neste meio, a linguagem JS evoluiu muito nos últimos anos tornando-se uma robusta e eficiente linguagem de programação de propósito geral.\n",
        "\n",
        "Um importante fato sobre JavaScript: por mais que o nome sugira o contrário, ela não possui qualquer relação com a linguagem de programação Java. Na época em que foi criada, o nome da linguagem foi escolhido muito mais por uma jogada de marketing do que por qualquer razão técnica que conectasse as duas linguagens. Uma outra questão curiosa a respeito da linguagem é o fato de existirem diversas nomenclaturas para se referir a ela. O termo JavaScript é atualmente uma marca registrada e por este motivo, em certos contextos, é comum ver utilização de termos como JScript ou mesmo ECMAScript para se referir à linguagem JavaScript. No contexto de nosso disciplina usaremos simplesmente JavaScript para se referir à linguagem.\n",
        "\n",
        "\n",
        "\n",
        "\n",
        "\n",
        "\n",
        "\n",
        "\n",
        "\n"
      ]
    },
    {
      "cell_type": "markdown",
      "metadata": {
        "id": "SdlddHNMp3tB"
      },
      "source": [
        "###Sintaxe e características básicas"
      ]
    },
    {
      "cell_type": "markdown",
      "metadata": {
        "id": "ce38_uPDp6R_"
      },
      "source": [
        "Javascript, assim como Python, é uma linguagem sensível ao caso (case sensitive). Isto significa que a linguagem faz distinção entre letras maiúsculas e minúsculas. Assim, palavras-chave e identificadores compostos pelas mesmas letras como, por exemplo, Nome e NOME, são elementos diferentes nesta linguagem.\n",
        "\n",
        "Trata-se de uma linguagem de tipagem dinâmica, isto é, os tipos de dados de cada variável são definidos pelo interpretador em tempo de execução. Uma importante diferença em relação ao Python é que JavaScript é uma linguagem fracamente tipada, isto significa que o interpretador da linguagem tentará converter automaticamente tipos de dados quando encontrar operações entre tipos incompatíveis como, por exemplo, a soma ou subtração entre valores númericos ou literais.\n",
        "\n",
        "Os comentários no código de um programa em JavaScript podem ser realizados de duas formas: linha única ou bloco. Veja dois exemplos abaixo.\n",
        "\n",
        "```\n",
        "//comentário de linha única\n",
        "```\n",
        "\n",
        "```\n",
        "/*\n",
        "comentário em bloco\n",
        "permite\n",
        "comentar\n",
        "múltiplas\n",
        "linhas\n",
        "*/\n",
        "```\n",
        "\n"
      ]
    },
    {
      "cell_type": "markdown",
      "metadata": {
        "id": "4gAtt6I89XCv"
      },
      "source": [
        ""
      ]
    },
    {
      "cell_type": "markdown",
      "metadata": {
        "id": "z9j9qWIkgwlD"
      },
      "source": [
        "## 1. Comandos de entrada e saída"
      ]
    },
    {
      "cell_type": "markdown",
      "metadata": {
        "id": "4igSH2Dihr_u"
      },
      "source": [
        "Em JavaScript existem múltiplas formas de realizar entrada e saída de dados, dependendo da ferramenta utilizada e se a linguagem está sendo usado ou não no contexto de uma página web. Em nossa disciplina, nos limitaremos a estudar formas simples que nos permitam utilizar editores online como o https://js.do Essa estratégia nos possibilita colocar o foco sobre as funcionalidades básicas da linguagem JavaScript, sem nos preocuparmos com aspectos de integração com HTML e navegadores Web.\n",
        "\n",
        "Para realizar entrada de dados em Javascript utilizamos a função *prompt*. Através dela o usuário será capaz de fornecer dados de entrada a um programa. Como parâmetro desta função, passamos a mensagem que gostaríamos de exibir ao usuário, solicitando qual dado deve ser digitado. Tal função retorna o dado fornecido pelo usuário. Veja o exemplo abaixo.\n",
        "\n",
        "\n",
        "\n",
        "```\n",
        "nome=prompt(\"Informe seu nome: \" )\n",
        "```\n",
        "\n",
        "\n",
        "\n"
      ]
    },
    {
      "cell_type": "markdown",
      "metadata": {
        "id": "7tOJzyZci24Z"
      },
      "source": [
        "Perceba que, diferente do que acontecia em Python, nenhum valor é mostrado na tela sem que uma comando seja explicitamente usado para isso."
      ]
    },
    {
      "cell_type": "markdown",
      "metadata": {
        "id": "isWoDptMlziQ"
      },
      "source": [
        "A função *alert* permite que um valor seja mostrado na tela. Através dela o programador pode definir quais dados serão exibidos ao usuário. Veja um exemplo abaixo. Como dito anteriormente, existem diversas formas e comandos de saída em JavaScript que permitem mostrar conteúdo ao usuário, entretanto por uma questão de simplicidade vamos utilizar sempre o *alert* em nossos programas.\n",
        "\n",
        "\n",
        "\n",
        "```\n",
        "alert(3)\n",
        "alert(\"Carro\")\n",
        "nome=prompt(\"Informe seu nome: \")\n",
        "alert(nome)\n",
        "```\n",
        "\n"
      ]
    },
    {
      "cell_type": "markdown",
      "metadata": {
        "id": "I6kB_k4YPyu9"
      },
      "source": [
        "Cada *alert* exibe apenas um valor. Caso seja necessário mostrar vários valores, o método *alert* precisará ser chamado diversas vezes. Alternativamente, uma string de saída poderá ser construída incrementalmente para que apenas um *alert* seja usado para mostrar o conteúdo composto por diversos valores. Veja o exemplo abaixo.\n",
        "\n",
        "\n",
        "```\n",
        "//usando a função alert para mostrar a combinação de diversos valores\n",
        "var mensagem=\"Olá \"\n",
        "nome=prompt(\"Digite seu nome: \")\n",
        "mensagem=mensagem + nome +\". \"\n",
        "idade=prompt(\"Digite sua idade:\" )\n",
        "mensagem=mensagem + \"Vejo que você tem \"+idade+\" anos\"\n",
        "altura=prompt(\"Digite sua altura:\" )\n",
        "mensagem=mensagem+\" e \"+altura+\"m de altura.\"\n",
        "alert(mensagem)\n",
        "```\n",
        "\n",
        "\n",
        "\n"
      ]
    },
    {
      "cell_type": "markdown",
      "metadata": {
        "id": "h2t2wKWJ-O2g"
      },
      "source": [
        "## 2. Declaração e atribuição de variáveis"
      ]
    },
    {
      "cell_type": "markdown",
      "metadata": {
        "id": "t7gRgPci-Zai"
      },
      "source": [
        "### Nomes de variáveis\n",
        "Os nomes de variáveis em JavaScript devem sempre começar com uma letra, maiúscula ou minúscula, com o símbolo sublinhado (_) ou cifrão ($). Lembrando que não é possível que o nome de uma variável comece com um número. Por exemplo, o nome *1casa* não poderia ser utilizado como nome de variável. Já o nome *casa1* é um nome válido. \n",
        "\n",
        "Em termos de características básicas, muitas são as similaridades entre Python e Javascript. A seguir você verá que muitas das características estudadas na semana 4 em Python são válidas também para o Javascript. Como já apresentado, JavaScript também faz distinção entre letras maíusculas e minúsculas. Assim, por exemplo, as variáveis *abc*, *Abc*, *ABc*, *ABC* são todas variáveis diferentes. Assim, fique atento para não cometer o erro de atribuir uma variável com letras minúsculas e tentar utilizá-la posteriormente com letras maiúsculas.\n",
        "\n",
        "Lembre-se também que nomes de variáveis não podem conter espaços, por exemplo, *minha casa* não é um nome de variável válido. Nesse caso, tal variável precisaria ser declarada de outra forma, como, por exemplo, *minhacasa*.\n",
        "\n",
        "As dicas de programação se aplicam da mesma forma. Por conveniência, de forma a facilitar a leitura do código de um programa de computador, usa-se o sublinhado para estes casos como, por exemplo, *minha_casa*. Alguns programadores preferem usar uma outra convenção, chamada de CamelCase[1], na qual a primeira palavra é escrita com letras minúsculas, e a primeira letra das palavras subsequentes são maiúsculas, por exemplo, *meuCarro* ou *minhaCasaDePraia*. \n",
        "\n",
        "Note que estas são apenas de convenções, desde que o programador respeite as regras básicas de nomenclatura de variáveis, é ele quem decide como nomeá-las. É preciso apenas manter a coerência com o que foi declarado inicialmente, lembrando que as variáveis *minhacasa*, *minha_casa* e *minhaCasa* são três variáveis diferentes.\n",
        "\n",
        "**Lembrando:** procure escolher nomes intuitivos para suas variáveis, de forma que ao ler o nome das variáveis outro programador, ou até você mesmo, tenha a ideia do significado do dado que tal variável está armazenando. Isso facilitará o entendimento do que o programa faz, contribuindo com a legibilidade e manutenibilidade do código de um programa. Veja abaixo dois exemplos de código, o primeiro com nomes de variǘeis pouco intuitivos e o segundo com nomes intuitivos. Consegue perceber a diferença e a importância de usar nomes intuitivos?\n",
        "\n",
        "\n",
        "\n",
        "```\n",
        "var x=18\n",
        "var y=9.2\n",
        "var z=\"Pedro\"\n",
        "```\n",
        "\n",
        "\n",
        "```\n",
        "var idade=18\n",
        "var notaFinal=9.2\n",
        "var melhorAluno=\"Pedro\"\n",
        "```\n",
        "\n",
        "\n"
      ]
    },
    {
      "cell_type": "markdown",
      "metadata": {
        "id": "Ypb4o7jdVfpc"
      },
      "source": [
        "### Declaração e atribuição de variáveis\n",
        "Em Javascript devemos declarar variáveis utilizando a palavra chave *var*. Veja abaixo alguns exemplos de declaração de variáveis.\n",
        "\n",
        "\n",
        "\n",
        "```\n",
        "var nome\n",
        "var idade,altura\n",
        "var saldo=1000.50\n",
        "```\n",
        "\n",
        "Apesar da linguagem aceitar a declaração implítica, atribuindo valores diretamente a um identificador até então inexistente, tal prática não é recomendada pois pode causar efeitos indesejados. Toda variável declarada sem a utilização da palavra-chave *var* assume escopo global, independente de onde tal variável está sendo declarada. Tal efeito pode, por exemplo, sobreescrever variáveis existentes em diferentes escopos sem que essa seja a intenção do programador.\n",
        "\n",
        "Perceba que em JavaScript devemos declarar as variáveis utilizando a palavra-chave *var*, mas diferentemente do pseudocódigo que utilizamos no início de nossa disciplina, não precisamos especificar o tipo de dado da variável declarada. Além disso é possível declarar variáveis em qualquer ponto do programa, e não apenas no início. O tipo de dado de uma variável é definido dinamicamente no momento em que atribuímos valor a ela. Tal característica é chamada de tipagem dinâmica. O símbolo utilizado para atribuir valores a uma variável em Javascript é o mesmo que utilizemos em Python e pseudocódigo, o igual (=).\n",
        "\n",
        "Javascript, diferente do Python, é uma linguagem fracamente tipada. Isso significa que a linguagem tentará converter tipos de dados automaticamente sempre que necessário. Na prática, significa que operações inconsistentes entre certos tipos de dados como, por exemplo, uma multiplicação entre um caracter e um inteiro será possível, pois a linguagem irá converter um deles de forma arbitrária. Veja baixo alguns exemplos.\n",
        "\n",
        "\n",
        "\n",
        "```\n",
        "alert(4*'2.5')\n",
        "alert('3'+5)\n",
        "alert(\"João Paulo \"+2)\n",
        "```\n",
        "\n"
      ]
    },
    {
      "cell_type": "markdown",
      "metadata": {
        "id": "gINU4ZTI_1ni"
      },
      "source": [
        "Tal característica deve ser usada com parcimônia pelo programador. Perceba que enquanto no primeiro *alert*, na operação de multiplicação o dado do tipo literal é convertido para númerico e uma operação matemática é realizada, no segundo *alert* o valor numérico é convertido para literal e uma concatenação é realizada. Assim, como dito anteriormente o interpretador da linguagem JavaScript realizará conversões automáticas de dados sempre que operações entre tipos inconsistentes forem realizadas pelo programador. "
      ]
    },
    {
      "cell_type": "markdown",
      "metadata": {
        "id": "LIZaCVARBuUS"
      },
      "source": [
        "###Escopo das variáveis"
      ]
    },
    {
      "cell_type": "markdown",
      "metadata": {
        "id": "ZkMp0AddB8NN"
      },
      "source": [
        "Sempre que declaramos uma variável ela terá um escopo, isto é, uma região do programa em que ela é válida e pode ser utilizada. O escopo é diretamente definido pelo local onde a variável foi declarada. Uma variável é considerada válida e poderá ser utilizada no bloco em que foi declarada e em todos os blocos aninhados a ele. Isto significa que ao declarmos uma variável no código principal (fora de qualquer bloco de instrução) tal variável possuirá escopo global e poderá ser acessada em qualquer bloco posteriormente criado no código principal. Variáveis declaradas em blocos específicos como, por exemplo, funções, possuem escopo local a estes blocos e a blocos aninhados a ele. Veja o exemplo abaixo e tente prever os valores mostrados na tela antes de executar o código no editor.\n",
        "\n",
        "Note que blocos em JavaScript são definidos usando chaves como faziamos no pseudocódigo utilizado nas primeiras semanas de nossa disciplina.\n",
        "\n",
        "```\n",
        "var escopo=\"global\"\n",
        "function checarEscopo(){\n",
        "    var nova=\"local\"\n",
        "    alert(\"checarEscopo=\"+escopo)\n",
        "}\n",
        "function checarEscopo2(){\n",
        "    var escopo=\"local\"\n",
        "    alert(\"checarEscopo2=\"+escopo)\n",
        "}\n",
        "checarEscopo()\n",
        "checarEscopo2()\n",
        "alert(\"Variável escopo possui valor=\"+escopo)\n",
        "alert(nova)\n",
        "```\n",
        "\n"
      ]
    },
    {
      "cell_type": "markdown",
      "metadata": {
        "id": "gZ5YAKG-7QNq"
      },
      "source": [
        "## 3. Tipos de dado\n"
      ]
    },
    {
      "cell_type": "markdown",
      "metadata": {
        "id": "mIpUQqjzUe0d"
      },
      "source": [
        "### **Valores numéricos**\n",
        "\n",
        "\n"
      ]
    },
    {
      "cell_type": "markdown",
      "metadata": {
        "id": "yv66icdcfVoV"
      },
      "source": [
        "Até aqui, em Python e pseducódigo, fizemos distinção entre valores inteiros e reais. Em JavaScript tal distinção não ocorre, e todos os valores númericos são armazenados como real (ponto flutuante). Isso não significa que não podemos utilizar valores inteiros, apenas que a linguagem não diferencia tais valores. Assim as operações abaixo funcionam normalmente fornecendo o resultado desejado, muito embora internamente todos os valores são representados como valores reais.\n",
        "\n",
        "\n",
        "\n",
        "```\n",
        "alert(3+7)\n",
        "alert(2*25)\n",
        "```\n",
        "\n"
      ]
    },
    {
      "cell_type": "markdown",
      "metadata": {
        "id": "csQTq0Tvkenb"
      },
      "source": [
        "#### *Separador decimal*\n",
        "\n",
        "No Brasil usamos a vírgula ( , ) como separador da parte inteira e decimal, entretanto como já estudamos anteriormente, na maior parte das linguagens de programação, e esse é o caso do JavaScript, o separador decimal é o ponto ( . ). Fique atento pois este erro é bastante comum para quem está començando a programar. Além disso, não se usam separadores de milhar, para representar um milhão, por exemplo, escrevemos apenas 1000000.  "
      ]
    },
    {
      "cell_type": "markdown",
      "metadata": {
        "id": "vjKjnqMp7gOe"
      },
      "source": [
        "### <b>Cadeias de Caracteres (Strings)</b>\n",
        "\n"
      ]
    },
    {
      "cell_type": "markdown",
      "metadata": {
        "id": "7OMJk74RfRar"
      },
      "source": [
        "As cadeias de caracteres, chamadas em Inglês de *string*, são utilizados quando precisamos trabalhar com dados como nomes e textos que incluam letras, símbolos e caracteres especiais em geral. Por exemplo, a frase \"João e Maria vão ao bosque\" é um dado do tipo *String*.\n",
        "\n",
        "\n",
        "\n",
        "```\n",
        "//variável frase declarada e atribuida com o tipo de dado string\n",
        "frase=\"João e Maria vão ao bosque\"\n",
        "alert(frase)\n",
        "```\n",
        "\n",
        "\n"
      ]
    },
    {
      "cell_type": "markdown",
      "metadata": {
        "id": "UpjRkwhWRcdq"
      },
      "source": [
        "Dados do tipo string, como a frase apresentada no exemplo, não estão sujeitos, por exemplo, a regras de nomenclatura de variáveis ou quaisquer outras regras sintáticas da linguagem. Desta forma, os conteúdos podem começar com númerais, conter espaços "
      ]
    },
    {
      "cell_type": "markdown",
      "metadata": {
        "id": "brkdTAYtRJWj"
      },
      "source": [
        "Mas como um programa em Javascript saberá diferenciar entre o nome de uma variável, por exemplo, maria, e uma string cujo conteúdo é \"maria\"? Justamente através da utilização de aspas simples ou duplas.\n",
        "\n",
        "```\n",
        "var maria = 5\n",
        "alert(maria)\n",
        "alert(\"maria\")\n",
        "```\n",
        "\n",
        "\n"
      ]
    },
    {
      "cell_type": "code",
      "metadata": {
        "id": "wKrygkU-LL8-"
      },
      "source": [
        ""
      ],
      "execution_count": null,
      "outputs": []
    },
    {
      "cell_type": "markdown",
      "metadata": {
        "id": "XEzHSPCSPBIq"
      },
      "source": [
        "Em JavaScript, não existe diferença entre utilizar aspas simples (') ou duplas (\"), elas podem ser usadas de forma intercambiável desde que uma string comece e termine sempre com o mesmo tipo de aspas. Normalmente, quando precisamos escrever uma frase ou texto que contenha um tipo de aspas no conteúdo do texto, aspas duplas por exemplo, utilizamos o outro tipo para delimitar a string. Veja abaixo alguns exemplos.\n",
        "\n",
        "\n",
        "\n",
        "```\n",
        "//delimitando a string com aspas duplas - conteúdo com aspas simples\n",
        "alert(\"Estou de 'cabeça quente'\")\n",
        "\n",
        "//delimitando a string com aspas simples - conteúdo com aspas duplas\n",
        "alert('Este criminoso é um \"anjo\"')\n",
        "```\n",
        "\n"
      ]
    },
    {
      "cell_type": "markdown",
      "metadata": {
        "id": "kO6xX11nLkFt"
      },
      "source": [
        "#### Representação de uma string\n"
      ]
    },
    {
      "cell_type": "markdown",
      "metadata": {
        "id": "Y4YyimGIfNGd"
      },
      "source": [
        "Cada caractere de uma string pode ser acessado separadamente através de um índice. Veja o exemplo da tabela abaixo para a string \"João e Maria vão ao bosque\"\n",
        "\n",
        "Índice:| 0 | 1 | 2 | 3 | 4 | 5 | 6 | 7 | 8 | 9 | 10 | 11 | 12 | 13 | 14 | 15 | 16 | 17 | 18 | 19 | 20 | 21 | 22 | 23 | 24 | 25 |\n",
        "--- | --- | --- | --- | --- | --- | --- | --- | --- | --- | --- | --- | --- | --- | --- | --- | --- | --- | --- | --- | --- | --- | --- | --- | --- | --- | --- |\n",
        "Conteúdo:|J|o|ã|o| |e| |M|a|r|i|a| |v|ã|o| |a|o| |b|o|s|q|u|e\n",
        "\n",
        "Note que mesmo os espaços da frase ocupam uma posição na string, sendo também indexados e passíveis de ser acessados através de um índice. Se acessarmos o índice 7 da string em questão, teremos o caractere \"M\", enquanto o índice 19 é o caractere \" \", ou seja, o caractere que represent um espaço.\n",
        "\n"
      ]
    },
    {
      "cell_type": "markdown",
      "metadata": {
        "id": "_BTjO2bX1EmL"
      },
      "source": [
        "#### Acessando caracteres de uma string"
      ]
    },
    {
      "cell_type": "markdown",
      "metadata": {
        "id": "_Zgb6bt60_QF"
      },
      "source": [
        "Para acessar caracteres específicos de uma string através de um índice utiliza-se o nome da variável na qual o dado do tipo string está armazenado, seguido de ponto (.), e da função charAt passando como parâmetro o que se deseja acessar. Veja o exemplo abaixo.\n",
        "\n",
        "\n",
        "\n",
        "```\n",
        "var frase=\"João e Maria vão ao bosque\"\n",
        "alert(\"A primeiro letra da frase é: \"+frase.charAt(0))\n",
        "alert(\"A oitava letra é: \"+frase.charAt(7))\n",
        " \n",
        "//note que a instrução abaixo exibe um espaço, e logicamente este caractere não é visível\n",
        "alert(\"A vigésima posição contém um espaço:\"+frase.charAt(19))\n",
        "```\n",
        "\n"
      ]
    },
    {
      "cell_type": "code",
      "metadata": {
        "id": "vT2AiLbqOfxW"
      },
      "source": [
        "frase=\"João e Maria vão ao bosque\"\n",
        "print(\"A primeiro letra da frase é:\",frase[0])\n",
        "print(\"A oitava letra é: \",frase[7])\n",
        "\n",
        "#note que a instrução abaixo exebibe um espaço, e logicamente este caractere não é visível\n",
        "print(\"A vigésima posição contém um espaço: \",frase[19])"
      ],
      "execution_count": null,
      "outputs": []
    },
    {
      "cell_type": "markdown",
      "metadata": {
        "id": "rvKKHwad1OBv"
      },
      "source": [
        "**Importante:** muito embora seja possível acessar os caracteres de uma string individualmente, não é possível modificar a string através destes índices, uma string é uma **sequência imutável** de caracteres. Assim, é possível apenas substituir completamente uma string em determinada variável, não sendo possível realizar atribuições a partes específicas de uma string. Veja os exemplos abaixo.\n",
        "\n",
        "\n",
        "\n",
        "```\n",
        "//erro ao tentar atribuir um valor a um caractere específico da string\n",
        "var palavra=\"balão\"\n",
        "palavra.charAt(2)=\"i\"\n",
        "```\n",
        "\n",
        "\n",
        "```\n",
        "//é possível substituir a string inteira\n",
        "var palavra=\"balão\"\n",
        "palavra=\"baião\"\n",
        "alert(palavra)\n",
        "```\n",
        "\n",
        "\n"
      ]
    },
    {
      "cell_type": "code",
      "metadata": {
        "id": "yZ6a376o2JpX"
      },
      "source": [
        "#é possível substituir a string inteira\n",
        "palavra=\"balão\"\n",
        "palavra=\"baião\"\n",
        "print(palavra)"
      ],
      "execution_count": null,
      "outputs": []
    },
    {
      "cell_type": "markdown",
      "metadata": {
        "id": "7sXhwLDQThRk"
      },
      "source": [
        "#### Tamanho de uma string\n"
      ]
    },
    {
      "cell_type": "markdown",
      "metadata": {
        "id": "eVqyOR3Z-Dnw"
      },
      "source": [
        "Para determinar o tamanho de uma string utilizamos o atributo length de uma variável ou valor literal. O funcionamento deste atributo é bastante simples, ela armazena um valor numérico que indica quantos caracteres possui uma determinada string. Para acessá-lo escreve-se o nome da variável, ou diretamente o valor literal em questão, seguido de ponto e a palavra *length*. Veja alguns exemplos abaixo.\n",
        "\n",
        "\n",
        "\n",
        "```\n",
        "alert(\"a\".length)\n",
        "alert(\"abc\".length)\n",
        "var nome=\"João\"\n",
        "alert(nome.length)\n",
        "nome=prompt(\"Por favor, digite o seu nome: \")\n",
        "alert(\"Olá \"+nome+ \". Você sabia que seu nome possui \"+nome.length+\" letras?\")\n",
        "```\n",
        "\n"
      ]
    },
    {
      "cell_type": "markdown",
      "metadata": {
        "id": "eMkpa-tfhgCI"
      },
      "source": [
        "#### Fatiamento de strings\n"
      ]
    },
    {
      "cell_type": "markdown",
      "metadata": {
        "id": "I6_hUrWMfH6j"
      },
      "source": [
        "Além da possibilidade de acessar individualmente cada caractere de uma string, através da função slice a linguagem JavaScript permite o acesso não apenas a um caractere mas a uma parte da string em questão. Para isso, passamos como parâmetros da função slice um índice inicial e um final. Por exemplo, para acessar apenas a palavra \"Maria\" no exemplo \"João e Mariana são amigos!\" devemos especificar os índices 7 e 12, conforme mostrado no exemplo abaixo.\n",
        "\n",
        "Índice:| 0 | 1 | 2 | 3 | 4 | 5 | 6 | 7 | 8 | 9 | 10 | 11 | 12 | 13 | 14 | 15 | 16 | 17 | 18 | 19 | 20 | 21 | 22 | 23 | 24 | 25 |\n",
        "--- | --- | --- | --- | --- | --- | --- | --- | --- | --- | --- | --- | --- | --- | --- | --- | --- | --- | --- | --- | --- | --- | --- | --- | --- | --- | --- |\n",
        "Conteúdo:|J|o|ã|o| |e| |M|a|r|i|a|n|a| |s|ã|o| |a|m|i|g|o|s|!\n",
        "\n",
        "\n",
        "\n",
        "```\n",
        "var frase=\"João e Mariana são amigos!\"\n",
        "alert(\"Acessando uma palavra dentro da frase: \"+frase.slice(7,12))\n",
        "```\n",
        "\n"
      ]
    },
    {
      "cell_type": "code",
      "metadata": {
        "id": "WgpTWW4EkSNL"
      },
      "source": [
        ""
      ],
      "execution_count": null,
      "outputs": []
    },
    {
      "cell_type": "markdown",
      "metadata": {
        "id": "ZhQekF5ClM_9"
      },
      "source": [
        "Perceba que o índice 12 foi especificado como sendo o final da fatia que queremos extrair, porém a letra n (armazenada no índice 12) não foi incluída. Isso acontece pois o índice final do fatiamento não é incluido (intervalo aberto no fim), enquanto o índice inicial sim (intervalo aberto no ínicio). Veja abaixo mais alguns exemplos para se habituar com tal recurso.\n",
        "\n",
        "\n",
        "\n",
        "```\n",
        "var palavra=\"abcdefgh\"\n",
        "alert(palavra.slice(2,5))\n",
        "alert(palavra.slice(0,3))\n",
        "alert(palavra.slice(3))\n",
        "```\n",
        "\n"
      ]
    },
    {
      "cell_type": "markdown",
      "metadata": {
        "id": "b6iDRZfxOx2q"
      },
      "source": [
        "Note que se o segundo parâmetro da função slice não for fornecido, assume-se que tal índice seja o final da string."
      ]
    },
    {
      "cell_type": "markdown",
      "metadata": {
        "id": "m24_IJ2aNwP7"
      },
      "source": [
        "#### Outras funções e materiais complementares\n"
      ]
    },
    {
      "cell_type": "markdown",
      "metadata": {
        "id": "6tbC5wDBPHkz"
      },
      "source": [
        "\n",
        "Existem inúmeras funções úteis para se trabalhar com strings em JavaScript. Para uma lista completa recomenda-se o guia de referência da linguagem.\n",
        "\n",
        "\n",
        "[Strings - Guia de Referência Oficial](https://developer.mozilla.org/en-US/docs/Web/JavaScript/Reference/Global_Objects/String)\n",
        "\n",
        "Outra fonte de recursos e exemplos úteis sobre o assunto é o site W3Schools.\n",
        "\n",
        "[W3Schools - Strings](https://www.w3schools.com/js/js_string_methods.asp)\n",
        "\n"
      ]
    },
    {
      "cell_type": "markdown",
      "metadata": {
        "id": "I6WD0frgbqlm"
      },
      "source": [
        "### **Valores Lógicos (bool)**"
      ]
    },
    {
      "cell_type": "markdown",
      "metadata": {
        "id": "4N2QyGO1e55Q"
      },
      "source": [
        "Em Javascript os valores booleanos são representados pelas palavras *true* e *false*. Note que diferente do Python, elas são escritas com todas as letras minúsculas. Como a linguagem JavaScript é sensível ao caso, lembre-se de não confundir tais valores com os valores lógicos em Python.\n",
        ". Veja alguns exemplos abaixo. \n",
        "\n",
        "\n",
        "\n",
        "```\n",
        "alert(true)\n",
        "alert(false)\n",
        "//isso vai gerar um erro\n",
        "alert(True)\n",
        "```\n",
        "\n",
        "\n"
      ]
    },
    {
      "cell_type": "markdown",
      "metadata": {
        "id": "TwJiIsPcjF8a"
      },
      "source": [
        "### null, undefined e NaN"
      ]
    },
    {
      "cell_type": "markdown",
      "metadata": {
        "id": "vvAJ8tMOjLT3"
      },
      "source": [
        "Em JavaScript a palavra-chave *null* indica a ausência de valor. Da mesma forma *undefined* representa a ausência de valor. Apesar de internamente existirem diferenças para *null* e *undefined* em JavaScript, ambos podem ser usados indistintamente. \n",
        "\n",
        "Um outro valor especial em JavaScript é representado pela palavra NaN, do Inglês not-a-number. Tal valor é gerado sempre que uma conversão inválida para valor númerico é realizada como, por exemplo, converter \"João\" para numérico, ou ainda uma operação sem resultado defindo como a divisão de zero por zero. O valor NaN tem uma característica peculiar, ele não pode ser comparado usando o operador \"==\", para isso usa-se a função isNaN(). Veja o exemplo abaixo.\n",
        "\n",
        "\n",
        "\n",
        "```\n",
        "var a=0/0\n",
        "alert(isNaN(a))\n",
        "//não vai produzir o resultado esperado (true)\n",
        "alert(a==NaN)\n",
        "```\n",
        "\n"
      ]
    },
    {
      "cell_type": "markdown",
      "metadata": {
        "id": "a2dMpEzwXAmp"
      },
      "source": [
        "### **Conversão de dados**\n"
      ]
    },
    {
      "cell_type": "markdown",
      "metadata": {
        "id": "7vblpXKSe9eF"
      },
      "source": [
        "Como estudamos anteriormente, por ser fracamente tipada JavaScript tenta realizar conversões de tipo de forma automática, à medida que operações entre tipos de dados inconsistentes são realizadas. Entretanto em certas ocasiões é importante que o programador realize conversões de dados de forma explícita. Veja por exemplo o código abaixo. Imagine que o objetivo é somar três valores numéricos, dois definidos diretamente no código e um informado pelo usuário. Tente prever o valor mostrado na tela.\n",
        "\n",
        "\n",
        "\n",
        "```\n",
        "var a=2\n",
        "var b=3\n",
        "var c=prompt(\"Informe um valor: \")\n",
        "alert(a+b+c)\n",
        "```\n",
        "\n",
        "Neste caso o programa soma os dois primeiros valores, mas os converte em literal e os concatena ao valor informado pelo usuário. Isso porque o valor informado pelo usuário, retornado pela função prompt é um valor literal. Para obter o comportamento desejado o programador precisa converter tal valor para numérico antes de realizar a soma.\n",
        "\n",
        "As três funções que nos permitem realizar tais conversões são Number, String e Boolean, que convertem valores para numérico, string e lógico (bool), respectivamente. De maneira geral, tais conversões são necessárias quando precisamos realizar operações específicas sobre tipos de dados incompatíveis e a conversão automática realizada pela JavaScript não é o que desejamos. Como no exemplo anterior, nesse caso para obter o comportamento desejado, somar três números sendo um deles informado pelo usuário, devemos realizar a conversão explícita como mostrado no exemplo abaixo.\n",
        "\n",
        "```\n",
        "var a=2\n",
        "var b=3\n",
        "var c=Number(prompt(\"Informe um valor: \"))\n",
        "alert(a+b+c)\n",
        "```\n"
      ]
    },
    {
      "cell_type": "markdown",
      "metadata": {
        "id": "VFFVlmlEg-cd"
      },
      "source": [
        "## 4. Operações e expressões"
      ]
    },
    {
      "cell_type": "markdown",
      "metadata": {
        "id": "zJjR9xhs-HGg"
      },
      "source": [
        "Para cada tipo de dado apresentado anteriormente, temos um conjunto de operações que pode operar sobre estes dados. Com dados numéricos podemos realizar operações aritméticas e relacionais. Com cadeias de caractere podemos realizar operações literais, e com dados lógicos podemos realizar operações lógicas. A seguir vamos conhecer cada uma dessas operações.  "
      ]
    },
    {
      "cell_type": "markdown",
      "metadata": {
        "id": "CXzk_1uudsHI"
      },
      "source": [
        "### **Operações aritméticas**"
      ]
    },
    {
      "cell_type": "markdown",
      "metadata": {
        "id": "SdbFQ5V2eCjK"
      },
      "source": [
        "Tratam-se das operações matemáticas que nos permitem operar sobre dados númericos, sejam eles inteiros ou reais (float). Através da utilização de um ou mais operadores aritiméticos podemos compor expressões aritméticas. O resultado de uma expressão aritmética será sempre um valor númerico. Veja a tabela abaixo apresentando os principais operadores aritméticos disponíveis em Python. \n",
        "\n",
        "Símbolo | Operação | Exemplo | Resultado \n",
        "--- | --- | --- | --- \n",
        "+  | soma | 3+2 | 5 \n",
        "-  | subtração | 3-2 | 1\n",
        "*  | multiplicação | 3*2 | 6\n",
        "/  | divisão | 3/2 | 1.5\n",
        "** | potenciação | 3**2 | 9\n",
        "% | resto | 3%2 | 1\n",
        "\n",
        "Veja abaixo o exemplo em Javascript de cada uma dessas expressões.\n",
        "\n",
        "\n",
        "\n",
        "```\n",
        "alert(\"Soma 3 + 2 =\"+(3+2))\n",
        "alert(\"Subtração 3 - 2 =\"+(3-2))\n",
        "alert(\"Multiplicação 3 * 2 =\"+(3*2))\n",
        "alert(\"Divisão 3 / 2 =\"+(3/2))\n",
        "alert(\"Potenciação 3 ** 2 =\"+(3**2))\n",
        "alert(\"Resto 3 % 2 =\"+(3%2))\n",
        "```\n",
        "\n"
      ]
    },
    {
      "cell_type": "markdown",
      "metadata": {
        "id": "xRGy2CAjgU9p"
      },
      "source": [
        "Com tudo o que aprendemos até o momento já somos capazes de escrever e entender o código de diversos programas em JavaScript. Veja o exemplo do programa abaixo que solicita que o usuário digite a sua data de nascimento, e o informa quantos anos ele terá no ano de 2050.\n",
        "\n",
        "**Exemplo 1 - Programa que calcula a idade do usuário em 2050**\n",
        "\n",
        "\n",
        "\n",
        "```\n",
        "var salto=prompt(\"Digite quantos anos deseja saltar: \")\n",
        "alert(\"Daqui a \"+salto+\" anos será o ano de \"+(2020+salto))\n",
        "```\n",
        "\n"
      ]
    },
    {
      "cell_type": "code",
      "metadata": {
        "id": "H1xTaKV6e8Zb"
      },
      "source": [
        ""
      ],
      "execution_count": null,
      "outputs": []
    },
    {
      "cell_type": "markdown",
      "metadata": {
        "id": "qbfgRwEHlw3s"
      },
      "source": [
        "**OOPS!** O código acima não apresentou o comportamento esperado, não é mesmo? O erro nesse código foi proposital, este é o seu primeiro exercício em Javascript. Uma parte importante na vida de um programador é encontrar erros no código, isso acontecerá muitas vezes quando você estiver construindo os seus programas. Não se preocupe, esse é um processo comum e presente também na vida dos programadores mais experientes.\n"
      ]
    },
    {
      "cell_type": "markdown",
      "metadata": {
        "id": "rh-A28T2m699"
      },
      "source": [
        "**Exercício 1**\n",
        "Você consegue identificar o problema no código do Exemplo 1? Tente entender o motivo do comportamento inesperado, pois isso será necessário para corrigí-lo. Abaixo, você encontra o código parcial para a correção do erro, após entender o motivo do erro, você precisará modificar apenas a segunda linha, solucionando-o.\n",
        "\n",
        "\n",
        "\n",
        "```\n",
        "var salto=prompt(\"Digite quantos anos deseja saltar: \")\n",
        "salto=Number( )\n",
        "alert(\"Daqui a \"+salto+\" anos será o ano de \"+(2020+salto))\n",
        "```\n",
        "\n"
      ]
    },
    {
      "cell_type": "markdown",
      "metadata": {
        "id": "h8c_EkQpdxgy"
      },
      "source": [
        "### **Operações relacionais**"
      ]
    },
    {
      "cell_type": "markdown",
      "metadata": {
        "id": "KtrRF_vgny7_"
      },
      "source": [
        "Esses operadores, assim como na matemática, relacionam grandezas, comparando-as. A partir da composição de um ou mais operadores relacionais são construídas as chamadas expressões relacionais. O resultado de uma expressão relacional será sempre um valor lógico, ou seja, True (verdadeiro) ou False (falso). Veja abaixo a tabela de operadores relacionais.\n",
        "\n",
        "Símbolo | Operação | Exemplo | Resultado \n",
        "--- | --- | --- | --- \n",
        "==  | igual a | 3==2 | False \n",
        "!=  | diferente de | 3!=2 | True\n",
        ">  | maior que | 3>2 | True\n",
        ">=  | maior ou igual a | 3>=2 | True\n",
        "< | menor que| 2<2 | False\n",
        "<= | menor ou igual a | 2<=2 | True\n",
        "\n",
        "Veja abaixo o código com estes exemplos.\n",
        "\n",
        "\n",
        "\n",
        "```\n",
        "alert(\"3 é igual a 2 (3==2)? \"+(3==2)) \n",
        "alert(\"3 é diferente de 2 (3!=2)? \"+(3!=2)) \n",
        "alert(\"3 é maior que 2 (3>2)? \"+(3>2))\n",
        "alert(\"3 é maior ou igual a 2 (3>=2)? \"+(3>=2))\n",
        "alert(\"2 é menor que 2 (2<2)? \"+(2<2))\n",
        "alert(\"2 é menor ou igual a 2 (2<=2)? \"+(2<=2)) \n",
        "```\n",
        "\n"
      ]
    },
    {
      "cell_type": "markdown",
      "metadata": {
        "id": "MUBcqRPMfy5k"
      },
      "source": [
        "Operadores relacionais podem ser usados também para comparar strings. A operação de igualdade (==) e desigualdade (!=) testa se duas strings são iguais ou diferentes, entretanto os operadores maior, menor, maior ou igual e menor igual utilizam o padrão lexicográfico e não o tamanho da string, como mostrado no exemplo abaixo.\n",
        "\n",
        "\n",
        "\n",
        "```\n",
        "alert(\"ac\">=\"abc\")\n",
        "```\n",
        "\n"
      ]
    },
    {
      "cell_type": "markdown",
      "metadata": {
        "id": "sVhV7Vl7eGI9"
      },
      "source": [
        "### **Operações literais**\n"
      ]
    },
    {
      "cell_type": "markdown",
      "metadata": {
        "id": "VTpF490YgkQa"
      },
      "source": [
        "Ao construir programas de computador é muito importante que o programador possa realizar operações sobre textos e mensagens, operações que vão além de simplesmente acessar caracteres ou fatias de uma determinada string. As duas principais operações apresentadas a seguir são: concatenação e composição."
      ]
    },
    {
      "cell_type": "markdown",
      "metadata": {
        "id": "Y_DF-iTMeRq3"
      },
      "source": [
        "#### Concatenação"
      ]
    },
    {
      "cell_type": "markdown",
      "metadata": {
        "id": "5Zk0EtjiNhHS"
      },
      "source": [
        "Em JavaScript, assim como em Python, a concatenação de strings é realizada com o mesmo símbolo que utilizamos para realizar a soma de dados numéricos, o símbolo mais (+). Muito embora o símbolo seja o mesmo, ao utilizá-lo com operandos do tipo string estamos na verdade utilizando a operação de concatenação, isto é, juntando duas strings em um mesmo valor. Veja alguns exemplos de concatenação.\n",
        "\n",
        "\n",
        "\n",
        "```\n",
        "alert(\"Primeira \"+\" String\")\n",
        "```\n",
        "\n",
        "\n",
        "\n",
        "```\n",
        "var nome=\"Luis\"\n",
        "var sobrenome=\"Correia\"\n",
        "var nomeCompleto=nome+\" \"+sobrenome\n",
        "alert(nomeCompleto)\n",
        "```\n",
        "\n",
        "\n",
        "```\n",
        "//ao tentar concatenar uma string com um valor numérico a JavaScript irá converter o valor numérico automaticamente e realizar a operação\n",
        "alert(\"10\"+5)\n",
        "```\n",
        "\n",
        "\n",
        "\n",
        "```\n",
        "//perceba a conversão automática do dado numérico em string ao compor uma frase \n",
        "var carro=\"Ferrari\"\n",
        "var velocidade=240\n",
        "alert(\"A velocidade máxima de minha \"+carro+\" é de \"+velocidade+\"km/h\")\n",
        "```\n",
        "\n",
        "\n",
        "\n",
        "\n",
        "\n",
        "\n",
        "\n"
      ]
    },
    {
      "cell_type": "markdown",
      "metadata": {
        "id": "M7ReX_o1iRvk"
      },
      "source": [
        "### **Operações lógicas**"
      ]
    },
    {
      "cell_type": "markdown",
      "metadata": {
        "id": "Lzz2AXcSnv-g"
      },
      "source": [
        "As operações lógicas nos permitem trabalhar com dados lógicos, compondo o que chamamos de expressões lógicas. Lembre-se que o resultado de uma expressão lógica será sempre um valor lógico. Veja na tabela abaixo quais são e como utilizar os operadores lógicos em JavaScript.\n",
        "\n",
        "Símbolo | Operação\n",
        "--- | --- |  \n",
        "!  | NÃO  \n",
        "&& | E\n",
        "\\|\\| | OU\n",
        "\n"
      ]
    },
    {
      "cell_type": "markdown",
      "metadata": {
        "id": "tPUP3XJ0G99k"
      },
      "source": [
        "\n",
        "\n",
        "#### **Tabela verdade NOT**\n",
        "\n",
        "\n",
        "\n",
        "```\n",
        "alert(\"! true = \"+!true)\n",
        "alert(\"! false = \"+!false)\n",
        "```\n",
        "\n"
      ]
    },
    {
      "cell_type": "markdown",
      "metadata": {
        "id": "OPreEYXiHP96"
      },
      "source": [
        "#### **Tabela verdade AND**\n",
        "\n",
        "\n",
        "\n",
        "```\n",
        "alert(\"true && true = \"+(true && true))\n",
        "alert(\"true && false = \"+(true && false))\n",
        "alert(\"false && true = \"+(false && true))\n",
        "alert(\"false && false = \"+(false && false))\n",
        "```\n",
        "\n"
      ]
    },
    {
      "cell_type": "markdown",
      "metadata": {
        "id": "VcfxhF2fHeWP"
      },
      "source": [
        "#### **Tabela verdade OR**\n",
        "\n",
        "\n",
        "```\n",
        "alert(\"true || true = \"+(true || true))\n",
        "alert(\"true || false = \"+(true || false))\n",
        "alert(\"false || true = \"+(false || true))\n",
        "alert(\"false || false = \"+(false || false))\n",
        "```"
      ]
    },
    {
      "cell_type": "markdown",
      "metadata": {
        "id": "GIx7a0gxunIb"
      },
      "source": [
        "####**Exemplos de utilização**"
      ]
    },
    {
      "cell_type": "markdown",
      "metadata": {
        "id": "W-CFbJi6HqB8"
      },
      "source": [
        "É claro que os exemplos anteriores não fazem muito sentido no contexto de um programa real. Imagine que no contexto de um programa os valores lógicos normalmente são atribuídos a variáveis ou são resultados de uma expressão relacional. Veja abaixo alguns exemplos de expressões lógicas que poderiam ser encontradas em programas hipotéticos.\n",
        "\n",
        "\n",
        "\n",
        "```\n",
        "//exemplo de uma expressão lógica que determina se um aluno é formando\n",
        "var aprovado=true\n",
        "var ultimoAno=true\n",
        "alert(aprovado && ultimoAno)\n",
        "```\n",
        "\n",
        "\n",
        "\n",
        "```\n",
        "//exemplo de expressão lógica, composta por divesos tipos de operadores, que determina se é possível utilizar uma determinada sala\n",
        "var capacidadeSala=30\n",
        "var numeroAlunos=35\n",
        "var permitirSuperLotacao=false //quando True, permite exceder até 5 alunos\n",
        "alert(numeroAlunos<=capacidadeSala || (numeroAlunos-capacidadeSala<=5 && permitirSuperLotacao))\n",
        "```\n",
        "\n",
        "\n",
        "\n"
      ]
    },
    {
      "cell_type": "markdown",
      "metadata": {
        "id": "IBlNya3nispf"
      },
      "source": [
        "### **Precedência de operadores**"
      ]
    },
    {
      "cell_type": "markdown",
      "metadata": {
        "id": "-Rc8AEMMbUYf"
      },
      "source": [
        "É muito importante entender a precedência dos operadores e expressões, isto é, em qual ordem as operações são realizadas. Caso uma expressão composta seja resolvida em um ordem diferente da qual o programador havia (erroneamente) imaginado, o seu programa muito provavelmente apresentará erros e resultados indesejados. Veja a seguir a tabela de precedência dos operadors em Python. A ordem em que aparecem na tabela indica precedência em relação aos operadores listados posteriormente.\n",
        "\n",
        "Operadores | Operação\n",
        "--- | --- |  \n",
        "( )  | Parênteses  \n",
        "**  | Potenciação\n",
        "*&nbsp;&nbsp;&nbsp;/&nbsp;&nbsp;&nbsp;//&nbsp;&nbsp;&nbsp;%  | multiplicação, divisão (incluindo divisão inteira) e resto\n",
        "+&nbsp;&nbsp;&nbsp;- | soma e subtração\n",
        "==&nbsp;&nbsp;&nbsp;!=&nbsp;&nbsp;&nbsp;<&nbsp;&nbsp;&nbsp;<=&nbsp;&nbsp;&nbsp;>&nbsp;&nbsp;&nbsp;>= | operadores relacionais\n",
        "not  | operador lógico não\n",
        "and | operador lógico e\n",
        "or  | operador lógico ou\n",
        "\n",
        "\n",
        "\n",
        "\n",
        "Note que parênteses possui precedência sobre todos os outros operadores, justamente para que o programador tenha a liberdade para definir a ordem de resolução de uma determinada expressão.\n",
        "\n",
        "Lembrando que operadores que estão em um mesmo nível de precedência, como multiplicação e divisão, resolve-se da esquerda para a direita. Veja alguns exemplos abaixo e tente adivinhar os resultados antes de executá-los.\n",
        "\n",
        "\n",
        "\n",
        "```\n",
        "alert(3*2**2)\n",
        "```\n",
        "\n",
        "\n",
        "\n",
        "```\n",
        "alert((3*2)**2)\n",
        "```\n",
        "\n",
        "\n",
        "\n",
        "\n"
      ]
    }
  ]
}