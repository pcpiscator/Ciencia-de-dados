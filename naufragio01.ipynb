{
  "nbformat": 4,
  "nbformat_minor": 0,
  "metadata": {
    "colab": {
      "name": "naufragio01.ipynb",
      "provenance": [],
      "authorship_tag": "ABX9TyP3XK+CeSo8TRZ9ATSB/njE",
      "include_colab_link": true
    },
    "kernelspec": {
      "name": "python3",
      "display_name": "Python 3"
    }
  },
  "cells": [
    {
      "cell_type": "markdown",
      "metadata": {
        "id": "view-in-github",
        "colab_type": "text"
      },
      "source": [
        "<a href=\"https://colab.research.google.com/github/pcpiscator/Ciencia-de-dados/blob/master/naufragio01.ipynb\" target=\"_parent\"><img src=\"https://colab.research.google.com/assets/colab-badge.svg\" alt=\"Open In Colab\"/></a>"
      ]
    },
    {
      "cell_type": "code",
      "metadata": {
        "colab": {
          "base_uri": "https://localhost:8080/",
          "height": 537
        },
        "id": "TmbvIGSiKT3Q",
        "outputId": "c9b79a8f-cc43-4e93-da5e-ba6dfae1a10d"
      },
      "source": [
        "#importar a biblioteca pandas\n",
        "import pandas as pd\n",
        "#pd.options.display.max_columns = None\n",
        "#pd.options.display.max_rows = None\n",
        "pd.options.display.float_format = '{:.2f}'.format\n",
        "import matplotlib.pyplot as plt\n",
        "%matplotlib inline\n",
        "import seaborn as sns\n",
        "dados"
      ],
      "execution_count": null,
      "outputs": [
        {
          "output_type": "execute_result",
          "data": {
            "text/html": [
              "<div>\n",
              "<style scoped>\n",
              "    .dataframe tbody tr th:only-of-type {\n",
              "        vertical-align: middle;\n",
              "    }\n",
              "\n",
              "    .dataframe tbody tr th {\n",
              "        vertical-align: top;\n",
              "    }\n",
              "\n",
              "    .dataframe thead th {\n",
              "        text-align: right;\n",
              "    }\n",
              "</style>\n",
              "<table border=\"1\" class=\"dataframe\">\n",
              "  <thead>\n",
              "    <tr style=\"text-align: right;\">\n",
              "      <th></th>\n",
              "      <th>Passageiros</th>\n",
              "      <th>Categoria</th>\n",
              "      <th>Número a bordo</th>\n",
              "      <th>% por total a bordo</th>\n",
              "      <th>Salvos</th>\n",
              "      <th>Mortos</th>\n",
              "      <th>% salvos</th>\n",
              "      <th>% mortos</th>\n",
              "      <th>% salvos por total a bordo</th>\n",
              "      <th>% mortos por total a bordo</th>\n",
              "    </tr>\n",
              "  </thead>\n",
              "  <tbody>\n",
              "    <tr>\n",
              "      <th>0</th>\n",
              "      <td>Crianças</td>\n",
              "      <td>1ª Classe</td>\n",
              "      <td>6.00</td>\n",
              "      <td>0.3%</td>\n",
              "      <td>5</td>\n",
              "      <td>1.00</td>\n",
              "      <td>83%</td>\n",
              "      <td>17%</td>\n",
              "      <td>0.2%</td>\n",
              "      <td>0.04%</td>\n",
              "    </tr>\n",
              "    <tr>\n",
              "      <th>1</th>\n",
              "      <td>NaN</td>\n",
              "      <td>2ª Classe</td>\n",
              "      <td>24.00</td>\n",
              "      <td>1.1%</td>\n",
              "      <td>24</td>\n",
              "      <td>0.00</td>\n",
              "      <td>100%</td>\n",
              "      <td>0%</td>\n",
              "      <td>1.1%</td>\n",
              "      <td>0%</td>\n",
              "    </tr>\n",
              "    <tr>\n",
              "      <th>2</th>\n",
              "      <td>NaN</td>\n",
              "      <td>3ª Classe</td>\n",
              "      <td>79.00</td>\n",
              "      <td>3.6%</td>\n",
              "      <td>27</td>\n",
              "      <td>52.00</td>\n",
              "      <td>34%</td>\n",
              "      <td>66%</td>\n",
              "      <td>1.2%</td>\n",
              "      <td>2.4%</td>\n",
              "    </tr>\n",
              "    <tr>\n",
              "      <th>3</th>\n",
              "      <td>NaN</td>\n",
              "      <td>Total</td>\n",
              "      <td>109.00</td>\n",
              "      <td>4.9%</td>\n",
              "      <td>56</td>\n",
              "      <td>53.00</td>\n",
              "      <td>51%</td>\n",
              "      <td>49%</td>\n",
              "      <td>2.5%</td>\n",
              "      <td>2.4%</td>\n",
              "    </tr>\n",
              "    <tr>\n",
              "      <th>4</th>\n",
              "      <td>Mulheres</td>\n",
              "      <td>1ª Classe</td>\n",
              "      <td>144.00</td>\n",
              "      <td>6.5%</td>\n",
              "      <td>140</td>\n",
              "      <td>4.00</td>\n",
              "      <td>97%</td>\n",
              "      <td>3%</td>\n",
              "      <td>6.3%</td>\n",
              "      <td>0.2%</td>\n",
              "    </tr>\n",
              "    <tr>\n",
              "      <th>5</th>\n",
              "      <td>NaN</td>\n",
              "      <td>2ª Classe</td>\n",
              "      <td>93.00</td>\n",
              "      <td>4.2%</td>\n",
              "      <td>80</td>\n",
              "      <td>13.00</td>\n",
              "      <td>86%</td>\n",
              "      <td>14%</td>\n",
              "      <td>3.6%</td>\n",
              "      <td>0.6%</td>\n",
              "    </tr>\n",
              "    <tr>\n",
              "      <th>6</th>\n",
              "      <td>NaN</td>\n",
              "      <td>3ª Classe</td>\n",
              "      <td>165.00</td>\n",
              "      <td>7.4%</td>\n",
              "      <td>76</td>\n",
              "      <td>89.00</td>\n",
              "      <td>46%</td>\n",
              "      <td>54%</td>\n",
              "      <td>3.4%</td>\n",
              "      <td>4.0%</td>\n",
              "    </tr>\n",
              "    <tr>\n",
              "      <th>7</th>\n",
              "      <td>NaN</td>\n",
              "      <td>Tripulação</td>\n",
              "      <td>23.00</td>\n",
              "      <td>1.0%</td>\n",
              "      <td>20</td>\n",
              "      <td>3.00</td>\n",
              "      <td>87%</td>\n",
              "      <td>13%</td>\n",
              "      <td>0.9%</td>\n",
              "      <td>0.1%</td>\n",
              "    </tr>\n",
              "    <tr>\n",
              "      <th>8</th>\n",
              "      <td>NaN</td>\n",
              "      <td>Total</td>\n",
              "      <td>425.00</td>\n",
              "      <td>19.1%</td>\n",
              "      <td>316</td>\n",
              "      <td>109.00</td>\n",
              "      <td>74%</td>\n",
              "      <td>26%</td>\n",
              "      <td>14.2%</td>\n",
              "      <td>4.9%</td>\n",
              "    </tr>\n",
              "    <tr>\n",
              "      <th>9</th>\n",
              "      <td>Homens</td>\n",
              "      <td>1ª Classe</td>\n",
              "      <td>175.00</td>\n",
              "      <td>7.9%</td>\n",
              "      <td>57</td>\n",
              "      <td>118.00</td>\n",
              "      <td>33%</td>\n",
              "      <td>67%</td>\n",
              "      <td>2.6%</td>\n",
              "      <td>5.3%</td>\n",
              "    </tr>\n",
              "    <tr>\n",
              "      <th>10</th>\n",
              "      <td>NaN</td>\n",
              "      <td>2ª Classe</td>\n",
              "      <td>168.00</td>\n",
              "      <td>7.6%</td>\n",
              "      <td>14</td>\n",
              "      <td>154.00</td>\n",
              "      <td>8%</td>\n",
              "      <td>92%</td>\n",
              "      <td>0.6%</td>\n",
              "      <td>6.9%</td>\n",
              "    </tr>\n",
              "    <tr>\n",
              "      <th>11</th>\n",
              "      <td>NaN</td>\n",
              "      <td>3ª Classe</td>\n",
              "      <td>462.00</td>\n",
              "      <td>20.8%</td>\n",
              "      <td>75</td>\n",
              "      <td>387.00</td>\n",
              "      <td>16%</td>\n",
              "      <td>84%</td>\n",
              "      <td>3.3%</td>\n",
              "      <td>17.4%</td>\n",
              "    </tr>\n",
              "    <tr>\n",
              "      <th>12</th>\n",
              "      <td>NaN</td>\n",
              "      <td>Tripulação</td>\n",
              "      <td>885.00</td>\n",
              "      <td>39.8%</td>\n",
              "      <td>192</td>\n",
              "      <td>693.00</td>\n",
              "      <td>22%</td>\n",
              "      <td>78%</td>\n",
              "      <td>8.6%</td>\n",
              "      <td>31.2%</td>\n",
              "    </tr>\n",
              "    <tr>\n",
              "      <th>13</th>\n",
              "      <td>NaN</td>\n",
              "      <td>Total</td>\n",
              "      <td>1.69</td>\n",
              "      <td>75.9%</td>\n",
              "      <td>338</td>\n",
              "      <td>1.35</td>\n",
              "      <td>20%</td>\n",
              "      <td>80%</td>\n",
              "      <td>15.2%</td>\n",
              "      <td>60.8%</td>\n",
              "    </tr>\n",
              "    <tr>\n",
              "      <th>14</th>\n",
              "      <td>Total</td>\n",
              "      <td>NaN</td>\n",
              "      <td>2224.00</td>\n",
              "      <td>100%</td>\n",
              "      <td>710</td>\n",
              "      <td>1514.00</td>\n",
              "      <td>32%</td>\n",
              "      <td>68%</td>\n",
              "      <td>31.9%</td>\n",
              "      <td>68.1%</td>\n",
              "    </tr>\n",
              "  </tbody>\n",
              "</table>\n",
              "</div>"
            ],
            "text/plain": [
              "   Passageiros  ... % mortos por total a bordo\n",
              "0     Crianças  ...                      0.04%\n",
              "1          NaN  ...                         0%\n",
              "2          NaN  ...                       2.4%\n",
              "3          NaN  ...                       2.4%\n",
              "4     Mulheres  ...                       0.2%\n",
              "5          NaN  ...                       0.6%\n",
              "6          NaN  ...                       4.0%\n",
              "7          NaN  ...                       0.1%\n",
              "8          NaN  ...                       4.9%\n",
              "9       Homens  ...                       5.3%\n",
              "10         NaN  ...                       6.9%\n",
              "11         NaN  ...                      17.4%\n",
              "12         NaN  ...                      31.2%\n",
              "13         NaN  ...                      60.8%\n",
              "14       Total  ...                      68.1%\n",
              "\n",
              "[15 rows x 10 columns]"
            ]
          },
          "metadata": {
            "tags": []
          },
          "execution_count": 27
        }
      ]
    },
    {
      "cell_type": "code",
      "metadata": {
        "id": "4BkBo7mY_q5d"
      },
      "source": [
        "fonte = \"https://raw.githubusercontent.com/pcpiscator/Ciencia-de-dados/master/naufragio.csv\"\n",
        "dados = pd.read_csv(fonte)\n",
        "dados.head()"
      ],
      "execution_count": null,
      "outputs": []
    },
    {
      "cell_type": "code",
      "metadata": {
        "id": "yFW9eDj9t90k"
      },
      "source": [
        "dados.shape"
      ],
      "execution_count": null,
      "outputs": []
    },
    {
      "cell_type": "code",
      "metadata": {
        "id": "M_0s8rQwuLWM"
      },
      "source": [
        "dados[\"Categoria\"]"
      ],
      "execution_count": null,
      "outputs": []
    },
    {
      "cell_type": "code",
      "metadata": {
        "id": "ij4ZVhxdDktQ"
      },
      "source": [
        "dados[\"Número a bordo\"]"
      ],
      "execution_count": null,
      "outputs": []
    },
    {
      "cell_type": "code",
      "metadata": {
        "colab": {
          "base_uri": "https://localhost:8080/"
        },
        "id": "tYBBZnnPD6Ks",
        "outputId": "e3bbee82-d6d7-4a95-a940-b317ee30fe66"
      },
      "source": [
        "dados[\"% por total a bordo\"]"
      ],
      "execution_count": null,
      "outputs": [
        {
          "output_type": "execute_result",
          "data": {
            "text/plain": [
              "0      0.3%\n",
              "1      1.1%\n",
              "2      3.6%\n",
              "3      4.9%\n",
              "4      6.5%\n",
              "5      4.2%\n",
              "6      7.4%\n",
              "7      1.0%\n",
              "8     19.1%\n",
              "9      7.9%\n",
              "10     7.6%\n",
              "11    20.8%\n",
              "12    39.8%\n",
              "13    75.9%\n",
              "14     100%\n",
              "Name: % por total a bordo, dtype: object"
            ]
          },
          "metadata": {
            "tags": []
          },
          "execution_count": 40
        }
      ]
    },
    {
      "cell_type": "code",
      "metadata": {
        "colab": {
          "base_uri": "https://localhost:8080/",
          "height": 161
        },
        "id": "xYsG-xOf8gSk",
        "outputId": "ce95ce5b-b08d-49f4-9399-15b08a95eed2"
      },
      "source": [
        "dados.dropna()"
      ],
      "execution_count": null,
      "outputs": [
        {
          "output_type": "execute_result",
          "data": {
            "text/html": [
              "<div>\n",
              "<style scoped>\n",
              "    .dataframe tbody tr th:only-of-type {\n",
              "        vertical-align: middle;\n",
              "    }\n",
              "\n",
              "    .dataframe tbody tr th {\n",
              "        vertical-align: top;\n",
              "    }\n",
              "\n",
              "    .dataframe thead th {\n",
              "        text-align: right;\n",
              "    }\n",
              "</style>\n",
              "<table border=\"1\" class=\"dataframe\">\n",
              "  <thead>\n",
              "    <tr style=\"text-align: right;\">\n",
              "      <th></th>\n",
              "      <th>Passageiros</th>\n",
              "      <th>Categoria</th>\n",
              "      <th>Número a bordo</th>\n",
              "      <th>% por total a bordo</th>\n",
              "      <th>Salvos</th>\n",
              "      <th>Mortos</th>\n",
              "      <th>% salvos</th>\n",
              "      <th>% mortos</th>\n",
              "      <th>% salvos por total a bordo</th>\n",
              "      <th>% mortos por total a bordo</th>\n",
              "    </tr>\n",
              "  </thead>\n",
              "  <tbody>\n",
              "    <tr>\n",
              "      <th>0</th>\n",
              "      <td>Crianças</td>\n",
              "      <td>1ª Classe</td>\n",
              "      <td>6.00</td>\n",
              "      <td>0.3%</td>\n",
              "      <td>5</td>\n",
              "      <td>1.00</td>\n",
              "      <td>83%</td>\n",
              "      <td>17%</td>\n",
              "      <td>0.2%</td>\n",
              "      <td>0.04%</td>\n",
              "    </tr>\n",
              "    <tr>\n",
              "      <th>4</th>\n",
              "      <td>Mulheres</td>\n",
              "      <td>1ª Classe</td>\n",
              "      <td>144.00</td>\n",
              "      <td>6.5%</td>\n",
              "      <td>140</td>\n",
              "      <td>4.00</td>\n",
              "      <td>97%</td>\n",
              "      <td>3%</td>\n",
              "      <td>6.3%</td>\n",
              "      <td>0.2%</td>\n",
              "    </tr>\n",
              "    <tr>\n",
              "      <th>9</th>\n",
              "      <td>Homens</td>\n",
              "      <td>1ª Classe</td>\n",
              "      <td>175.00</td>\n",
              "      <td>7.9%</td>\n",
              "      <td>57</td>\n",
              "      <td>118.00</td>\n",
              "      <td>33%</td>\n",
              "      <td>67%</td>\n",
              "      <td>2.6%</td>\n",
              "      <td>5.3%</td>\n",
              "    </tr>\n",
              "  </tbody>\n",
              "</table>\n",
              "</div>"
            ],
            "text/plain": [
              "  Passageiros  Categoria  ...  % salvos por total a bordo % mortos por total a bordo\n",
              "0    Crianças  1ª Classe  ...                        0.2%                      0.04%\n",
              "4    Mulheres  1ª Classe  ...                        6.3%                       0.2%\n",
              "9      Homens  1ª Classe  ...                        2.6%                       5.3%\n",
              "\n",
              "[3 rows x 10 columns]"
            ]
          },
          "metadata": {
            "tags": []
          },
          "execution_count": 41
        }
      ]
    },
    {
      "cell_type": "code",
      "metadata": {
        "id": "oSJ27MGFCY2k"
      },
      "source": [
        "dados.fillna(0)"
      ],
      "execution_count": null,
      "outputs": []
    },
    {
      "cell_type": "code",
      "metadata": {
        "id": "unbnGHCwvG-i"
      },
      "source": [
        "dados.columns.values"
      ],
      "execution_count": null,
      "outputs": []
    },
    {
      "cell_type": "code",
      "metadata": {
        "colab": {
          "base_uri": "https://localhost:8080/",
          "height": 299
        },
        "id": "x_c-4-nhFlIA",
        "outputId": "fbdbada2-7a7a-41d9-af4e-786032fd8f36"
      },
      "source": [
        "plt.title('Passageiros salvos')\n",
        "dados[\"Salvos\"].hist()"
      ],
      "execution_count": null,
      "outputs": [
        {
          "output_type": "execute_result",
          "data": {
            "text/plain": [
              "<matplotlib.axes._subplots.AxesSubplot at 0x7f0b4f996c50>"
            ]
          },
          "metadata": {
            "tags": []
          },
          "execution_count": 46
        },
        {
          "output_type": "display_data",
          "data": {
            "image/png": "[encoded data removed]",
            "text/plain": [
              "<Figure size 432x288 with 1 Axes>"
            ]
          },
          "metadata": {
            "tags": [],
            "needs_background": "light"
          }
        }
      ]
    },
    {
      "cell_type": "code",
      "metadata": {
        "colab": {
          "base_uri": "https://localhost:8080/",
          "height": 299
        },
        "id": "sRbWzFX7GSMY",
        "outputId": "85e7007a-0f81-423a-9f26-c73d79747f38"
      },
      "source": [
        "plt.title('Passageiros salvos por total a bordo')\n",
        "dados[\"% salvos por total a bordo\"].hist()"
      ],
      "execution_count": null,
      "outputs": [
        {
          "output_type": "execute_result",
          "data": {
            "text/plain": [
              "<matplotlib.axes._subplots.AxesSubplot at 0x7f0b46fea400>"
            ]
          },
          "metadata": {
            "tags": []
          },
          "execution_count": 48
        },
        {
          "output_type": "display_data",
          "data": {
            "image/png": "[encoded data removed]",
            "text/plain": [
              "<Figure size 432x288 with 1 Axes>"
            ]
          },
          "metadata": {
            "tags": [],
            "needs_background": "light"
          }
        }
      ]
    }
  ]
}