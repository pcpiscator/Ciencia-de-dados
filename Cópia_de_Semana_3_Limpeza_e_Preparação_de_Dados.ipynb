{
  "nbformat": 4,
  "nbformat_minor": 0,
  "metadata": {
    "kernelspec": {
      "display_name": "Python 3",
      "language": "python",
      "name": "python3"
    },
    "language_info": {
      "codemirror_mode": {
        "name": "ipython",
        "version": 3
      },
      "file_extension": ".py",
      "mimetype": "text/x-python",
      "name": "python",
      "nbconvert_exporter": "python",
      "pygments_lexer": "ipython3",
      "version": "3.6.0"
    },
    "colab": {
      "name": "Cópia de Semana 3 - Limpeza e Preparação de Dados.ipynb",
      "provenance": [],
      "include_colab_link": true
    }
  },
  "cells": [
    {
      "cell_type": "markdown",
      "metadata": {
        "id": "view-in-github",
        "colab_type": "text"
      },
      "source": [
        "<a href=\"https://colab.research.google.com/github/pcpiscator/Ciencia-de-dados/blob/master/C%C3%B3pia_de_Semana_3_Limpeza_e_Preparac%CC%A7a%CC%83o_de_Dados.ipynb\" target=\"_parent\"><img src=\"https://colab.research.google.com/assets/colab-badge.svg\" alt=\"Open In Colab\"/></a>"
      ]
    },
    {
      "cell_type": "markdown",
      "metadata": {
        "id": "UWLyCiDtR0xB"
      },
      "source": [
        "# Limpeza e Preparação de Dados\n",
        "> Por Marcelo Pias\n",
        "\n",
        "\n",
        "<img width=480 src=\"https://bigdata-madesimple.com/wp-content/uploads/2018/10/Accuracy.gif\"> </img>\n",
        "\n",
        "\n",
        "**IMPORTANTE: você deve salvar este notebook localmente (computador ou Google Drive) para poder trabalhar nos exercícios. Basta clicar no Menu Arquivo-> Salvar cópia no Drive.**\n"
      ]
    },
    {
      "cell_type": "markdown",
      "metadata": {
        "id": "NW1YQ4vWW7WI"
      },
      "source": [
        "# Jupyter Notebooks\n",
        "\n",
        "Antes de entrarmos mais a fundo no tópico **limpeza e preparação de dados**, é importante introduzirmos o nosso ambiente de desenvolvimento **Jupyter Notebook**. Este ambiente, neste momento sendo utilizado, permite criar um documento com células contendo texto, imagens e \"pedaços\" de código em uma linguagem de programação como Python. \n",
        "\n",
        "O notebook que iremos explorar neste laboratório encontra-se em uma plataforma na nuvem, neste caso, o Google Colab. Sempre que aparecer a célula como a mostrada abaixo, com dois colchetes [], indica que é uma célula de código em Python. Basta clicar nesta e usar a combinação das teclas SHIFT+ENTER com intuito de executar o código. \n",
        "\n",
        "Agora tente você mesmo na célula abaixo. Posicione o curso do mouse na célula, e pressione simultaneamente SHIFT+ENTER. O código será executado:\n"
      ]
    },
    {
      "cell_type": "code",
      "metadata": {
        "id": "g6mMdU86XHmd"
      },
      "source": [
        "print('Hello World')"
      ],
      "execution_count": null,
      "outputs": []
    },
    {
      "cell_type": "markdown",
      "metadata": {
        "id": "JlyiqKkQR7Iu"
      },
      "source": [
        "\n",
        "<img src=\"https://drive.google.com/uc?export=view&id=1A_YDPwW8-1Ywohh18UX1XF9WE573inZT\"> </img>\n",
        "\n",
        "Neste contato com este Jupyter Notebook, exploraremos o **óbvio** ao executar o código Python que foi pré-preenchido na célula. Portanto, fique tranquila(o) pois o importante é apenas executar a célula com SHIFT+ENTER, e como bônus, se possível tentar entender o que está sendo feito à medida que avançamos no material. De certa forma, o resultado em cada célula já deve ser revelador. Novamente, Mantenha a Calma e controle o Pânico ;)\n"
      ]
    },
    {
      "cell_type": "code",
      "metadata": {
        "deletable": true,
        "editable": true,
        "id": "iB5cuO03QLY7"
      },
      "source": [
        "# Parte inicial do nosso código para importar e carregar as bibliotecas (pandas, numpy, matplotlib)\n",
        "# Este código também configura parâmetros para plotar nossos gráficos\n",
        "import numpy as np\n",
        "import pandas as pd\n",
        "PREVIOUS_MAX_ROWS = pd.options.display.max_rows\n",
        "pd.options.display.max_rows = 20\n",
        "np.random.seed(12345)\n",
        "import matplotlib.pyplot as plt\n",
        "plt.rc('figure', figsize=(10, 6))\n",
        "np.set_printoptions(precision=4, suppress=True)"
      ],
      "execution_count": 1,
      "outputs": []
    },
    {
      "cell_type": "markdown",
      "metadata": {
        "deletable": true,
        "editable": true,
        "id": "9bI_Sxb7QLY-"
      },
      "source": [
        "## Tratando dado faltante"
      ]
    },
    {
      "cell_type": "markdown",
      "metadata": {
        "id": "-_B8BkzRsBHD"
      },
      "source": [
        "Iniciaremos declarando uma série com quatro valores, sendo um destes, declarado como NaN (Not a Number). Pressione SHIFT+ENTER abaixo para executar a célula de código.   "
      ]
    },
    {
      "cell_type": "code",
      "metadata": {
        "deletable": true,
        "editable": true,
        "id": "a9srWu8hQLY_",
        "outputId": "17285608-f1a1-4425-eca8-6a9906d474e8",
        "colab": {
          "base_uri": "https://localhost:8080/"
        }
      },
      "source": [
        "string_dado = pd.Series(['vinagre', 'azeite', np.nan, 'tomate'])\n",
        "string_dado"
      ],
      "execution_count": 25,
      "outputs": [
        {
          "output_type": "execute_result",
          "data": {
            "text/plain": [
              "0    vinagre\n",
              "1     azeite\n",
              "2        NaN\n",
              "3     tomate\n",
              "dtype: object"
            ]
          },
          "metadata": {
            "tags": []
          },
          "execution_count": 25
        }
      ]
    },
    {
      "cell_type": "markdown",
      "metadata": {
        "id": "yhLvjJ5Vt97q"
      },
      "source": [
        "O método isnull() permite inspecionar o dataframe df. Execute a célula abaixo, e observe a saída False, False, True, e False. O que significa esta saída? "
      ]
    },
    {
      "cell_type": "code",
      "metadata": {
        "id": "JQ80M9ROtH07",
        "outputId": "e0f11d6c-5357-4b3a-95aa-2cac72d2a76e",
        "colab": {
          "base_uri": "https://localhost:8080/"
        }
      },
      "source": [
        "string_dado.isnull()"
      ],
      "execution_count": 26,
      "outputs": [
        {
          "output_type": "execute_result",
          "data": {
            "text/plain": [
              "0    False\n",
              "1    False\n",
              "2     True\n",
              "3    False\n",
              "dtype: bool"
            ]
          },
          "metadata": {
            "tags": []
          },
          "execution_count": 26
        }
      ]
    },
    {
      "cell_type": "code",
      "metadata": {
        "deletable": true,
        "editable": true,
        "id": "uKS8Lx-xQLZF",
        "outputId": "70da910b-7703-4fa3-ac6e-94530011d233",
        "colab": {
          "base_uri": "https://localhost:8080/"
        }
      },
      "source": [
        "string_dado[0] = None\n",
        "string_dado"
      ],
      "execution_count": 27,
      "outputs": [
        {
          "output_type": "execute_result",
          "data": {
            "text/plain": [
              "0      None\n",
              "1    azeite\n",
              "2       NaN\n",
              "3    tomate\n",
              "dtype: object"
            ]
          },
          "metadata": {
            "tags": []
          },
          "execution_count": 27
        }
      ]
    },
    {
      "cell_type": "markdown",
      "metadata": {
        "id": "5PNSJrsVuL9M"
      },
      "source": [
        "Na célula acima, fizemos uma atribuição do valor None, representando um valor faltante, à posição 0 de nossa série de dados. Escreva abaixo o código para mostrar o conteúdo de string_dado, e observe o que foi modificado. "
      ]
    },
    {
      "cell_type": "code",
      "metadata": {
        "id": "jvcJJqc-umTa",
        "outputId": "c5e36202-c8a3-486f-ad9d-fe5b3c76f910",
        "colab": {
          "base_uri": "https://localhost:8080/"
        }
      },
      "source": [
        "# Escreva abaixo o código em Python para mostrar os valores contidos em string_dado\n",
        "string_dado[3] = None\n",
        "string_dado"
      ],
      "execution_count": 28,
      "outputs": [
        {
          "output_type": "execute_result",
          "data": {
            "text/plain": [
              "0      None\n",
              "1    azeite\n",
              "2       NaN\n",
              "3      None\n",
              "dtype: object"
            ]
          },
          "metadata": {
            "tags": []
          },
          "execution_count": 28
        }
      ]
    },
    {
      "cell_type": "markdown",
      "metadata": {
        "deletable": true,
        "editable": true,
        "id": "q04DFi2YQLZI"
      },
      "source": [
        "### Filtrando Dado Faltante"
      ]
    },
    {
      "cell_type": "code",
      "metadata": {
        "deletable": true,
        "editable": true,
        "id": "1qAgobmlQLZJ",
        "outputId": "e0931207-9f56-48f4-b0f6-f66b2d905c09",
        "colab": {
          "base_uri": "https://localhost:8080/"
        }
      },
      "source": [
        "from numpy import nan as NA              # Esta linha importa a representação NaN (Not a Number) da biblioteca numpy\n",
        "dado = pd.Series([1, NA, 3.5, NA, 7])    # Criamos uma série de valores. O segundo e quarto elemento são preenchidos como NA (Not a Number)\n",
        "dado                                     # Esta linha simplesmente mostra o conteúdo da série 'dado' "
      ],
      "execution_count": 29,
      "outputs": [
        {
          "output_type": "execute_result",
          "data": {
            "text/plain": [
              "0    1.0\n",
              "1    NaN\n",
              "2    3.5\n",
              "3    NaN\n",
              "4    7.0\n",
              "dtype: float64"
            ]
          },
          "metadata": {
            "tags": []
          },
          "execution_count": 29
        }
      ]
    },
    {
      "cell_type": "markdown",
      "metadata": {
        "id": "rWJvG-bNv2f7"
      },
      "source": [
        "O método dropna() remove (ou filtra) as linhas em 'dado' que contém valor faltante (NA). Execute a célula abaixo, e compare com resultado da célula acima. "
      ]
    },
    {
      "cell_type": "code",
      "metadata": {
        "id": "1zGskCmLvnPN",
        "outputId": "f0ab54a3-e59a-4ec0-bf4a-9761c54d0e5f",
        "colab": {
          "base_uri": "https://localhost:8080/"
        }
      },
      "source": [
        "dado.dropna()"
      ],
      "execution_count": 24,
      "outputs": [
        {
          "output_type": "execute_result",
          "data": {
            "text/plain": [
              "0    1.0\n",
              "2    3.5\n",
              "4    7.0\n",
              "dtype: float64"
            ]
          },
          "metadata": {
            "tags": []
          },
          "execution_count": 24
        }
      ]
    },
    {
      "cell_type": "markdown",
      "metadata": {
        "id": "DIYfcGrywYW7"
      },
      "source": [
        "Os dois valores NA foram removidos da série, e com isto, resultado em três valores (1.0, 3.5,7.0). Este método é muito poderoso, e pode ajudar consideravelmente nosso trabalho de limpeza de dados. "
      ]
    },
    {
      "cell_type": "markdown",
      "metadata": {
        "id": "I0fXPkZ1xgiv"
      },
      "source": [
        "Vamos agora criar um dataframe, e chamá-lo de **df**. "
      ]
    },
    {
      "cell_type": "code",
      "metadata": {
        "deletable": true,
        "editable": true,
        "id": "vBo9FsfMQLZO"
      },
      "source": [
        "# O código abaixo cria um dataframe com quatro linhas, e três colunas. A numeração de linha e coluna inicia com índice de valor zero. \n",
        "df = pd.DataFrame([[1., 6.5, 3.], [1., NA, NA],\n",
        "                     [NA, NA, NA], [NA, 6.5, 3.]])\n",
        "df#Eu coloquei"
      ],
      "execution_count": null,
      "outputs": []
    },
    {
      "cell_type": "code",
      "metadata": {
        "id": "mLP35Fcuz5nJ",
        "outputId": "d9eb6961-5744-48fd-dbc4-125e8b73aec2",
        "colab": {
          "base_uri": "https://localhost:8080/",
          "height": 173
        }
      },
      "source": [
        "# Execute esta célula para exibir o conteúdo do dataframe df. \n",
        "df"
      ],
      "execution_count": 39,
      "outputs": [
        {
          "output_type": "execute_result",
          "data": {
            "text/html": [
              "<div>\n",
              "<style scoped>\n",
              "    .dataframe tbody tr th:only-of-type {\n",
              "        vertical-align: middle;\n",
              "    }\n",
              "\n",
              "    .dataframe tbody tr th {\n",
              "        vertical-align: top;\n",
              "    }\n",
              "\n",
              "    .dataframe thead th {\n",
              "        text-align: right;\n",
              "    }\n",
              "</style>\n",
              "<table border=\"1\" class=\"dataframe\">\n",
              "  <thead>\n",
              "    <tr style=\"text-align: right;\">\n",
              "      <th></th>\n",
              "      <th>0</th>\n",
              "      <th>1</th>\n",
              "      <th>2</th>\n",
              "    </tr>\n",
              "  </thead>\n",
              "  <tbody>\n",
              "    <tr>\n",
              "      <th>0</th>\n",
              "      <td>1.0</td>\n",
              "      <td>6.5</td>\n",
              "      <td>3.0</td>\n",
              "    </tr>\n",
              "    <tr>\n",
              "      <th>1</th>\n",
              "      <td>1.0</td>\n",
              "      <td>NaN</td>\n",
              "      <td>NaN</td>\n",
              "    </tr>\n",
              "    <tr>\n",
              "      <th>2</th>\n",
              "      <td>NaN</td>\n",
              "      <td>NaN</td>\n",
              "      <td>NaN</td>\n",
              "    </tr>\n",
              "    <tr>\n",
              "      <th>3</th>\n",
              "      <td>NaN</td>\n",
              "      <td>6.5</td>\n",
              "      <td>3.0</td>\n",
              "    </tr>\n",
              "  </tbody>\n",
              "</table>\n",
              "</div>"
            ],
            "text/plain": [
              "     0    1    2\n",
              "0  1.0  6.5  3.0\n",
              "1  1.0  NaN  NaN\n",
              "2  NaN  NaN  NaN\n",
              "3  NaN  6.5  3.0"
            ]
          },
          "metadata": {
            "tags": []
          },
          "execution_count": 39
        }
      ]
    },
    {
      "cell_type": "markdown",
      "metadata": {
        "id": "jXY2MSlX1Z4y"
      },
      "source": [
        "Ao executar dropna() no dataframe df resulta na remoção de linhas que contêm pelo menos um valor NaN. Verifique abaixo. "
      ]
    },
    {
      "cell_type": "code",
      "metadata": {
        "id": "N9S_ddQDz2oi"
      },
      "source": [
        "df_limpo = df.dropna()"
      ],
      "execution_count": 40,
      "outputs": []
    },
    {
      "cell_type": "code",
      "metadata": {
        "id": "PyMcXcFNz74f",
        "outputId": "caf6d9f5-ba81-4532-cae9-b2bf78c010bf",
        "colab": {
          "base_uri": "https://localhost:8080/",
          "height": 80
        }
      },
      "source": [
        "df_limpo"
      ],
      "execution_count": 38,
      "outputs": [
        {
          "output_type": "execute_result",
          "data": {
            "text/html": [
              "<div>\n",
              "<style scoped>\n",
              "    .dataframe tbody tr th:only-of-type {\n",
              "        vertical-align: middle;\n",
              "    }\n",
              "\n",
              "    .dataframe tbody tr th {\n",
              "        vertical-align: top;\n",
              "    }\n",
              "\n",
              "    .dataframe thead th {\n",
              "        text-align: right;\n",
              "    }\n",
              "</style>\n",
              "<table border=\"1\" class=\"dataframe\">\n",
              "  <thead>\n",
              "    <tr style=\"text-align: right;\">\n",
              "      <th></th>\n",
              "      <th>0</th>\n",
              "      <th>1</th>\n",
              "      <th>2</th>\n",
              "    </tr>\n",
              "  </thead>\n",
              "  <tbody>\n",
              "    <tr>\n",
              "      <th>0</th>\n",
              "      <td>1.0</td>\n",
              "      <td>6.5</td>\n",
              "      <td>3.0</td>\n",
              "    </tr>\n",
              "  </tbody>\n",
              "</table>\n",
              "</div>"
            ],
            "text/plain": [
              "     0    1    2\n",
              "0  1.0  6.5  3.0"
            ]
          },
          "metadata": {
            "tags": []
          },
          "execution_count": 38
        }
      ]
    },
    {
      "cell_type": "markdown",
      "metadata": {
        "id": "aK4bQ6mI2PIk"
      },
      "source": [
        "No novo dataframe **df_limpo**, observamos que as linhas 1,2 e 3 foram removidas. "
      ]
    },
    {
      "cell_type": "code",
      "metadata": {
        "deletable": true,
        "editable": true,
        "id": "B55Zv9jTQLZR",
        "outputId": "fb711e4c-1dc8-4bd2-c346-4937bcca068d",
        "colab": {
          "base_uri": "https://localhost:8080/",
          "height": 142
        }
      },
      "source": [
        "# Execute esta célula.\n",
        "df.dropna(how='all')"
      ],
      "execution_count": 41,
      "outputs": [
        {
          "output_type": "execute_result",
          "data": {
            "text/html": [
              "<div>\n",
              "<style scoped>\n",
              "    .dataframe tbody tr th:only-of-type {\n",
              "        vertical-align: middle;\n",
              "    }\n",
              "\n",
              "    .dataframe tbody tr th {\n",
              "        vertical-align: top;\n",
              "    }\n",
              "\n",
              "    .dataframe thead th {\n",
              "        text-align: right;\n",
              "    }\n",
              "</style>\n",
              "<table border=\"1\" class=\"dataframe\">\n",
              "  <thead>\n",
              "    <tr style=\"text-align: right;\">\n",
              "      <th></th>\n",
              "      <th>0</th>\n",
              "      <th>1</th>\n",
              "      <th>2</th>\n",
              "    </tr>\n",
              "  </thead>\n",
              "  <tbody>\n",
              "    <tr>\n",
              "      <th>0</th>\n",
              "      <td>1.0</td>\n",
              "      <td>6.5</td>\n",
              "      <td>3.0</td>\n",
              "    </tr>\n",
              "    <tr>\n",
              "      <th>1</th>\n",
              "      <td>1.0</td>\n",
              "      <td>NaN</td>\n",
              "      <td>NaN</td>\n",
              "    </tr>\n",
              "    <tr>\n",
              "      <th>3</th>\n",
              "      <td>NaN</td>\n",
              "      <td>6.5</td>\n",
              "      <td>3.0</td>\n",
              "    </tr>\n",
              "  </tbody>\n",
              "</table>\n",
              "</div>"
            ],
            "text/plain": [
              "     0    1    2\n",
              "0  1.0  6.5  3.0\n",
              "1  1.0  NaN  NaN\n",
              "3  NaN  6.5  3.0"
            ]
          },
          "metadata": {
            "tags": []
          },
          "execution_count": 41
        }
      ]
    },
    {
      "cell_type": "markdown",
      "metadata": {
        "id": "tKo-Fg0t29u1"
      },
      "source": [
        "O exemplo acima utiliza o método **dropna()** com o parâmetro how='all' que informa para remover linhas em que todos os valores são NA. Comparando o resultado acima com o dataframe df original, percebe-se que uma linha foi removida (linha 2 do **df**). Esta linha foi removida pois continha todos os valores das colunas como NaN. "
      ]
    },
    {
      "cell_type": "markdown",
      "metadata": {
        "deletable": true,
        "editable": true,
        "id": "sTfbv4HEQLZa"
      },
      "source": [
        "### Preenchendo Dado Faltante"
      ]
    },
    {
      "cell_type": "markdown",
      "metadata": {
        "id": "IVzWx9MiPwtS"
      },
      "source": [
        "Em alguns casos, remover/filtrar dados faltantes com a conseguência de remover linhas inteiras com dados (ver exemplos acima) pode ser custoso e não desejável. Uma alternativa é preenchermos os valores de dados faltantes com algum valor, e com isto, preencher as lacunas. O método **fillna()** preenche as lacunas marcadas como dados faltantes (NA) com um valor especificado como parâmetro. "
      ]
    },
    {
      "cell_type": "code",
      "metadata": {
        "id": "laLlUIUFRnvw",
        "outputId": "88edf264-0ac0-4a8c-b7df-758511b098a4",
        "colab": {
          "base_uri": "https://localhost:8080/",
          "height": 173
        }
      },
      "source": [
        "# Mostrar o conteúdo do dataframe df\n",
        "df"
      ],
      "execution_count": 42,
      "outputs": [
        {
          "output_type": "execute_result",
          "data": {
            "text/html": [
              "<div>\n",
              "<style scoped>\n",
              "    .dataframe tbody tr th:only-of-type {\n",
              "        vertical-align: middle;\n",
              "    }\n",
              "\n",
              "    .dataframe tbody tr th {\n",
              "        vertical-align: top;\n",
              "    }\n",
              "\n",
              "    .dataframe thead th {\n",
              "        text-align: right;\n",
              "    }\n",
              "</style>\n",
              "<table border=\"1\" class=\"dataframe\">\n",
              "  <thead>\n",
              "    <tr style=\"text-align: right;\">\n",
              "      <th></th>\n",
              "      <th>0</th>\n",
              "      <th>1</th>\n",
              "      <th>2</th>\n",
              "    </tr>\n",
              "  </thead>\n",
              "  <tbody>\n",
              "    <tr>\n",
              "      <th>0</th>\n",
              "      <td>1.0</td>\n",
              "      <td>6.5</td>\n",
              "      <td>3.0</td>\n",
              "    </tr>\n",
              "    <tr>\n",
              "      <th>1</th>\n",
              "      <td>1.0</td>\n",
              "      <td>NaN</td>\n",
              "      <td>NaN</td>\n",
              "    </tr>\n",
              "    <tr>\n",
              "      <th>2</th>\n",
              "      <td>NaN</td>\n",
              "      <td>NaN</td>\n",
              "      <td>NaN</td>\n",
              "    </tr>\n",
              "    <tr>\n",
              "      <th>3</th>\n",
              "      <td>NaN</td>\n",
              "      <td>6.5</td>\n",
              "      <td>3.0</td>\n",
              "    </tr>\n",
              "  </tbody>\n",
              "</table>\n",
              "</div>"
            ],
            "text/plain": [
              "     0    1    2\n",
              "0  1.0  6.5  3.0\n",
              "1  1.0  NaN  NaN\n",
              "2  NaN  NaN  NaN\n",
              "3  NaN  6.5  3.0"
            ]
          },
          "metadata": {
            "tags": []
          },
          "execution_count": 42
        }
      ]
    },
    {
      "cell_type": "code",
      "metadata": {
        "deletable": true,
        "editable": true,
        "id": "PZD3HzybQLZb",
        "outputId": "8f234817-9b00-4bab-8a92-5c8498b8562b",
        "colab": {
          "base_uri": "https://localhost:8080/",
          "height": 173
        }
      },
      "source": [
        "# Execute esta célula, e observer no resultado, o efeito do fillna()\n",
        "df.fillna(0)"
      ],
      "execution_count": 43,
      "outputs": [
        {
          "output_type": "execute_result",
          "data": {
            "text/html": [
              "<div>\n",
              "<style scoped>\n",
              "    .dataframe tbody tr th:only-of-type {\n",
              "        vertical-align: middle;\n",
              "    }\n",
              "\n",
              "    .dataframe tbody tr th {\n",
              "        vertical-align: top;\n",
              "    }\n",
              "\n",
              "    .dataframe thead th {\n",
              "        text-align: right;\n",
              "    }\n",
              "</style>\n",
              "<table border=\"1\" class=\"dataframe\">\n",
              "  <thead>\n",
              "    <tr style=\"text-align: right;\">\n",
              "      <th></th>\n",
              "      <th>0</th>\n",
              "      <th>1</th>\n",
              "      <th>2</th>\n",
              "    </tr>\n",
              "  </thead>\n",
              "  <tbody>\n",
              "    <tr>\n",
              "      <th>0</th>\n",
              "      <td>1.0</td>\n",
              "      <td>6.5</td>\n",
              "      <td>3.0</td>\n",
              "    </tr>\n",
              "    <tr>\n",
              "      <th>1</th>\n",
              "      <td>1.0</td>\n",
              "      <td>0.0</td>\n",
              "      <td>0.0</td>\n",
              "    </tr>\n",
              "    <tr>\n",
              "      <th>2</th>\n",
              "      <td>0.0</td>\n",
              "      <td>0.0</td>\n",
              "      <td>0.0</td>\n",
              "    </tr>\n",
              "    <tr>\n",
              "      <th>3</th>\n",
              "      <td>0.0</td>\n",
              "      <td>6.5</td>\n",
              "      <td>3.0</td>\n",
              "    </tr>\n",
              "  </tbody>\n",
              "</table>\n",
              "</div>"
            ],
            "text/plain": [
              "     0    1    2\n",
              "0  1.0  6.5  3.0\n",
              "1  1.0  0.0  0.0\n",
              "2  0.0  0.0  0.0\n",
              "3  0.0  6.5  3.0"
            ]
          },
          "metadata": {
            "tags": []
          },
          "execution_count": 43
        }
      ]
    },
    {
      "cell_type": "markdown",
      "metadata": {
        "id": "f5YSvatiRXs4"
      },
      "source": [
        "Como visto acima, os valores com NA são substituídos pelo valor zero (0).\n",
        "Podemos também escolher valores diferentes de preenchimento para NA em cada coluna. Por exemplo, podemos preencher valor NA com 0.5 na coluna 1, e preencher NA com valor zero na coluna 2. O código abaixo faz exatamente esse preenchimento. Usamos, neste caso, um dicionário {1: 0.5, 2: 0} para especificar o preenchimento diferenciado por coluna. \n"
      ]
    },
    {
      "cell_type": "code",
      "metadata": {
        "deletable": true,
        "editable": true,
        "id": "f9CKe0HcQLZd",
        "outputId": "d10f3613-0472-4902-ac1b-ba707278a98f",
        "colab": {
          "base_uri": "https://localhost:8080/",
          "height": 173
        }
      },
      "source": [
        "df.fillna({1: 0.5, 2: 0})"
      ],
      "execution_count": 44,
      "outputs": [
        {
          "output_type": "execute_result",
          "data": {
            "text/html": [
              "<div>\n",
              "<style scoped>\n",
              "    .dataframe tbody tr th:only-of-type {\n",
              "        vertical-align: middle;\n",
              "    }\n",
              "\n",
              "    .dataframe tbody tr th {\n",
              "        vertical-align: top;\n",
              "    }\n",
              "\n",
              "    .dataframe thead th {\n",
              "        text-align: right;\n",
              "    }\n",
              "</style>\n",
              "<table border=\"1\" class=\"dataframe\">\n",
              "  <thead>\n",
              "    <tr style=\"text-align: right;\">\n",
              "      <th></th>\n",
              "      <th>0</th>\n",
              "      <th>1</th>\n",
              "      <th>2</th>\n",
              "    </tr>\n",
              "  </thead>\n",
              "  <tbody>\n",
              "    <tr>\n",
              "      <th>0</th>\n",
              "      <td>1.0</td>\n",
              "      <td>6.5</td>\n",
              "      <td>3.0</td>\n",
              "    </tr>\n",
              "    <tr>\n",
              "      <th>1</th>\n",
              "      <td>1.0</td>\n",
              "      <td>0.5</td>\n",
              "      <td>0.0</td>\n",
              "    </tr>\n",
              "    <tr>\n",
              "      <th>2</th>\n",
              "      <td>NaN</td>\n",
              "      <td>0.5</td>\n",
              "      <td>0.0</td>\n",
              "    </tr>\n",
              "    <tr>\n",
              "      <th>3</th>\n",
              "      <td>NaN</td>\n",
              "      <td>6.5</td>\n",
              "      <td>3.0</td>\n",
              "    </tr>\n",
              "  </tbody>\n",
              "</table>\n",
              "</div>"
            ],
            "text/plain": [
              "     0    1    2\n",
              "0  1.0  6.5  3.0\n",
              "1  1.0  0.5  0.0\n",
              "2  NaN  0.5  0.0\n",
              "3  NaN  6.5  3.0"
            ]
          },
          "metadata": {
            "tags": []
          },
          "execution_count": 44
        }
      ]
    },
    {
      "cell_type": "markdown",
      "metadata": {
        "id": "zvzOYiP1Sdof"
      },
      "source": [
        "Com **fillna()** é possível fazer muitos tipos de preenchimentos. Por exemplo, podemos preencher os valores faltantes NA pela média em uma séries de dados. "
      ]
    },
    {
      "cell_type": "code",
      "metadata": {
        "deletable": true,
        "editable": true,
        "id": "Cy4UKb_OQLZl",
        "outputId": "c8862e7b-7ee4-4a4c-f971-66aa3fd8c2dc",
        "colab": {
          "base_uri": "https://localhost:8080/"
        }
      },
      "source": [
        "# dado contém uma série de quatro valores, incluindo duas lacunas com NA. \n",
        "dado = pd.Series([1., NA, 3.5, NA, 7])\n",
        "dado"
      ],
      "execution_count": 45,
      "outputs": [
        {
          "output_type": "execute_result",
          "data": {
            "text/plain": [
              "0    1.0\n",
              "1    NaN\n",
              "2    3.5\n",
              "3    NaN\n",
              "4    7.0\n",
              "dtype: float64"
            ]
          },
          "metadata": {
            "tags": []
          },
          "execution_count": 45
        }
      ]
    },
    {
      "cell_type": "code",
      "metadata": {
        "id": "0dhkWdytTKty",
        "outputId": "1331bfd3-2142-4e70-dc5b-ab9bc3613c6c",
        "colab": {
          "base_uri": "https://localhost:8080/"
        }
      },
      "source": [
        "# Preenche os valores NA com a média da série de valores. \n",
        "dado.fillna(dado.mean())"
      ],
      "execution_count": 47,
      "outputs": [
        {
          "output_type": "execute_result",
          "data": {
            "text/plain": [
              "0    1.000000\n",
              "1    3.833333\n",
              "2    3.500000\n",
              "3    3.833333\n",
              "4    7.000000\n",
              "dtype: float64"
            ]
          },
          "metadata": {
            "tags": []
          },
          "execution_count": 47
        }
      ]
    },
    {
      "cell_type": "markdown",
      "metadata": {
        "id": "MSQHeGOfTWpJ"
      },
      "source": [
        "Pode-se observar que o segundo e o terceiro elemento foram preenchidos com a média da série, ou seja, pelo valor 3.833333.\n"
      ]
    },
    {
      "cell_type": "markdown",
      "metadata": {
        "deletable": true,
        "editable": true,
        "id": "zGccfwJyQLcw"
      },
      "source": [
        "## Conclusão\n",
        "\n",
        "Nesta semana avançamos mais um passo no processo de limpeza e preparação de dados. Como foi colocado, esta etapa do modelo CRISP-DM tende a consumir em torno de 80% do tempo de um cientista de dados. Os dados vem com muito ruído, e muitos espaços com falta de dados. Os métodos do Pandas dropna() e fillna() podem nos auxiliar no tratamento destes dados. \n"
      ]
    }
  ]
}