{
  "nbformat": 4,
  "nbformat_minor": 0,
  "metadata": {
    "colab": {
      "name": "HomicidiosBrT.ipynb",
      "provenance": [],
      "authorship_tag": "ABX9TyNigIJbhEojlQi4eLqj9NIF",
      "include_colab_link": true
    },
    "kernelspec": {
      "name": "python3",
      "display_name": "Python 3"
    }
  },
  "cells": [
    {
      "cell_type": "markdown",
      "metadata": {
        "id": "view-in-github",
        "colab_type": "text"
      },
      "source": [
        "<a href=\"https://colab.research.google.com/github/pcpiscator/Ciencia-de-dados/blob/master/HomicidiosBrT.ipynb\" target=\"_parent\"><img src=\"https://colab.research.google.com/assets/colab-badge.svg\" alt=\"Open In Colab\"/></a>"
      ]
    },
    {
      "cell_type": "code",
      "metadata": {
        "id": "x-a17OxhIpFT"
      },
      "source": [
        "import pandas as pd                  \r\n",
        "import numpy as np\r\n",
        "import seaborn as sns\r\n",
        "import matplotlib.pyplot as plt\r\n",
        "from datetime import datetime\r\n",
        "from dateutil.parser import parse \r\n",
        "\r\n",
        "%matplotlib inline"
      ],
      "execution_count": 1,
      "outputs": []
    },
    {
      "cell_type": "code",
      "metadata": {
        "colab": {
          "base_uri": "https://localhost:8080/",
          "height": 204
        },
        "id": "fTXFSlw_I1NR",
        "outputId": "ad1e3ec1-7d5c-48ef-85b6-8f8016d6fcea"
      },
      "source": [
        "fonte = \"https://raw.githubusercontent.com/pcpiscator/Ciencia-de-dados/master/homicidios02.txt\"\r\n",
        "df = pd.read_csv(fonte)\r\n",
        "df.head()"
      ],
      "execution_count": 6,
      "outputs": [
        {
          "output_type": "execute_result",
          "data": {
            "text/html": [
              "<div>\n",
              "<style scoped>\n",
              "    .dataframe tbody tr th:only-of-type {\n",
              "        vertical-align: middle;\n",
              "    }\n",
              "\n",
              "    .dataframe tbody tr th {\n",
              "        vertical-align: top;\n",
              "    }\n",
              "\n",
              "    .dataframe thead th {\n",
              "        text-align: right;\n",
              "    }\n",
              "</style>\n",
              "<table border=\"1\" class=\"dataframe\">\n",
              "  <thead>\n",
              "    <tr style=\"text-align: right;\">\n",
              "      <th></th>\n",
              "      <th>cod</th>\n",
              "      <th>País</th>\n",
              "      <th>Ano</th>\n",
              "      <th>Num</th>\n",
              "    </tr>\n",
              "  </thead>\n",
              "  <tbody>\n",
              "    <tr>\n",
              "      <th>0</th>\n",
              "      <td>1076</td>\n",
              "      <td>BRA</td>\n",
              "      <td>1979</td>\n",
              "      <td>11217</td>\n",
              "    </tr>\n",
              "    <tr>\n",
              "      <th>1</th>\n",
              "      <td>1076</td>\n",
              "      <td>BRA</td>\n",
              "      <td>1980</td>\n",
              "      <td>13911</td>\n",
              "    </tr>\n",
              "    <tr>\n",
              "      <th>2</th>\n",
              "      <td>1076</td>\n",
              "      <td>BRA</td>\n",
              "      <td>1981</td>\n",
              "      <td>15216</td>\n",
              "    </tr>\n",
              "    <tr>\n",
              "      <th>3</th>\n",
              "      <td>1076</td>\n",
              "      <td>BRA</td>\n",
              "      <td>1982</td>\n",
              "      <td>15554</td>\n",
              "    </tr>\n",
              "    <tr>\n",
              "      <th>4</th>\n",
              "      <td>1076</td>\n",
              "      <td>BRA</td>\n",
              "      <td>1983</td>\n",
              "      <td>17410</td>\n",
              "    </tr>\n",
              "  </tbody>\n",
              "</table>\n",
              "</div>"
            ],
            "text/plain": [
              "    cod País   Ano    Num\n",
              "0  1076  BRA  1979  11217\n",
              "1  1076  BRA  1980  13911\n",
              "2  1076  BRA  1981  15216\n",
              "3  1076  BRA  1982  15554\n",
              "4  1076  BRA  1983  17410"
            ]
          },
          "metadata": {
            "tags": []
          },
          "execution_count": 6
        }
      ]
    },
    {
      "cell_type": "code",
      "metadata": {
        "id": "KDrLik7oJdRs"
      },
      "source": [
        "df.shape"
      ],
      "execution_count": null,
      "outputs": []
    },
    {
      "cell_type": "code",
      "metadata": {
        "id": "9X_bvO0-Jluf"
      },
      "source": [
        "df[\" cod\"]"
      ],
      "execution_count": null,
      "outputs": []
    },
    {
      "cell_type": "code",
      "metadata": {
        "id": "V0IlO4v2J5Hh"
      },
      "source": [
        "df[\"País\"]"
      ],
      "execution_count": null,
      "outputs": []
    },
    {
      "cell_type": "code",
      "metadata": {
        "id": "CoQzysoWKCOP"
      },
      "source": [
        "df['Ano']"
      ],
      "execution_count": null,
      "outputs": []
    },
    {
      "cell_type": "code",
      "metadata": {
        "id": "diQdOuGFKZl-"
      },
      "source": [
        "df['Num']"
      ],
      "execution_count": null,
      "outputs": []
    },
    {
      "cell_type": "code",
      "metadata": {
        "id": "nwPW2sPDKkZD"
      },
      "source": [
        "df.columns.values"
      ],
      "execution_count": null,
      "outputs": []
    },
    {
      "cell_type": "code",
      "metadata": {
        "id": "WINbWGFkKtoK"
      },
      "source": [
        "df[[\"Ano\", \"Num\"]]"
      ],
      "execution_count": null,
      "outputs": []
    },
    {
      "cell_type": "code",
      "metadata": {
        "id": "bAatkXipLB_p"
      },
      "source": [
        "df[\"Num\"].unique()"
      ],
      "execution_count": null,
      "outputs": []
    },
    {
      "cell_type": "code",
      "metadata": {
        "id": "k-CVPJvrLMD9"
      },
      "source": [
        "df[\"Ano\"].unique()"
      ],
      "execution_count": null,
      "outputs": []
    },
    {
      "cell_type": "code",
      "metadata": {
        "id": "FcjCpgkaL5fk"
      },
      "source": [
        "df[\"Num\"].value_counts()"
      ],
      "execution_count": null,
      "outputs": []
    },
    {
      "cell_type": "code",
      "metadata": {
        "colab": {
          "base_uri": "https://localhost:8080/",
          "height": 282
        },
        "id": "QA3SIcw5MO87",
        "outputId": "eba9d570-c883-4c4b-be31-865d8c515ec0"
      },
      "source": [
        "df[\"Num\"].hist()"
      ],
      "execution_count": 22,
      "outputs": [
        {
          "output_type": "execute_result",
          "data": {
            "text/plain": [
              "<matplotlib.axes._subplots.AxesSubplot at 0x7f7884d6a978>"
            ]
          },
          "metadata": {
            "tags": []
          },
          "execution_count": 22
        },
        {
          "output_type": "display_data",
          "data": {
            "image/png": "[encoded data removed]",
            "text/plain": [
              "<Figure size 432x288 with 1 Axes>"
            ]
          },
          "metadata": {
            "tags": [],
            "needs_background": "light"
          }
        }
      ]
    },
    {
      "cell_type": "code",
      "metadata": {
        "colab": {
          "base_uri": "https://localhost:8080/",
          "height": 282
        },
        "id": "AtmvSm_1MqFz",
        "outputId": "86206d97-25ad-4454-e062-196327e6f0af"
      },
      "source": [
        "df[\"Ano\"].hist()"
      ],
      "execution_count": 23,
      "outputs": [
        {
          "output_type": "execute_result",
          "data": {
            "text/plain": [
              "<matplotlib.axes._subplots.AxesSubplot at 0x7f7884cc6c50>"
            ]
          },
          "metadata": {
            "tags": []
          },
          "execution_count": 23
        },
        {
          "output_type": "display_data",
          "data": {
            "image/png": "[encoded data removed]",
            "text/plain": [
              "<Figure size 432x288 with 1 Axes>"
            ]
          },
          "metadata": {
            "tags": [],
            "needs_background": "light"
          }
        }
      ]
    }
  ]
}