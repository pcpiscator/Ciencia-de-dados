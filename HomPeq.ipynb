{
  "nbformat": 4,
  "nbformat_minor": 0,
  "metadata": {
    "colab": {
      "name": "HomPeq.ipynb",
      "provenance": [],
      "authorship_tag": "ABX9TyPTnMcBPUlTCS5h9PuMimr5",
      "include_colab_link": true
    },
    "kernelspec": {
      "name": "python3",
      "display_name": "Python 3"
    }
  },
  "cells": [
    {
      "cell_type": "markdown",
      "metadata": {
        "id": "view-in-github",
        "colab_type": "text"
      },
      "source": [
        "<a href=\"https://colab.research.google.com/github/pcpiscator/Ciencia-de-dados/blob/master/HomPeq.ipynb\" target=\"_parent\"><img src=\"https://colab.research.google.com/assets/colab-badge.svg\" alt=\"Open In Colab\"/></a>"
      ]
    },
    {
      "cell_type": "code",
      "metadata": {
        "id": "ri2RYhNkRl9X"
      },
      "source": [
        "import pandas as pd                  \r\n",
        "import numpy as np\r\n",
        "import seaborn as sns\r\n",
        "import matplotlib.pyplot as plt\r\n",
        "from datetime import datetime\r\n",
        "from dateutil.parser import parse \r\n",
        "\r\n",
        "%matplotlib inline"
      ],
      "execution_count": 4,
      "outputs": []
    },
    {
      "cell_type": "code",
      "metadata": {
        "id": "HUEAP6zxRs3F"
      },
      "source": [
        "#dados = {'nome':['Jose', 'Maria','Chico','Alberto'],'idade':[20,19,25,40]}\r\n",
        "#df=pd.DataFrame(dados)\r\n",
        "#df"
      ],
      "execution_count": 8,
      "outputs": []
    },
    {
      "cell_type": "code",
      "metadata": {
        "id": "2p8b5hOHU9YF"
      },
      "source": [
        "dados = {'Cod':[1076,1076,1076,1076,1076],'Nome':['BRA','BRA','BRA','BRA','BRA'], 'Período':[1979,1980,1981,1982,1983],'Números':[11217,13911,15216,15554,17410 ]}\r\n",
        "df=pd.DataFrame(dados)\r\n",
        "df"
      ],
      "execution_count": null,
      "outputs": []
    },
    {
      "cell_type": "code",
      "metadata": {
        "id": "uvjwfVeJa0Us"
      },
      "source": [
        "df['Cod'].unique"
      ],
      "execution_count": null,
      "outputs": []
    },
    {
      "cell_type": "code",
      "metadata": {
        "id": "O5HVjf0nbHtv"
      },
      "source": [
        "df['Números'].unique"
      ],
      "execution_count": null,
      "outputs": []
    },
    {
      "cell_type": "code",
      "metadata": {
        "id": "1zdMWBqkds81"
      },
      "source": [
        "df['Cod']"
      ],
      "execution_count": null,
      "outputs": []
    },
    {
      "cell_type": "code",
      "metadata": {
        "id": "ON1K6ZOkd0dN"
      },
      "source": [
        "df['Números']"
      ],
      "execution_count": null,
      "outputs": []
    },
    {
      "cell_type": "code",
      "metadata": {
        "id": "VXqAhED6eKjE"
      },
      "source": [
        "df['Nome']"
      ],
      "execution_count": null,
      "outputs": []
    },
    {
      "cell_type": "code",
      "metadata": {
        "colab": {
          "base_uri": "https://localhost:8080/"
        },
        "id": "aLRajIRGegl7",
        "outputId": "c3bfc59c-a8df-498e-d0ef-e1846fb115e8"
      },
      "source": [
        "df['Período']"
      ],
      "execution_count": 14,
      "outputs": [
        {
          "output_type": "execute_result",
          "data": {
            "text/plain": [
              "0    1979\n",
              "1    1980\n",
              "2    1981\n",
              "3    1982\n",
              "4    1983\n",
              "Name: Período, dtype: int64"
            ]
          },
          "metadata": {
            "tags": []
          },
          "execution_count": 14
        }
      ]
    }
  ]
}