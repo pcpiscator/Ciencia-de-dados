{
  "nbformat": 4,
  "nbformat_minor": 0,
  "metadata": {
    "colab": {
      "name": "Funcao_Python.ipynb",
      "provenance": [],
      "include_colab_link": true
    },
    "kernelspec": {
      "name": "python3",
      "display_name": "Python 3"
    }
  },
  "cells": [
    {
      "cell_type": "markdown",
      "metadata": {
        "id": "view-in-github",
        "colab_type": "text"
      },
      "source": [
        "<a href=\"https://colab.research.google.com/github/pcpiscator/Ciencia-de-dados/blob/master/Funcao_Python.ipynb\" target=\"_parent\"><img src=\"https://colab.research.google.com/assets/colab-badge.svg\" alt=\"Open In Colab\"/></a>"
      ]
    },
    {
      "cell_type": "markdown",
      "metadata": {
        "id": "VcRsvm-CWqso"
      },
      "source": [
        "Ola pessoal! Nesse notebook vamos praticar um pouco sobre a implementacao de funcoes em Python!\n",
        "\n",
        "Inicialmente peço que vocês deixem aberto nosso material inicial sobre [funcoes](ava.furg.br/pluginfile.php/50132/mod_resource/content/1/funcao_PORTUGOL.pdf) (ainda na linguagem PORTUGOL), pois vamos usa-lo como base e transformar os códigos para a linguage PYTHON.\n",
        "\n",
        "Vamos relembrar o exemplo mostrado no slide 1, que apresenta uma solucao para o seguinte problema:\n",
        "\n",
        "---\n",
        "\n",
        "*Utilizando apenas somas, analise o algoritmo que lê dois números positivos e calcula o produto dos dois; depois, lê mais dois números e calcula novamente o produto; por fim, faz o produto dos dois resultados anteriores*\n",
        "\n",
        "\n"
      ]
    },
    {
      "cell_type": "code",
      "metadata": {
        "id": "VVDEktbF_OK7"
      },
      "source": [
        "def mult(num1,num2): \n",
        "  R = 0\n",
        "  for i in range(num1):\n",
        "    R += num2\n",
        "\n",
        "  return R\n",
        "\n",
        "A = int(input(\"Digite o valor de A: \")) # Transforma o valor lido como string para inteiro\n",
        "B = int(input(\"Digite o valor de B: \")) \n",
        "R1 = mult(A,B)\n",
        "\n",
        "A = int(input(\"Digite o valor de A: \")) # Transforma o valor lido como string para inteiro\n",
        "B = int(input(\"Digite o valor de B: \")) \n",
        "R2 = mult(A,B)\n",
        "\n",
        "R3 = mult(R1,R2)\n",
        "\n",
        "print(\"O Valor de R3 eh: \",R3)\n"
      ],
      "execution_count": null,
      "outputs": []
    },
    {
      "cell_type": "markdown",
      "metadata": {
        "id": "xz0zLYEoi2nT"
      },
      "source": [
        "Lembrem-se:\n",
        "\n",
        "* que um programa Python pode ter 0 ou mais definicoes de funcao\n",
        "* que uma funcao pode ser chamada 0 ou mais vezes\n",
        "* que uma funcao so eh executada quando eh chamada"
      ]
    },
    {
      "cell_type": "markdown",
      "metadata": {
        "id": "sOuFy7CjkAiJ"
      },
      "source": [
        "**ESCOPO DE VARIAVEIS**\n",
        "\n",
        "Em Python podemos ter variaveis locais ou globais.\n",
        "\n",
        "Variaveis locais sao\n",
        "  * declaradas dentro de uma funcao\n",
        "  * visiveis somente dentro da funcao onde foram declaradas\n",
        "  * destruidas ao termino da execucao da funcao\n",
        "\n",
        "Ja as variaveis globais sao:\n",
        "  * declaradas fora de todas as funcoes\n",
        "  * visiveis por TODAS as funcoes do programa.\n"
      ]
    },
    {
      "cell_type": "code",
      "metadata": {
        "id": "TelvbjHrk04h"
      },
      "source": [
        "# Exemplos de variaveis locais\n",
        "def calcula_tempo(velocidade, distancia):\n",
        "  tempo = distancia/velocidade # tempo eh uma variavel local aa funcao calcula_tempo()\n",
        "  return tempo\n",
        "\n",
        "def calcula_distancia(velocidade, tempo):\n",
        "  distancia = velocidade * tempo # distancia eh uma variavel local aa funcao calcula_distancia()\n",
        "  return distancia\n",
        "\n",
        "t = calcula_tempo(10, 5) # t eh uma variavel global\n",
        "print(\"Tempo: \", t)\n",
        "\n",
        "d = calcula_distancia(5, 4) # d eh uma variavel global\n",
        "print(\"Distancia: \",d)"
      ],
      "execution_count": null,
      "outputs": []
    },
    {
      "cell_type": "markdown",
      "metadata": {
        "id": "SqRazi_GmFUo"
      },
      "source": [
        "No codigo abaixo, veja um pessimo exemplo de como programar, acessando variaveis globais dentro de funcoes.\n",
        "\n",
        "Aqui temos uma variavel global acessada dentro da funcao. Se for necessario altera-la, eh preciso declarar essa\n",
        "intencao escrevendo, no inicio da funcao, o comando\n",
        "```\n",
        "global <nome da variavel>\n",
        "```\n",
        "\n",
        "Tenha muita atencao com o uso de variaveis globais dentro de funcoes:\n",
        "  * dificultam o entendimento do programa\n",
        "  * aumentam o tempo para correcao de erros no programa, se a variavel pode ser usada por qualquer funcao do programa, encontrar um erro envolvendo o valor desta variavel pode ser muito complex\n",
        "  \n",
        "Sempre que possivel, usar **variaveis LOCAIS** nas funcoes e passar os valores necessarios para a funcao como parametro. "
      ]
    },
    {
      "cell_type": "code",
      "metadata": {
        "id": "pDXkcTRxmOvN"
      },
      "source": [
        "def maior():\n",
        "  global m\n",
        "  if a > b:\n",
        "    m = a\n",
        "  else:\n",
        "    m = b\n",
        "\n",
        "m = 0\n",
        "a = int(input(\"Digite o valor de a: \"))\n",
        "b = int(input(\"Digite o valor de b: \"))\n",
        "maior()\n",
        "print(\"O maior valor eh: \", m)"
      ],
      "execution_count": null,
      "outputs": []
    },
    {
      "cell_type": "markdown",
      "metadata": {
        "id": "AR2l7_vFmgE_"
      },
      "source": [
        "Analise essa solucao e veja como eh mais elegange! :-)"
      ]
    },
    {
      "cell_type": "code",
      "metadata": {
        "id": "S16Oe4drmfSF"
      },
      "source": [
        "def maior(a,b):\n",
        "  if a > b:\n",
        "    return a\n",
        "  else:\n",
        "    return b\n",
        "\n",
        "a = int(input(\"Digite o valor de a: \"))\n",
        "b = int(input(\"Digite o valor de b: \"))\n",
        "print(\"O maior valor eh: \", maior(a,b))"
      ],
      "execution_count": null,
      "outputs": []
    },
    {
      "cell_type": "markdown",
      "metadata": {
        "id": "tvwXkvOOGRpd"
      },
      "source": [
        "# **Parâmetros**\n",
        "\n",
        "Ao se chamar a execucao de uma funcao, deve se fornecer os argumentos (os valores) para cada um dos parametros exigidos pela funcao.\n",
        "\n",
        "Esse valor pode ser colocado diretamente na chamada da funcao\n",
        "```\n",
        "t = calcula_tempo(1, 2) \n",
        "```\n",
        "ou usando o valor de uma variavel\n",
        "```\n",
        "t = calcula_tempo(v, d)\n",
        "```\n",
        "\n",
        "A linguagem Python utiliza a estrategia de passagem de parametro por valor, ou seja, faz copia do valor da variavel original para o parametro da funcao.\n",
        "\n",
        "Desta forma, a variavel original fica preservada das alteracoes feitas dentro da\n",
        "funcao.\n"
      ]
    },
    {
      "cell_type": "code",
      "metadata": {
        "id": "aLAYVSdSKBPX"
      },
      "source": [
        "def calcular_gorjeta(valor, percentual):\n",
        "  return valor * percentual/100\n",
        "\n",
        "valor = int(400)\n",
        "gorjeta = int(10)\n",
        "gorjeta = calcular_gorjeta(valor, gorjeta)\n",
        "print('O valor da gorjeta de 10% de uma conta de R$ 400 eh', gorjeta)\n",
        "\n",
        "gorjeta = int(5)\n",
        "gorjeta = calcular_gorjeta(valor, gorjeta)\n",
        "print('O valor da gorjeta de 5% de uma conta de R$ 400 eh', gorjeta)"
      ],
      "execution_count": null,
      "outputs": []
    },
    {
      "cell_type": "markdown",
      "metadata": {
        "id": "wr763UGoJ-zr"
      },
      "source": [
        "Assim como toda regra, essa tambem tem uma excecao: vetores (ou objetos) funcionam de forma diferente, pois o valor de um vetor eh seu endereco! Neste caso, o que eh copiado eh o endereco do vetor, portanto, qualquer alteracao eh refletida no programa principal, fazendo o efeito de passagem de parametro por referencia.\n",
        "\n",
        "Observe no exemplo a seguir que o vetor `v` nao eh alterado no programa principal, apenas dentro da funcao `dobro`. O valor passado como argumento para a funcao eh o endereco do vetor, e qualquer alteracao nesta variavel dentro da funcao faz com que a alteracao seja percebida fora do escopo da funcao. Eh preciso ter muito cuidado pois em programas bastante complexos essa caracteristica pode ser fonte de erro na hora de implementar a solucao."
      ]
    },
    {
      "cell_type": "code",
      "metadata": {
        "id": "lpo10Zf3O61u",
        "outputId": "851cab97-5387-4bf0-997d-44676629087a",
        "colab": {
          "base_uri": "https://localhost:8080/",
          "height": 51
        }
      },
      "source": [
        "def dobro(vetor):\n",
        "  for i in range(len(vetor)):\n",
        "    vetor[i] *= 2\n",
        "\n",
        "\n",
        "v = [7, 3, 12, 6, 9]\n",
        "print(v)\n",
        "\n",
        "# A variavel v eh alterada dentro da funcao, pois eh um vetor e \n",
        "# Python passa o valor do endereco do vetor, e a alteracao reflete\n",
        "# na variavel global\n",
        "dobro(v) \n",
        "\n",
        "print(v)\n"
      ],
      "execution_count": null,
      "outputs": [
        {
          "output_type": "stream",
          "text": [
            "[7, 3, 12, 6, 9]\n",
            "[14, 6, 24, 12, 18]\n"
          ],
          "name": "stdout"
        }
      ]
    },
    {
      "cell_type": "markdown",
      "metadata": {
        "id": "S4tEzrRwTF1s"
      },
      "source": [
        "Agora vamos retomar para nosso material sobre [Funcoes em PORTUGOL](ava.furg.br/pluginfile.php/50132/mod_resource/content/1/funcao_PORTUGOL.pdf) e implementar os exemplos em Python!\n",
        "\n",
        "\n",
        "**Exemplo 1**: escreva uma funcao que calcule o quadrado de um numero.\n",
        "\n",
        "Vamos apresentar 3 diferentes maneiras de resolver esse problema, mas veja que a maneira de chamar a funcao sera a mesma, o que mostra uma das vantagens de se utilizar funcao, que eh tornar transparente ao usuario da funcao a maneira como ela eh implementada. \n",
        "\n"
      ]
    },
    {
      "cell_type": "code",
      "metadata": {
        "id": "7joQn45MTs7T"
      },
      "source": [
        "# Exemplo 1: escreva uma funcao que calcule o quadrado do numero\n",
        "\n",
        "def quadrado(num):\n",
        "  return num*num\n",
        "\n",
        "n = int(input(\"Digite o número: \"))\n",
        "print(\"O quadrado de \",n,\" eh: \",quadrado(n))"
      ],
      "execution_count": null,
      "outputs": []
    },
    {
      "cell_type": "code",
      "metadata": {
        "id": "kYkSE2ekVHfI",
        "outputId": "1734ef98-1833-40fb-9a5f-5deec612489f",
        "colab": {
          "base_uri": "https://localhost:8080/",
          "height": 51
        }
      },
      "source": [
        "# Exemplo 1: escreva uma funcao que calcule o quadrado do numero\n",
        "\n",
        "def quadrado(num):\n",
        "  return num**2\n",
        "\n",
        "n = int(input(\"Digite o número: \"))\n",
        "print(\"O quadrado de \",n,\" eh: \",quadrado(n))"
      ],
      "execution_count": null,
      "outputs": [
        {
          "output_type": "stream",
          "text": [
            "Digite o número: 5\n",
            "O quadrado de  5  eh:  25\n"
          ],
          "name": "stdout"
        }
      ]
    },
    {
      "cell_type": "code",
      "metadata": {
        "id": "wZZFze9MVNy-"
      },
      "source": [
        "# Exemplo 1: escreva uma funcao que calcule o quadrado do numero\n",
        "import math as m\n",
        "\n",
        "def quadrado(num):\n",
        "  return int(m.pow(num,2))\n",
        "\n",
        "n = int(input(\"Digite o número: \"))\n",
        "print(\"O quadrado de \",n,\" eh: \",quadrado(n))"
      ],
      "execution_count": null,
      "outputs": []
    },
    {
      "cell_type": "markdown",
      "metadata": {
        "id": "CtcsldNAYgHN"
      },
      "source": [
        "**Exemplo 2**: escreva uma funcao que calcule qualquer potencia de um numero"
      ]
    },
    {
      "cell_type": "code",
      "metadata": {
        "id": "sa7m1HSrYo1m"
      },
      "source": [
        "import math as m\n",
        "\n",
        "def potencia(num,exp):\n",
        "  return int(m.pow(num,exp))\n",
        "\n",
        "n = int(input(\"Digite o número: \"))\n",
        "e = int(input(\"Digite o valor do expoente: \"))\n",
        "print(\"O valor de \",n,\"^\",e,\" eh: \",potencia(n,e))"
      ],
      "execution_count": null,
      "outputs": []
    },
    {
      "cell_type": "markdown",
      "metadata": {
        "id": "jgsII-9qZnf9"
      },
      "source": [
        "**Exemplo 3**: escreva uma funcao que calcule o menor entre dois valores"
      ]
    },
    {
      "cell_type": "code",
      "metadata": {
        "id": "iUGEz-MbZns9"
      },
      "source": [
        "def min(a,b):\n",
        "  if (a<b):\n",
        "    return a\n",
        "  else:\n",
        "    return b  \n",
        "\n",
        "v1 = int(input(\"Digite o primeiro valor: \"))\n",
        "v2 = int(input(\"Digite o segundo valor: \"))\n",
        "\n",
        "print(\"O menor valor eh: \", min(v1,v2))"
      ],
      "execution_count": null,
      "outputs": []
    },
    {
      "cell_type": "markdown",
      "metadata": {
        "id": "GsdRYIQ1ac4f"
      },
      "source": [
        "Exemplo 5: escreva uma funcao que calcule a distancia entre dois pontos, sabendo que a distancia entre dois pontos eh dada pela expressao:\n",
        "Dist = [ (X2-X1)^2 + (Y2-Y1)^2]^½ em que (X1,Y1) eh o primeiro ponto e (X2,Y2) eh o segundo ponto."
      ]
    },
    {
      "cell_type": "code",
      "metadata": {
        "id": "dqGPudXaa5E_",
        "outputId": "80fc7c68-25fb-41d2-e895-424c1921573b",
        "colab": {
          "base_uri": "https://localhost:8080/",
          "height": 102
        }
      },
      "source": [
        "import math as m\n",
        "\n",
        "def dist2points(x1,y1,x2,y2):\n",
        "  return m.pow(m.pow((x2 - x1),2)+m.pow((y2 - y1),2),0.5)\n",
        "\n",
        "coordX1 = int(input(\"Digita a coordenada X1: \"))\n",
        "coordY1 = int(input(\"Digita a coordenada Y1: \"))\n",
        "coordX2 = int(input(\"Digita a coordenada X2: \"))\n",
        "coordY2 = int(input(\"Digita a coordenada Y2: \"))\n",
        "\n",
        "print(\"A distancia entre os pontos eh: \",dist2points(coordX1,coordY1,coordX2,coordY2))\n"
      ],
      "execution_count": null,
      "outputs": [
        {
          "output_type": "stream",
          "text": [
            "Digita a coordenada X1: 2\n",
            "Digita a coordenada Y1: 2\n",
            "Digita a coordenada X2: 3\n",
            "Digita a coordenada Y2: 3\n",
            "A distancia entre os pontos eh:  1.4142135623730951\n"
          ],
          "name": "stdout"
        }
      ]
    },
    {
      "cell_type": "markdown",
      "metadata": {
        "id": "dGnYROwub-an"
      },
      "source": [
        "Para praticarmos, recupere seu algoritmo que calcula o fatorial de um numero e o implemente agora em Python, utilizando o cabecalho da funcao como definido a seguir.\n"
      ]
    },
    {
      "cell_type": "code",
      "metadata": {
        "id": "sFhS0HsicG7G"
      },
      "source": [
        "def fat(n):\n",
        "  "
      ],
      "execution_count": null,
      "outputs": []
    }
  ]
}