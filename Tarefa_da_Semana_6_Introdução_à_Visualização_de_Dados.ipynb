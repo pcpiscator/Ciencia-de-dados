{
  "nbformat": 4,
  "nbformat_minor": 0,
  "metadata": {
    "colab": {
      "name": " Tarefa da Semana 6 -Introdução à Visualização de Dados ",
      "provenance": [],
      "include_colab_link": true
    },
    "kernelspec": {
      "name": "python3",
      "display_name": "Python 3"
    }
  },
  "cells": [
    {
      "cell_type": "markdown",
      "metadata": {
        "id": "view-in-github",
        "colab_type": "text"
      },
      "source": [
        "<a href=\"https://colab.research.google.com/github/pcpiscator/Ciencia-de-dados/blob/master/Tarefa_da_Semana_6_Introdu%C3%A7%C3%A3o_%C3%A0_Visualiza%C3%A7%C3%A3o_de_Dados.ipynb\" target=\"_parent\"><img src=\"https://colab.research.google.com/assets/colab-badge.svg\" alt=\"Open In Colab\"/></a>"
      ]
    },
    {
      "cell_type": "markdown",
      "metadata": {
        "id": "DmMj9v8p9s6P"
      },
      "source": [
        "# ECD - Introdução à Visualização de Dados - Semana 6\n",
        "## Exercícios \n",
        "### Gráficos interativos\n",
        "##### Prof. Dr. Alessandro de Lima Bicho"
      ]
    },
    {
      "cell_type": "markdown",
      "metadata": {
        "id": "YeHHhBBCoRWT"
      },
      "source": [
        "## Olá, pessoal!\n",
        " \n",
        "Em 15 de abril de 1912, o maior navio de passageiros já construído colidiu com um iceberg durante sua viagem inaugural. Quando o Titanic afundou, ele matou 1502 dos 2224 passageiros e tripulantes. Esta tragédia chocou a comunidade internacional, e levou a melhores regulamentos de segurança para os navios. Uma das razões pelas quais o naufrágio resultou em tal perda de vidas foi que não havia botes salva-vidas suficientes para os passageiros e tripulantes. Embora houvesse algum elemento de sorte envolvido em sobreviver ao naufrágio, alguns grupos de pessoas tiveram maior probabilidade de sobreviver do que outros.\n",
        " \n",
        "O dataset titanic.csv contém dados de 887 passageiros reais do Titanic. Cada linha representa uma pessoa. As colunas descrevem diferentes atributos sobre a pessoa, incluindo:\n",
        "- Survived (sobreviveu): se sobreviveu ao naufrágio estará com 1, e 0 (zero) se não sobreviveu;\n",
        "- Pclass: tipo de classe de passagem (do 1 ao 3), sendo 1 a melhor classe e 3 a pior classe;\n",
        "- Name: nome do passageiro(a);\n",
        "- Sex: gênero do passageiro, sendo masculino e feminino;\n",
        "- Age: idade do passageiro na data da ocorrência do naufrágio;\n",
        "- Siblings_Spouses_Aboard: número de irmãos/cônjuges a bordo;\n",
        "- Parents_Children_Aboard: número de pais/filhos a bordo;\n",
        "- Fare: valor da passagem.  \n",
        " \n",
        "Nesta tarefa, temos duas questões que procurarão fundamentar estatisticamente suas conclusões sobre os sobreviventes deste naufrágio.\n",
        " \n",
        "Bons estudos! \n",
        " \n",
        "Abraço, Alessandro."
      ]
    },
    {
      "cell_type": "markdown",
      "metadata": {
        "id": "1b4DwPHAr1CH"
      },
      "source": [
        "Aqui nós importamos o dataset, que está disponível no meu Google Drive. Caso queiram, podem fazer o download do dataset através do link informado na função `read_csv()` (para análise no Microsoft Excel, por exemplo). "
      ]
    },
    {
      "cell_type": "code",
      "metadata": {
        "id": "AAYX0I8Nf041"
      },
      "source": [
        "#importar a biblioteca pandas e os módulos offline e graph_objs da plotly\n",
        "import pandas as pd\n",
        "import plotly.offline as py\n",
        "import plotly.graph_objs as go\n",
        "import matplotlib.pyplot as plt\n",
        "pd.options.display.max_columns = None\n",
        "pd.options.display.max_rows = None\n",
        "pd.options.display.float_format = '{:.2f}'.format\n",
        "\n",
        "df = pd.read_csv(\"https://drive.google.com/uc?export=view&id=1Ad2NNAqsCDGwl125D7z-nSbPLVpCFlYu\", error_bad_lines=False, encoding = \"ISO-8859-1\", sep = \",\")\n",
        "df"
      ],
      "execution_count": null,
      "outputs": []
    },
    {
      "cell_type": "code",
      "metadata": {
        "id": "7c3WqwAHDKRk",
        "colab": {
          "base_uri": "https://localhost:8080/",
          "height": 206
        },
        "outputId": "97c34eec-8096-4c19-c016-233ed0b29121"
      },
      "source": [
        "df.head()"
      ],
      "execution_count": null,
      "outputs": [
        {
          "output_type": "execute_result",
          "data": {
            "text/html": [
              "<div>\n",
              "<style scoped>\n",
              "    .dataframe tbody tr th:only-of-type {\n",
              "        vertical-align: middle;\n",
              "    }\n",
              "\n",
              "    .dataframe tbody tr th {\n",
              "        vertical-align: top;\n",
              "    }\n",
              "\n",
              "    .dataframe thead th {\n",
              "        text-align: right;\n",
              "    }\n",
              "</style>\n",
              "<table border=\"1\" class=\"dataframe\">\n",
              "  <thead>\n",
              "    <tr style=\"text-align: right;\">\n",
              "      <th></th>\n",
              "      <th>Survived</th>\n",
              "      <th>Pclass</th>\n",
              "      <th>Name</th>\n",
              "      <th>Sex</th>\n",
              "      <th>Age</th>\n",
              "      <th>Siblings_Spouses_Aboard</th>\n",
              "      <th>Parents_Children_Aboard</th>\n",
              "      <th>Fare</th>\n",
              "    </tr>\n",
              "  </thead>\n",
              "  <tbody>\n",
              "    <tr>\n",
              "      <th>0</th>\n",
              "      <td>0</td>\n",
              "      <td>3</td>\n",
              "      <td>Mr. Owen Harris Braund</td>\n",
              "      <td>male</td>\n",
              "      <td>22.00</td>\n",
              "      <td>1</td>\n",
              "      <td>0</td>\n",
              "      <td>7.25</td>\n",
              "    </tr>\n",
              "    <tr>\n",
              "      <th>1</th>\n",
              "      <td>1</td>\n",
              "      <td>1</td>\n",
              "      <td>Mrs. John Bradley (Florence Briggs Thayer) Cum...</td>\n",
              "      <td>female</td>\n",
              "      <td>38.00</td>\n",
              "      <td>1</td>\n",
              "      <td>0</td>\n",
              "      <td>71.28</td>\n",
              "    </tr>\n",
              "    <tr>\n",
              "      <th>2</th>\n",
              "      <td>1</td>\n",
              "      <td>3</td>\n",
              "      <td>Miss. Laina Heikkinen</td>\n",
              "      <td>female</td>\n",
              "      <td>26.00</td>\n",
              "      <td>0</td>\n",
              "      <td>0</td>\n",
              "      <td>7.92</td>\n",
              "    </tr>\n",
              "    <tr>\n",
              "      <th>3</th>\n",
              "      <td>1</td>\n",
              "      <td>1</td>\n",
              "      <td>Mrs. Jacques Heath (Lily May Peel) Futrelle</td>\n",
              "      <td>female</td>\n",
              "      <td>35.00</td>\n",
              "      <td>1</td>\n",
              "      <td>0</td>\n",
              "      <td>53.10</td>\n",
              "    </tr>\n",
              "    <tr>\n",
              "      <th>4</th>\n",
              "      <td>0</td>\n",
              "      <td>3</td>\n",
              "      <td>Mr. William Henry Allen</td>\n",
              "      <td>male</td>\n",
              "      <td>35.00</td>\n",
              "      <td>0</td>\n",
              "      <td>0</td>\n",
              "      <td>8.05</td>\n",
              "    </tr>\n",
              "  </tbody>\n",
              "</table>\n",
              "</div>"
            ],
            "text/plain": [
              "   Survived  Pclass                                               Name  \\\n",
              "0         0       3                             Mr. Owen Harris Braund   \n",
              "1         1       1  Mrs. John Bradley (Florence Briggs Thayer) Cum...   \n",
              "2         1       3                              Miss. Laina Heikkinen   \n",
              "3         1       1        Mrs. Jacques Heath (Lily May Peel) Futrelle   \n",
              "4         0       3                            Mr. William Henry Allen   \n",
              "\n",
              "      Sex   Age  Siblings_Spouses_Aboard  Parents_Children_Aboard  Fare  \n",
              "0    male 22.00                        1                        0  7.25  \n",
              "1  female 38.00                        1                        0 71.28  \n",
              "2  female 26.00                        0                        0  7.92  \n",
              "3  female 35.00                        1                        0 53.10  \n",
              "4    male 35.00                        0                        0  8.05  "
            ]
          },
          "metadata": {
            "tags": []
          },
          "execution_count": 2
        }
      ]
    },
    {
      "cell_type": "markdown",
      "metadata": {
        "id": "BTFOwPWVsDjy"
      },
      "source": [
        "1) Apresente um histograma utilizando a biblioteca Plotly que permita analisar o valor do bilhete dos passageiros."
      ]
    },
    {
      "cell_type": "code",
      "metadata": {
        "id": "ogCsuAZ0mF9L"
      },
      "source": [
        "# Responda aqui a questão 1\n",
        "#Criando o gráfico, onde nbinsx indica o número de setores a serem analisados no gráfico\n",
        "data = [go.Histogram(x = df['Fare'],nbinsx=9)]\n",
        "\n",
        "# Criando o layoutdas\n",
        "layout = go.Layout(title='Histograma analisando as tarifas  dos passageiros',\n",
        "                   yaxis={'title':'Frequência'},\n",
        "                   xaxis={'title': 'Fare'})\n",
        "\n",
        "# Criando a figura que será exibida, passando informações nas variáveis data e lauyout\n",
        "fig = go.Figure(data=data, layout=layout)\n",
        "\n",
        "#Exibindo o gráfico\n",
        "py.iplot(fig)\n"
      ],
      "execution_count": null,
      "outputs": []
    },
    {
      "cell_type": "markdown",
      "metadata": {
        "id": "y3ahl2Mjw5Yj"
      },
      "source": [
        "2) Apresente um gráfico com múltiplas barras utilizando a biblioteca Plotly que permita analisar sobreviventes por classe (1, 2 e 3)."
      ]
    },
    {
      "cell_type": "code",
      "metadata": {
        "id": "IFNYSpUmpDqq"
      },
      "source": [
        "# Responda aqui a questão 2\n",
        "#Realiza-se um filtro para encontrar apenas pessoas da classe 3\n",
        "dfClass3 = df[df['Pclass'] == 3]\n",
        "#Calcula-se pessoas na classe\n",
        "dfClass3 = dfClass3.groupby('Survived')['Pclass'].count()\n",
        "#Define-se um objeto gráfico para a classe 3\n",
        "dataClass3 = go.Bar(name = 'Class3',x = list(dfClass3.index),y = dfClass3[:]) \n",
        "\n",
        "#Realiza-se um filtro para encontrar apenas pessoas da classe 2\n",
        "dfClass2 = df[df['Pclass'] == 2]\n",
        "#Calcula-se pessoas na classe\n",
        "dfClass2 = dfClass2.groupby('Survived')['Pclass'].count()\n",
        "#Define-se um objeto gráfico para a classe 2\n",
        "dataClass2 = go.Bar(name = 'Class2',x = list(dfClass2.index),y = dfClass2[:]) \n",
        "\n",
        "#Realiza-se um filtro para encontrar apenas pessoas da classe 1\n",
        "dfClass1 = df[df['Pclass'] == 1]\n",
        "#Calcula-se pessoas na classe\n",
        "dfClass1 = dfClass1.groupby('Survived')['Pclass'].count()\n",
        "#Define-se um objeto gráfico para a classe 1\n",
        "dataClass1 = go.Bar(name = 'Class1',x = list(dfClass1.index),y = dfClass1[:]) \n",
        "\n",
        "\n",
        "\n",
        "#Neste caso, temos uma lista com três objetos gráficos!\n",
        "data = [dataClass3, dataClass2, dataClass1]\n",
        "\n",
        "\n",
        "# Criando o layout\n",
        "layout = go.Layout(title='Sobreviventes por classe',\n",
        "yaxis={'title':'Sobreviventes'},\n",
        "xaxis={'title':'Classe'})\n",
        "\n",
        "# Criando a figura que será exibida, passando informações nas variáveis data e lauyout\n",
        "fig = go.Figure(data=data, layout=layout)\n",
        "\n",
        "\n",
        "#Exibindo o gráfico\n",
        "py.iplot(fig)"
      ],
      "execution_count": null,
      "outputs": []
    },
    {
      "cell_type": "markdown",
      "metadata": {
        "id": "FPkfVm7DFS7r"
      },
      "source": [
        "3) Apresente um gráfico de setores (pizza) utilizando a biblioteca Plotly que permita analisar a quantidade de passageiros por faixa etária:\n",
        "- crianças, indivíduos de 0 a 11 anos;\n",
        "- adolescentes, indivíduos de 12 anos a 18 anos;\n",
        "- adultos, indivíduos de 19 anos a 64 anos;\n",
        "- idosos, indivíduos de 65 anos em diante."
      ]
    },
    {
      "cell_type": "code",
      "metadata": {
        "id": "zbbVbOUrHn-x"
      },
      "source": [
        "# Responda aqui a questão 3\n",
        "bins = [0, 11, 18, 64, 999]\n",
        "labels = ['crianças', 'adolescentes', 'adultos', 'idosos']\n",
        "df['AgeGroup'] = pd.cut(df[\"Age\"], bins, labels = labels)\n",
        "dcount = df['AgeGroup'].value_counts()\n",
        "data=[go.Pie(labels=list(dcount.index), values=dcount.values.tolist())]\n",
        "layout = go.Layout(title='Quantidade de passageiros por faixa etária')\n",
        "fig = go.Figure(data=data, layout=layout)\n",
        "py.iplot(fig)\n"
      ],
      "execution_count": null,
      "outputs": []
    },
    {
      "cell_type": "code",
      "metadata": {
        "id": "b64g5B-9tLPU"
      },
      "source": [
        "# Sem o uso do Plotly:\n",
        "def get_description(row):\n",
        "     if row.Age <= 12:\n",
        "       return 'criança'\n",
        "     elif row.Age >= 65:\n",
        "        return 'idoso'\n",
        "     elif row.Age >=18<65:\n",
        "        return 'adulto'\n",
        "     elif row.Age >12<18:\n",
        "        return 'adolescente'\n",
        "    \n",
        "\n",
        "df['Description'] = df.apply(get_description, axis=1)\n",
        "df.Description.value_counts().plot(kind='pie', autopct='%.2f%%')\n",
        "plt.axis('equal')"
      ],
      "execution_count": null,
      "outputs": []
    }
  ]
}